{
 "cells": [
  {
   "cell_type": "code",
   "execution_count": 1,
   "id": "2d3dc979",
   "metadata": {},
   "outputs": [],
   "source": [
    "import numpy as np\n",
    "import pandas as pd\n",
    "import seaborn as sns\n",
    "import matplotlib.pyplot as plt"
   ]
  },
  {
   "cell_type": "code",
   "execution_count": 2,
   "id": "9e746b91",
   "metadata": {},
   "outputs": [],
   "source": [
    "data=pd.read_csv(r\"C:\\Users\\sande\\Documents\\machine learning\\Project\\fleet_monitor_notscored_2.csv\")"
   ]
  },
  {
   "cell_type": "code",
   "execution_count": 3,
   "id": "7376b76e",
   "metadata": {},
   "outputs": [],
   "source": [
    "df=pd.DataFrame(data)"
   ]
  },
  {
   "cell_type": "code",
   "execution_count": 4,
   "id": "20bfa4e5",
   "metadata": {},
   "outputs": [
    {
     "data": {
      "text/html": [
       "<div>\n",
       "<style scoped>\n",
       "    .dataframe tbody tr th:only-of-type {\n",
       "        vertical-align: middle;\n",
       "    }\n",
       "\n",
       "    .dataframe tbody tr th {\n",
       "        vertical-align: top;\n",
       "    }\n",
       "\n",
       "    .dataframe thead th {\n",
       "        text-align: right;\n",
       "    }\n",
       "</style>\n",
       "<table border=\"1\" class=\"dataframe\">\n",
       "  <thead>\n",
       "    <tr style=\"text-align: right;\">\n",
       "      <th></th>\n",
       "      <th>Maintenance_flag</th>\n",
       "      <th>record_id</th>\n",
       "      <th>Measurement_timestamp</th>\n",
       "      <th>Vehicle_speed_sensor</th>\n",
       "      <th>Vibration</th>\n",
       "      <th>Engine_Load</th>\n",
       "      <th>Engine_Coolant_Temp</th>\n",
       "      <th>Intake_Manifold_Pressure</th>\n",
       "      <th>Engine_RPM</th>\n",
       "      <th>Speed_OBD</th>\n",
       "      <th>...</th>\n",
       "      <th>Turbo_Boost_And_Vcm_Gauge</th>\n",
       "      <th>Trip_Distance</th>\n",
       "      <th>Litres_Per_100km_Inst</th>\n",
       "      <th>Accel_Ssor_Total</th>\n",
       "      <th>CO2_in_g_per_km_Inst</th>\n",
       "      <th>Trip_Time_journey</th>\n",
       "      <th>fleetid</th>\n",
       "      <th>truckid</th>\n",
       "      <th>period</th>\n",
       "      <th>Region</th>\n",
       "    </tr>\n",
       "  </thead>\n",
       "  <tbody>\n",
       "    <tr>\n",
       "      <th>0</th>\n",
       "      <td>0</td>\n",
       "      <td>3974</td>\n",
       "      <td>22FEB16:17:07:20</td>\n",
       "      <td>87</td>\n",
       "      <td>246.296167</td>\n",
       "      <td>0.000000</td>\n",
       "      <td>87</td>\n",
       "      <td>114</td>\n",
       "      <td>1337.0</td>\n",
       "      <td>87</td>\n",
       "      <td>...</td>\n",
       "      <td>2.465641</td>\n",
       "      <td>226.05096</td>\n",
       "      <td>0.000000</td>\n",
       "      <td>-0.044420</td>\n",
       "      <td>0.000000</td>\n",
       "      <td>7284</td>\n",
       "      <td>Fleet_00613F1</td>\n",
       "      <td>Truck_0801X1</td>\n",
       "      <td>2</td>\n",
       "      <td>3</td>\n",
       "    </tr>\n",
       "    <tr>\n",
       "      <th>1</th>\n",
       "      <td>0</td>\n",
       "      <td>990</td>\n",
       "      <td>22FEB16:16:17:36</td>\n",
       "      <td>159</td>\n",
       "      <td>242.290879</td>\n",
       "      <td>52.941177</td>\n",
       "      <td>88</td>\n",
       "      <td>169</td>\n",
       "      <td>1959.5</td>\n",
       "      <td>159</td>\n",
       "      <td>...</td>\n",
       "      <td>10.442717</td>\n",
       "      <td>163.59084</td>\n",
       "      <td>5.818556</td>\n",
       "      <td>0.031301</td>\n",
       "      <td>153.900700</td>\n",
       "      <td>4300</td>\n",
       "      <td>Fleet_01213F1</td>\n",
       "      <td>Truck_0081X1</td>\n",
       "      <td>2</td>\n",
       "      <td>1</td>\n",
       "    </tr>\n",
       "    <tr>\n",
       "      <th>2</th>\n",
       "      <td>0</td>\n",
       "      <td>4781</td>\n",
       "      <td>22FEB16:17:20:47</td>\n",
       "      <td>102</td>\n",
       "      <td>245.461732</td>\n",
       "      <td>20.784313</td>\n",
       "      <td>90</td>\n",
       "      <td>109</td>\n",
       "      <td>1255.5</td>\n",
       "      <td>102</td>\n",
       "      <td>...</td>\n",
       "      <td>1.740453</td>\n",
       "      <td>248.64415</td>\n",
       "      <td>1.131086</td>\n",
       "      <td>-0.039233</td>\n",
       "      <td>29.917208</td>\n",
       "      <td>8091</td>\n",
       "      <td>Fleet_00713F1</td>\n",
       "      <td>Truck_0421X1</td>\n",
       "      <td>2</td>\n",
       "      <td>1</td>\n",
       "    </tr>\n",
       "    <tr>\n",
       "      <th>3</th>\n",
       "      <td>0</td>\n",
       "      <td>4348</td>\n",
       "      <td>22FEB16:17:13:34</td>\n",
       "      <td>98</td>\n",
       "      <td>245.684248</td>\n",
       "      <td>61.176470</td>\n",
       "      <td>90</td>\n",
       "      <td>111</td>\n",
       "      <td>1233.5</td>\n",
       "      <td>98</td>\n",
       "      <td>...</td>\n",
       "      <td>2.030529</td>\n",
       "      <td>236.30394</td>\n",
       "      <td>3.090733</td>\n",
       "      <td>-0.059187</td>\n",
       "      <td>81.749850</td>\n",
       "      <td>7658</td>\n",
       "      <td>Fleet_00613F1</td>\n",
       "      <td>Truck_0801X1</td>\n",
       "      <td>2</td>\n",
       "      <td>3</td>\n",
       "    </tr>\n",
       "    <tr>\n",
       "      <th>4</th>\n",
       "      <td>0</td>\n",
       "      <td>4318</td>\n",
       "      <td>22FEB16:17:13:04</td>\n",
       "      <td>105</td>\n",
       "      <td>245.294845</td>\n",
       "      <td>57.254900</td>\n",
       "      <td>89</td>\n",
       "      <td>108</td>\n",
       "      <td>1337.0</td>\n",
       "      <td>105</td>\n",
       "      <td>...</td>\n",
       "      <td>1.595415</td>\n",
       "      <td>235.41810</td>\n",
       "      <td>2.878014</td>\n",
       "      <td>0.038558</td>\n",
       "      <td>76.123430</td>\n",
       "      <td>7628</td>\n",
       "      <td>Fleet_00613F1</td>\n",
       "      <td>Truck_0801X1</td>\n",
       "      <td>2</td>\n",
       "      <td>3</td>\n",
       "    </tr>\n",
       "    <tr>\n",
       "      <th>...</th>\n",
       "      <td>...</td>\n",
       "      <td>...</td>\n",
       "      <td>...</td>\n",
       "      <td>...</td>\n",
       "      <td>...</td>\n",
       "      <td>...</td>\n",
       "      <td>...</td>\n",
       "      <td>...</td>\n",
       "      <td>...</td>\n",
       "      <td>...</td>\n",
       "      <td>...</td>\n",
       "      <td>...</td>\n",
       "      <td>...</td>\n",
       "      <td>...</td>\n",
       "      <td>...</td>\n",
       "      <td>...</td>\n",
       "      <td>...</td>\n",
       "      <td>...</td>\n",
       "      <td>...</td>\n",
       "      <td>...</td>\n",
       "      <td>...</td>\n",
       "    </tr>\n",
       "    <tr>\n",
       "      <th>1889</th>\n",
       "      <td>0</td>\n",
       "      <td>1478</td>\n",
       "      <td>22FEB16:16:25:44</td>\n",
       "      <td>38</td>\n",
       "      <td>249.021988</td>\n",
       "      <td>0.000000</td>\n",
       "      <td>87</td>\n",
       "      <td>107</td>\n",
       "      <td>1128.0</td>\n",
       "      <td>38</td>\n",
       "      <td>...</td>\n",
       "      <td>1.450378</td>\n",
       "      <td>171.64370</td>\n",
       "      <td>0.000000</td>\n",
       "      <td>-0.031722</td>\n",
       "      <td>0.000000</td>\n",
       "      <td>4788</td>\n",
       "      <td>Fleet_01113F1</td>\n",
       "      <td>Truck_0631X1</td>\n",
       "      <td>2</td>\n",
       "      <td>1</td>\n",
       "    </tr>\n",
       "    <tr>\n",
       "      <th>1890</th>\n",
       "      <td>0</td>\n",
       "      <td>3106</td>\n",
       "      <td>22FEB16:16:52:52</td>\n",
       "      <td>54</td>\n",
       "      <td>248.131924</td>\n",
       "      <td>34.117650</td>\n",
       "      <td>87</td>\n",
       "      <td>106</td>\n",
       "      <td>1305.0</td>\n",
       "      <td>54</td>\n",
       "      <td>...</td>\n",
       "      <td>1.305340</td>\n",
       "      <td>197.97760</td>\n",
       "      <td>3.503818</td>\n",
       "      <td>-0.041396</td>\n",
       "      <td>92.675940</td>\n",
       "      <td>6416</td>\n",
       "      <td>Fleet_00413F1</td>\n",
       "      <td>Truck_0351X1</td>\n",
       "      <td>2</td>\n",
       "      <td>2</td>\n",
       "    </tr>\n",
       "    <tr>\n",
       "      <th>1891</th>\n",
       "      <td>0</td>\n",
       "      <td>1278</td>\n",
       "      <td>22FEB16:16:22:24</td>\n",
       "      <td>16</td>\n",
       "      <td>250.245826</td>\n",
       "      <td>15.686275</td>\n",
       "      <td>86</td>\n",
       "      <td>104</td>\n",
       "      <td>725.5</td>\n",
       "      <td>16</td>\n",
       "      <td>...</td>\n",
       "      <td>1.015265</td>\n",
       "      <td>170.74284</td>\n",
       "      <td>2.502339</td>\n",
       "      <td>-0.023629</td>\n",
       "      <td>66.186820</td>\n",
       "      <td>4589</td>\n",
       "      <td>Fleet_00913F1</td>\n",
       "      <td>Truck_0601X1</td>\n",
       "      <td>2</td>\n",
       "      <td>1</td>\n",
       "    </tr>\n",
       "    <tr>\n",
       "      <th>1892</th>\n",
       "      <td>0</td>\n",
       "      <td>6524</td>\n",
       "      <td>22FEB16:17:49:50</td>\n",
       "      <td>18</td>\n",
       "      <td>250.134568</td>\n",
       "      <td>22.745098</td>\n",
       "      <td>87</td>\n",
       "      <td>113</td>\n",
       "      <td>1124.5</td>\n",
       "      <td>18</td>\n",
       "      <td>...</td>\n",
       "      <td>2.320604</td>\n",
       "      <td>288.84787</td>\n",
       "      <td>5.996944</td>\n",
       "      <td>-0.005170</td>\n",
       "      <td>158.619050</td>\n",
       "      <td>9834</td>\n",
       "      <td>Fleet_00513F1</td>\n",
       "      <td>Truck_0051X1</td>\n",
       "      <td>2</td>\n",
       "      <td>1</td>\n",
       "    </tr>\n",
       "    <tr>\n",
       "      <th>1893</th>\n",
       "      <td>0</td>\n",
       "      <td>2679</td>\n",
       "      <td>22FEB16:16:45:45</td>\n",
       "      <td>89</td>\n",
       "      <td>246.184909</td>\n",
       "      <td>45.882355</td>\n",
       "      <td>89</td>\n",
       "      <td>109</td>\n",
       "      <td>1415.5</td>\n",
       "      <td>89</td>\n",
       "      <td>...</td>\n",
       "      <td>1.740453</td>\n",
       "      <td>188.47154</td>\n",
       "      <td>2.476149</td>\n",
       "      <td>0.000133</td>\n",
       "      <td>65.494090</td>\n",
       "      <td>5989</td>\n",
       "      <td>Fleet_00313F1</td>\n",
       "      <td>Truck_0751X1</td>\n",
       "      <td>2</td>\n",
       "      <td>2</td>\n",
       "    </tr>\n",
       "  </tbody>\n",
       "</table>\n",
       "<p>1894 rows × 32 columns</p>\n",
       "</div>"
      ],
      "text/plain": [
       "      Maintenance_flag  record_id Measurement_timestamp  Vehicle_speed_sensor  \\\n",
       "0                    0       3974      22FEB16:17:07:20                    87   \n",
       "1                    0        990      22FEB16:16:17:36                   159   \n",
       "2                    0       4781      22FEB16:17:20:47                   102   \n",
       "3                    0       4348      22FEB16:17:13:34                    98   \n",
       "4                    0       4318      22FEB16:17:13:04                   105   \n",
       "...                ...        ...                   ...                   ...   \n",
       "1889                 0       1478      22FEB16:16:25:44                    38   \n",
       "1890                 0       3106      22FEB16:16:52:52                    54   \n",
       "1891                 0       1278      22FEB16:16:22:24                    16   \n",
       "1892                 0       6524      22FEB16:17:49:50                    18   \n",
       "1893                 0       2679      22FEB16:16:45:45                    89   \n",
       "\n",
       "       Vibration  Engine_Load  Engine_Coolant_Temp  Intake_Manifold_Pressure  \\\n",
       "0     246.296167     0.000000                   87                       114   \n",
       "1     242.290879    52.941177                   88                       169   \n",
       "2     245.461732    20.784313                   90                       109   \n",
       "3     245.684248    61.176470                   90                       111   \n",
       "4     245.294845    57.254900                   89                       108   \n",
       "...          ...          ...                  ...                       ...   \n",
       "1889  249.021988     0.000000                   87                       107   \n",
       "1890  248.131924    34.117650                   87                       106   \n",
       "1891  250.245826    15.686275                   86                       104   \n",
       "1892  250.134568    22.745098                   87                       113   \n",
       "1893  246.184909    45.882355                   89                       109   \n",
       "\n",
       "      Engine_RPM  Speed_OBD  ...  Turbo_Boost_And_Vcm_Gauge  Trip_Distance  \\\n",
       "0         1337.0         87  ...                   2.465641      226.05096   \n",
       "1         1959.5        159  ...                  10.442717      163.59084   \n",
       "2         1255.5        102  ...                   1.740453      248.64415   \n",
       "3         1233.5         98  ...                   2.030529      236.30394   \n",
       "4         1337.0        105  ...                   1.595415      235.41810   \n",
       "...          ...        ...  ...                        ...            ...   \n",
       "1889      1128.0         38  ...                   1.450378      171.64370   \n",
       "1890      1305.0         54  ...                   1.305340      197.97760   \n",
       "1891       725.5         16  ...                   1.015265      170.74284   \n",
       "1892      1124.5         18  ...                   2.320604      288.84787   \n",
       "1893      1415.5         89  ...                   1.740453      188.47154   \n",
       "\n",
       "      Litres_Per_100km_Inst  Accel_Ssor_Total  CO2_in_g_per_km_Inst  \\\n",
       "0                  0.000000         -0.044420              0.000000   \n",
       "1                  5.818556          0.031301            153.900700   \n",
       "2                  1.131086         -0.039233             29.917208   \n",
       "3                  3.090733         -0.059187             81.749850   \n",
       "4                  2.878014          0.038558             76.123430   \n",
       "...                     ...               ...                   ...   \n",
       "1889               0.000000         -0.031722              0.000000   \n",
       "1890               3.503818         -0.041396             92.675940   \n",
       "1891               2.502339         -0.023629             66.186820   \n",
       "1892               5.996944         -0.005170            158.619050   \n",
       "1893               2.476149          0.000133             65.494090   \n",
       "\n",
       "      Trip_Time_journey        fleetid       truckid  period  Region  \n",
       "0                  7284  Fleet_00613F1  Truck_0801X1       2       3  \n",
       "1                  4300  Fleet_01213F1  Truck_0081X1       2       1  \n",
       "2                  8091  Fleet_00713F1  Truck_0421X1       2       1  \n",
       "3                  7658  Fleet_00613F1  Truck_0801X1       2       3  \n",
       "4                  7628  Fleet_00613F1  Truck_0801X1       2       3  \n",
       "...                 ...            ...           ...     ...     ...  \n",
       "1889               4788  Fleet_01113F1  Truck_0631X1       2       1  \n",
       "1890               6416  Fleet_00413F1  Truck_0351X1       2       2  \n",
       "1891               4589  Fleet_00913F1  Truck_0601X1       2       1  \n",
       "1892               9834  Fleet_00513F1  Truck_0051X1       2       1  \n",
       "1893               5989  Fleet_00313F1  Truck_0751X1       2       2  \n",
       "\n",
       "[1894 rows x 32 columns]"
      ]
     },
     "execution_count": 4,
     "metadata": {},
     "output_type": "execute_result"
    }
   ],
   "source": [
    "df"
   ]
  },
  {
   "cell_type": "code",
   "execution_count": 5,
   "id": "35f14601",
   "metadata": {},
   "outputs": [
    {
     "data": {
      "text/plain": [
       "Index(['Maintenance_flag', 'record_id', 'Measurement_timestamp',\n",
       "       'Vehicle_speed_sensor', 'Vibration', 'Engine_Load',\n",
       "       'Engine_Coolant_Temp', 'Intake_Manifold_Pressure', 'Engine_RPM',\n",
       "       'Speed_OBD', 'Intake_Air_Temp', 'Mass_Air_Flow_Rate',\n",
       "       'Throttle_Pos_Manifold', 'Voltage_Control_Module', 'Ambient_air_temp',\n",
       "       'Accel_Pedal_Pos_D', 'Engine_Oil_Temp', 'Speed_GPS', 'GPS_Longitude',\n",
       "       'GPS_Latitude', 'GPS_Bearing', 'GPS_Altitude',\n",
       "       'Turbo_Boost_And_Vcm_Gauge', 'Trip_Distance', 'Litres_Per_100km_Inst',\n",
       "       'Accel_Ssor_Total', 'CO2_in_g_per_km_Inst', 'Trip_Time_journey',\n",
       "       'fleetid', 'truckid', 'period', 'Region'],\n",
       "      dtype='object')"
      ]
     },
     "execution_count": 5,
     "metadata": {},
     "output_type": "execute_result"
    }
   ],
   "source": [
    "df.columns"
   ]
  },
  {
   "cell_type": "code",
   "execution_count": 6,
   "id": "002cd15a",
   "metadata": {},
   "outputs": [
    {
     "data": {
      "text/plain": [
       "<AxesSubplot:xlabel='Maintenance_flag', ylabel='count'>"
      ]
     },
     "execution_count": 6,
     "metadata": {},
     "output_type": "execute_result"
    },
    {
     "data": {
      "image/png": "[encoded data removed]",
      "text/plain": [
       "<Figure size 432x288 with 1 Axes>"
      ]
     },
     "metadata": {
      "needs_background": "light"
     },
     "output_type": "display_data"
    }
   ],
   "source": [
    "sns.countplot(x='Maintenance_flag',data=df)"
   ]
  },
  {
   "cell_type": "code",
   "execution_count": 7,
   "id": "e0810ecd",
   "metadata": {},
   "outputs": [
    {
     "name": "stdout",
     "output_type": "stream",
     "text": [
      "<class 'pandas.core.frame.DataFrame'>\n",
      "RangeIndex: 1894 entries, 0 to 1893\n",
      "Data columns (total 32 columns):\n",
      " #   Column                     Non-Null Count  Dtype  \n",
      "---  ------                     --------------  -----  \n",
      " 0   Maintenance_flag           1894 non-null   int64  \n",
      " 1   record_id                  1894 non-null   int64  \n",
      " 2   Measurement_timestamp      1894 non-null   object \n",
      " 3   Vehicle_speed_sensor       1894 non-null   int64  \n",
      " 4   Vibration                  1894 non-null   float64\n",
      " 5   Engine_Load                1894 non-null   float64\n",
      " 6   Engine_Coolant_Temp        1894 non-null   int64  \n",
      " 7   Intake_Manifold_Pressure   1894 non-null   int64  \n",
      " 8   Engine_RPM                 1894 non-null   float64\n",
      " 9   Speed_OBD                  1894 non-null   int64  \n",
      " 10  Intake_Air_Temp            1894 non-null   int64  \n",
      " 11  Mass_Air_Flow_Rate         1894 non-null   float64\n",
      " 12  Throttle_Pos_Manifold      1894 non-null   float64\n",
      " 13  Voltage_Control_Module     1894 non-null   float64\n",
      " 14  Ambient_air_temp           1894 non-null   int64  \n",
      " 15  Accel_Pedal_Pos_D          1894 non-null   float64\n",
      " 16  Engine_Oil_Temp            1894 non-null   int64  \n",
      " 17  Speed_GPS                  1894 non-null   float64\n",
      " 18  GPS_Longitude              1894 non-null   float64\n",
      " 19  GPS_Latitude               1894 non-null   float64\n",
      " 20  GPS_Bearing                1894 non-null   float64\n",
      " 21  GPS_Altitude               1894 non-null   int64  \n",
      " 22  Turbo_Boost_And_Vcm_Gauge  1894 non-null   float64\n",
      " 23  Trip_Distance              1894 non-null   float64\n",
      " 24  Litres_Per_100km_Inst      1894 non-null   float64\n",
      " 25  Accel_Ssor_Total           1894 non-null   float64\n",
      " 26  CO2_in_g_per_km_Inst       1894 non-null   float64\n",
      " 27  Trip_Time_journey          1894 non-null   int64  \n",
      " 28  fleetid                    1894 non-null   object \n",
      " 29  truckid                    1894 non-null   object \n",
      " 30  period                     1894 non-null   int64  \n",
      " 31  Region                     1894 non-null   int64  \n",
      "dtypes: float64(16), int64(13), object(3)\n",
      "memory usage: 473.6+ KB\n"
     ]
    }
   ],
   "source": [
    "df.info()"
   ]
  },
  {
   "cell_type": "code",
   "execution_count": 8,
   "id": "624dd21b",
   "metadata": {},
   "outputs": [
    {
     "data": {
      "text/html": [
       "<div>\n",
       "<style scoped>\n",
       "    .dataframe tbody tr th:only-of-type {\n",
       "        vertical-align: middle;\n",
       "    }\n",
       "\n",
       "    .dataframe tbody tr th {\n",
       "        vertical-align: top;\n",
       "    }\n",
       "\n",
       "    .dataframe thead th {\n",
       "        text-align: right;\n",
       "    }\n",
       "</style>\n",
       "<table border=\"1\" class=\"dataframe\">\n",
       "  <thead>\n",
       "    <tr style=\"text-align: right;\">\n",
       "      <th></th>\n",
       "      <th>Maintenance_flag</th>\n",
       "      <th>record_id</th>\n",
       "      <th>Vehicle_speed_sensor</th>\n",
       "      <th>Vibration</th>\n",
       "      <th>Engine_Load</th>\n",
       "      <th>Engine_Coolant_Temp</th>\n",
       "      <th>Intake_Manifold_Pressure</th>\n",
       "      <th>Engine_RPM</th>\n",
       "      <th>Speed_OBD</th>\n",
       "      <th>Intake_Air_Temp</th>\n",
       "      <th>...</th>\n",
       "      <th>GPS_Bearing</th>\n",
       "      <th>GPS_Altitude</th>\n",
       "      <th>Turbo_Boost_And_Vcm_Gauge</th>\n",
       "      <th>Trip_Distance</th>\n",
       "      <th>Litres_Per_100km_Inst</th>\n",
       "      <th>Accel_Ssor_Total</th>\n",
       "      <th>CO2_in_g_per_km_Inst</th>\n",
       "      <th>Trip_Time_journey</th>\n",
       "      <th>period</th>\n",
       "      <th>Region</th>\n",
       "    </tr>\n",
       "  </thead>\n",
       "  <tbody>\n",
       "    <tr>\n",
       "      <th>count</th>\n",
       "      <td>1894.000000</td>\n",
       "      <td>1894.000000</td>\n",
       "      <td>1894.000000</td>\n",
       "      <td>1894.000000</td>\n",
       "      <td>1894.000000</td>\n",
       "      <td>1894.000000</td>\n",
       "      <td>1894.000000</td>\n",
       "      <td>1894.000000</td>\n",
       "      <td>1894.000000</td>\n",
       "      <td>1894.000000</td>\n",
       "      <td>...</td>\n",
       "      <td>1894.000000</td>\n",
       "      <td>1894.000000</td>\n",
       "      <td>1894.000000</td>\n",
       "      <td>1894.000000</td>\n",
       "      <td>1894.000000</td>\n",
       "      <td>1894.000000</td>\n",
       "      <td>1894.000000</td>\n",
       "      <td>1894.000000</td>\n",
       "      <td>1894.0</td>\n",
       "      <td>1894.000000</td>\n",
       "    </tr>\n",
       "    <tr>\n",
       "      <th>mean</th>\n",
       "      <td>0.201690</td>\n",
       "      <td>4141.227033</td>\n",
       "      <td>83.984688</td>\n",
       "      <td>246.463906</td>\n",
       "      <td>36.958404</td>\n",
       "      <td>87.827350</td>\n",
       "      <td>121.112460</td>\n",
       "      <td>1331.780623</td>\n",
       "      <td>83.984688</td>\n",
       "      <td>10.392819</td>\n",
       "      <td>...</td>\n",
       "      <td>200.960507</td>\n",
       "      <td>342.376452</td>\n",
       "      <td>3.497446</td>\n",
       "      <td>229.020914</td>\n",
       "      <td>3.536286</td>\n",
       "      <td>-0.003500</td>\n",
       "      <td>94.823518</td>\n",
       "      <td>7451.251848</td>\n",
       "      <td>2.0</td>\n",
       "      <td>1.410243</td>\n",
       "    </tr>\n",
       "    <tr>\n",
       "      <th>std</th>\n",
       "      <td>0.401368</td>\n",
       "      <td>2394.235318</td>\n",
       "      <td>38.226537</td>\n",
       "      <td>2.126504</td>\n",
       "      <td>28.256192</td>\n",
       "      <td>2.284857</td>\n",
       "      <td>21.539078</td>\n",
       "      <td>280.598564</td>\n",
       "      <td>38.226537</td>\n",
       "      <td>2.260824</td>\n",
       "      <td>...</td>\n",
       "      <td>130.223458</td>\n",
       "      <td>192.549729</td>\n",
       "      <td>3.123908</td>\n",
       "      <td>54.554056</td>\n",
       "      <td>3.896075</td>\n",
       "      <td>0.065453</td>\n",
       "      <td>102.001590</td>\n",
       "      <td>2394.218038</td>\n",
       "      <td>0.0</td>\n",
       "      <td>0.652615</td>\n",
       "    </tr>\n",
       "    <tr>\n",
       "      <th>min</th>\n",
       "      <td>0.000000</td>\n",
       "      <td>6.000000</td>\n",
       "      <td>5.000000</td>\n",
       "      <td>240.844525</td>\n",
       "      <td>0.000000</td>\n",
       "      <td>79.000000</td>\n",
       "      <td>102.000000</td>\n",
       "      <td>680.500000</td>\n",
       "      <td>5.000000</td>\n",
       "      <td>6.000000</td>\n",
       "      <td>...</td>\n",
       "      <td>0.000000</td>\n",
       "      <td>96.000000</td>\n",
       "      <td>0.725188</td>\n",
       "      <td>135.666470</td>\n",
       "      <td>0.000000</td>\n",
       "      <td>-0.317460</td>\n",
       "      <td>0.000000</td>\n",
       "      <td>3316.000000</td>\n",
       "      <td>2.0</td>\n",
       "      <td>1.000000</td>\n",
       "    </tr>\n",
       "    <tr>\n",
       "      <th>25%</th>\n",
       "      <td>0.000000</td>\n",
       "      <td>2283.750000</td>\n",
       "      <td>55.000000</td>\n",
       "      <td>244.961071</td>\n",
       "      <td>13.333334</td>\n",
       "      <td>87.000000</td>\n",
       "      <td>110.000000</td>\n",
       "      <td>1180.250000</td>\n",
       "      <td>55.000000</td>\n",
       "      <td>9.000000</td>\n",
       "      <td>...</td>\n",
       "      <td>39.400000</td>\n",
       "      <td>154.000000</td>\n",
       "      <td>1.885490</td>\n",
       "      <td>179.710090</td>\n",
       "      <td>0.000000</td>\n",
       "      <td>-0.041658</td>\n",
       "      <td>26.694093</td>\n",
       "      <td>5593.750000</td>\n",
       "      <td>2.0</td>\n",
       "      <td>1.000000</td>\n",
       "    </tr>\n",
       "    <tr>\n",
       "      <th>50%</th>\n",
       "      <td>0.000000</td>\n",
       "      <td>4131.000000</td>\n",
       "      <td>91.000000</td>\n",
       "      <td>246.073651</td>\n",
       "      <td>34.901962</td>\n",
       "      <td>88.000000</td>\n",
       "      <td>114.000000</td>\n",
       "      <td>1318.500000</td>\n",
       "      <td>91.000000</td>\n",
       "      <td>10.000000</td>\n",
       "      <td>...</td>\n",
       "      <td>275.550000</td>\n",
       "      <td>341.000000</td>\n",
       "      <td>2.465641</td>\n",
       "      <td>230.097490</td>\n",
       "      <td>2.714573</td>\n",
       "      <td>-0.007412</td>\n",
       "      <td>71.800407</td>\n",
       "      <td>7441.000000</td>\n",
       "      <td>2.0</td>\n",
       "      <td>1.000000</td>\n",
       "    </tr>\n",
       "    <tr>\n",
       "      <th>75%</th>\n",
       "      <td>0.000000</td>\n",
       "      <td>6102.250000</td>\n",
       "      <td>111.000000</td>\n",
       "      <td>248.076295</td>\n",
       "      <td>55.686275</td>\n",
       "      <td>89.000000</td>\n",
       "      <td>121.000000</td>\n",
       "      <td>1458.875000</td>\n",
       "      <td>111.000000</td>\n",
       "      <td>11.000000</td>\n",
       "      <td>...</td>\n",
       "      <td>302.575000</td>\n",
       "      <td>454.000000</td>\n",
       "      <td>3.480905</td>\n",
       "      <td>280.151522</td>\n",
       "      <td>4.815791</td>\n",
       "      <td>0.029174</td>\n",
       "      <td>127.377588</td>\n",
       "      <td>9412.250000</td>\n",
       "      <td>2.0</td>\n",
       "      <td>2.000000</td>\n",
       "    </tr>\n",
       "    <tr>\n",
       "      <th>max</th>\n",
       "      <td>1.000000</td>\n",
       "      <td>8344.000000</td>\n",
       "      <td>185.000000</td>\n",
       "      <td>250.857745</td>\n",
       "      <td>99.607840</td>\n",
       "      <td>93.000000</td>\n",
       "      <td>255.000000</td>\n",
       "      <td>2527.500000</td>\n",
       "      <td>185.000000</td>\n",
       "      <td>18.000000</td>\n",
       "      <td>...</td>\n",
       "      <td>359.900000</td>\n",
       "      <td>835.000000</td>\n",
       "      <td>22.915962</td>\n",
       "      <td>311.380550</td>\n",
       "      <td>30.795786</td>\n",
       "      <td>0.377453</td>\n",
       "      <td>814.548000</td>\n",
       "      <td>11654.000000</td>\n",
       "      <td>2.0</td>\n",
       "      <td>3.000000</td>\n",
       "    </tr>\n",
       "  </tbody>\n",
       "</table>\n",
       "<p>8 rows × 29 columns</p>\n",
       "</div>"
      ],
      "text/plain": [
       "       Maintenance_flag    record_id  Vehicle_speed_sensor    Vibration  \\\n",
       "count       1894.000000  1894.000000           1894.000000  1894.000000   \n",
       "mean           0.201690  4141.227033             83.984688   246.463906   \n",
       "std            0.401368  2394.235318             38.226537     2.126504   \n",
       "min            0.000000     6.000000              5.000000   240.844525   \n",
       "25%            0.000000  2283.750000             55.000000   244.961071   \n",
       "50%            0.000000  4131.000000             91.000000   246.073651   \n",
       "75%            0.000000  6102.250000            111.000000   248.076295   \n",
       "max            1.000000  8344.000000            185.000000   250.857745   \n",
       "\n",
       "       Engine_Load  Engine_Coolant_Temp  Intake_Manifold_Pressure  \\\n",
       "count  1894.000000          1894.000000               1894.000000   \n",
       "mean     36.958404            87.827350                121.112460   \n",
       "std      28.256192             2.284857                 21.539078   \n",
       "min       0.000000            79.000000                102.000000   \n",
       "25%      13.333334            87.000000                110.000000   \n",
       "50%      34.901962            88.000000                114.000000   \n",
       "75%      55.686275            89.000000                121.000000   \n",
       "max      99.607840            93.000000                255.000000   \n",
       "\n",
       "        Engine_RPM    Speed_OBD  Intake_Air_Temp  ...  GPS_Bearing  \\\n",
       "count  1894.000000  1894.000000      1894.000000  ...  1894.000000   \n",
       "mean   1331.780623    83.984688        10.392819  ...   200.960507   \n",
       "std     280.598564    38.226537         2.260824  ...   130.223458   \n",
       "min     680.500000     5.000000         6.000000  ...     0.000000   \n",
       "25%    1180.250000    55.000000         9.000000  ...    39.400000   \n",
       "50%    1318.500000    91.000000        10.000000  ...   275.550000   \n",
       "75%    1458.875000   111.000000        11.000000  ...   302.575000   \n",
       "max    2527.500000   185.000000        18.000000  ...   359.900000   \n",
       "\n",
       "       GPS_Altitude  Turbo_Boost_And_Vcm_Gauge  Trip_Distance  \\\n",
       "count   1894.000000                1894.000000    1894.000000   \n",
       "mean     342.376452                   3.497446     229.020914   \n",
       "std      192.549729                   3.123908      54.554056   \n",
       "min       96.000000                   0.725188     135.666470   \n",
       "25%      154.000000                   1.885490     179.710090   \n",
       "50%      341.000000                   2.465641     230.097490   \n",
       "75%      454.000000                   3.480905     280.151522   \n",
       "max      835.000000                  22.915962     311.380550   \n",
       "\n",
       "       Litres_Per_100km_Inst  Accel_Ssor_Total  CO2_in_g_per_km_Inst  \\\n",
       "count            1894.000000       1894.000000           1894.000000   \n",
       "mean                3.536286         -0.003500             94.823518   \n",
       "std                 3.896075          0.065453            102.001590   \n",
       "min                 0.000000         -0.317460              0.000000   \n",
       "25%                 0.000000         -0.041658             26.694093   \n",
       "50%                 2.714573         -0.007412             71.800407   \n",
       "75%                 4.815791          0.029174            127.377588   \n",
       "max                30.795786          0.377453            814.548000   \n",
       "\n",
       "       Trip_Time_journey  period       Region  \n",
       "count        1894.000000  1894.0  1894.000000  \n",
       "mean         7451.251848     2.0     1.410243  \n",
       "std          2394.218038     0.0     0.652615  \n",
       "min          3316.000000     2.0     1.000000  \n",
       "25%          5593.750000     2.0     1.000000  \n",
       "50%          7441.000000     2.0     1.000000  \n",
       "75%          9412.250000     2.0     2.000000  \n",
       "max         11654.000000     2.0     3.000000  \n",
       "\n",
       "[8 rows x 29 columns]"
      ]
     },
     "execution_count": 8,
     "metadata": {},
     "output_type": "execute_result"
    }
   ],
   "source": [
    "df.describe()"
   ]
  },
  {
   "cell_type": "code",
   "execution_count": 9,
   "id": "18a2e184",
   "metadata": {},
   "outputs": [],
   "source": [
    "df1=df[['GPS_Longitude','GPS_Latitude','GPS_Bearing','GPS_Altitude','Maintenance_flag']]"
   ]
  },
  {
   "cell_type": "code",
   "execution_count": 10,
   "id": "aa0f4d2c",
   "metadata": {},
   "outputs": [
    {
     "data": {
      "text/html": [
       "<div>\n",
       "<style scoped>\n",
       "    .dataframe tbody tr th:only-of-type {\n",
       "        vertical-align: middle;\n",
       "    }\n",
       "\n",
       "    .dataframe tbody tr th {\n",
       "        vertical-align: top;\n",
       "    }\n",
       "\n",
       "    .dataframe thead th {\n",
       "        text-align: right;\n",
       "    }\n",
       "</style>\n",
       "<table border=\"1\" class=\"dataframe\">\n",
       "  <thead>\n",
       "    <tr style=\"text-align: right;\">\n",
       "      <th></th>\n",
       "      <th>GPS_Longitude</th>\n",
       "      <th>GPS_Latitude</th>\n",
       "      <th>GPS_Bearing</th>\n",
       "      <th>GPS_Altitude</th>\n",
       "      <th>Maintenance_flag</th>\n",
       "    </tr>\n",
       "  </thead>\n",
       "  <tbody>\n",
       "    <tr>\n",
       "      <th>0</th>\n",
       "      <td>8.930944</td>\n",
       "      <td>47.116060</td>\n",
       "      <td>322.0</td>\n",
       "      <td>344</td>\n",
       "      <td>0</td>\n",
       "    </tr>\n",
       "    <tr>\n",
       "      <th>1</th>\n",
       "      <td>10.095408</td>\n",
       "      <td>48.485574</td>\n",
       "      <td>274.1</td>\n",
       "      <td>436</td>\n",
       "      <td>0</td>\n",
       "    </tr>\n",
       "    <tr>\n",
       "      <th>2</th>\n",
       "      <td>9.462729</td>\n",
       "      <td>48.847563</td>\n",
       "      <td>319.1</td>\n",
       "      <td>296</td>\n",
       "      <td>0</td>\n",
       "    </tr>\n",
       "    <tr>\n",
       "      <th>3</th>\n",
       "      <td>8.161240</td>\n",
       "      <td>47.112448</td>\n",
       "      <td>274.2</td>\n",
       "      <td>382</td>\n",
       "      <td>0</td>\n",
       "    </tr>\n",
       "    <tr>\n",
       "      <th>4</th>\n",
       "      <td>8.233906</td>\n",
       "      <td>47.120710</td>\n",
       "      <td>275.5</td>\n",
       "      <td>380</td>\n",
       "      <td>0</td>\n",
       "    </tr>\n",
       "    <tr>\n",
       "      <th>...</th>\n",
       "      <td>...</td>\n",
       "      <td>...</td>\n",
       "      <td>...</td>\n",
       "      <td>...</td>\n",
       "      <td>...</td>\n",
       "    </tr>\n",
       "    <tr>\n",
       "      <th>1889</th>\n",
       "      <td>8.344448</td>\n",
       "      <td>48.135897</td>\n",
       "      <td>297.5</td>\n",
       "      <td>331</td>\n",
       "      <td>0</td>\n",
       "    </tr>\n",
       "    <tr>\n",
       "      <th>1890</th>\n",
       "      <td>7.291075</td>\n",
       "      <td>48.521640</td>\n",
       "      <td>352.9</td>\n",
       "      <td>567</td>\n",
       "      <td>0</td>\n",
       "    </tr>\n",
       "    <tr>\n",
       "      <th>1891</th>\n",
       "      <td>8.283829</td>\n",
       "      <td>48.877464</td>\n",
       "      <td>318.8</td>\n",
       "      <td>391</td>\n",
       "      <td>0</td>\n",
       "    </tr>\n",
       "    <tr>\n",
       "      <th>1892</th>\n",
       "      <td>8.583848</td>\n",
       "      <td>49.612066</td>\n",
       "      <td>24.2</td>\n",
       "      <td>156</td>\n",
       "      <td>0</td>\n",
       "    </tr>\n",
       "    <tr>\n",
       "      <th>1893</th>\n",
       "      <td>7.647918</td>\n",
       "      <td>48.343688</td>\n",
       "      <td>279.4</td>\n",
       "      <td>448</td>\n",
       "      <td>0</td>\n",
       "    </tr>\n",
       "  </tbody>\n",
       "</table>\n",
       "<p>1894 rows × 5 columns</p>\n",
       "</div>"
      ],
      "text/plain": [
       "      GPS_Longitude  GPS_Latitude  GPS_Bearing  GPS_Altitude  Maintenance_flag\n",
       "0          8.930944     47.116060        322.0           344                 0\n",
       "1         10.095408     48.485574        274.1           436                 0\n",
       "2          9.462729     48.847563        319.1           296                 0\n",
       "3          8.161240     47.112448        274.2           382                 0\n",
       "4          8.233906     47.120710        275.5           380                 0\n",
       "...             ...           ...          ...           ...               ...\n",
       "1889       8.344448     48.135897        297.5           331                 0\n",
       "1890       7.291075     48.521640        352.9           567                 0\n",
       "1891       8.283829     48.877464        318.8           391                 0\n",
       "1892       8.583848     49.612066         24.2           156                 0\n",
       "1893       7.647918     48.343688        279.4           448                 0\n",
       "\n",
       "[1894 rows x 5 columns]"
      ]
     },
     "execution_count": 10,
     "metadata": {},
     "output_type": "execute_result"
    }
   ],
   "source": [
    "df1"
   ]
  },
  {
   "cell_type": "code",
   "execution_count": 11,
   "id": "3418d69f",
   "metadata": {},
   "outputs": [
    {
     "data": {
      "text/html": [
       "<div>\n",
       "<style scoped>\n",
       "    .dataframe tbody tr th:only-of-type {\n",
       "        vertical-align: middle;\n",
       "    }\n",
       "\n",
       "    .dataframe tbody tr th {\n",
       "        vertical-align: top;\n",
       "    }\n",
       "\n",
       "    .dataframe thead th {\n",
       "        text-align: right;\n",
       "    }\n",
       "</style>\n",
       "<table border=\"1\" class=\"dataframe\">\n",
       "  <thead>\n",
       "    <tr style=\"text-align: right;\">\n",
       "      <th></th>\n",
       "      <th>GPS_Longitude</th>\n",
       "      <th>GPS_Latitude</th>\n",
       "      <th>GPS_Bearing</th>\n",
       "      <th>GPS_Altitude</th>\n",
       "      <th>Maintenance_flag</th>\n",
       "    </tr>\n",
       "  </thead>\n",
       "  <tbody>\n",
       "    <tr>\n",
       "      <th>GPS_Longitude</th>\n",
       "      <td>1.00000</td>\n",
       "      <td>0.137790</td>\n",
       "      <td>0.086490</td>\n",
       "      <td>0.125280</td>\n",
       "      <td>-0.243210</td>\n",
       "    </tr>\n",
       "    <tr>\n",
       "      <th>GPS_Latitude</th>\n",
       "      <td>0.13779</td>\n",
       "      <td>1.000000</td>\n",
       "      <td>-0.209862</td>\n",
       "      <td>0.069225</td>\n",
       "      <td>0.070818</td>\n",
       "    </tr>\n",
       "    <tr>\n",
       "      <th>GPS_Bearing</th>\n",
       "      <td>0.08649</td>\n",
       "      <td>-0.209862</td>\n",
       "      <td>1.000000</td>\n",
       "      <td>0.574667</td>\n",
       "      <td>-0.098846</td>\n",
       "    </tr>\n",
       "    <tr>\n",
       "      <th>GPS_Altitude</th>\n",
       "      <td>0.12528</td>\n",
       "      <td>0.069225</td>\n",
       "      <td>0.574667</td>\n",
       "      <td>1.000000</td>\n",
       "      <td>-0.108053</td>\n",
       "    </tr>\n",
       "    <tr>\n",
       "      <th>Maintenance_flag</th>\n",
       "      <td>-0.24321</td>\n",
       "      <td>0.070818</td>\n",
       "      <td>-0.098846</td>\n",
       "      <td>-0.108053</td>\n",
       "      <td>1.000000</td>\n",
       "    </tr>\n",
       "  </tbody>\n",
       "</table>\n",
       "</div>"
      ],
      "text/plain": [
       "                  GPS_Longitude  GPS_Latitude  GPS_Bearing  GPS_Altitude  \\\n",
       "GPS_Longitude           1.00000      0.137790     0.086490      0.125280   \n",
       "GPS_Latitude            0.13779      1.000000    -0.209862      0.069225   \n",
       "GPS_Bearing             0.08649     -0.209862     1.000000      0.574667   \n",
       "GPS_Altitude            0.12528      0.069225     0.574667      1.000000   \n",
       "Maintenance_flag       -0.24321      0.070818    -0.098846     -0.108053   \n",
       "\n",
       "                  Maintenance_flag  \n",
       "GPS_Longitude            -0.243210  \n",
       "GPS_Latitude              0.070818  \n",
       "GPS_Bearing              -0.098846  \n",
       "GPS_Altitude             -0.108053  \n",
       "Maintenance_flag          1.000000  "
      ]
     },
     "execution_count": 11,
     "metadata": {},
     "output_type": "execute_result"
    }
   ],
   "source": [
    "df1.corr()"
   ]
  },
  {
   "cell_type": "code",
   "execution_count": 12,
   "id": "77272208",
   "metadata": {},
   "outputs": [],
   "source": [
    "new_df=df.drop(['truckid','fleetid','record_id','Measurement_timestamp'],axis=1)"
   ]
  },
  {
   "cell_type": "code",
   "execution_count": 13,
   "id": "d3b83ede",
   "metadata": {},
   "outputs": [
    {
     "data": {
      "text/plain": [
       "Speed_GPS                   -0.320655\n",
       "Vehicle_speed_sensor        -0.308777\n",
       "Speed_OBD                   -0.308777\n",
       "Engine_RPM                  -0.295936\n",
       "Throttle_Pos_Manifold       -0.245197\n",
       "GPS_Longitude               -0.243210\n",
       "Ambient_air_temp            -0.234769\n",
       "Mass_Air_Flow_Rate          -0.230736\n",
       "Intake_Manifold_Pressure    -0.112004\n",
       "Turbo_Boost_And_Vcm_Gauge   -0.111860\n",
       "GPS_Altitude                -0.108053\n",
       "GPS_Bearing                 -0.098846\n",
       "Region                      -0.029672\n",
       "Trip_Distance               -0.027005\n",
       "Accel_Ssor_Total            -0.023768\n",
       "Trip_Time_journey           -0.018514\n",
       "Accel_Pedal_Pos_D           -0.003150\n",
       "Engine_Load                  0.007066\n",
       "Engine_Oil_Temp              0.029750\n",
       "CO2_in_g_per_km_Inst         0.057545\n",
       "Litres_Per_100km_Inst        0.058488\n",
       "GPS_Latitude                 0.070818\n",
       "Engine_Coolant_Temp          0.104811\n",
       "Intake_Air_Temp              0.198482\n",
       "Voltage_Control_Module       0.210718\n",
       "Vibration                    0.308777\n",
       "Maintenance_flag             1.000000\n",
       "period                            NaN\n",
       "Name: Maintenance_flag, dtype: float64"
      ]
     },
     "execution_count": 13,
     "metadata": {},
     "output_type": "execute_result"
    }
   ],
   "source": [
    "new_df.corr()['Maintenance_flag'].sort_values()"
   ]
  },
  {
   "cell_type": "code",
   "execution_count": 14,
   "id": "81a9b6ad",
   "metadata": {},
   "outputs": [],
   "source": [
    "x=new_df.drop(['Maintenance_flag','period','Region','Trip_Distance','Accel_Ssor_Total','Trip_Time_journey','Accel_Pedal_Pos_D','Engine_Load','Engine_Oil_Temp'],axis=1)"
   ]
  },
  {
   "cell_type": "code",
   "execution_count": 15,
   "id": "a5606e12",
   "metadata": {},
   "outputs": [],
   "source": [
    "y=new_df['Maintenance_flag']"
   ]
  },
  {
   "cell_type": "code",
   "execution_count": 16,
   "id": "c72cfb0b",
   "metadata": {},
   "outputs": [
    {
     "data": {
      "text/html": [
       "<div>\n",
       "<style scoped>\n",
       "    .dataframe tbody tr th:only-of-type {\n",
       "        vertical-align: middle;\n",
       "    }\n",
       "\n",
       "    .dataframe tbody tr th {\n",
       "        vertical-align: top;\n",
       "    }\n",
       "\n",
       "    .dataframe thead th {\n",
       "        text-align: right;\n",
       "    }\n",
       "</style>\n",
       "<table border=\"1\" class=\"dataframe\">\n",
       "  <thead>\n",
       "    <tr style=\"text-align: right;\">\n",
       "      <th></th>\n",
       "      <th>Vehicle_speed_sensor</th>\n",
       "      <th>Vibration</th>\n",
       "      <th>Engine_Coolant_Temp</th>\n",
       "      <th>Intake_Manifold_Pressure</th>\n",
       "      <th>Engine_RPM</th>\n",
       "      <th>Speed_OBD</th>\n",
       "      <th>Intake_Air_Temp</th>\n",
       "      <th>Mass_Air_Flow_Rate</th>\n",
       "      <th>Throttle_Pos_Manifold</th>\n",
       "      <th>Voltage_Control_Module</th>\n",
       "      <th>Ambient_air_temp</th>\n",
       "      <th>Speed_GPS</th>\n",
       "      <th>GPS_Longitude</th>\n",
       "      <th>GPS_Latitude</th>\n",
       "      <th>GPS_Bearing</th>\n",
       "      <th>GPS_Altitude</th>\n",
       "      <th>Turbo_Boost_And_Vcm_Gauge</th>\n",
       "      <th>Litres_Per_100km_Inst</th>\n",
       "      <th>CO2_in_g_per_km_Inst</th>\n",
       "    </tr>\n",
       "  </thead>\n",
       "  <tbody>\n",
       "    <tr>\n",
       "      <th>count</th>\n",
       "      <td>1894.000000</td>\n",
       "      <td>1894.000000</td>\n",
       "      <td>1894.000000</td>\n",
       "      <td>1894.000000</td>\n",
       "      <td>1894.000000</td>\n",
       "      <td>1894.000000</td>\n",
       "      <td>1894.000000</td>\n",
       "      <td>1894.000000</td>\n",
       "      <td>1894.000000</td>\n",
       "      <td>1894.000000</td>\n",
       "      <td>1894.000000</td>\n",
       "      <td>1894.000000</td>\n",
       "      <td>1894.000000</td>\n",
       "      <td>1894.000000</td>\n",
       "      <td>1894.000000</td>\n",
       "      <td>1894.000000</td>\n",
       "      <td>1894.000000</td>\n",
       "      <td>1894.000000</td>\n",
       "      <td>1894.000000</td>\n",
       "    </tr>\n",
       "    <tr>\n",
       "      <th>mean</th>\n",
       "      <td>83.984688</td>\n",
       "      <td>246.463906</td>\n",
       "      <td>87.827350</td>\n",
       "      <td>121.112460</td>\n",
       "      <td>1331.780623</td>\n",
       "      <td>83.984688</td>\n",
       "      <td>10.392819</td>\n",
       "      <td>25.696610</td>\n",
       "      <td>77.001884</td>\n",
       "      <td>14.173907</td>\n",
       "      <td>7.369060</td>\n",
       "      <td>86.507394</td>\n",
       "      <td>8.600162</td>\n",
       "      <td>48.565341</td>\n",
       "      <td>200.960507</td>\n",
       "      <td>342.376452</td>\n",
       "      <td>3.497446</td>\n",
       "      <td>3.536286</td>\n",
       "      <td>94.823518</td>\n",
       "    </tr>\n",
       "    <tr>\n",
       "      <th>std</th>\n",
       "      <td>38.226537</td>\n",
       "      <td>2.126504</td>\n",
       "      <td>2.284857</td>\n",
       "      <td>21.539078</td>\n",
       "      <td>280.598564</td>\n",
       "      <td>38.226537</td>\n",
       "      <td>2.260824</td>\n",
       "      <td>11.605042</td>\n",
       "      <td>6.916047</td>\n",
       "      <td>0.067879</td>\n",
       "      <td>0.908092</td>\n",
       "      <td>40.193504</td>\n",
       "      <td>0.651727</td>\n",
       "      <td>0.590842</td>\n",
       "      <td>130.223458</td>\n",
       "      <td>192.549729</td>\n",
       "      <td>3.123908</td>\n",
       "      <td>3.896075</td>\n",
       "      <td>102.001590</td>\n",
       "    </tr>\n",
       "    <tr>\n",
       "      <th>min</th>\n",
       "      <td>5.000000</td>\n",
       "      <td>240.844525</td>\n",
       "      <td>79.000000</td>\n",
       "      <td>102.000000</td>\n",
       "      <td>680.500000</td>\n",
       "      <td>5.000000</td>\n",
       "      <td>6.000000</td>\n",
       "      <td>5.860000</td>\n",
       "      <td>27.843138</td>\n",
       "      <td>13.220000</td>\n",
       "      <td>5.000000</td>\n",
       "      <td>0.000000</td>\n",
       "      <td>6.542112</td>\n",
       "      <td>47.022844</td>\n",
       "      <td>0.000000</td>\n",
       "      <td>96.000000</td>\n",
       "      <td>0.725188</td>\n",
       "      <td>0.000000</td>\n",
       "      <td>0.000000</td>\n",
       "    </tr>\n",
       "    <tr>\n",
       "      <th>25%</th>\n",
       "      <td>55.000000</td>\n",
       "      <td>244.961071</td>\n",
       "      <td>87.000000</td>\n",
       "      <td>110.000000</td>\n",
       "      <td>1180.250000</td>\n",
       "      <td>55.000000</td>\n",
       "      <td>9.000000</td>\n",
       "      <td>19.970000</td>\n",
       "      <td>78.039215</td>\n",
       "      <td>14.140000</td>\n",
       "      <td>7.000000</td>\n",
       "      <td>56.863778</td>\n",
       "      <td>8.226166</td>\n",
       "      <td>48.289453</td>\n",
       "      <td>39.400000</td>\n",
       "      <td>154.000000</td>\n",
       "      <td>1.885490</td>\n",
       "      <td>0.000000</td>\n",
       "      <td>26.694093</td>\n",
       "    </tr>\n",
       "    <tr>\n",
       "      <th>50%</th>\n",
       "      <td>91.000000</td>\n",
       "      <td>246.073651</td>\n",
       "      <td>88.000000</td>\n",
       "      <td>114.000000</td>\n",
       "      <td>1318.500000</td>\n",
       "      <td>91.000000</td>\n",
       "      <td>10.000000</td>\n",
       "      <td>23.330000</td>\n",
       "      <td>80.000000</td>\n",
       "      <td>14.160000</td>\n",
       "      <td>7.000000</td>\n",
       "      <td>93.528865</td>\n",
       "      <td>8.673854</td>\n",
       "      <td>48.657226</td>\n",
       "      <td>275.550000</td>\n",
       "      <td>341.000000</td>\n",
       "      <td>2.465641</td>\n",
       "      <td>2.714573</td>\n",
       "      <td>71.800407</td>\n",
       "    </tr>\n",
       "    <tr>\n",
       "      <th>75%</th>\n",
       "      <td>111.000000</td>\n",
       "      <td>248.076295</td>\n",
       "      <td>89.000000</td>\n",
       "      <td>121.000000</td>\n",
       "      <td>1458.875000</td>\n",
       "      <td>111.000000</td>\n",
       "      <td>11.000000</td>\n",
       "      <td>27.925000</td>\n",
       "      <td>80.000000</td>\n",
       "      <td>14.220000</td>\n",
       "      <td>8.000000</td>\n",
       "      <td>113.421196</td>\n",
       "      <td>9.056559</td>\n",
       "      <td>48.913041</td>\n",
       "      <td>302.575000</td>\n",
       "      <td>454.000000</td>\n",
       "      <td>3.480905</td>\n",
       "      <td>4.815791</td>\n",
       "      <td>127.377588</td>\n",
       "    </tr>\n",
       "    <tr>\n",
       "      <th>max</th>\n",
       "      <td>185.000000</td>\n",
       "      <td>250.857745</td>\n",
       "      <td>93.000000</td>\n",
       "      <td>255.000000</td>\n",
       "      <td>2527.500000</td>\n",
       "      <td>185.000000</td>\n",
       "      <td>18.000000</td>\n",
       "      <td>108.660000</td>\n",
       "      <td>80.392160</td>\n",
       "      <td>14.360000</td>\n",
       "      <td>9.000000</td>\n",
       "      <td>192.024860</td>\n",
       "      <td>10.205766</td>\n",
       "      <td>49.809166</td>\n",
       "      <td>359.900000</td>\n",
       "      <td>835.000000</td>\n",
       "      <td>22.915962</td>\n",
       "      <td>30.795786</td>\n",
       "      <td>814.548000</td>\n",
       "    </tr>\n",
       "  </tbody>\n",
       "</table>\n",
       "</div>"
      ],
      "text/plain": [
       "       Vehicle_speed_sensor    Vibration  Engine_Coolant_Temp  \\\n",
       "count           1894.000000  1894.000000          1894.000000   \n",
       "mean              83.984688   246.463906            87.827350   \n",
       "std               38.226537     2.126504             2.284857   \n",
       "min                5.000000   240.844525            79.000000   \n",
       "25%               55.000000   244.961071            87.000000   \n",
       "50%               91.000000   246.073651            88.000000   \n",
       "75%              111.000000   248.076295            89.000000   \n",
       "max              185.000000   250.857745            93.000000   \n",
       "\n",
       "       Intake_Manifold_Pressure   Engine_RPM    Speed_OBD  Intake_Air_Temp  \\\n",
       "count               1894.000000  1894.000000  1894.000000      1894.000000   \n",
       "mean                 121.112460  1331.780623    83.984688        10.392819   \n",
       "std                   21.539078   280.598564    38.226537         2.260824   \n",
       "min                  102.000000   680.500000     5.000000         6.000000   \n",
       "25%                  110.000000  1180.250000    55.000000         9.000000   \n",
       "50%                  114.000000  1318.500000    91.000000        10.000000   \n",
       "75%                  121.000000  1458.875000   111.000000        11.000000   \n",
       "max                  255.000000  2527.500000   185.000000        18.000000   \n",
       "\n",
       "       Mass_Air_Flow_Rate  Throttle_Pos_Manifold  Voltage_Control_Module  \\\n",
       "count         1894.000000            1894.000000             1894.000000   \n",
       "mean            25.696610              77.001884               14.173907   \n",
       "std             11.605042               6.916047                0.067879   \n",
       "min              5.860000              27.843138               13.220000   \n",
       "25%             19.970000              78.039215               14.140000   \n",
       "50%             23.330000              80.000000               14.160000   \n",
       "75%             27.925000              80.000000               14.220000   \n",
       "max            108.660000              80.392160               14.360000   \n",
       "\n",
       "       Ambient_air_temp    Speed_GPS  GPS_Longitude  GPS_Latitude  \\\n",
       "count       1894.000000  1894.000000    1894.000000   1894.000000   \n",
       "mean           7.369060    86.507394       8.600162     48.565341   \n",
       "std            0.908092    40.193504       0.651727      0.590842   \n",
       "min            5.000000     0.000000       6.542112     47.022844   \n",
       "25%            7.000000    56.863778       8.226166     48.289453   \n",
       "50%            7.000000    93.528865       8.673854     48.657226   \n",
       "75%            8.000000   113.421196       9.056559     48.913041   \n",
       "max            9.000000   192.024860      10.205766     49.809166   \n",
       "\n",
       "       GPS_Bearing  GPS_Altitude  Turbo_Boost_And_Vcm_Gauge  \\\n",
       "count  1894.000000   1894.000000                1894.000000   \n",
       "mean    200.960507    342.376452                   3.497446   \n",
       "std     130.223458    192.549729                   3.123908   \n",
       "min       0.000000     96.000000                   0.725188   \n",
       "25%      39.400000    154.000000                   1.885490   \n",
       "50%     275.550000    341.000000                   2.465641   \n",
       "75%     302.575000    454.000000                   3.480905   \n",
       "max     359.900000    835.000000                  22.915962   \n",
       "\n",
       "       Litres_Per_100km_Inst  CO2_in_g_per_km_Inst  \n",
       "count            1894.000000           1894.000000  \n",
       "mean                3.536286             94.823518  \n",
       "std                 3.896075            102.001590  \n",
       "min                 0.000000              0.000000  \n",
       "25%                 0.000000             26.694093  \n",
       "50%                 2.714573             71.800407  \n",
       "75%                 4.815791            127.377588  \n",
       "max                30.795786            814.548000  "
      ]
     },
     "execution_count": 16,
     "metadata": {},
     "output_type": "execute_result"
    }
   ],
   "source": [
    "x.describe()"
   ]
  },
  {
   "cell_type": "code",
   "execution_count": 17,
   "id": "ac72727a",
   "metadata": {},
   "outputs": [],
   "source": [
    "from sklearn.model_selection import train_test_split,GridSearchCV\n",
    "from sklearn.linear_model import LogisticRegression\n",
    "from sklearn.preprocessing import StandardScaler\n",
    "from sklearn.metrics import plot_confusion_matrix,classification_report"
   ]
  },
  {
   "cell_type": "code",
   "execution_count": 18,
   "id": "8edf409f",
   "metadata": {},
   "outputs": [],
   "source": [
    "X_train, X_test, y_train, y_test=train_test_split(x,y,test_size=0.25,random_state=101)"
   ]
  },
  {
   "cell_type": "code",
   "execution_count": 19,
   "id": "fcacb40d",
   "metadata": {},
   "outputs": [],
   "source": [
    "scale=StandardScaler()"
   ]
  },
  {
   "cell_type": "code",
   "execution_count": 20,
   "id": "dfd8e412",
   "metadata": {},
   "outputs": [],
   "source": [
    "X_train=scale.fit_transform(X_train)"
   ]
  },
  {
   "cell_type": "code",
   "execution_count": 21,
   "id": "eca82269",
   "metadata": {},
   "outputs": [],
   "source": [
    "X_test=scale.transform(X_test)"
   ]
  },
  {
   "cell_type": "code",
   "execution_count": 22,
   "id": "c0eff3b9",
   "metadata": {},
   "outputs": [],
   "source": [
    "model=LogisticRegression(max_iter=2000)"
   ]
  },
  {
   "cell_type": "code",
   "execution_count": 23,
   "id": "ff8fcbff",
   "metadata": {},
   "outputs": [],
   "source": [
    "params={'l1_ratio':[0,0.75,0.95,1],'C':[1,5,8],'penalty':['l1', 'l2','elasticnet','none'],'solver':['newton-cg', 'lbfgs', 'liblinear', 'sag', 'saga']}"
   ]
  },
  {
   "cell_type": "code",
   "execution_count": 24,
   "id": "944fbb0a",
   "metadata": {},
   "outputs": [],
   "source": [
    "grid_model=GridSearchCV(model,params,verbose=2)"
   ]
  },
  {
   "cell_type": "code",
   "execution_count": null,
   "id": "f4189671",
   "metadata": {},
   "outputs": [],
   "source": []
  },
  {
   "cell_type": "code",
   "execution_count": 25,
   "id": "22680261",
   "metadata": {},
   "outputs": [
    {
     "name": "stdout",
     "output_type": "stream",
     "text": [
      "Fitting 5 folds for each of 240 candidates, totalling 1200 fits\n",
      "[CV] END ......C=1, l1_ratio=0, penalty=l1, solver=newton-cg; total time=   0.0s\n",
      "[CV] END ......C=1, l1_ratio=0, penalty=l1, solver=newton-cg; total time=   0.0s\n",
      "[CV] END ......C=1, l1_ratio=0, penalty=l1, solver=newton-cg; total time=   0.0s\n",
      "[CV] END ......C=1, l1_ratio=0, penalty=l1, solver=newton-cg; total time=   0.0s\n",
      "[CV] END ......C=1, l1_ratio=0, penalty=l1, solver=newton-cg; total time=   0.0s\n",
      "[CV] END ..........C=1, l1_ratio=0, penalty=l1, solver=lbfgs; total time=   0.0s\n",
      "[CV] END ..........C=1, l1_ratio=0, penalty=l1, solver=lbfgs; total time=   0.0s\n",
      "[CV] END ..........C=1, l1_ratio=0, penalty=l1, solver=lbfgs; total time=   0.0s\n",
      "[CV] END ..........C=1, l1_ratio=0, penalty=l1, solver=lbfgs; total time=   0.0s\n",
      "[CV] END ..........C=1, l1_ratio=0, penalty=l1, solver=lbfgs; total time=   0.0s\n",
      "[CV] END ......C=1, l1_ratio=0, penalty=l1, solver=liblinear; total time=   0.0s\n",
      "[CV] END ......C=1, l1_ratio=0, penalty=l1, solver=liblinear; total time=   0.0s\n",
      "[CV] END ......C=1, l1_ratio=0, penalty=l1, solver=liblinear; total time=   0.0s\n",
      "[CV] END ......C=1, l1_ratio=0, penalty=l1, solver=liblinear; total time=   0.0s\n",
      "[CV] END ......C=1, l1_ratio=0, penalty=l1, solver=liblinear; total time=   0.0s\n"
     ]
    },
    {
     "name": "stderr",
     "output_type": "stream",
     "text": [
      "C:\\Users\\sande\\anaconda3\\lib\\site-packages\\sklearn\\linear_model\\_logistic.py:1476: UserWarning: l1_ratio parameter is only used when penalty is 'elasticnet'. Got (penalty=l1)\n",
      "  warnings.warn(\n",
      "C:\\Users\\sande\\anaconda3\\lib\\site-packages\\sklearn\\linear_model\\_logistic.py:1476: UserWarning: l1_ratio parameter is only used when penalty is 'elasticnet'. Got (penalty=l1)\n",
      "  warnings.warn(\n",
      "C:\\Users\\sande\\anaconda3\\lib\\site-packages\\sklearn\\linear_model\\_logistic.py:1476: UserWarning: l1_ratio parameter is only used when penalty is 'elasticnet'. Got (penalty=l1)\n",
      "  warnings.warn(\n",
      "C:\\Users\\sande\\anaconda3\\lib\\site-packages\\sklearn\\linear_model\\_logistic.py:1476: UserWarning: l1_ratio parameter is only used when penalty is 'elasticnet'. Got (penalty=l1)\n",
      "  warnings.warn(\n",
      "C:\\Users\\sande\\anaconda3\\lib\\site-packages\\sklearn\\linear_model\\_logistic.py:1476: UserWarning: l1_ratio parameter is only used when penalty is 'elasticnet'. Got (penalty=l1)\n",
      "  warnings.warn(\n",
      "C:\\Users\\sande\\anaconda3\\lib\\site-packages\\sklearn\\linear_model\\_logistic.py:1476: UserWarning: l1_ratio parameter is only used when penalty is 'elasticnet'. Got (penalty=l1)\n",
      "  warnings.warn(\n"
     ]
    },
    {
     "name": "stdout",
     "output_type": "stream",
     "text": [
      "[CV] END ............C=1, l1_ratio=0, penalty=l1, solver=sag; total time=   0.0s\n",
      "[CV] END ............C=1, l1_ratio=0, penalty=l1, solver=sag; total time=   0.0s\n",
      "[CV] END ............C=1, l1_ratio=0, penalty=l1, solver=sag; total time=   0.0s\n",
      "[CV] END ............C=1, l1_ratio=0, penalty=l1, solver=sag; total time=   0.0s\n",
      "[CV] END ............C=1, l1_ratio=0, penalty=l1, solver=sag; total time=   0.0s\n",
      "[CV] END ...........C=1, l1_ratio=0, penalty=l1, solver=saga; total time=   0.4s\n"
     ]
    },
    {
     "name": "stderr",
     "output_type": "stream",
     "text": [
      "C:\\Users\\sande\\anaconda3\\lib\\site-packages\\sklearn\\linear_model\\_logistic.py:1476: UserWarning: l1_ratio parameter is only used when penalty is 'elasticnet'. Got (penalty=l1)\n",
      "  warnings.warn(\n"
     ]
    },
    {
     "name": "stdout",
     "output_type": "stream",
     "text": [
      "[CV] END ...........C=1, l1_ratio=0, penalty=l1, solver=saga; total time=   0.3s\n"
     ]
    },
    {
     "name": "stderr",
     "output_type": "stream",
     "text": [
      "C:\\Users\\sande\\anaconda3\\lib\\site-packages\\sklearn\\linear_model\\_logistic.py:1476: UserWarning: l1_ratio parameter is only used when penalty is 'elasticnet'. Got (penalty=l1)\n",
      "  warnings.warn(\n"
     ]
    },
    {
     "name": "stdout",
     "output_type": "stream",
     "text": [
      "[CV] END ...........C=1, l1_ratio=0, penalty=l1, solver=saga; total time=   0.4s\n"
     ]
    },
    {
     "name": "stderr",
     "output_type": "stream",
     "text": [
      "C:\\Users\\sande\\anaconda3\\lib\\site-packages\\sklearn\\linear_model\\_logistic.py:1476: UserWarning: l1_ratio parameter is only used when penalty is 'elasticnet'. Got (penalty=l1)\n",
      "  warnings.warn(\n"
     ]
    },
    {
     "name": "stdout",
     "output_type": "stream",
     "text": [
      "[CV] END ...........C=1, l1_ratio=0, penalty=l1, solver=saga; total time=   0.3s\n",
      "[CV] END ...........C=1, l1_ratio=0, penalty=l1, solver=saga; total time=   0.1s\n",
      "[CV] END ......C=1, l1_ratio=0, penalty=l2, solver=newton-cg; total time=   0.0s\n"
     ]
    },
    {
     "name": "stderr",
     "output_type": "stream",
     "text": [
      "C:\\Users\\sande\\anaconda3\\lib\\site-packages\\sklearn\\linear_model\\_logistic.py:1476: UserWarning: l1_ratio parameter is only used when penalty is 'elasticnet'. Got (penalty=l1)\n",
      "  warnings.warn(\n",
      "C:\\Users\\sande\\anaconda3\\lib\\site-packages\\sklearn\\linear_model\\_logistic.py:1476: UserWarning: l1_ratio parameter is only used when penalty is 'elasticnet'. Got (penalty=l2)\n",
      "  warnings.warn(\n",
      "C:\\Users\\sande\\anaconda3\\lib\\site-packages\\sklearn\\linear_model\\_logistic.py:1476: UserWarning: l1_ratio parameter is only used when penalty is 'elasticnet'. Got (penalty=l2)\n",
      "  warnings.warn(\n",
      "C:\\Users\\sande\\anaconda3\\lib\\site-packages\\sklearn\\linear_model\\_logistic.py:1476: UserWarning: l1_ratio parameter is only used when penalty is 'elasticnet'. Got (penalty=l2)\n",
      "  warnings.warn(\n",
      "C:\\Users\\sande\\anaconda3\\lib\\site-packages\\sklearn\\linear_model\\_logistic.py:1476: UserWarning: l1_ratio parameter is only used when penalty is 'elasticnet'. Got (penalty=l2)\n",
      "  warnings.warn(\n",
      "C:\\Users\\sande\\anaconda3\\lib\\site-packages\\sklearn\\linear_model\\_logistic.py:1476: UserWarning: l1_ratio parameter is only used when penalty is 'elasticnet'. Got (penalty=l2)\n",
      "  warnings.warn(\n",
      "C:\\Users\\sande\\anaconda3\\lib\\site-packages\\sklearn\\linear_model\\_logistic.py:1476: UserWarning: l1_ratio parameter is only used when penalty is 'elasticnet'. Got (penalty=l2)\n",
      "  warnings.warn(\n",
      "C:\\Users\\sande\\anaconda3\\lib\\site-packages\\sklearn\\linear_model\\_logistic.py:1476: UserWarning: l1_ratio parameter is only used when penalty is 'elasticnet'. Got (penalty=l2)\n",
      "  warnings.warn(\n",
      "C:\\Users\\sande\\anaconda3\\lib\\site-packages\\sklearn\\linear_model\\_logistic.py:1476: UserWarning: l1_ratio parameter is only used when penalty is 'elasticnet'. Got (penalty=l2)\n",
      "  warnings.warn(\n"
     ]
    },
    {
     "name": "stdout",
     "output_type": "stream",
     "text": [
      "[CV] END ......C=1, l1_ratio=0, penalty=l2, solver=newton-cg; total time=   0.0s\n",
      "[CV] END ......C=1, l1_ratio=0, penalty=l2, solver=newton-cg; total time=   0.0s\n",
      "[CV] END ......C=1, l1_ratio=0, penalty=l2, solver=newton-cg; total time=   0.0s\n",
      "[CV] END ......C=1, l1_ratio=0, penalty=l2, solver=newton-cg; total time=   0.0s\n",
      "[CV] END ..........C=1, l1_ratio=0, penalty=l2, solver=lbfgs; total time=   0.0s\n",
      "[CV] END ..........C=1, l1_ratio=0, penalty=l2, solver=lbfgs; total time=   0.0s\n",
      "[CV] END ..........C=1, l1_ratio=0, penalty=l2, solver=lbfgs; total time=   0.0s\n"
     ]
    },
    {
     "name": "stderr",
     "output_type": "stream",
     "text": [
      "C:\\Users\\sande\\anaconda3\\lib\\site-packages\\sklearn\\linear_model\\_logistic.py:1476: UserWarning: l1_ratio parameter is only used when penalty is 'elasticnet'. Got (penalty=l2)\n",
      "  warnings.warn(\n",
      "C:\\Users\\sande\\anaconda3\\lib\\site-packages\\sklearn\\linear_model\\_logistic.py:1476: UserWarning: l1_ratio parameter is only used when penalty is 'elasticnet'. Got (penalty=l2)\n",
      "  warnings.warn(\n",
      "C:\\Users\\sande\\anaconda3\\lib\\site-packages\\sklearn\\linear_model\\_logistic.py:1476: UserWarning: l1_ratio parameter is only used when penalty is 'elasticnet'. Got (penalty=l2)\n",
      "  warnings.warn(\n",
      "C:\\Users\\sande\\anaconda3\\lib\\site-packages\\sklearn\\linear_model\\_logistic.py:1476: UserWarning: l1_ratio parameter is only used when penalty is 'elasticnet'. Got (penalty=l2)\n",
      "  warnings.warn(\n",
      "C:\\Users\\sande\\anaconda3\\lib\\site-packages\\sklearn\\linear_model\\_logistic.py:1476: UserWarning: l1_ratio parameter is only used when penalty is 'elasticnet'. Got (penalty=l2)\n",
      "  warnings.warn(\n",
      "C:\\Users\\sande\\anaconda3\\lib\\site-packages\\sklearn\\linear_model\\_logistic.py:1476: UserWarning: l1_ratio parameter is only used when penalty is 'elasticnet'. Got (penalty=l2)\n",
      "  warnings.warn(\n",
      "C:\\Users\\sande\\anaconda3\\lib\\site-packages\\sklearn\\linear_model\\_logistic.py:1476: UserWarning: l1_ratio parameter is only used when penalty is 'elasticnet'. Got (penalty=l2)\n",
      "  warnings.warn(\n",
      "C:\\Users\\sande\\anaconda3\\lib\\site-packages\\sklearn\\linear_model\\_logistic.py:1476: UserWarning: l1_ratio parameter is only used when penalty is 'elasticnet'. Got (penalty=l2)\n",
      "  warnings.warn(\n",
      "C:\\Users\\sande\\anaconda3\\lib\\site-packages\\sklearn\\linear_model\\_logistic.py:1476: UserWarning: l1_ratio parameter is only used when penalty is 'elasticnet'. Got (penalty=l2)\n",
      "  warnings.warn(\n"
     ]
    },
    {
     "name": "stdout",
     "output_type": "stream",
     "text": [
      "[CV] END ..........C=1, l1_ratio=0, penalty=l2, solver=lbfgs; total time=   0.0s\n",
      "[CV] END ..........C=1, l1_ratio=0, penalty=l2, solver=lbfgs; total time=   0.0s\n",
      "[CV] END ......C=1, l1_ratio=0, penalty=l2, solver=liblinear; total time=   0.0s\n",
      "[CV] END ......C=1, l1_ratio=0, penalty=l2, solver=liblinear; total time=   0.0s\n",
      "[CV] END ......C=1, l1_ratio=0, penalty=l2, solver=liblinear; total time=   0.0s\n",
      "[CV] END ......C=1, l1_ratio=0, penalty=l2, solver=liblinear; total time=   0.0s\n",
      "[CV] END ......C=1, l1_ratio=0, penalty=l2, solver=liblinear; total time=   0.0s\n",
      "[CV] END ............C=1, l1_ratio=0, penalty=l2, solver=sag; total time=   0.0s\n",
      "[CV] END ............C=1, l1_ratio=0, penalty=l2, solver=sag; total time=   0.0s\n"
     ]
    },
    {
     "name": "stderr",
     "output_type": "stream",
     "text": [
      "C:\\Users\\sande\\anaconda3\\lib\\site-packages\\sklearn\\linear_model\\_logistic.py:1476: UserWarning: l1_ratio parameter is only used when penalty is 'elasticnet'. Got (penalty=l2)\n",
      "  warnings.warn(\n",
      "C:\\Users\\sande\\anaconda3\\lib\\site-packages\\sklearn\\linear_model\\_logistic.py:1476: UserWarning: l1_ratio parameter is only used when penalty is 'elasticnet'. Got (penalty=l2)\n",
      "  warnings.warn(\n",
      "C:\\Users\\sande\\anaconda3\\lib\\site-packages\\sklearn\\linear_model\\_logistic.py:1476: UserWarning: l1_ratio parameter is only used when penalty is 'elasticnet'. Got (penalty=l2)\n",
      "  warnings.warn(\n",
      "C:\\Users\\sande\\anaconda3\\lib\\site-packages\\sklearn\\linear_model\\_logistic.py:1476: UserWarning: l1_ratio parameter is only used when penalty is 'elasticnet'. Got (penalty=l2)\n",
      "  warnings.warn(\n"
     ]
    },
    {
     "name": "stdout",
     "output_type": "stream",
     "text": [
      "[CV] END ............C=1, l1_ratio=0, penalty=l2, solver=sag; total time=   0.0s\n",
      "[CV] END ............C=1, l1_ratio=0, penalty=l2, solver=sag; total time=   0.0s\n",
      "[CV] END ............C=1, l1_ratio=0, penalty=l2, solver=sag; total time=   0.0s\n",
      "[CV] END ...........C=1, l1_ratio=0, penalty=l2, solver=saga; total time=   0.0s\n"
     ]
    },
    {
     "name": "stderr",
     "output_type": "stream",
     "text": [
      "C:\\Users\\sande\\anaconda3\\lib\\site-packages\\sklearn\\linear_model\\_logistic.py:1476: UserWarning: l1_ratio parameter is only used when penalty is 'elasticnet'. Got (penalty=l2)\n",
      "  warnings.warn(\n",
      "C:\\Users\\sande\\anaconda3\\lib\\site-packages\\sklearn\\linear_model\\_logistic.py:1476: UserWarning: l1_ratio parameter is only used when penalty is 'elasticnet'. Got (penalty=l2)\n",
      "  warnings.warn(\n"
     ]
    },
    {
     "name": "stdout",
     "output_type": "stream",
     "text": [
      "[CV] END ...........C=1, l1_ratio=0, penalty=l2, solver=saga; total time=   0.0s\n",
      "[CV] END ...........C=1, l1_ratio=0, penalty=l2, solver=saga; total time=   0.0s\n",
      "[CV] END ...........C=1, l1_ratio=0, penalty=l2, solver=saga; total time=   0.0s\n"
     ]
    },
    {
     "name": "stderr",
     "output_type": "stream",
     "text": [
      "C:\\Users\\sande\\anaconda3\\lib\\site-packages\\sklearn\\linear_model\\_logistic.py:1476: UserWarning: l1_ratio parameter is only used when penalty is 'elasticnet'. Got (penalty=l2)\n",
      "  warnings.warn(\n",
      "C:\\Users\\sande\\anaconda3\\lib\\site-packages\\sklearn\\linear_model\\_logistic.py:1476: UserWarning: l1_ratio parameter is only used when penalty is 'elasticnet'. Got (penalty=l2)\n",
      "  warnings.warn(\n"
     ]
    },
    {
     "name": "stdout",
     "output_type": "stream",
     "text": [
      "[CV] END ...........C=1, l1_ratio=0, penalty=l2, solver=saga; total time=   0.0s\n",
      "[CV] END C=1, l1_ratio=0, penalty=elasticnet, solver=newton-cg; total time=   0.0s\n",
      "[CV] END C=1, l1_ratio=0, penalty=elasticnet, solver=newton-cg; total time=   0.0s\n",
      "[CV] END C=1, l1_ratio=0, penalty=elasticnet, solver=newton-cg; total time=   0.0s\n",
      "[CV] END C=1, l1_ratio=0, penalty=elasticnet, solver=newton-cg; total time=   0.0s\n",
      "[CV] END C=1, l1_ratio=0, penalty=elasticnet, solver=newton-cg; total time=   0.0s\n",
      "[CV] END ..C=1, l1_ratio=0, penalty=elasticnet, solver=lbfgs; total time=   0.0s\n",
      "[CV] END ..C=1, l1_ratio=0, penalty=elasticnet, solver=lbfgs; total time=   0.0s\n",
      "[CV] END ..C=1, l1_ratio=0, penalty=elasticnet, solver=lbfgs; total time=   0.0s\n",
      "[CV] END ..C=1, l1_ratio=0, penalty=elasticnet, solver=lbfgs; total time=   0.0s\n",
      "[CV] END ..C=1, l1_ratio=0, penalty=elasticnet, solver=lbfgs; total time=   0.0s\n",
      "[CV] END C=1, l1_ratio=0, penalty=elasticnet, solver=liblinear; total time=   0.0s\n",
      "[CV] END C=1, l1_ratio=0, penalty=elasticnet, solver=liblinear; total time=   0.0s\n",
      "[CV] END C=1, l1_ratio=0, penalty=elasticnet, solver=liblinear; total time=   0.0s\n",
      "[CV] END C=1, l1_ratio=0, penalty=elasticnet, solver=liblinear; total time=   0.0s\n",
      "[CV] END C=1, l1_ratio=0, penalty=elasticnet, solver=liblinear; total time=   0.0s\n",
      "[CV] END ....C=1, l1_ratio=0, penalty=elasticnet, solver=sag; total time=   0.0s\n",
      "[CV] END ....C=1, l1_ratio=0, penalty=elasticnet, solver=sag; total time=   0.0s\n",
      "[CV] END ....C=1, l1_ratio=0, penalty=elasticnet, solver=sag; total time=   0.0s\n",
      "[CV] END ....C=1, l1_ratio=0, penalty=elasticnet, solver=sag; total time=   0.0s\n",
      "[CV] END ....C=1, l1_ratio=0, penalty=elasticnet, solver=sag; total time=   0.0s\n",
      "[CV] END ...C=1, l1_ratio=0, penalty=elasticnet, solver=saga; total time=   0.0s\n",
      "[CV] END ...C=1, l1_ratio=0, penalty=elasticnet, solver=saga; total time=   0.0s\n",
      "[CV] END ...C=1, l1_ratio=0, penalty=elasticnet, solver=saga; total time=   0.0s\n",
      "[CV] END ...C=1, l1_ratio=0, penalty=elasticnet, solver=saga; total time=   0.0s\n",
      "[CV] END ...C=1, l1_ratio=0, penalty=elasticnet, solver=saga; total time=   0.0s\n",
      "[CV] END ....C=1, l1_ratio=0, penalty=none, solver=newton-cg; total time=   0.0s\n",
      "[CV] END ....C=1, l1_ratio=0, penalty=none, solver=newton-cg; total time=   0.0s\n"
     ]
    },
    {
     "name": "stderr",
     "output_type": "stream",
     "text": [
      "C:\\Users\\sande\\anaconda3\\lib\\site-packages\\sklearn\\linear_model\\_logistic.py:1476: UserWarning: l1_ratio parameter is only used when penalty is 'elasticnet'. Got (penalty=none)\n",
      "  warnings.warn(\n",
      "C:\\Users\\sande\\anaconda3\\lib\\site-packages\\sklearn\\linear_model\\_logistic.py:1476: UserWarning: l1_ratio parameter is only used when penalty is 'elasticnet'. Got (penalty=none)\n",
      "  warnings.warn(\n",
      "C:\\Users\\sande\\anaconda3\\lib\\site-packages\\sklearn\\linear_model\\_logistic.py:1476: UserWarning: l1_ratio parameter is only used when penalty is 'elasticnet'. Got (penalty=none)\n",
      "  warnings.warn(\n"
     ]
    },
    {
     "name": "stdout",
     "output_type": "stream",
     "text": [
      "[CV] END ....C=1, l1_ratio=0, penalty=none, solver=newton-cg; total time=   0.0s\n",
      "[CV] END ....C=1, l1_ratio=0, penalty=none, solver=newton-cg; total time=   0.0s\n",
      "[CV] END ....C=1, l1_ratio=0, penalty=none, solver=newton-cg; total time=   0.0s\n",
      "[CV] END ........C=1, l1_ratio=0, penalty=none, solver=lbfgs; total time=   0.0s\n"
     ]
    },
    {
     "name": "stderr",
     "output_type": "stream",
     "text": [
      "C:\\Users\\sande\\anaconda3\\lib\\site-packages\\sklearn\\linear_model\\_logistic.py:1476: UserWarning: l1_ratio parameter is only used when penalty is 'elasticnet'. Got (penalty=none)\n",
      "  warnings.warn(\n",
      "C:\\Users\\sande\\anaconda3\\lib\\site-packages\\sklearn\\linear_model\\_logistic.py:1476: UserWarning: l1_ratio parameter is only used when penalty is 'elasticnet'. Got (penalty=none)\n",
      "  warnings.warn(\n",
      "C:\\Users\\sande\\anaconda3\\lib\\site-packages\\sklearn\\linear_model\\_logistic.py:1476: UserWarning: l1_ratio parameter is only used when penalty is 'elasticnet'. Got (penalty=none)\n",
      "  warnings.warn(\n"
     ]
    },
    {
     "name": "stdout",
     "output_type": "stream",
     "text": [
      "[CV] END ........C=1, l1_ratio=0, penalty=none, solver=lbfgs; total time=   0.0s\n",
      "[CV] END ........C=1, l1_ratio=0, penalty=none, solver=lbfgs; total time=   0.0s\n",
      "[CV] END ........C=1, l1_ratio=0, penalty=none, solver=lbfgs; total time=   0.0s\n"
     ]
    },
    {
     "name": "stderr",
     "output_type": "stream",
     "text": [
      "C:\\Users\\sande\\anaconda3\\lib\\site-packages\\sklearn\\linear_model\\_logistic.py:1476: UserWarning: l1_ratio parameter is only used when penalty is 'elasticnet'. Got (penalty=none)\n",
      "  warnings.warn(\n",
      "C:\\Users\\sande\\anaconda3\\lib\\site-packages\\sklearn\\linear_model\\_logistic.py:1476: UserWarning: l1_ratio parameter is only used when penalty is 'elasticnet'. Got (penalty=none)\n",
      "  warnings.warn(\n",
      "C:\\Users\\sande\\anaconda3\\lib\\site-packages\\sklearn\\linear_model\\_logistic.py:1476: UserWarning: l1_ratio parameter is only used when penalty is 'elasticnet'. Got (penalty=none)\n",
      "  warnings.warn(\n",
      "C:\\Users\\sande\\anaconda3\\lib\\site-packages\\sklearn\\linear_model\\_logistic.py:1476: UserWarning: l1_ratio parameter is only used when penalty is 'elasticnet'. Got (penalty=none)\n",
      "  warnings.warn(\n",
      "C:\\Users\\sande\\anaconda3\\lib\\site-packages\\sklearn\\linear_model\\_logistic.py:1476: UserWarning: l1_ratio parameter is only used when penalty is 'elasticnet'. Got (penalty=none)\n",
      "  warnings.warn(\n"
     ]
    },
    {
     "name": "stdout",
     "output_type": "stream",
     "text": [
      "[CV] END ........C=1, l1_ratio=0, penalty=none, solver=lbfgs; total time=   0.0s\n",
      "[CV] END ....C=1, l1_ratio=0, penalty=none, solver=liblinear; total time=   0.0s\n",
      "[CV] END ....C=1, l1_ratio=0, penalty=none, solver=liblinear; total time=   0.0s\n",
      "[CV] END ....C=1, l1_ratio=0, penalty=none, solver=liblinear; total time=   0.0s\n",
      "[CV] END ....C=1, l1_ratio=0, penalty=none, solver=liblinear; total time=   0.0s\n",
      "[CV] END ....C=1, l1_ratio=0, penalty=none, solver=liblinear; total time=   0.0s\n"
     ]
    },
    {
     "name": "stderr",
     "output_type": "stream",
     "text": [
      "C:\\Users\\sande\\anaconda3\\lib\\site-packages\\sklearn\\linear_model\\_sag.py:352: ConvergenceWarning: The max_iter was reached which means the coef_ did not converge\n",
      "  warnings.warn(\n",
      "C:\\Users\\sande\\anaconda3\\lib\\site-packages\\sklearn\\linear_model\\_logistic.py:1476: UserWarning: l1_ratio parameter is only used when penalty is 'elasticnet'. Got (penalty=none)\n",
      "  warnings.warn(\n"
     ]
    },
    {
     "name": "stdout",
     "output_type": "stream",
     "text": [
      "[CV] END ..........C=1, l1_ratio=0, penalty=none, solver=sag; total time=   0.7s\n"
     ]
    },
    {
     "name": "stderr",
     "output_type": "stream",
     "text": [
      "C:\\Users\\sande\\anaconda3\\lib\\site-packages\\sklearn\\linear_model\\_sag.py:352: ConvergenceWarning: The max_iter was reached which means the coef_ did not converge\n",
      "  warnings.warn(\n",
      "C:\\Users\\sande\\anaconda3\\lib\\site-packages\\sklearn\\linear_model\\_logistic.py:1476: UserWarning: l1_ratio parameter is only used when penalty is 'elasticnet'. Got (penalty=none)\n",
      "  warnings.warn(\n"
     ]
    },
    {
     "name": "stdout",
     "output_type": "stream",
     "text": [
      "[CV] END ..........C=1, l1_ratio=0, penalty=none, solver=sag; total time=   0.7s\n"
     ]
    },
    {
     "name": "stderr",
     "output_type": "stream",
     "text": [
      "C:\\Users\\sande\\anaconda3\\lib\\site-packages\\sklearn\\linear_model\\_sag.py:352: ConvergenceWarning: The max_iter was reached which means the coef_ did not converge\n",
      "  warnings.warn(\n",
      "C:\\Users\\sande\\anaconda3\\lib\\site-packages\\sklearn\\linear_model\\_logistic.py:1476: UserWarning: l1_ratio parameter is only used when penalty is 'elasticnet'. Got (penalty=none)\n",
      "  warnings.warn(\n"
     ]
    },
    {
     "name": "stdout",
     "output_type": "stream",
     "text": [
      "[CV] END ..........C=1, l1_ratio=0, penalty=none, solver=sag; total time=   0.7s\n"
     ]
    },
    {
     "name": "stderr",
     "output_type": "stream",
     "text": [
      "C:\\Users\\sande\\anaconda3\\lib\\site-packages\\sklearn\\linear_model\\_sag.py:352: ConvergenceWarning: The max_iter was reached which means the coef_ did not converge\n",
      "  warnings.warn(\n",
      "C:\\Users\\sande\\anaconda3\\lib\\site-packages\\sklearn\\linear_model\\_logistic.py:1476: UserWarning: l1_ratio parameter is only used when penalty is 'elasticnet'. Got (penalty=none)\n",
      "  warnings.warn(\n"
     ]
    },
    {
     "name": "stdout",
     "output_type": "stream",
     "text": [
      "[CV] END ..........C=1, l1_ratio=0, penalty=none, solver=sag; total time=   0.7s\n",
      "[CV] END ..........C=1, l1_ratio=0, penalty=none, solver=sag; total time=   0.4s\n"
     ]
    },
    {
     "name": "stderr",
     "output_type": "stream",
     "text": [
      "C:\\Users\\sande\\anaconda3\\lib\\site-packages\\sklearn\\linear_model\\_logistic.py:1476: UserWarning: l1_ratio parameter is only used when penalty is 'elasticnet'. Got (penalty=none)\n",
      "  warnings.warn(\n",
      "C:\\Users\\sande\\anaconda3\\lib\\site-packages\\sklearn\\linear_model\\_sag.py:352: ConvergenceWarning: The max_iter was reached which means the coef_ did not converge\n",
      "  warnings.warn(\n",
      "C:\\Users\\sande\\anaconda3\\lib\\site-packages\\sklearn\\linear_model\\_logistic.py:1476: UserWarning: l1_ratio parameter is only used when penalty is 'elasticnet'. Got (penalty=none)\n",
      "  warnings.warn(\n"
     ]
    },
    {
     "name": "stdout",
     "output_type": "stream",
     "text": [
      "[CV] END .........C=1, l1_ratio=0, penalty=none, solver=saga; total time=   0.8s\n"
     ]
    },
    {
     "name": "stderr",
     "output_type": "stream",
     "text": [
      "C:\\Users\\sande\\anaconda3\\lib\\site-packages\\sklearn\\linear_model\\_sag.py:352: ConvergenceWarning: The max_iter was reached which means the coef_ did not converge\n",
      "  warnings.warn(\n",
      "C:\\Users\\sande\\anaconda3\\lib\\site-packages\\sklearn\\linear_model\\_logistic.py:1476: UserWarning: l1_ratio parameter is only used when penalty is 'elasticnet'. Got (penalty=none)\n",
      "  warnings.warn(\n"
     ]
    },
    {
     "name": "stdout",
     "output_type": "stream",
     "text": [
      "[CV] END .........C=1, l1_ratio=0, penalty=none, solver=saga; total time=   0.8s\n"
     ]
    },
    {
     "name": "stderr",
     "output_type": "stream",
     "text": [
      "C:\\Users\\sande\\anaconda3\\lib\\site-packages\\sklearn\\linear_model\\_sag.py:352: ConvergenceWarning: The max_iter was reached which means the coef_ did not converge\n",
      "  warnings.warn(\n",
      "C:\\Users\\sande\\anaconda3\\lib\\site-packages\\sklearn\\linear_model\\_logistic.py:1476: UserWarning: l1_ratio parameter is only used when penalty is 'elasticnet'. Got (penalty=none)\n",
      "  warnings.warn(\n"
     ]
    },
    {
     "name": "stdout",
     "output_type": "stream",
     "text": [
      "[CV] END .........C=1, l1_ratio=0, penalty=none, solver=saga; total time=   0.8s\n"
     ]
    },
    {
     "name": "stderr",
     "output_type": "stream",
     "text": [
      "C:\\Users\\sande\\anaconda3\\lib\\site-packages\\sklearn\\linear_model\\_sag.py:352: ConvergenceWarning: The max_iter was reached which means the coef_ did not converge\n",
      "  warnings.warn(\n",
      "C:\\Users\\sande\\anaconda3\\lib\\site-packages\\sklearn\\linear_model\\_logistic.py:1476: UserWarning: l1_ratio parameter is only used when penalty is 'elasticnet'. Got (penalty=none)\n",
      "  warnings.warn(\n"
     ]
    },
    {
     "name": "stdout",
     "output_type": "stream",
     "text": [
      "[CV] END .........C=1, l1_ratio=0, penalty=none, solver=saga; total time=   0.8s\n",
      "[CV] END .........C=1, l1_ratio=0, penalty=none, solver=saga; total time=   0.7s\n",
      "[CV] END ...C=1, l1_ratio=0.75, penalty=l1, solver=newton-cg; total time=   0.0s\n",
      "[CV] END ...C=1, l1_ratio=0.75, penalty=l1, solver=newton-cg; total time=   0.0s\n",
      "[CV] END ...C=1, l1_ratio=0.75, penalty=l1, solver=newton-cg; total time=   0.0s\n",
      "[CV] END ...C=1, l1_ratio=0.75, penalty=l1, solver=newton-cg; total time=   0.0s\n",
      "[CV] END ...C=1, l1_ratio=0.75, penalty=l1, solver=newton-cg; total time=   0.0s\n",
      "[CV] END .......C=1, l1_ratio=0.75, penalty=l1, solver=lbfgs; total time=   0.0s\n",
      "[CV] END .......C=1, l1_ratio=0.75, penalty=l1, solver=lbfgs; total time=   0.0s\n",
      "[CV] END .......C=1, l1_ratio=0.75, penalty=l1, solver=lbfgs; total time=   0.0s\n",
      "[CV] END .......C=1, l1_ratio=0.75, penalty=l1, solver=lbfgs; total time=   0.0s\n",
      "[CV] END .......C=1, l1_ratio=0.75, penalty=l1, solver=lbfgs; total time=   0.0s\n",
      "[CV] END ...C=1, l1_ratio=0.75, penalty=l1, solver=liblinear; total time=   0.0s\n",
      "[CV] END ...C=1, l1_ratio=0.75, penalty=l1, solver=liblinear; total time=   0.0s\n",
      "[CV] END ...C=1, l1_ratio=0.75, penalty=l1, solver=liblinear; total time=   0.0s\n",
      "[CV] END ...C=1, l1_ratio=0.75, penalty=l1, solver=liblinear; total time=   0.0s\n",
      "[CV] END ...C=1, l1_ratio=0.75, penalty=l1, solver=liblinear; total time=   0.0s\n"
     ]
    },
    {
     "name": "stderr",
     "output_type": "stream",
     "text": [
      "C:\\Users\\sande\\anaconda3\\lib\\site-packages\\sklearn\\linear_model\\_logistic.py:1476: UserWarning: l1_ratio parameter is only used when penalty is 'elasticnet'. Got (penalty=l1)\n",
      "  warnings.warn(\n",
      "C:\\Users\\sande\\anaconda3\\lib\\site-packages\\sklearn\\linear_model\\_logistic.py:1476: UserWarning: l1_ratio parameter is only used when penalty is 'elasticnet'. Got (penalty=l1)\n",
      "  warnings.warn(\n",
      "C:\\Users\\sande\\anaconda3\\lib\\site-packages\\sklearn\\linear_model\\_logistic.py:1476: UserWarning: l1_ratio parameter is only used when penalty is 'elasticnet'. Got (penalty=l1)\n",
      "  warnings.warn(\n",
      "C:\\Users\\sande\\anaconda3\\lib\\site-packages\\sklearn\\linear_model\\_logistic.py:1476: UserWarning: l1_ratio parameter is only used when penalty is 'elasticnet'. Got (penalty=l1)\n",
      "  warnings.warn(\n",
      "C:\\Users\\sande\\anaconda3\\lib\\site-packages\\sklearn\\linear_model\\_logistic.py:1476: UserWarning: l1_ratio parameter is only used when penalty is 'elasticnet'. Got (penalty=l1)\n",
      "  warnings.warn(\n"
     ]
    },
    {
     "name": "stdout",
     "output_type": "stream",
     "text": [
      "[CV] END .........C=1, l1_ratio=0.75, penalty=l1, solver=sag; total time=   0.0s\n",
      "[CV] END .........C=1, l1_ratio=0.75, penalty=l1, solver=sag; total time=   0.0s\n",
      "[CV] END .........C=1, l1_ratio=0.75, penalty=l1, solver=sag; total time=   0.0s\n",
      "[CV] END .........C=1, l1_ratio=0.75, penalty=l1, solver=sag; total time=   0.0s\n",
      "[CV] END .........C=1, l1_ratio=0.75, penalty=l1, solver=sag; total time=   0.0s\n"
     ]
    },
    {
     "name": "stderr",
     "output_type": "stream",
     "text": [
      "C:\\Users\\sande\\anaconda3\\lib\\site-packages\\sklearn\\linear_model\\_logistic.py:1476: UserWarning: l1_ratio parameter is only used when penalty is 'elasticnet'. Got (penalty=l1)\n",
      "  warnings.warn(\n"
     ]
    },
    {
     "name": "stdout",
     "output_type": "stream",
     "text": [
      "[CV] END ........C=1, l1_ratio=0.75, penalty=l1, solver=saga; total time=   0.4s\n"
     ]
    },
    {
     "name": "stderr",
     "output_type": "stream",
     "text": [
      "C:\\Users\\sande\\anaconda3\\lib\\site-packages\\sklearn\\linear_model\\_logistic.py:1476: UserWarning: l1_ratio parameter is only used when penalty is 'elasticnet'. Got (penalty=l1)\n",
      "  warnings.warn(\n"
     ]
    },
    {
     "name": "stdout",
     "output_type": "stream",
     "text": [
      "[CV] END ........C=1, l1_ratio=0.75, penalty=l1, solver=saga; total time=   0.3s\n"
     ]
    },
    {
     "name": "stderr",
     "output_type": "stream",
     "text": [
      "C:\\Users\\sande\\anaconda3\\lib\\site-packages\\sklearn\\linear_model\\_logistic.py:1476: UserWarning: l1_ratio parameter is only used when penalty is 'elasticnet'. Got (penalty=l1)\n",
      "  warnings.warn(\n"
     ]
    },
    {
     "name": "stdout",
     "output_type": "stream",
     "text": [
      "[CV] END ........C=1, l1_ratio=0.75, penalty=l1, solver=saga; total time=   0.4s\n"
     ]
    },
    {
     "name": "stderr",
     "output_type": "stream",
     "text": [
      "C:\\Users\\sande\\anaconda3\\lib\\site-packages\\sklearn\\linear_model\\_logistic.py:1476: UserWarning: l1_ratio parameter is only used when penalty is 'elasticnet'. Got (penalty=l1)\n",
      "  warnings.warn(\n"
     ]
    },
    {
     "name": "stdout",
     "output_type": "stream",
     "text": [
      "[CV] END ........C=1, l1_ratio=0.75, penalty=l1, solver=saga; total time=   0.3s\n",
      "[CV] END ........C=1, l1_ratio=0.75, penalty=l1, solver=saga; total time=   0.1s\n",
      "[CV] END ...C=1, l1_ratio=0.75, penalty=l2, solver=newton-cg; total time=   0.0s\n",
      "[CV] END ...C=1, l1_ratio=0.75, penalty=l2, solver=newton-cg; total time=   0.0s\n"
     ]
    },
    {
     "name": "stderr",
     "output_type": "stream",
     "text": [
      "C:\\Users\\sande\\anaconda3\\lib\\site-packages\\sklearn\\linear_model\\_logistic.py:1476: UserWarning: l1_ratio parameter is only used when penalty is 'elasticnet'. Got (penalty=l1)\n",
      "  warnings.warn(\n",
      "C:\\Users\\sande\\anaconda3\\lib\\site-packages\\sklearn\\linear_model\\_logistic.py:1476: UserWarning: l1_ratio parameter is only used when penalty is 'elasticnet'. Got (penalty=l2)\n",
      "  warnings.warn(\n",
      "C:\\Users\\sande\\anaconda3\\lib\\site-packages\\sklearn\\linear_model\\_logistic.py:1476: UserWarning: l1_ratio parameter is only used when penalty is 'elasticnet'. Got (penalty=l2)\n",
      "  warnings.warn(\n",
      "C:\\Users\\sande\\anaconda3\\lib\\site-packages\\sklearn\\linear_model\\_logistic.py:1476: UserWarning: l1_ratio parameter is only used when penalty is 'elasticnet'. Got (penalty=l2)\n",
      "  warnings.warn(\n",
      "C:\\Users\\sande\\anaconda3\\lib\\site-packages\\sklearn\\linear_model\\_logistic.py:1476: UserWarning: l1_ratio parameter is only used when penalty is 'elasticnet'. Got (penalty=l2)\n",
      "  warnings.warn(\n",
      "C:\\Users\\sande\\anaconda3\\lib\\site-packages\\sklearn\\linear_model\\_logistic.py:1476: UserWarning: l1_ratio parameter is only used when penalty is 'elasticnet'. Got (penalty=l2)\n",
      "  warnings.warn(\n",
      "C:\\Users\\sande\\anaconda3\\lib\\site-packages\\sklearn\\linear_model\\_logistic.py:1476: UserWarning: l1_ratio parameter is only used when penalty is 'elasticnet'. Got (penalty=l2)\n",
      "  warnings.warn(\n",
      "C:\\Users\\sande\\anaconda3\\lib\\site-packages\\sklearn\\linear_model\\_logistic.py:1476: UserWarning: l1_ratio parameter is only used when penalty is 'elasticnet'. Got (penalty=l2)\n",
      "  warnings.warn(\n",
      "C:\\Users\\sande\\anaconda3\\lib\\site-packages\\sklearn\\linear_model\\_logistic.py:1476: UserWarning: l1_ratio parameter is only used when penalty is 'elasticnet'. Got (penalty=l2)\n",
      "  warnings.warn(\n",
      "C:\\Users\\sande\\anaconda3\\lib\\site-packages\\sklearn\\linear_model\\_logistic.py:1476: UserWarning: l1_ratio parameter is only used when penalty is 'elasticnet'. Got (penalty=l2)\n",
      "  warnings.warn(\n"
     ]
    },
    {
     "name": "stdout",
     "output_type": "stream",
     "text": [
      "[CV] END ...C=1, l1_ratio=0.75, penalty=l2, solver=newton-cg; total time=   0.0s\n",
      "[CV] END ...C=1, l1_ratio=0.75, penalty=l2, solver=newton-cg; total time=   0.0s\n",
      "[CV] END ...C=1, l1_ratio=0.75, penalty=l2, solver=newton-cg; total time=   0.0s\n",
      "[CV] END .......C=1, l1_ratio=0.75, penalty=l2, solver=lbfgs; total time=   0.0s\n",
      "[CV] END .......C=1, l1_ratio=0.75, penalty=l2, solver=lbfgs; total time=   0.0s\n",
      "[CV] END .......C=1, l1_ratio=0.75, penalty=l2, solver=lbfgs; total time=   0.0s\n",
      "[CV] END .......C=1, l1_ratio=0.75, penalty=l2, solver=lbfgs; total time=   0.0s\n",
      "[CV] END .......C=1, l1_ratio=0.75, penalty=l2, solver=lbfgs; total time=   0.0s\n"
     ]
    },
    {
     "name": "stderr",
     "output_type": "stream",
     "text": [
      "C:\\Users\\sande\\anaconda3\\lib\\site-packages\\sklearn\\linear_model\\_logistic.py:1476: UserWarning: l1_ratio parameter is only used when penalty is 'elasticnet'. Got (penalty=l2)\n",
      "  warnings.warn(\n",
      "C:\\Users\\sande\\anaconda3\\lib\\site-packages\\sklearn\\linear_model\\_logistic.py:1476: UserWarning: l1_ratio parameter is only used when penalty is 'elasticnet'. Got (penalty=l2)\n",
      "  warnings.warn(\n",
      "C:\\Users\\sande\\anaconda3\\lib\\site-packages\\sklearn\\linear_model\\_logistic.py:1476: UserWarning: l1_ratio parameter is only used when penalty is 'elasticnet'. Got (penalty=l2)\n",
      "  warnings.warn(\n",
      "C:\\Users\\sande\\anaconda3\\lib\\site-packages\\sklearn\\linear_model\\_logistic.py:1476: UserWarning: l1_ratio parameter is only used when penalty is 'elasticnet'. Got (penalty=l2)\n",
      "  warnings.warn(\n",
      "C:\\Users\\sande\\anaconda3\\lib\\site-packages\\sklearn\\linear_model\\_logistic.py:1476: UserWarning: l1_ratio parameter is only used when penalty is 'elasticnet'. Got (penalty=l2)\n",
      "  warnings.warn(\n",
      "C:\\Users\\sande\\anaconda3\\lib\\site-packages\\sklearn\\linear_model\\_logistic.py:1476: UserWarning: l1_ratio parameter is only used when penalty is 'elasticnet'. Got (penalty=l2)\n",
      "  warnings.warn(\n",
      "C:\\Users\\sande\\anaconda3\\lib\\site-packages\\sklearn\\linear_model\\_logistic.py:1476: UserWarning: l1_ratio parameter is only used when penalty is 'elasticnet'. Got (penalty=l2)\n",
      "  warnings.warn(\n",
      "C:\\Users\\sande\\anaconda3\\lib\\site-packages\\sklearn\\linear_model\\_logistic.py:1476: UserWarning: l1_ratio parameter is only used when penalty is 'elasticnet'. Got (penalty=l2)\n",
      "  warnings.warn(\n"
     ]
    },
    {
     "name": "stdout",
     "output_type": "stream",
     "text": [
      "[CV] END ...C=1, l1_ratio=0.75, penalty=l2, solver=liblinear; total time=   0.0s\n",
      "[CV] END ...C=1, l1_ratio=0.75, penalty=l2, solver=liblinear; total time=   0.0s\n",
      "[CV] END ...C=1, l1_ratio=0.75, penalty=l2, solver=liblinear; total time=   0.0s\n",
      "[CV] END ...C=1, l1_ratio=0.75, penalty=l2, solver=liblinear; total time=   0.0s\n",
      "[CV] END ...C=1, l1_ratio=0.75, penalty=l2, solver=liblinear; total time=   0.0s\n",
      "[CV] END .........C=1, l1_ratio=0.75, penalty=l2, solver=sag; total time=   0.0s\n",
      "[CV] END .........C=1, l1_ratio=0.75, penalty=l2, solver=sag; total time=   0.0s\n",
      "[CV] END .........C=1, l1_ratio=0.75, penalty=l2, solver=sag; total time=   0.0s\n"
     ]
    },
    {
     "name": "stderr",
     "output_type": "stream",
     "text": [
      "C:\\Users\\sande\\anaconda3\\lib\\site-packages\\sklearn\\linear_model\\_logistic.py:1476: UserWarning: l1_ratio parameter is only used when penalty is 'elasticnet'. Got (penalty=l2)\n",
      "  warnings.warn(\n",
      "C:\\Users\\sande\\anaconda3\\lib\\site-packages\\sklearn\\linear_model\\_logistic.py:1476: UserWarning: l1_ratio parameter is only used when penalty is 'elasticnet'. Got (penalty=l2)\n",
      "  warnings.warn(\n",
      "C:\\Users\\sande\\anaconda3\\lib\\site-packages\\sklearn\\linear_model\\_logistic.py:1476: UserWarning: l1_ratio parameter is only used when penalty is 'elasticnet'. Got (penalty=l2)\n",
      "  warnings.warn(\n",
      "C:\\Users\\sande\\anaconda3\\lib\\site-packages\\sklearn\\linear_model\\_logistic.py:1476: UserWarning: l1_ratio parameter is only used when penalty is 'elasticnet'. Got (penalty=l2)\n",
      "  warnings.warn(\n"
     ]
    },
    {
     "name": "stdout",
     "output_type": "stream",
     "text": [
      "[CV] END .........C=1, l1_ratio=0.75, penalty=l2, solver=sag; total time=   0.0s\n",
      "[CV] END .........C=1, l1_ratio=0.75, penalty=l2, solver=sag; total time=   0.0s\n",
      "[CV] END ........C=1, l1_ratio=0.75, penalty=l2, solver=saga; total time=   0.0s\n"
     ]
    },
    {
     "name": "stderr",
     "output_type": "stream",
     "text": [
      "C:\\Users\\sande\\anaconda3\\lib\\site-packages\\sklearn\\linear_model\\_logistic.py:1476: UserWarning: l1_ratio parameter is only used when penalty is 'elasticnet'. Got (penalty=l2)\n",
      "  warnings.warn(\n",
      "C:\\Users\\sande\\anaconda3\\lib\\site-packages\\sklearn\\linear_model\\_logistic.py:1476: UserWarning: l1_ratio parameter is only used when penalty is 'elasticnet'. Got (penalty=l2)\n",
      "  warnings.warn(\n"
     ]
    },
    {
     "name": "stdout",
     "output_type": "stream",
     "text": [
      "[CV] END ........C=1, l1_ratio=0.75, penalty=l2, solver=saga; total time=   0.0s\n",
      "[CV] END ........C=1, l1_ratio=0.75, penalty=l2, solver=saga; total time=   0.0s\n",
      "[CV] END ........C=1, l1_ratio=0.75, penalty=l2, solver=saga; total time=   0.0s\n"
     ]
    },
    {
     "name": "stderr",
     "output_type": "stream",
     "text": [
      "C:\\Users\\sande\\anaconda3\\lib\\site-packages\\sklearn\\linear_model\\_logistic.py:1476: UserWarning: l1_ratio parameter is only used when penalty is 'elasticnet'. Got (penalty=l2)\n",
      "  warnings.warn(\n",
      "C:\\Users\\sande\\anaconda3\\lib\\site-packages\\sklearn\\linear_model\\_logistic.py:1476: UserWarning: l1_ratio parameter is only used when penalty is 'elasticnet'. Got (penalty=l2)\n",
      "  warnings.warn(\n"
     ]
    },
    {
     "name": "stdout",
     "output_type": "stream",
     "text": [
      "[CV] END ........C=1, l1_ratio=0.75, penalty=l2, solver=saga; total time=   0.0s\n",
      "[CV] END C=1, l1_ratio=0.75, penalty=elasticnet, solver=newton-cg; total time=   0.0s\n",
      "[CV] END C=1, l1_ratio=0.75, penalty=elasticnet, solver=newton-cg; total time=   0.0s\n",
      "[CV] END C=1, l1_ratio=0.75, penalty=elasticnet, solver=newton-cg; total time=   0.0s\n",
      "[CV] END C=1, l1_ratio=0.75, penalty=elasticnet, solver=newton-cg; total time=   0.0s\n",
      "[CV] END C=1, l1_ratio=0.75, penalty=elasticnet, solver=newton-cg; total time=   0.0s\n",
      "[CV] END C=1, l1_ratio=0.75, penalty=elasticnet, solver=lbfgs; total time=   0.0s\n",
      "[CV] END C=1, l1_ratio=0.75, penalty=elasticnet, solver=lbfgs; total time=   0.0s\n",
      "[CV] END C=1, l1_ratio=0.75, penalty=elasticnet, solver=lbfgs; total time=   0.0s\n",
      "[CV] END C=1, l1_ratio=0.75, penalty=elasticnet, solver=lbfgs; total time=   0.0s\n",
      "[CV] END C=1, l1_ratio=0.75, penalty=elasticnet, solver=lbfgs; total time=   0.0s\n",
      "[CV] END C=1, l1_ratio=0.75, penalty=elasticnet, solver=liblinear; total time=   0.0s\n",
      "[CV] END C=1, l1_ratio=0.75, penalty=elasticnet, solver=liblinear; total time=   0.0s\n",
      "[CV] END C=1, l1_ratio=0.75, penalty=elasticnet, solver=liblinear; total time=   0.0s\n",
      "[CV] END C=1, l1_ratio=0.75, penalty=elasticnet, solver=liblinear; total time=   0.0s\n",
      "[CV] END C=1, l1_ratio=0.75, penalty=elasticnet, solver=liblinear; total time=   0.0s\n",
      "[CV] END .C=1, l1_ratio=0.75, penalty=elasticnet, solver=sag; total time=   0.0s\n",
      "[CV] END .C=1, l1_ratio=0.75, penalty=elasticnet, solver=sag; total time=   0.0s\n",
      "[CV] END .C=1, l1_ratio=0.75, penalty=elasticnet, solver=sag; total time=   0.0s\n",
      "[CV] END .C=1, l1_ratio=0.75, penalty=elasticnet, solver=sag; total time=   0.0s\n",
      "[CV] END .C=1, l1_ratio=0.75, penalty=elasticnet, solver=sag; total time=   0.0s\n",
      "[CV] END C=1, l1_ratio=0.75, penalty=elasticnet, solver=saga; total time=   0.2s\n",
      "[CV] END C=1, l1_ratio=0.75, penalty=elasticnet, solver=saga; total time=   0.2s\n",
      "[CV] END C=1, l1_ratio=0.75, penalty=elasticnet, solver=saga; total time=   0.2s\n",
      "[CV] END C=1, l1_ratio=0.75, penalty=elasticnet, solver=saga; total time=   0.2s\n",
      "[CV] END C=1, l1_ratio=0.75, penalty=elasticnet, solver=saga; total time=   0.1s\n"
     ]
    },
    {
     "name": "stderr",
     "output_type": "stream",
     "text": [
      "C:\\Users\\sande\\anaconda3\\lib\\site-packages\\sklearn\\linear_model\\_logistic.py:1476: UserWarning: l1_ratio parameter is only used when penalty is 'elasticnet'. Got (penalty=none)\n",
      "  warnings.warn(\n",
      "C:\\Users\\sande\\anaconda3\\lib\\site-packages\\sklearn\\linear_model\\_logistic.py:1476: UserWarning: l1_ratio parameter is only used when penalty is 'elasticnet'. Got (penalty=none)\n",
      "  warnings.warn(\n"
     ]
    },
    {
     "name": "stdout",
     "output_type": "stream",
     "text": [
      "[CV] END .C=1, l1_ratio=0.75, penalty=none, solver=newton-cg; total time=   0.0s\n",
      "[CV] END .C=1, l1_ratio=0.75, penalty=none, solver=newton-cg; total time=   0.0s\n",
      "[CV] END .C=1, l1_ratio=0.75, penalty=none, solver=newton-cg; total time=   0.0s\n"
     ]
    },
    {
     "name": "stderr",
     "output_type": "stream",
     "text": [
      "C:\\Users\\sande\\anaconda3\\lib\\site-packages\\sklearn\\linear_model\\_logistic.py:1476: UserWarning: l1_ratio parameter is only used when penalty is 'elasticnet'. Got (penalty=none)\n",
      "  warnings.warn(\n",
      "C:\\Users\\sande\\anaconda3\\lib\\site-packages\\sklearn\\linear_model\\_logistic.py:1476: UserWarning: l1_ratio parameter is only used when penalty is 'elasticnet'. Got (penalty=none)\n",
      "  warnings.warn(\n",
      "C:\\Users\\sande\\anaconda3\\lib\\site-packages\\sklearn\\linear_model\\_logistic.py:1476: UserWarning: l1_ratio parameter is only used when penalty is 'elasticnet'. Got (penalty=none)\n",
      "  warnings.warn(\n"
     ]
    },
    {
     "name": "stdout",
     "output_type": "stream",
     "text": [
      "[CV] END .C=1, l1_ratio=0.75, penalty=none, solver=newton-cg; total time=   0.0s\n",
      "[CV] END .C=1, l1_ratio=0.75, penalty=none, solver=newton-cg; total time=   0.0s\n",
      "[CV] END .....C=1, l1_ratio=0.75, penalty=none, solver=lbfgs; total time=   0.0s\n",
      "[CV] END .....C=1, l1_ratio=0.75, penalty=none, solver=lbfgs; total time=   0.0s\n"
     ]
    },
    {
     "name": "stderr",
     "output_type": "stream",
     "text": [
      "C:\\Users\\sande\\anaconda3\\lib\\site-packages\\sklearn\\linear_model\\_logistic.py:1476: UserWarning: l1_ratio parameter is only used when penalty is 'elasticnet'. Got (penalty=none)\n",
      "  warnings.warn(\n",
      "C:\\Users\\sande\\anaconda3\\lib\\site-packages\\sklearn\\linear_model\\_logistic.py:1476: UserWarning: l1_ratio parameter is only used when penalty is 'elasticnet'. Got (penalty=none)\n",
      "  warnings.warn(\n",
      "C:\\Users\\sande\\anaconda3\\lib\\site-packages\\sklearn\\linear_model\\_logistic.py:1476: UserWarning: l1_ratio parameter is only used when penalty is 'elasticnet'. Got (penalty=none)\n",
      "  warnings.warn(\n"
     ]
    },
    {
     "name": "stdout",
     "output_type": "stream",
     "text": [
      "[CV] END .....C=1, l1_ratio=0.75, penalty=none, solver=lbfgs; total time=   0.0s\n",
      "[CV] END .....C=1, l1_ratio=0.75, penalty=none, solver=lbfgs; total time=   0.0s\n",
      "[CV] END .....C=1, l1_ratio=0.75, penalty=none, solver=lbfgs; total time=   0.0s\n",
      "[CV] END .C=1, l1_ratio=0.75, penalty=none, solver=liblinear; total time=   0.0s\n",
      "[CV] END .C=1, l1_ratio=0.75, penalty=none, solver=liblinear; total time=   0.0s\n",
      "[CV] END .C=1, l1_ratio=0.75, penalty=none, solver=liblinear; total time=   0.0s\n",
      "[CV] END .C=1, l1_ratio=0.75, penalty=none, solver=liblinear; total time=   0.0s\n",
      "[CV] END .C=1, l1_ratio=0.75, penalty=none, solver=liblinear; total time=   0.0s\n"
     ]
    },
    {
     "name": "stderr",
     "output_type": "stream",
     "text": [
      "C:\\Users\\sande\\anaconda3\\lib\\site-packages\\sklearn\\linear_model\\_logistic.py:1476: UserWarning: l1_ratio parameter is only used when penalty is 'elasticnet'. Got (penalty=none)\n",
      "  warnings.warn(\n",
      "C:\\Users\\sande\\anaconda3\\lib\\site-packages\\sklearn\\linear_model\\_logistic.py:1476: UserWarning: l1_ratio parameter is only used when penalty is 'elasticnet'. Got (penalty=none)\n",
      "  warnings.warn(\n",
      "C:\\Users\\sande\\anaconda3\\lib\\site-packages\\sklearn\\linear_model\\_logistic.py:1476: UserWarning: l1_ratio parameter is only used when penalty is 'elasticnet'. Got (penalty=none)\n",
      "  warnings.warn(\n",
      "C:\\Users\\sande\\anaconda3\\lib\\site-packages\\sklearn\\linear_model\\_sag.py:352: ConvergenceWarning: The max_iter was reached which means the coef_ did not converge\n",
      "  warnings.warn(\n",
      "C:\\Users\\sande\\anaconda3\\lib\\site-packages\\sklearn\\linear_model\\_logistic.py:1476: UserWarning: l1_ratio parameter is only used when penalty is 'elasticnet'. Got (penalty=none)\n",
      "  warnings.warn(\n"
     ]
    },
    {
     "name": "stdout",
     "output_type": "stream",
     "text": [
      "[CV] END .......C=1, l1_ratio=0.75, penalty=none, solver=sag; total time=   0.8s\n"
     ]
    },
    {
     "name": "stderr",
     "output_type": "stream",
     "text": [
      "C:\\Users\\sande\\anaconda3\\lib\\site-packages\\sklearn\\linear_model\\_sag.py:352: ConvergenceWarning: The max_iter was reached which means the coef_ did not converge\n",
      "  warnings.warn(\n",
      "C:\\Users\\sande\\anaconda3\\lib\\site-packages\\sklearn\\linear_model\\_logistic.py:1476: UserWarning: l1_ratio parameter is only used when penalty is 'elasticnet'. Got (penalty=none)\n",
      "  warnings.warn(\n"
     ]
    },
    {
     "name": "stdout",
     "output_type": "stream",
     "text": [
      "[CV] END .......C=1, l1_ratio=0.75, penalty=none, solver=sag; total time=   0.7s\n"
     ]
    },
    {
     "name": "stderr",
     "output_type": "stream",
     "text": [
      "C:\\Users\\sande\\anaconda3\\lib\\site-packages\\sklearn\\linear_model\\_sag.py:352: ConvergenceWarning: The max_iter was reached which means the coef_ did not converge\n",
      "  warnings.warn(\n",
      "C:\\Users\\sande\\anaconda3\\lib\\site-packages\\sklearn\\linear_model\\_logistic.py:1476: UserWarning: l1_ratio parameter is only used when penalty is 'elasticnet'. Got (penalty=none)\n",
      "  warnings.warn(\n"
     ]
    },
    {
     "name": "stdout",
     "output_type": "stream",
     "text": [
      "[CV] END .......C=1, l1_ratio=0.75, penalty=none, solver=sag; total time=   0.7s\n"
     ]
    },
    {
     "name": "stderr",
     "output_type": "stream",
     "text": [
      "C:\\Users\\sande\\anaconda3\\lib\\site-packages\\sklearn\\linear_model\\_sag.py:352: ConvergenceWarning: The max_iter was reached which means the coef_ did not converge\n",
      "  warnings.warn(\n",
      "C:\\Users\\sande\\anaconda3\\lib\\site-packages\\sklearn\\linear_model\\_logistic.py:1476: UserWarning: l1_ratio parameter is only used when penalty is 'elasticnet'. Got (penalty=none)\n",
      "  warnings.warn(\n"
     ]
    },
    {
     "name": "stdout",
     "output_type": "stream",
     "text": [
      "[CV] END .......C=1, l1_ratio=0.75, penalty=none, solver=sag; total time=   0.7s\n",
      "[CV] END .......C=1, l1_ratio=0.75, penalty=none, solver=sag; total time=   0.4s\n"
     ]
    },
    {
     "name": "stderr",
     "output_type": "stream",
     "text": [
      "C:\\Users\\sande\\anaconda3\\lib\\site-packages\\sklearn\\linear_model\\_logistic.py:1476: UserWarning: l1_ratio parameter is only used when penalty is 'elasticnet'. Got (penalty=none)\n",
      "  warnings.warn(\n",
      "C:\\Users\\sande\\anaconda3\\lib\\site-packages\\sklearn\\linear_model\\_sag.py:352: ConvergenceWarning: The max_iter was reached which means the coef_ did not converge\n",
      "  warnings.warn(\n",
      "C:\\Users\\sande\\anaconda3\\lib\\site-packages\\sklearn\\linear_model\\_logistic.py:1476: UserWarning: l1_ratio parameter is only used when penalty is 'elasticnet'. Got (penalty=none)\n",
      "  warnings.warn(\n"
     ]
    },
    {
     "name": "stdout",
     "output_type": "stream",
     "text": [
      "[CV] END ......C=1, l1_ratio=0.75, penalty=none, solver=saga; total time=   0.8s\n"
     ]
    },
    {
     "name": "stderr",
     "output_type": "stream",
     "text": [
      "C:\\Users\\sande\\anaconda3\\lib\\site-packages\\sklearn\\linear_model\\_sag.py:352: ConvergenceWarning: The max_iter was reached which means the coef_ did not converge\n",
      "  warnings.warn(\n",
      "C:\\Users\\sande\\anaconda3\\lib\\site-packages\\sklearn\\linear_model\\_logistic.py:1476: UserWarning: l1_ratio parameter is only used when penalty is 'elasticnet'. Got (penalty=none)\n",
      "  warnings.warn(\n"
     ]
    },
    {
     "name": "stdout",
     "output_type": "stream",
     "text": [
      "[CV] END ......C=1, l1_ratio=0.75, penalty=none, solver=saga; total time=   0.8s\n"
     ]
    },
    {
     "name": "stderr",
     "output_type": "stream",
     "text": [
      "C:\\Users\\sande\\anaconda3\\lib\\site-packages\\sklearn\\linear_model\\_sag.py:352: ConvergenceWarning: The max_iter was reached which means the coef_ did not converge\n",
      "  warnings.warn(\n",
      "C:\\Users\\sande\\anaconda3\\lib\\site-packages\\sklearn\\linear_model\\_logistic.py:1476: UserWarning: l1_ratio parameter is only used when penalty is 'elasticnet'. Got (penalty=none)\n",
      "  warnings.warn(\n"
     ]
    },
    {
     "name": "stdout",
     "output_type": "stream",
     "text": [
      "[CV] END ......C=1, l1_ratio=0.75, penalty=none, solver=saga; total time=   0.8s\n"
     ]
    },
    {
     "name": "stderr",
     "output_type": "stream",
     "text": [
      "C:\\Users\\sande\\anaconda3\\lib\\site-packages\\sklearn\\linear_model\\_sag.py:352: ConvergenceWarning: The max_iter was reached which means the coef_ did not converge\n",
      "  warnings.warn(\n",
      "C:\\Users\\sande\\anaconda3\\lib\\site-packages\\sklearn\\linear_model\\_logistic.py:1476: UserWarning: l1_ratio parameter is only used when penalty is 'elasticnet'. Got (penalty=none)\n",
      "  warnings.warn(\n"
     ]
    },
    {
     "name": "stdout",
     "output_type": "stream",
     "text": [
      "[CV] END ......C=1, l1_ratio=0.75, penalty=none, solver=saga; total time=   0.8s\n",
      "[CV] END ......C=1, l1_ratio=0.75, penalty=none, solver=saga; total time=   0.7s\n",
      "[CV] END ...C=1, l1_ratio=0.95, penalty=l1, solver=newton-cg; total time=   0.0s\n",
      "[CV] END ...C=1, l1_ratio=0.95, penalty=l1, solver=newton-cg; total time=   0.0s\n",
      "[CV] END ...C=1, l1_ratio=0.95, penalty=l1, solver=newton-cg; total time=   0.0s\n",
      "[CV] END ...C=1, l1_ratio=0.95, penalty=l1, solver=newton-cg; total time=   0.0s\n",
      "[CV] END ...C=1, l1_ratio=0.95, penalty=l1, solver=newton-cg; total time=   0.0s\n",
      "[CV] END .......C=1, l1_ratio=0.95, penalty=l1, solver=lbfgs; total time=   0.0s\n",
      "[CV] END .......C=1, l1_ratio=0.95, penalty=l1, solver=lbfgs; total time=   0.0s\n",
      "[CV] END .......C=1, l1_ratio=0.95, penalty=l1, solver=lbfgs; total time=   0.0s\n",
      "[CV] END .......C=1, l1_ratio=0.95, penalty=l1, solver=lbfgs; total time=   0.0s\n",
      "[CV] END .......C=1, l1_ratio=0.95, penalty=l1, solver=lbfgs; total time=   0.0s\n",
      "[CV] END ...C=1, l1_ratio=0.95, penalty=l1, solver=liblinear; total time=   0.0s\n",
      "[CV] END ...C=1, l1_ratio=0.95, penalty=l1, solver=liblinear; total time=   0.0s\n",
      "[CV] END ...C=1, l1_ratio=0.95, penalty=l1, solver=liblinear; total time=   0.0s\n",
      "[CV] END ...C=1, l1_ratio=0.95, penalty=l1, solver=liblinear; total time=   0.0s\n",
      "[CV] END ...C=1, l1_ratio=0.95, penalty=l1, solver=liblinear; total time=   0.0s\n"
     ]
    },
    {
     "name": "stderr",
     "output_type": "stream",
     "text": [
      "C:\\Users\\sande\\anaconda3\\lib\\site-packages\\sklearn\\linear_model\\_logistic.py:1476: UserWarning: l1_ratio parameter is only used when penalty is 'elasticnet'. Got (penalty=l1)\n",
      "  warnings.warn(\n",
      "C:\\Users\\sande\\anaconda3\\lib\\site-packages\\sklearn\\linear_model\\_logistic.py:1476: UserWarning: l1_ratio parameter is only used when penalty is 'elasticnet'. Got (penalty=l1)\n",
      "  warnings.warn(\n",
      "C:\\Users\\sande\\anaconda3\\lib\\site-packages\\sklearn\\linear_model\\_logistic.py:1476: UserWarning: l1_ratio parameter is only used when penalty is 'elasticnet'. Got (penalty=l1)\n",
      "  warnings.warn(\n",
      "C:\\Users\\sande\\anaconda3\\lib\\site-packages\\sklearn\\linear_model\\_logistic.py:1476: UserWarning: l1_ratio parameter is only used when penalty is 'elasticnet'. Got (penalty=l1)\n",
      "  warnings.warn(\n",
      "C:\\Users\\sande\\anaconda3\\lib\\site-packages\\sklearn\\linear_model\\_logistic.py:1476: UserWarning: l1_ratio parameter is only used when penalty is 'elasticnet'. Got (penalty=l1)\n",
      "  warnings.warn(\n"
     ]
    },
    {
     "name": "stdout",
     "output_type": "stream",
     "text": [
      "[CV] END .........C=1, l1_ratio=0.95, penalty=l1, solver=sag; total time=   0.0s\n",
      "[CV] END .........C=1, l1_ratio=0.95, penalty=l1, solver=sag; total time=   0.0s\n",
      "[CV] END .........C=1, l1_ratio=0.95, penalty=l1, solver=sag; total time=   0.0s\n",
      "[CV] END .........C=1, l1_ratio=0.95, penalty=l1, solver=sag; total time=   0.0s\n",
      "[CV] END .........C=1, l1_ratio=0.95, penalty=l1, solver=sag; total time=   0.0s\n"
     ]
    },
    {
     "name": "stderr",
     "output_type": "stream",
     "text": [
      "C:\\Users\\sande\\anaconda3\\lib\\site-packages\\sklearn\\linear_model\\_logistic.py:1476: UserWarning: l1_ratio parameter is only used when penalty is 'elasticnet'. Got (penalty=l1)\n",
      "  warnings.warn(\n"
     ]
    },
    {
     "name": "stdout",
     "output_type": "stream",
     "text": [
      "[CV] END ........C=1, l1_ratio=0.95, penalty=l1, solver=saga; total time=   0.4s\n"
     ]
    },
    {
     "name": "stderr",
     "output_type": "stream",
     "text": [
      "C:\\Users\\sande\\anaconda3\\lib\\site-packages\\sklearn\\linear_model\\_logistic.py:1476: UserWarning: l1_ratio parameter is only used when penalty is 'elasticnet'. Got (penalty=l1)\n",
      "  warnings.warn(\n"
     ]
    },
    {
     "name": "stdout",
     "output_type": "stream",
     "text": [
      "[CV] END ........C=1, l1_ratio=0.95, penalty=l1, solver=saga; total time=   0.3s\n"
     ]
    },
    {
     "name": "stderr",
     "output_type": "stream",
     "text": [
      "C:\\Users\\sande\\anaconda3\\lib\\site-packages\\sklearn\\linear_model\\_logistic.py:1476: UserWarning: l1_ratio parameter is only used when penalty is 'elasticnet'. Got (penalty=l1)\n",
      "  warnings.warn(\n"
     ]
    },
    {
     "name": "stdout",
     "output_type": "stream",
     "text": [
      "[CV] END ........C=1, l1_ratio=0.95, penalty=l1, solver=saga; total time=   0.4s\n"
     ]
    },
    {
     "name": "stderr",
     "output_type": "stream",
     "text": [
      "C:\\Users\\sande\\anaconda3\\lib\\site-packages\\sklearn\\linear_model\\_logistic.py:1476: UserWarning: l1_ratio parameter is only used when penalty is 'elasticnet'. Got (penalty=l1)\n",
      "  warnings.warn(\n"
     ]
    },
    {
     "name": "stdout",
     "output_type": "stream",
     "text": [
      "[CV] END ........C=1, l1_ratio=0.95, penalty=l1, solver=saga; total time=   0.3s\n",
      "[CV] END ........C=1, l1_ratio=0.95, penalty=l1, solver=saga; total time=   0.0s\n",
      "[CV] END ...C=1, l1_ratio=0.95, penalty=l2, solver=newton-cg; total time=   0.0s\n"
     ]
    },
    {
     "name": "stderr",
     "output_type": "stream",
     "text": [
      "C:\\Users\\sande\\anaconda3\\lib\\site-packages\\sklearn\\linear_model\\_logistic.py:1476: UserWarning: l1_ratio parameter is only used when penalty is 'elasticnet'. Got (penalty=l1)\n",
      "  warnings.warn(\n",
      "C:\\Users\\sande\\anaconda3\\lib\\site-packages\\sklearn\\linear_model\\_logistic.py:1476: UserWarning: l1_ratio parameter is only used when penalty is 'elasticnet'. Got (penalty=l2)\n",
      "  warnings.warn(\n",
      "C:\\Users\\sande\\anaconda3\\lib\\site-packages\\sklearn\\linear_model\\_logistic.py:1476: UserWarning: l1_ratio parameter is only used when penalty is 'elasticnet'. Got (penalty=l2)\n",
      "  warnings.warn(\n",
      "C:\\Users\\sande\\anaconda3\\lib\\site-packages\\sklearn\\linear_model\\_logistic.py:1476: UserWarning: l1_ratio parameter is only used when penalty is 'elasticnet'. Got (penalty=l2)\n",
      "  warnings.warn(\n",
      "C:\\Users\\sande\\anaconda3\\lib\\site-packages\\sklearn\\linear_model\\_logistic.py:1476: UserWarning: l1_ratio parameter is only used when penalty is 'elasticnet'. Got (penalty=l2)\n",
      "  warnings.warn(\n",
      "C:\\Users\\sande\\anaconda3\\lib\\site-packages\\sklearn\\linear_model\\_logistic.py:1476: UserWarning: l1_ratio parameter is only used when penalty is 'elasticnet'. Got (penalty=l2)\n",
      "  warnings.warn(\n",
      "C:\\Users\\sande\\anaconda3\\lib\\site-packages\\sklearn\\linear_model\\_logistic.py:1476: UserWarning: l1_ratio parameter is only used when penalty is 'elasticnet'. Got (penalty=l2)\n",
      "  warnings.warn(\n",
      "C:\\Users\\sande\\anaconda3\\lib\\site-packages\\sklearn\\linear_model\\_logistic.py:1476: UserWarning: l1_ratio parameter is only used when penalty is 'elasticnet'. Got (penalty=l2)\n",
      "  warnings.warn(\n",
      "C:\\Users\\sande\\anaconda3\\lib\\site-packages\\sklearn\\linear_model\\_logistic.py:1476: UserWarning: l1_ratio parameter is only used when penalty is 'elasticnet'. Got (penalty=l2)\n",
      "  warnings.warn(\n"
     ]
    },
    {
     "name": "stdout",
     "output_type": "stream",
     "text": [
      "[CV] END ...C=1, l1_ratio=0.95, penalty=l2, solver=newton-cg; total time=   0.0s\n",
      "[CV] END ...C=1, l1_ratio=0.95, penalty=l2, solver=newton-cg; total time=   0.0s\n",
      "[CV] END ...C=1, l1_ratio=0.95, penalty=l2, solver=newton-cg; total time=   0.0s\n",
      "[CV] END ...C=1, l1_ratio=0.95, penalty=l2, solver=newton-cg; total time=   0.0s\n",
      "[CV] END .......C=1, l1_ratio=0.95, penalty=l2, solver=lbfgs; total time=   0.0s\n",
      "[CV] END .......C=1, l1_ratio=0.95, penalty=l2, solver=lbfgs; total time=   0.0s\n",
      "[CV] END .......C=1, l1_ratio=0.95, penalty=l2, solver=lbfgs; total time=   0.0s\n",
      "[CV] END .......C=1, l1_ratio=0.95, penalty=l2, solver=lbfgs; total time=   0.0s\n"
     ]
    },
    {
     "name": "stderr",
     "output_type": "stream",
     "text": [
      "C:\\Users\\sande\\anaconda3\\lib\\site-packages\\sklearn\\linear_model\\_logistic.py:1476: UserWarning: l1_ratio parameter is only used when penalty is 'elasticnet'. Got (penalty=l2)\n",
      "  warnings.warn(\n",
      "C:\\Users\\sande\\anaconda3\\lib\\site-packages\\sklearn\\linear_model\\_logistic.py:1476: UserWarning: l1_ratio parameter is only used when penalty is 'elasticnet'. Got (penalty=l2)\n",
      "  warnings.warn(\n",
      "C:\\Users\\sande\\anaconda3\\lib\\site-packages\\sklearn\\linear_model\\_logistic.py:1476: UserWarning: l1_ratio parameter is only used when penalty is 'elasticnet'. Got (penalty=l2)\n",
      "  warnings.warn(\n",
      "C:\\Users\\sande\\anaconda3\\lib\\site-packages\\sklearn\\linear_model\\_logistic.py:1476: UserWarning: l1_ratio parameter is only used when penalty is 'elasticnet'. Got (penalty=l2)\n",
      "  warnings.warn(\n",
      "C:\\Users\\sande\\anaconda3\\lib\\site-packages\\sklearn\\linear_model\\_logistic.py:1476: UserWarning: l1_ratio parameter is only used when penalty is 'elasticnet'. Got (penalty=l2)\n",
      "  warnings.warn(\n",
      "C:\\Users\\sande\\anaconda3\\lib\\site-packages\\sklearn\\linear_model\\_logistic.py:1476: UserWarning: l1_ratio parameter is only used when penalty is 'elasticnet'. Got (penalty=l2)\n",
      "  warnings.warn(\n",
      "C:\\Users\\sande\\anaconda3\\lib\\site-packages\\sklearn\\linear_model\\_logistic.py:1476: UserWarning: l1_ratio parameter is only used when penalty is 'elasticnet'. Got (penalty=l2)\n",
      "  warnings.warn(\n",
      "C:\\Users\\sande\\anaconda3\\lib\\site-packages\\sklearn\\linear_model\\_logistic.py:1476: UserWarning: l1_ratio parameter is only used when penalty is 'elasticnet'. Got (penalty=l2)\n",
      "  warnings.warn(\n",
      "C:\\Users\\sande\\anaconda3\\lib\\site-packages\\sklearn\\linear_model\\_logistic.py:1476: UserWarning: l1_ratio parameter is only used when penalty is 'elasticnet'. Got (penalty=l2)\n",
      "  warnings.warn(\n"
     ]
    },
    {
     "name": "stdout",
     "output_type": "stream",
     "text": [
      "[CV] END .......C=1, l1_ratio=0.95, penalty=l2, solver=lbfgs; total time=   0.0s\n",
      "[CV] END ...C=1, l1_ratio=0.95, penalty=l2, solver=liblinear; total time=   0.0s\n",
      "[CV] END ...C=1, l1_ratio=0.95, penalty=l2, solver=liblinear; total time=   0.0s\n",
      "[CV] END ...C=1, l1_ratio=0.95, penalty=l2, solver=liblinear; total time=   0.0s\n",
      "[CV] END ...C=1, l1_ratio=0.95, penalty=l2, solver=liblinear; total time=   0.0s\n",
      "[CV] END ...C=1, l1_ratio=0.95, penalty=l2, solver=liblinear; total time=   0.0s\n",
      "[CV] END .........C=1, l1_ratio=0.95, penalty=l2, solver=sag; total time=   0.0s\n",
      "[CV] END .........C=1, l1_ratio=0.95, penalty=l2, solver=sag; total time=   0.0s\n"
     ]
    },
    {
     "name": "stderr",
     "output_type": "stream",
     "text": [
      "C:\\Users\\sande\\anaconda3\\lib\\site-packages\\sklearn\\linear_model\\_logistic.py:1476: UserWarning: l1_ratio parameter is only used when penalty is 'elasticnet'. Got (penalty=l2)\n",
      "  warnings.warn(\n",
      "C:\\Users\\sande\\anaconda3\\lib\\site-packages\\sklearn\\linear_model\\_logistic.py:1476: UserWarning: l1_ratio parameter is only used when penalty is 'elasticnet'. Got (penalty=l2)\n",
      "  warnings.warn(\n",
      "C:\\Users\\sande\\anaconda3\\lib\\site-packages\\sklearn\\linear_model\\_logistic.py:1476: UserWarning: l1_ratio parameter is only used when penalty is 'elasticnet'. Got (penalty=l2)\n",
      "  warnings.warn(\n"
     ]
    },
    {
     "name": "stdout",
     "output_type": "stream",
     "text": [
      "[CV] END .........C=1, l1_ratio=0.95, penalty=l2, solver=sag; total time=   0.0s\n",
      "[CV] END .........C=1, l1_ratio=0.95, penalty=l2, solver=sag; total time=   0.0s\n",
      "[CV] END .........C=1, l1_ratio=0.95, penalty=l2, solver=sag; total time=   0.0s\n",
      "[CV] END ........C=1, l1_ratio=0.95, penalty=l2, solver=saga; total time=   0.0s\n"
     ]
    },
    {
     "name": "stderr",
     "output_type": "stream",
     "text": [
      "C:\\Users\\sande\\anaconda3\\lib\\site-packages\\sklearn\\linear_model\\_logistic.py:1476: UserWarning: l1_ratio parameter is only used when penalty is 'elasticnet'. Got (penalty=l2)\n",
      "  warnings.warn(\n",
      "C:\\Users\\sande\\anaconda3\\lib\\site-packages\\sklearn\\linear_model\\_logistic.py:1476: UserWarning: l1_ratio parameter is only used when penalty is 'elasticnet'. Got (penalty=l2)\n",
      "  warnings.warn(\n"
     ]
    },
    {
     "name": "stdout",
     "output_type": "stream",
     "text": [
      "[CV] END ........C=1, l1_ratio=0.95, penalty=l2, solver=saga; total time=   0.0s\n",
      "[CV] END ........C=1, l1_ratio=0.95, penalty=l2, solver=saga; total time=   0.0s\n",
      "[CV] END ........C=1, l1_ratio=0.95, penalty=l2, solver=saga; total time=   0.0s\n"
     ]
    },
    {
     "name": "stderr",
     "output_type": "stream",
     "text": [
      "C:\\Users\\sande\\anaconda3\\lib\\site-packages\\sklearn\\linear_model\\_logistic.py:1476: UserWarning: l1_ratio parameter is only used when penalty is 'elasticnet'. Got (penalty=l2)\n",
      "  warnings.warn(\n",
      "C:\\Users\\sande\\anaconda3\\lib\\site-packages\\sklearn\\linear_model\\_logistic.py:1476: UserWarning: l1_ratio parameter is only used when penalty is 'elasticnet'. Got (penalty=l2)\n",
      "  warnings.warn(\n",
      "C:\\Users\\sande\\anaconda3\\lib\\site-packages\\sklearn\\linear_model\\_logistic.py:1476: UserWarning: l1_ratio parameter is only used when penalty is 'elasticnet'. Got (penalty=l2)\n",
      "  warnings.warn(\n"
     ]
    },
    {
     "name": "stdout",
     "output_type": "stream",
     "text": [
      "[CV] END ........C=1, l1_ratio=0.95, penalty=l2, solver=saga; total time=   0.0s\n",
      "[CV] END C=1, l1_ratio=0.95, penalty=elasticnet, solver=newton-cg; total time=   0.0s\n",
      "[CV] END C=1, l1_ratio=0.95, penalty=elasticnet, solver=newton-cg; total time=   0.0s\n",
      "[CV] END C=1, l1_ratio=0.95, penalty=elasticnet, solver=newton-cg; total time=   0.0s\n",
      "[CV] END C=1, l1_ratio=0.95, penalty=elasticnet, solver=newton-cg; total time=   0.0s\n",
      "[CV] END C=1, l1_ratio=0.95, penalty=elasticnet, solver=newton-cg; total time=   0.0s\n",
      "[CV] END C=1, l1_ratio=0.95, penalty=elasticnet, solver=lbfgs; total time=   0.0s\n",
      "[CV] END C=1, l1_ratio=0.95, penalty=elasticnet, solver=lbfgs; total time=   0.0s\n",
      "[CV] END C=1, l1_ratio=0.95, penalty=elasticnet, solver=lbfgs; total time=   0.0s\n",
      "[CV] END C=1, l1_ratio=0.95, penalty=elasticnet, solver=lbfgs; total time=   0.0s\n",
      "[CV] END C=1, l1_ratio=0.95, penalty=elasticnet, solver=lbfgs; total time=   0.0s\n",
      "[CV] END C=1, l1_ratio=0.95, penalty=elasticnet, solver=liblinear; total time=   0.0s\n",
      "[CV] END C=1, l1_ratio=0.95, penalty=elasticnet, solver=liblinear; total time=   0.0s\n",
      "[CV] END C=1, l1_ratio=0.95, penalty=elasticnet, solver=liblinear; total time=   0.0s\n",
      "[CV] END C=1, l1_ratio=0.95, penalty=elasticnet, solver=liblinear; total time=   0.0s\n",
      "[CV] END C=1, l1_ratio=0.95, penalty=elasticnet, solver=liblinear; total time=   0.0s\n",
      "[CV] END .C=1, l1_ratio=0.95, penalty=elasticnet, solver=sag; total time=   0.0s\n",
      "[CV] END .C=1, l1_ratio=0.95, penalty=elasticnet, solver=sag; total time=   0.0s\n",
      "[CV] END .C=1, l1_ratio=0.95, penalty=elasticnet, solver=sag; total time=   0.0s\n",
      "[CV] END .C=1, l1_ratio=0.95, penalty=elasticnet, solver=sag; total time=   0.0s\n",
      "[CV] END .C=1, l1_ratio=0.95, penalty=elasticnet, solver=sag; total time=   0.0s\n",
      "[CV] END C=1, l1_ratio=0.95, penalty=elasticnet, solver=saga; total time=   0.6s\n",
      "[CV] END C=1, l1_ratio=0.95, penalty=elasticnet, solver=saga; total time=   0.4s\n",
      "[CV] END C=1, l1_ratio=0.95, penalty=elasticnet, solver=saga; total time=   0.5s\n",
      "[CV] END C=1, l1_ratio=0.95, penalty=elasticnet, solver=saga; total time=   0.5s\n",
      "[CV] END C=1, l1_ratio=0.95, penalty=elasticnet, solver=saga; total time=   0.1s\n"
     ]
    },
    {
     "name": "stderr",
     "output_type": "stream",
     "text": [
      "C:\\Users\\sande\\anaconda3\\lib\\site-packages\\sklearn\\linear_model\\_logistic.py:1476: UserWarning: l1_ratio parameter is only used when penalty is 'elasticnet'. Got (penalty=none)\n",
      "  warnings.warn(\n",
      "C:\\Users\\sande\\anaconda3\\lib\\site-packages\\sklearn\\linear_model\\_logistic.py:1476: UserWarning: l1_ratio parameter is only used when penalty is 'elasticnet'. Got (penalty=none)\n",
      "  warnings.warn(\n"
     ]
    },
    {
     "name": "stdout",
     "output_type": "stream",
     "text": [
      "[CV] END .C=1, l1_ratio=0.95, penalty=none, solver=newton-cg; total time=   0.0s\n",
      "[CV] END .C=1, l1_ratio=0.95, penalty=none, solver=newton-cg; total time=   0.0s\n",
      "[CV] END .C=1, l1_ratio=0.95, penalty=none, solver=newton-cg; total time=   0.0s\n"
     ]
    },
    {
     "name": "stderr",
     "output_type": "stream",
     "text": [
      "C:\\Users\\sande\\anaconda3\\lib\\site-packages\\sklearn\\linear_model\\_logistic.py:1476: UserWarning: l1_ratio parameter is only used when penalty is 'elasticnet'. Got (penalty=none)\n",
      "  warnings.warn(\n",
      "C:\\Users\\sande\\anaconda3\\lib\\site-packages\\sklearn\\linear_model\\_logistic.py:1476: UserWarning: l1_ratio parameter is only used when penalty is 'elasticnet'. Got (penalty=none)\n",
      "  warnings.warn(\n"
     ]
    },
    {
     "name": "stdout",
     "output_type": "stream",
     "text": [
      "[CV] END .C=1, l1_ratio=0.95, penalty=none, solver=newton-cg; total time=   0.0s\n",
      "[CV] END .C=1, l1_ratio=0.95, penalty=none, solver=newton-cg; total time=   0.0s\n",
      "[CV] END .....C=1, l1_ratio=0.95, penalty=none, solver=lbfgs; total time=   0.0s\n",
      "[CV] END .....C=1, l1_ratio=0.95, penalty=none, solver=lbfgs; total time=   0.0s\n"
     ]
    },
    {
     "name": "stderr",
     "output_type": "stream",
     "text": [
      "C:\\Users\\sande\\anaconda3\\lib\\site-packages\\sklearn\\linear_model\\_logistic.py:1476: UserWarning: l1_ratio parameter is only used when penalty is 'elasticnet'. Got (penalty=none)\n",
      "  warnings.warn(\n",
      "C:\\Users\\sande\\anaconda3\\lib\\site-packages\\sklearn\\linear_model\\_logistic.py:1476: UserWarning: l1_ratio parameter is only used when penalty is 'elasticnet'. Got (penalty=none)\n",
      "  warnings.warn(\n",
      "C:\\Users\\sande\\anaconda3\\lib\\site-packages\\sklearn\\linear_model\\_logistic.py:1476: UserWarning: l1_ratio parameter is only used when penalty is 'elasticnet'. Got (penalty=none)\n",
      "  warnings.warn(\n",
      "C:\\Users\\sande\\anaconda3\\lib\\site-packages\\sklearn\\linear_model\\_logistic.py:1476: UserWarning: l1_ratio parameter is only used when penalty is 'elasticnet'. Got (penalty=none)\n",
      "  warnings.warn(\n"
     ]
    },
    {
     "name": "stdout",
     "output_type": "stream",
     "text": [
      "[CV] END .....C=1, l1_ratio=0.95, penalty=none, solver=lbfgs; total time=   0.0s\n",
      "[CV] END .....C=1, l1_ratio=0.95, penalty=none, solver=lbfgs; total time=   0.0s\n",
      "[CV] END .....C=1, l1_ratio=0.95, penalty=none, solver=lbfgs; total time=   0.0s\n",
      "[CV] END .C=1, l1_ratio=0.95, penalty=none, solver=liblinear; total time=   0.0s\n",
      "[CV] END .C=1, l1_ratio=0.95, penalty=none, solver=liblinear; total time=   0.0s\n",
      "[CV] END .C=1, l1_ratio=0.95, penalty=none, solver=liblinear; total time=   0.0s\n",
      "[CV] END .C=1, l1_ratio=0.95, penalty=none, solver=liblinear; total time=   0.0s\n",
      "[CV] END .C=1, l1_ratio=0.95, penalty=none, solver=liblinear; total time=   0.0s\n"
     ]
    },
    {
     "name": "stderr",
     "output_type": "stream",
     "text": [
      "C:\\Users\\sande\\anaconda3\\lib\\site-packages\\sklearn\\linear_model\\_logistic.py:1476: UserWarning: l1_ratio parameter is only used when penalty is 'elasticnet'. Got (penalty=none)\n",
      "  warnings.warn(\n",
      "C:\\Users\\sande\\anaconda3\\lib\\site-packages\\sklearn\\linear_model\\_logistic.py:1476: UserWarning: l1_ratio parameter is only used when penalty is 'elasticnet'. Got (penalty=none)\n",
      "  warnings.warn(\n",
      "C:\\Users\\sande\\anaconda3\\lib\\site-packages\\sklearn\\linear_model\\_logistic.py:1476: UserWarning: l1_ratio parameter is only used when penalty is 'elasticnet'. Got (penalty=none)\n",
      "  warnings.warn(\n",
      "C:\\Users\\sande\\anaconda3\\lib\\site-packages\\sklearn\\linear_model\\_sag.py:352: ConvergenceWarning: The max_iter was reached which means the coef_ did not converge\n",
      "  warnings.warn(\n",
      "C:\\Users\\sande\\anaconda3\\lib\\site-packages\\sklearn\\linear_model\\_logistic.py:1476: UserWarning: l1_ratio parameter is only used when penalty is 'elasticnet'. Got (penalty=none)\n",
      "  warnings.warn(\n"
     ]
    },
    {
     "name": "stdout",
     "output_type": "stream",
     "text": [
      "[CV] END .......C=1, l1_ratio=0.95, penalty=none, solver=sag; total time=   0.7s\n"
     ]
    },
    {
     "name": "stderr",
     "output_type": "stream",
     "text": [
      "C:\\Users\\sande\\anaconda3\\lib\\site-packages\\sklearn\\linear_model\\_sag.py:352: ConvergenceWarning: The max_iter was reached which means the coef_ did not converge\n",
      "  warnings.warn(\n",
      "C:\\Users\\sande\\anaconda3\\lib\\site-packages\\sklearn\\linear_model\\_logistic.py:1476: UserWarning: l1_ratio parameter is only used when penalty is 'elasticnet'. Got (penalty=none)\n",
      "  warnings.warn(\n"
     ]
    },
    {
     "name": "stdout",
     "output_type": "stream",
     "text": [
      "[CV] END .......C=1, l1_ratio=0.95, penalty=none, solver=sag; total time=   0.7s\n"
     ]
    },
    {
     "name": "stderr",
     "output_type": "stream",
     "text": [
      "C:\\Users\\sande\\anaconda3\\lib\\site-packages\\sklearn\\linear_model\\_sag.py:352: ConvergenceWarning: The max_iter was reached which means the coef_ did not converge\n",
      "  warnings.warn(\n",
      "C:\\Users\\sande\\anaconda3\\lib\\site-packages\\sklearn\\linear_model\\_logistic.py:1476: UserWarning: l1_ratio parameter is only used when penalty is 'elasticnet'. Got (penalty=none)\n",
      "  warnings.warn(\n"
     ]
    },
    {
     "name": "stdout",
     "output_type": "stream",
     "text": [
      "[CV] END .......C=1, l1_ratio=0.95, penalty=none, solver=sag; total time=   0.7s\n"
     ]
    },
    {
     "name": "stderr",
     "output_type": "stream",
     "text": [
      "C:\\Users\\sande\\anaconda3\\lib\\site-packages\\sklearn\\linear_model\\_sag.py:352: ConvergenceWarning: The max_iter was reached which means the coef_ did not converge\n",
      "  warnings.warn(\n",
      "C:\\Users\\sande\\anaconda3\\lib\\site-packages\\sklearn\\linear_model\\_logistic.py:1476: UserWarning: l1_ratio parameter is only used when penalty is 'elasticnet'. Got (penalty=none)\n",
      "  warnings.warn(\n"
     ]
    },
    {
     "name": "stdout",
     "output_type": "stream",
     "text": [
      "[CV] END .......C=1, l1_ratio=0.95, penalty=none, solver=sag; total time=   0.7s\n",
      "[CV] END .......C=1, l1_ratio=0.95, penalty=none, solver=sag; total time=   0.4s\n"
     ]
    },
    {
     "name": "stderr",
     "output_type": "stream",
     "text": [
      "C:\\Users\\sande\\anaconda3\\lib\\site-packages\\sklearn\\linear_model\\_logistic.py:1476: UserWarning: l1_ratio parameter is only used when penalty is 'elasticnet'. Got (penalty=none)\n",
      "  warnings.warn(\n",
      "C:\\Users\\sande\\anaconda3\\lib\\site-packages\\sklearn\\linear_model\\_sag.py:352: ConvergenceWarning: The max_iter was reached which means the coef_ did not converge\n",
      "  warnings.warn(\n",
      "C:\\Users\\sande\\anaconda3\\lib\\site-packages\\sklearn\\linear_model\\_logistic.py:1476: UserWarning: l1_ratio parameter is only used when penalty is 'elasticnet'. Got (penalty=none)\n",
      "  warnings.warn(\n"
     ]
    },
    {
     "name": "stdout",
     "output_type": "stream",
     "text": [
      "[CV] END ......C=1, l1_ratio=0.95, penalty=none, solver=saga; total time=   0.8s\n"
     ]
    },
    {
     "name": "stderr",
     "output_type": "stream",
     "text": [
      "C:\\Users\\sande\\anaconda3\\lib\\site-packages\\sklearn\\linear_model\\_sag.py:352: ConvergenceWarning: The max_iter was reached which means the coef_ did not converge\n",
      "  warnings.warn(\n",
      "C:\\Users\\sande\\anaconda3\\lib\\site-packages\\sklearn\\linear_model\\_logistic.py:1476: UserWarning: l1_ratio parameter is only used when penalty is 'elasticnet'. Got (penalty=none)\n",
      "  warnings.warn(\n"
     ]
    },
    {
     "name": "stdout",
     "output_type": "stream",
     "text": [
      "[CV] END ......C=1, l1_ratio=0.95, penalty=none, solver=saga; total time=   0.8s\n"
     ]
    },
    {
     "name": "stderr",
     "output_type": "stream",
     "text": [
      "C:\\Users\\sande\\anaconda3\\lib\\site-packages\\sklearn\\linear_model\\_sag.py:352: ConvergenceWarning: The max_iter was reached which means the coef_ did not converge\n",
      "  warnings.warn(\n",
      "C:\\Users\\sande\\anaconda3\\lib\\site-packages\\sklearn\\linear_model\\_logistic.py:1476: UserWarning: l1_ratio parameter is only used when penalty is 'elasticnet'. Got (penalty=none)\n",
      "  warnings.warn(\n"
     ]
    },
    {
     "name": "stdout",
     "output_type": "stream",
     "text": [
      "[CV] END ......C=1, l1_ratio=0.95, penalty=none, solver=saga; total time=   0.8s\n"
     ]
    },
    {
     "name": "stderr",
     "output_type": "stream",
     "text": [
      "C:\\Users\\sande\\anaconda3\\lib\\site-packages\\sklearn\\linear_model\\_sag.py:352: ConvergenceWarning: The max_iter was reached which means the coef_ did not converge\n",
      "  warnings.warn(\n",
      "C:\\Users\\sande\\anaconda3\\lib\\site-packages\\sklearn\\linear_model\\_logistic.py:1476: UserWarning: l1_ratio parameter is only used when penalty is 'elasticnet'. Got (penalty=none)\n",
      "  warnings.warn(\n"
     ]
    },
    {
     "name": "stdout",
     "output_type": "stream",
     "text": [
      "[CV] END ......C=1, l1_ratio=0.95, penalty=none, solver=saga; total time=   0.8s\n",
      "[CV] END ......C=1, l1_ratio=0.95, penalty=none, solver=saga; total time=   0.7s\n",
      "[CV] END ......C=1, l1_ratio=1, penalty=l1, solver=newton-cg; total time=   0.0s\n",
      "[CV] END ......C=1, l1_ratio=1, penalty=l1, solver=newton-cg; total time=   0.0s\n",
      "[CV] END ......C=1, l1_ratio=1, penalty=l1, solver=newton-cg; total time=   0.0s\n",
      "[CV] END ......C=1, l1_ratio=1, penalty=l1, solver=newton-cg; total time=   0.0s\n",
      "[CV] END ......C=1, l1_ratio=1, penalty=l1, solver=newton-cg; total time=   0.0s\n",
      "[CV] END ..........C=1, l1_ratio=1, penalty=l1, solver=lbfgs; total time=   0.0s\n",
      "[CV] END ..........C=1, l1_ratio=1, penalty=l1, solver=lbfgs; total time=   0.0s\n",
      "[CV] END ..........C=1, l1_ratio=1, penalty=l1, solver=lbfgs; total time=   0.0s\n",
      "[CV] END ..........C=1, l1_ratio=1, penalty=l1, solver=lbfgs; total time=   0.0s\n",
      "[CV] END ..........C=1, l1_ratio=1, penalty=l1, solver=lbfgs; total time=   0.0s\n",
      "[CV] END ......C=1, l1_ratio=1, penalty=l1, solver=liblinear; total time=   0.0s\n",
      "[CV] END ......C=1, l1_ratio=1, penalty=l1, solver=liblinear; total time=   0.0s\n",
      "[CV] END ......C=1, l1_ratio=1, penalty=l1, solver=liblinear; total time=   0.0s\n",
      "[CV] END ......C=1, l1_ratio=1, penalty=l1, solver=liblinear; total time=   0.0s\n",
      "[CV] END ......C=1, l1_ratio=1, penalty=l1, solver=liblinear; total time=   0.0s\n",
      "[CV] END ............C=1, l1_ratio=1, penalty=l1, solver=sag; total time=   0.0s\n",
      "[CV] END ............C=1, l1_ratio=1, penalty=l1, solver=sag; total time=   0.0s\n",
      "[CV] END ............C=1, l1_ratio=1, penalty=l1, solver=sag; total time=   0.0s\n",
      "[CV] END ............C=1, l1_ratio=1, penalty=l1, solver=sag; total time=   0.0s\n",
      "[CV] END ............C=1, l1_ratio=1, penalty=l1, solver=sag; total time=   0.0s\n"
     ]
    },
    {
     "name": "stderr",
     "output_type": "stream",
     "text": [
      "C:\\Users\\sande\\anaconda3\\lib\\site-packages\\sklearn\\linear_model\\_logistic.py:1476: UserWarning: l1_ratio parameter is only used when penalty is 'elasticnet'. Got (penalty=l1)\n",
      "  warnings.warn(\n",
      "C:\\Users\\sande\\anaconda3\\lib\\site-packages\\sklearn\\linear_model\\_logistic.py:1476: UserWarning: l1_ratio parameter is only used when penalty is 'elasticnet'. Got (penalty=l1)\n",
      "  warnings.warn(\n",
      "C:\\Users\\sande\\anaconda3\\lib\\site-packages\\sklearn\\linear_model\\_logistic.py:1476: UserWarning: l1_ratio parameter is only used when penalty is 'elasticnet'. Got (penalty=l1)\n",
      "  warnings.warn(\n",
      "C:\\Users\\sande\\anaconda3\\lib\\site-packages\\sklearn\\linear_model\\_logistic.py:1476: UserWarning: l1_ratio parameter is only used when penalty is 'elasticnet'. Got (penalty=l1)\n",
      "  warnings.warn(\n",
      "C:\\Users\\sande\\anaconda3\\lib\\site-packages\\sklearn\\linear_model\\_logistic.py:1476: UserWarning: l1_ratio parameter is only used when penalty is 'elasticnet'. Got (penalty=l1)\n",
      "  warnings.warn(\n",
      "C:\\Users\\sande\\anaconda3\\lib\\site-packages\\sklearn\\linear_model\\_logistic.py:1476: UserWarning: l1_ratio parameter is only used when penalty is 'elasticnet'. Got (penalty=l1)\n",
      "  warnings.warn(\n"
     ]
    },
    {
     "name": "stdout",
     "output_type": "stream",
     "text": [
      "[CV] END ...........C=1, l1_ratio=1, penalty=l1, solver=saga; total time=   0.4s\n"
     ]
    },
    {
     "name": "stderr",
     "output_type": "stream",
     "text": [
      "C:\\Users\\sande\\anaconda3\\lib\\site-packages\\sklearn\\linear_model\\_logistic.py:1476: UserWarning: l1_ratio parameter is only used when penalty is 'elasticnet'. Got (penalty=l1)\n",
      "  warnings.warn(\n"
     ]
    },
    {
     "name": "stdout",
     "output_type": "stream",
     "text": [
      "[CV] END ...........C=1, l1_ratio=1, penalty=l1, solver=saga; total time=   0.3s\n"
     ]
    },
    {
     "name": "stderr",
     "output_type": "stream",
     "text": [
      "C:\\Users\\sande\\anaconda3\\lib\\site-packages\\sklearn\\linear_model\\_logistic.py:1476: UserWarning: l1_ratio parameter is only used when penalty is 'elasticnet'. Got (penalty=l1)\n",
      "  warnings.warn(\n"
     ]
    },
    {
     "name": "stdout",
     "output_type": "stream",
     "text": [
      "[CV] END ...........C=1, l1_ratio=1, penalty=l1, solver=saga; total time=   0.4s\n"
     ]
    },
    {
     "name": "stderr",
     "output_type": "stream",
     "text": [
      "C:\\Users\\sande\\anaconda3\\lib\\site-packages\\sklearn\\linear_model\\_logistic.py:1476: UserWarning: l1_ratio parameter is only used when penalty is 'elasticnet'. Got (penalty=l1)\n",
      "  warnings.warn(\n"
     ]
    },
    {
     "name": "stdout",
     "output_type": "stream",
     "text": [
      "[CV] END ...........C=1, l1_ratio=1, penalty=l1, solver=saga; total time=   0.3s\n",
      "[CV] END ...........C=1, l1_ratio=1, penalty=l1, solver=saga; total time=   0.0s\n",
      "[CV] END ......C=1, l1_ratio=1, penalty=l2, solver=newton-cg; total time=   0.0s\n",
      "[CV] END ......C=1, l1_ratio=1, penalty=l2, solver=newton-cg; total time=   0.0s\n"
     ]
    },
    {
     "name": "stderr",
     "output_type": "stream",
     "text": [
      "C:\\Users\\sande\\anaconda3\\lib\\site-packages\\sklearn\\linear_model\\_logistic.py:1476: UserWarning: l1_ratio parameter is only used when penalty is 'elasticnet'. Got (penalty=l1)\n",
      "  warnings.warn(\n",
      "C:\\Users\\sande\\anaconda3\\lib\\site-packages\\sklearn\\linear_model\\_logistic.py:1476: UserWarning: l1_ratio parameter is only used when penalty is 'elasticnet'. Got (penalty=l2)\n",
      "  warnings.warn(\n",
      "C:\\Users\\sande\\anaconda3\\lib\\site-packages\\sklearn\\linear_model\\_logistic.py:1476: UserWarning: l1_ratio parameter is only used when penalty is 'elasticnet'. Got (penalty=l2)\n",
      "  warnings.warn(\n",
      "C:\\Users\\sande\\anaconda3\\lib\\site-packages\\sklearn\\linear_model\\_logistic.py:1476: UserWarning: l1_ratio parameter is only used when penalty is 'elasticnet'. Got (penalty=l2)\n",
      "  warnings.warn(\n",
      "C:\\Users\\sande\\anaconda3\\lib\\site-packages\\sklearn\\linear_model\\_logistic.py:1476: UserWarning: l1_ratio parameter is only used when penalty is 'elasticnet'. Got (penalty=l2)\n",
      "  warnings.warn(\n",
      "C:\\Users\\sande\\anaconda3\\lib\\site-packages\\sklearn\\linear_model\\_logistic.py:1476: UserWarning: l1_ratio parameter is only used when penalty is 'elasticnet'. Got (penalty=l2)\n",
      "  warnings.warn(\n",
      "C:\\Users\\sande\\anaconda3\\lib\\site-packages\\sklearn\\linear_model\\_logistic.py:1476: UserWarning: l1_ratio parameter is only used when penalty is 'elasticnet'. Got (penalty=l2)\n",
      "  warnings.warn(\n",
      "C:\\Users\\sande\\anaconda3\\lib\\site-packages\\sklearn\\linear_model\\_logistic.py:1476: UserWarning: l1_ratio parameter is only used when penalty is 'elasticnet'. Got (penalty=l2)\n",
      "  warnings.warn(\n",
      "C:\\Users\\sande\\anaconda3\\lib\\site-packages\\sklearn\\linear_model\\_logistic.py:1476: UserWarning: l1_ratio parameter is only used when penalty is 'elasticnet'. Got (penalty=l2)\n",
      "  warnings.warn(\n",
      "C:\\Users\\sande\\anaconda3\\lib\\site-packages\\sklearn\\linear_model\\_logistic.py:1476: UserWarning: l1_ratio parameter is only used when penalty is 'elasticnet'. Got (penalty=l2)\n",
      "  warnings.warn(\n"
     ]
    },
    {
     "name": "stdout",
     "output_type": "stream",
     "text": [
      "[CV] END ......C=1, l1_ratio=1, penalty=l2, solver=newton-cg; total time=   0.0s\n",
      "[CV] END ......C=1, l1_ratio=1, penalty=l2, solver=newton-cg; total time=   0.0s\n",
      "[CV] END ......C=1, l1_ratio=1, penalty=l2, solver=newton-cg; total time=   0.0s\n",
      "[CV] END ..........C=1, l1_ratio=1, penalty=l2, solver=lbfgs; total time=   0.0s\n",
      "[CV] END ..........C=1, l1_ratio=1, penalty=l2, solver=lbfgs; total time=   0.0s\n",
      "[CV] END ..........C=1, l1_ratio=1, penalty=l2, solver=lbfgs; total time=   0.0s\n",
      "[CV] END ..........C=1, l1_ratio=1, penalty=l2, solver=lbfgs; total time=   0.0s\n",
      "[CV] END ..........C=1, l1_ratio=1, penalty=l2, solver=lbfgs; total time=   0.0s\n"
     ]
    },
    {
     "name": "stderr",
     "output_type": "stream",
     "text": [
      "C:\\Users\\sande\\anaconda3\\lib\\site-packages\\sklearn\\linear_model\\_logistic.py:1476: UserWarning: l1_ratio parameter is only used when penalty is 'elasticnet'. Got (penalty=l2)\n",
      "  warnings.warn(\n",
      "C:\\Users\\sande\\anaconda3\\lib\\site-packages\\sklearn\\linear_model\\_logistic.py:1476: UserWarning: l1_ratio parameter is only used when penalty is 'elasticnet'. Got (penalty=l2)\n",
      "  warnings.warn(\n",
      "C:\\Users\\sande\\anaconda3\\lib\\site-packages\\sklearn\\linear_model\\_logistic.py:1476: UserWarning: l1_ratio parameter is only used when penalty is 'elasticnet'. Got (penalty=l2)\n",
      "  warnings.warn(\n",
      "C:\\Users\\sande\\anaconda3\\lib\\site-packages\\sklearn\\linear_model\\_logistic.py:1476: UserWarning: l1_ratio parameter is only used when penalty is 'elasticnet'. Got (penalty=l2)\n",
      "  warnings.warn(\n",
      "C:\\Users\\sande\\anaconda3\\lib\\site-packages\\sklearn\\linear_model\\_logistic.py:1476: UserWarning: l1_ratio parameter is only used when penalty is 'elasticnet'. Got (penalty=l2)\n",
      "  warnings.warn(\n",
      "C:\\Users\\sande\\anaconda3\\lib\\site-packages\\sklearn\\linear_model\\_logistic.py:1476: UserWarning: l1_ratio parameter is only used when penalty is 'elasticnet'. Got (penalty=l2)\n",
      "  warnings.warn(\n",
      "C:\\Users\\sande\\anaconda3\\lib\\site-packages\\sklearn\\linear_model\\_logistic.py:1476: UserWarning: l1_ratio parameter is only used when penalty is 'elasticnet'. Got (penalty=l2)\n",
      "  warnings.warn(\n",
      "C:\\Users\\sande\\anaconda3\\lib\\site-packages\\sklearn\\linear_model\\_logistic.py:1476: UserWarning: l1_ratio parameter is only used when penalty is 'elasticnet'. Got (penalty=l2)\n",
      "  warnings.warn(\n"
     ]
    },
    {
     "name": "stdout",
     "output_type": "stream",
     "text": [
      "[CV] END ......C=1, l1_ratio=1, penalty=l2, solver=liblinear; total time=   0.0s\n",
      "[CV] END ......C=1, l1_ratio=1, penalty=l2, solver=liblinear; total time=   0.0s\n",
      "[CV] END ......C=1, l1_ratio=1, penalty=l2, solver=liblinear; total time=   0.0s\n",
      "[CV] END ......C=1, l1_ratio=1, penalty=l2, solver=liblinear; total time=   0.0s\n",
      "[CV] END ......C=1, l1_ratio=1, penalty=l2, solver=liblinear; total time=   0.0s\n",
      "[CV] END ............C=1, l1_ratio=1, penalty=l2, solver=sag; total time=   0.0s\n",
      "[CV] END ............C=1, l1_ratio=1, penalty=l2, solver=sag; total time=   0.0s\n"
     ]
    },
    {
     "name": "stderr",
     "output_type": "stream",
     "text": [
      "C:\\Users\\sande\\anaconda3\\lib\\site-packages\\sklearn\\linear_model\\_logistic.py:1476: UserWarning: l1_ratio parameter is only used when penalty is 'elasticnet'. Got (penalty=l2)\n",
      "  warnings.warn(\n",
      "C:\\Users\\sande\\anaconda3\\lib\\site-packages\\sklearn\\linear_model\\_logistic.py:1476: UserWarning: l1_ratio parameter is only used when penalty is 'elasticnet'. Got (penalty=l2)\n",
      "  warnings.warn(\n",
      "C:\\Users\\sande\\anaconda3\\lib\\site-packages\\sklearn\\linear_model\\_logistic.py:1476: UserWarning: l1_ratio parameter is only used when penalty is 'elasticnet'. Got (penalty=l2)\n",
      "  warnings.warn(\n",
      "C:\\Users\\sande\\anaconda3\\lib\\site-packages\\sklearn\\linear_model\\_logistic.py:1476: UserWarning: l1_ratio parameter is only used when penalty is 'elasticnet'. Got (penalty=l2)\n",
      "  warnings.warn(\n"
     ]
    },
    {
     "name": "stdout",
     "output_type": "stream",
     "text": [
      "[CV] END ............C=1, l1_ratio=1, penalty=l2, solver=sag; total time=   0.0s\n",
      "[CV] END ............C=1, l1_ratio=1, penalty=l2, solver=sag; total time=   0.0s\n",
      "[CV] END ............C=1, l1_ratio=1, penalty=l2, solver=sag; total time=   0.0s\n",
      "[CV] END ...........C=1, l1_ratio=1, penalty=l2, solver=saga; total time=   0.0s\n"
     ]
    },
    {
     "name": "stderr",
     "output_type": "stream",
     "text": [
      "C:\\Users\\sande\\anaconda3\\lib\\site-packages\\sklearn\\linear_model\\_logistic.py:1476: UserWarning: l1_ratio parameter is only used when penalty is 'elasticnet'. Got (penalty=l2)\n",
      "  warnings.warn(\n",
      "C:\\Users\\sande\\anaconda3\\lib\\site-packages\\sklearn\\linear_model\\_logistic.py:1476: UserWarning: l1_ratio parameter is only used when penalty is 'elasticnet'. Got (penalty=l2)\n",
      "  warnings.warn(\n"
     ]
    },
    {
     "name": "stdout",
     "output_type": "stream",
     "text": [
      "[CV] END ...........C=1, l1_ratio=1, penalty=l2, solver=saga; total time=   0.0s\n",
      "[CV] END ...........C=1, l1_ratio=1, penalty=l2, solver=saga; total time=   0.0s\n",
      "[CV] END ...........C=1, l1_ratio=1, penalty=l2, solver=saga; total time=   0.0s\n"
     ]
    },
    {
     "name": "stderr",
     "output_type": "stream",
     "text": [
      "C:\\Users\\sande\\anaconda3\\lib\\site-packages\\sklearn\\linear_model\\_logistic.py:1476: UserWarning: l1_ratio parameter is only used when penalty is 'elasticnet'. Got (penalty=l2)\n",
      "  warnings.warn(\n",
      "C:\\Users\\sande\\anaconda3\\lib\\site-packages\\sklearn\\linear_model\\_logistic.py:1476: UserWarning: l1_ratio parameter is only used when penalty is 'elasticnet'. Got (penalty=l2)\n",
      "  warnings.warn(\n"
     ]
    },
    {
     "name": "stdout",
     "output_type": "stream",
     "text": [
      "[CV] END ...........C=1, l1_ratio=1, penalty=l2, solver=saga; total time=   0.0s\n",
      "[CV] END C=1, l1_ratio=1, penalty=elasticnet, solver=newton-cg; total time=   0.0s\n",
      "[CV] END C=1, l1_ratio=1, penalty=elasticnet, solver=newton-cg; total time=   0.0s\n",
      "[CV] END C=1, l1_ratio=1, penalty=elasticnet, solver=newton-cg; total time=   0.0s\n",
      "[CV] END C=1, l1_ratio=1, penalty=elasticnet, solver=newton-cg; total time=   0.0s\n",
      "[CV] END C=1, l1_ratio=1, penalty=elasticnet, solver=newton-cg; total time=   0.0s\n",
      "[CV] END ..C=1, l1_ratio=1, penalty=elasticnet, solver=lbfgs; total time=   0.0s\n",
      "[CV] END ..C=1, l1_ratio=1, penalty=elasticnet, solver=lbfgs; total time=   0.0s\n",
      "[CV] END ..C=1, l1_ratio=1, penalty=elasticnet, solver=lbfgs; total time=   0.0s\n",
      "[CV] END ..C=1, l1_ratio=1, penalty=elasticnet, solver=lbfgs; total time=   0.0s\n",
      "[CV] END ..C=1, l1_ratio=1, penalty=elasticnet, solver=lbfgs; total time=   0.0s\n",
      "[CV] END C=1, l1_ratio=1, penalty=elasticnet, solver=liblinear; total time=   0.0s\n",
      "[CV] END C=1, l1_ratio=1, penalty=elasticnet, solver=liblinear; total time=   0.0s\n",
      "[CV] END C=1, l1_ratio=1, penalty=elasticnet, solver=liblinear; total time=   0.0s\n",
      "[CV] END C=1, l1_ratio=1, penalty=elasticnet, solver=liblinear; total time=   0.0s\n",
      "[CV] END C=1, l1_ratio=1, penalty=elasticnet, solver=liblinear; total time=   0.0s\n",
      "[CV] END ....C=1, l1_ratio=1, penalty=elasticnet, solver=sag; total time=   0.0s\n",
      "[CV] END ....C=1, l1_ratio=1, penalty=elasticnet, solver=sag; total time=   0.0s\n",
      "[CV] END ....C=1, l1_ratio=1, penalty=elasticnet, solver=sag; total time=   0.0s\n",
      "[CV] END ....C=1, l1_ratio=1, penalty=elasticnet, solver=sag; total time=   0.0s\n",
      "[CV] END ....C=1, l1_ratio=1, penalty=elasticnet, solver=sag; total time=   0.0s\n",
      "[CV] END ...C=1, l1_ratio=1, penalty=elasticnet, solver=saga; total time=   0.4s\n",
      "[CV] END ...C=1, l1_ratio=1, penalty=elasticnet, solver=saga; total time=   0.3s\n",
      "[CV] END ...C=1, l1_ratio=1, penalty=elasticnet, solver=saga; total time=   0.4s\n",
      "[CV] END ...C=1, l1_ratio=1, penalty=elasticnet, solver=saga; total time=   0.3s\n",
      "[CV] END ...C=1, l1_ratio=1, penalty=elasticnet, solver=saga; total time=   0.0s\n"
     ]
    },
    {
     "name": "stderr",
     "output_type": "stream",
     "text": [
      "C:\\Users\\sande\\anaconda3\\lib\\site-packages\\sklearn\\linear_model\\_logistic.py:1476: UserWarning: l1_ratio parameter is only used when penalty is 'elasticnet'. Got (penalty=none)\n",
      "  warnings.warn(\n",
      "C:\\Users\\sande\\anaconda3\\lib\\site-packages\\sklearn\\linear_model\\_logistic.py:1476: UserWarning: l1_ratio parameter is only used when penalty is 'elasticnet'. Got (penalty=none)\n",
      "  warnings.warn(\n",
      "C:\\Users\\sande\\anaconda3\\lib\\site-packages\\sklearn\\linear_model\\_logistic.py:1476: UserWarning: l1_ratio parameter is only used when penalty is 'elasticnet'. Got (penalty=none)\n",
      "  warnings.warn(\n"
     ]
    },
    {
     "name": "stdout",
     "output_type": "stream",
     "text": [
      "[CV] END ....C=1, l1_ratio=1, penalty=none, solver=newton-cg; total time=   0.0s\n",
      "[CV] END ....C=1, l1_ratio=1, penalty=none, solver=newton-cg; total time=   0.0s\n",
      "[CV] END ....C=1, l1_ratio=1, penalty=none, solver=newton-cg; total time=   0.0s\n"
     ]
    },
    {
     "name": "stderr",
     "output_type": "stream",
     "text": [
      "C:\\Users\\sande\\anaconda3\\lib\\site-packages\\sklearn\\linear_model\\_logistic.py:1476: UserWarning: l1_ratio parameter is only used when penalty is 'elasticnet'. Got (penalty=none)\n",
      "  warnings.warn(\n",
      "C:\\Users\\sande\\anaconda3\\lib\\site-packages\\sklearn\\linear_model\\_logistic.py:1476: UserWarning: l1_ratio parameter is only used when penalty is 'elasticnet'. Got (penalty=none)\n",
      "  warnings.warn(\n",
      "C:\\Users\\sande\\anaconda3\\lib\\site-packages\\sklearn\\linear_model\\_logistic.py:1476: UserWarning: l1_ratio parameter is only used when penalty is 'elasticnet'. Got (penalty=none)\n",
      "  warnings.warn(\n"
     ]
    },
    {
     "name": "stdout",
     "output_type": "stream",
     "text": [
      "[CV] END ....C=1, l1_ratio=1, penalty=none, solver=newton-cg; total time=   0.0s\n",
      "[CV] END ....C=1, l1_ratio=1, penalty=none, solver=newton-cg; total time=   0.0s\n",
      "[CV] END ........C=1, l1_ratio=1, penalty=none, solver=lbfgs; total time=   0.0s\n",
      "[CV] END ........C=1, l1_ratio=1, penalty=none, solver=lbfgs; total time=   0.0s\n"
     ]
    },
    {
     "name": "stderr",
     "output_type": "stream",
     "text": [
      "C:\\Users\\sande\\anaconda3\\lib\\site-packages\\sklearn\\linear_model\\_logistic.py:1476: UserWarning: l1_ratio parameter is only used when penalty is 'elasticnet'. Got (penalty=none)\n",
      "  warnings.warn(\n",
      "C:\\Users\\sande\\anaconda3\\lib\\site-packages\\sklearn\\linear_model\\_logistic.py:1476: UserWarning: l1_ratio parameter is only used when penalty is 'elasticnet'. Got (penalty=none)\n",
      "  warnings.warn(\n",
      "C:\\Users\\sande\\anaconda3\\lib\\site-packages\\sklearn\\linear_model\\_logistic.py:1476: UserWarning: l1_ratio parameter is only used when penalty is 'elasticnet'. Got (penalty=none)\n",
      "  warnings.warn(\n"
     ]
    },
    {
     "name": "stdout",
     "output_type": "stream",
     "text": [
      "[CV] END ........C=1, l1_ratio=1, penalty=none, solver=lbfgs; total time=   0.0s\n",
      "[CV] END ........C=1, l1_ratio=1, penalty=none, solver=lbfgs; total time=   0.0s\n",
      "[CV] END ........C=1, l1_ratio=1, penalty=none, solver=lbfgs; total time=   0.0s\n",
      "[CV] END ....C=1, l1_ratio=1, penalty=none, solver=liblinear; total time=   0.0s\n",
      "[CV] END ....C=1, l1_ratio=1, penalty=none, solver=liblinear; total time=   0.0s\n",
      "[CV] END ....C=1, l1_ratio=1, penalty=none, solver=liblinear; total time=   0.0s\n",
      "[CV] END ....C=1, l1_ratio=1, penalty=none, solver=liblinear; total time=   0.0s\n",
      "[CV] END ....C=1, l1_ratio=1, penalty=none, solver=liblinear; total time=   0.0s\n"
     ]
    },
    {
     "name": "stderr",
     "output_type": "stream",
     "text": [
      "C:\\Users\\sande\\anaconda3\\lib\\site-packages\\sklearn\\linear_model\\_logistic.py:1476: UserWarning: l1_ratio parameter is only used when penalty is 'elasticnet'. Got (penalty=none)\n",
      "  warnings.warn(\n",
      "C:\\Users\\sande\\anaconda3\\lib\\site-packages\\sklearn\\linear_model\\_logistic.py:1476: UserWarning: l1_ratio parameter is only used when penalty is 'elasticnet'. Got (penalty=none)\n",
      "  warnings.warn(\n",
      "C:\\Users\\sande\\anaconda3\\lib\\site-packages\\sklearn\\linear_model\\_sag.py:352: ConvergenceWarning: The max_iter was reached which means the coef_ did not converge\n",
      "  warnings.warn(\n",
      "C:\\Users\\sande\\anaconda3\\lib\\site-packages\\sklearn\\linear_model\\_logistic.py:1476: UserWarning: l1_ratio parameter is only used when penalty is 'elasticnet'. Got (penalty=none)\n",
      "  warnings.warn(\n"
     ]
    },
    {
     "name": "stdout",
     "output_type": "stream",
     "text": [
      "[CV] END ..........C=1, l1_ratio=1, penalty=none, solver=sag; total time=   0.7s\n"
     ]
    },
    {
     "name": "stderr",
     "output_type": "stream",
     "text": [
      "C:\\Users\\sande\\anaconda3\\lib\\site-packages\\sklearn\\linear_model\\_sag.py:352: ConvergenceWarning: The max_iter was reached which means the coef_ did not converge\n",
      "  warnings.warn(\n",
      "C:\\Users\\sande\\anaconda3\\lib\\site-packages\\sklearn\\linear_model\\_logistic.py:1476: UserWarning: l1_ratio parameter is only used when penalty is 'elasticnet'. Got (penalty=none)\n",
      "  warnings.warn(\n"
     ]
    },
    {
     "name": "stdout",
     "output_type": "stream",
     "text": [
      "[CV] END ..........C=1, l1_ratio=1, penalty=none, solver=sag; total time=   0.7s\n"
     ]
    },
    {
     "name": "stderr",
     "output_type": "stream",
     "text": [
      "C:\\Users\\sande\\anaconda3\\lib\\site-packages\\sklearn\\linear_model\\_sag.py:352: ConvergenceWarning: The max_iter was reached which means the coef_ did not converge\n",
      "  warnings.warn(\n",
      "C:\\Users\\sande\\anaconda3\\lib\\site-packages\\sklearn\\linear_model\\_logistic.py:1476: UserWarning: l1_ratio parameter is only used when penalty is 'elasticnet'. Got (penalty=none)\n",
      "  warnings.warn(\n"
     ]
    },
    {
     "name": "stdout",
     "output_type": "stream",
     "text": [
      "[CV] END ..........C=1, l1_ratio=1, penalty=none, solver=sag; total time=   0.7s\n"
     ]
    },
    {
     "name": "stderr",
     "output_type": "stream",
     "text": [
      "C:\\Users\\sande\\anaconda3\\lib\\site-packages\\sklearn\\linear_model\\_sag.py:352: ConvergenceWarning: The max_iter was reached which means the coef_ did not converge\n",
      "  warnings.warn(\n",
      "C:\\Users\\sande\\anaconda3\\lib\\site-packages\\sklearn\\linear_model\\_logistic.py:1476: UserWarning: l1_ratio parameter is only used when penalty is 'elasticnet'. Got (penalty=none)\n",
      "  warnings.warn(\n"
     ]
    },
    {
     "name": "stdout",
     "output_type": "stream",
     "text": [
      "[CV] END ..........C=1, l1_ratio=1, penalty=none, solver=sag; total time=   0.7s\n",
      "[CV] END ..........C=1, l1_ratio=1, penalty=none, solver=sag; total time=   0.4s\n"
     ]
    },
    {
     "name": "stderr",
     "output_type": "stream",
     "text": [
      "C:\\Users\\sande\\anaconda3\\lib\\site-packages\\sklearn\\linear_model\\_logistic.py:1476: UserWarning: l1_ratio parameter is only used when penalty is 'elasticnet'. Got (penalty=none)\n",
      "  warnings.warn(\n",
      "C:\\Users\\sande\\anaconda3\\lib\\site-packages\\sklearn\\linear_model\\_sag.py:352: ConvergenceWarning: The max_iter was reached which means the coef_ did not converge\n",
      "  warnings.warn(\n",
      "C:\\Users\\sande\\anaconda3\\lib\\site-packages\\sklearn\\linear_model\\_logistic.py:1476: UserWarning: l1_ratio parameter is only used when penalty is 'elasticnet'. Got (penalty=none)\n",
      "  warnings.warn(\n"
     ]
    },
    {
     "name": "stdout",
     "output_type": "stream",
     "text": [
      "[CV] END .........C=1, l1_ratio=1, penalty=none, solver=saga; total time=   0.8s\n"
     ]
    },
    {
     "name": "stderr",
     "output_type": "stream",
     "text": [
      "C:\\Users\\sande\\anaconda3\\lib\\site-packages\\sklearn\\linear_model\\_sag.py:352: ConvergenceWarning: The max_iter was reached which means the coef_ did not converge\n",
      "  warnings.warn(\n",
      "C:\\Users\\sande\\anaconda3\\lib\\site-packages\\sklearn\\linear_model\\_logistic.py:1476: UserWarning: l1_ratio parameter is only used when penalty is 'elasticnet'. Got (penalty=none)\n",
      "  warnings.warn(\n"
     ]
    },
    {
     "name": "stdout",
     "output_type": "stream",
     "text": [
      "[CV] END .........C=1, l1_ratio=1, penalty=none, solver=saga; total time=   0.8s\n"
     ]
    },
    {
     "name": "stderr",
     "output_type": "stream",
     "text": [
      "C:\\Users\\sande\\anaconda3\\lib\\site-packages\\sklearn\\linear_model\\_sag.py:352: ConvergenceWarning: The max_iter was reached which means the coef_ did not converge\n",
      "  warnings.warn(\n",
      "C:\\Users\\sande\\anaconda3\\lib\\site-packages\\sklearn\\linear_model\\_logistic.py:1476: UserWarning: l1_ratio parameter is only used when penalty is 'elasticnet'. Got (penalty=none)\n",
      "  warnings.warn(\n"
     ]
    },
    {
     "name": "stdout",
     "output_type": "stream",
     "text": [
      "[CV] END .........C=1, l1_ratio=1, penalty=none, solver=saga; total time=   0.8s\n"
     ]
    },
    {
     "name": "stderr",
     "output_type": "stream",
     "text": [
      "C:\\Users\\sande\\anaconda3\\lib\\site-packages\\sklearn\\linear_model\\_sag.py:352: ConvergenceWarning: The max_iter was reached which means the coef_ did not converge\n",
      "  warnings.warn(\n",
      "C:\\Users\\sande\\anaconda3\\lib\\site-packages\\sklearn\\linear_model\\_logistic.py:1476: UserWarning: l1_ratio parameter is only used when penalty is 'elasticnet'. Got (penalty=none)\n",
      "  warnings.warn(\n"
     ]
    },
    {
     "name": "stdout",
     "output_type": "stream",
     "text": [
      "[CV] END .........C=1, l1_ratio=1, penalty=none, solver=saga; total time=   0.8s\n",
      "[CV] END .........C=1, l1_ratio=1, penalty=none, solver=saga; total time=   0.7s\n",
      "[CV] END ......C=5, l1_ratio=0, penalty=l1, solver=newton-cg; total time=   0.0s\n",
      "[CV] END ......C=5, l1_ratio=0, penalty=l1, solver=newton-cg; total time=   0.0s\n",
      "[CV] END ......C=5, l1_ratio=0, penalty=l1, solver=newton-cg; total time=   0.0s\n",
      "[CV] END ......C=5, l1_ratio=0, penalty=l1, solver=newton-cg; total time=   0.0s\n",
      "[CV] END ......C=5, l1_ratio=0, penalty=l1, solver=newton-cg; total time=   0.0s\n",
      "[CV] END ..........C=5, l1_ratio=0, penalty=l1, solver=lbfgs; total time=   0.0s\n",
      "[CV] END ..........C=5, l1_ratio=0, penalty=l1, solver=lbfgs; total time=   0.0s\n",
      "[CV] END ..........C=5, l1_ratio=0, penalty=l1, solver=lbfgs; total time=   0.0s\n",
      "[CV] END ..........C=5, l1_ratio=0, penalty=l1, solver=lbfgs; total time=   0.0s\n",
      "[CV] END ..........C=5, l1_ratio=0, penalty=l1, solver=lbfgs; total time=   0.0s\n",
      "[CV] END ......C=5, l1_ratio=0, penalty=l1, solver=liblinear; total time=   0.0s\n",
      "[CV] END ......C=5, l1_ratio=0, penalty=l1, solver=liblinear; total time=   0.0s\n",
      "[CV] END ......C=5, l1_ratio=0, penalty=l1, solver=liblinear; total time=   0.0s\n"
     ]
    },
    {
     "name": "stderr",
     "output_type": "stream",
     "text": [
      "C:\\Users\\sande\\anaconda3\\lib\\site-packages\\sklearn\\linear_model\\_logistic.py:1476: UserWarning: l1_ratio parameter is only used when penalty is 'elasticnet'. Got (penalty=l1)\n",
      "  warnings.warn(\n",
      "C:\\Users\\sande\\anaconda3\\lib\\site-packages\\sklearn\\linear_model\\_logistic.py:1476: UserWarning: l1_ratio parameter is only used when penalty is 'elasticnet'. Got (penalty=l1)\n",
      "  warnings.warn(\n",
      "C:\\Users\\sande\\anaconda3\\lib\\site-packages\\sklearn\\linear_model\\_logistic.py:1476: UserWarning: l1_ratio parameter is only used when penalty is 'elasticnet'. Got (penalty=l1)\n",
      "  warnings.warn(\n",
      "C:\\Users\\sande\\anaconda3\\lib\\site-packages\\sklearn\\linear_model\\_logistic.py:1476: UserWarning: l1_ratio parameter is only used when penalty is 'elasticnet'. Got (penalty=l1)\n",
      "  warnings.warn(\n"
     ]
    },
    {
     "name": "stdout",
     "output_type": "stream",
     "text": [
      "[CV] END ......C=5, l1_ratio=0, penalty=l1, solver=liblinear; total time=   0.0s\n",
      "[CV] END ......C=5, l1_ratio=0, penalty=l1, solver=liblinear; total time=   0.0s\n",
      "[CV] END ............C=5, l1_ratio=0, penalty=l1, solver=sag; total time=   0.0s\n",
      "[CV] END ............C=5, l1_ratio=0, penalty=l1, solver=sag; total time=   0.0s\n",
      "[CV] END ............C=5, l1_ratio=0, penalty=l1, solver=sag; total time=   0.0s\n",
      "[CV] END ............C=5, l1_ratio=0, penalty=l1, solver=sag; total time=   0.0s\n",
      "[CV] END ............C=5, l1_ratio=0, penalty=l1, solver=sag; total time=   0.0s\n"
     ]
    },
    {
     "name": "stderr",
     "output_type": "stream",
     "text": [
      "C:\\Users\\sande\\anaconda3\\lib\\site-packages\\sklearn\\linear_model\\_logistic.py:1476: UserWarning: l1_ratio parameter is only used when penalty is 'elasticnet'. Got (penalty=l1)\n",
      "  warnings.warn(\n",
      "C:\\Users\\sande\\anaconda3\\lib\\site-packages\\sklearn\\linear_model\\_logistic.py:1476: UserWarning: l1_ratio parameter is only used when penalty is 'elasticnet'. Got (penalty=l1)\n",
      "  warnings.warn(\n"
     ]
    },
    {
     "name": "stdout",
     "output_type": "stream",
     "text": [
      "[CV] END ...........C=5, l1_ratio=0, penalty=l1, solver=saga; total time=   0.5s\n"
     ]
    },
    {
     "name": "stderr",
     "output_type": "stream",
     "text": [
      "C:\\Users\\sande\\anaconda3\\lib\\site-packages\\sklearn\\linear_model\\_logistic.py:1476: UserWarning: l1_ratio parameter is only used when penalty is 'elasticnet'. Got (penalty=l1)\n",
      "  warnings.warn(\n"
     ]
    },
    {
     "name": "stdout",
     "output_type": "stream",
     "text": [
      "[CV] END ...........C=5, l1_ratio=0, penalty=l1, solver=saga; total time=   0.4s\n"
     ]
    },
    {
     "name": "stderr",
     "output_type": "stream",
     "text": [
      "C:\\Users\\sande\\anaconda3\\lib\\site-packages\\sklearn\\linear_model\\_logistic.py:1476: UserWarning: l1_ratio parameter is only used when penalty is 'elasticnet'. Got (penalty=l1)\n",
      "  warnings.warn(\n"
     ]
    },
    {
     "name": "stdout",
     "output_type": "stream",
     "text": [
      "[CV] END ...........C=5, l1_ratio=0, penalty=l1, solver=saga; total time=   0.5s\n"
     ]
    },
    {
     "name": "stderr",
     "output_type": "stream",
     "text": [
      "C:\\Users\\sande\\anaconda3\\lib\\site-packages\\sklearn\\linear_model\\_logistic.py:1476: UserWarning: l1_ratio parameter is only used when penalty is 'elasticnet'. Got (penalty=l1)\n",
      "  warnings.warn(\n"
     ]
    },
    {
     "name": "stdout",
     "output_type": "stream",
     "text": [
      "[CV] END ...........C=5, l1_ratio=0, penalty=l1, solver=saga; total time=   0.4s\n"
     ]
    },
    {
     "name": "stderr",
     "output_type": "stream",
     "text": [
      "C:\\Users\\sande\\anaconda3\\lib\\site-packages\\sklearn\\linear_model\\_logistic.py:1476: UserWarning: l1_ratio parameter is only used when penalty is 'elasticnet'. Got (penalty=l1)\n",
      "  warnings.warn(\n"
     ]
    },
    {
     "name": "stdout",
     "output_type": "stream",
     "text": [
      "[CV] END ...........C=5, l1_ratio=0, penalty=l1, solver=saga; total time=   0.1s\n",
      "[CV] END ......C=5, l1_ratio=0, penalty=l2, solver=newton-cg; total time=   0.0s\n",
      "[CV] END ......C=5, l1_ratio=0, penalty=l2, solver=newton-cg; total time=   0.0s\n",
      "[CV] END ......C=5, l1_ratio=0, penalty=l2, solver=newton-cg; total time=   0.0s\n",
      "[CV] END ......C=5, l1_ratio=0, penalty=l2, solver=newton-cg; total time=   0.0s\n",
      "[CV] END ......C=5, l1_ratio=0, penalty=l2, solver=newton-cg; total time=   0.0s\n",
      "[CV] END ..........C=5, l1_ratio=0, penalty=l2, solver=lbfgs; total time=   0.0s\n"
     ]
    },
    {
     "name": "stderr",
     "output_type": "stream",
     "text": [
      "C:\\Users\\sande\\anaconda3\\lib\\site-packages\\sklearn\\linear_model\\_logistic.py:1476: UserWarning: l1_ratio parameter is only used when penalty is 'elasticnet'. Got (penalty=l2)\n",
      "  warnings.warn(\n",
      "C:\\Users\\sande\\anaconda3\\lib\\site-packages\\sklearn\\linear_model\\_logistic.py:1476: UserWarning: l1_ratio parameter is only used when penalty is 'elasticnet'. Got (penalty=l2)\n",
      "  warnings.warn(\n",
      "C:\\Users\\sande\\anaconda3\\lib\\site-packages\\sklearn\\linear_model\\_logistic.py:1476: UserWarning: l1_ratio parameter is only used when penalty is 'elasticnet'. Got (penalty=l2)\n",
      "  warnings.warn(\n",
      "C:\\Users\\sande\\anaconda3\\lib\\site-packages\\sklearn\\linear_model\\_logistic.py:1476: UserWarning: l1_ratio parameter is only used when penalty is 'elasticnet'. Got (penalty=l2)\n",
      "  warnings.warn(\n",
      "C:\\Users\\sande\\anaconda3\\lib\\site-packages\\sklearn\\linear_model\\_logistic.py:1476: UserWarning: l1_ratio parameter is only used when penalty is 'elasticnet'. Got (penalty=l2)\n",
      "  warnings.warn(\n",
      "C:\\Users\\sande\\anaconda3\\lib\\site-packages\\sklearn\\linear_model\\_logistic.py:1476: UserWarning: l1_ratio parameter is only used when penalty is 'elasticnet'. Got (penalty=l2)\n",
      "  warnings.warn(\n",
      "C:\\Users\\sande\\anaconda3\\lib\\site-packages\\sklearn\\linear_model\\_logistic.py:1476: UserWarning: l1_ratio parameter is only used when penalty is 'elasticnet'. Got (penalty=l2)\n",
      "  warnings.warn(\n",
      "C:\\Users\\sande\\anaconda3\\lib\\site-packages\\sklearn\\linear_model\\_logistic.py:1476: UserWarning: l1_ratio parameter is only used when penalty is 'elasticnet'. Got (penalty=l2)\n",
      "  warnings.warn(\n",
      "C:\\Users\\sande\\anaconda3\\lib\\site-packages\\sklearn\\linear_model\\_logistic.py:1476: UserWarning: l1_ratio parameter is only used when penalty is 'elasticnet'. Got (penalty=l2)\n",
      "  warnings.warn(\n",
      "C:\\Users\\sande\\anaconda3\\lib\\site-packages\\sklearn\\linear_model\\_logistic.py:1476: UserWarning: l1_ratio parameter is only used when penalty is 'elasticnet'. Got (penalty=l2)\n",
      "  warnings.warn(\n",
      "C:\\Users\\sande\\anaconda3\\lib\\site-packages\\sklearn\\linear_model\\_logistic.py:1476: UserWarning: l1_ratio parameter is only used when penalty is 'elasticnet'. Got (penalty=l2)\n",
      "  warnings.warn(\n"
     ]
    },
    {
     "name": "stdout",
     "output_type": "stream",
     "text": [
      "[CV] END ..........C=5, l1_ratio=0, penalty=l2, solver=lbfgs; total time=   0.0s\n",
      "[CV] END ..........C=5, l1_ratio=0, penalty=l2, solver=lbfgs; total time=   0.0s\n",
      "[CV] END ..........C=5, l1_ratio=0, penalty=l2, solver=lbfgs; total time=   0.0s\n",
      "[CV] END ..........C=5, l1_ratio=0, penalty=l2, solver=lbfgs; total time=   0.0s\n",
      "[CV] END ......C=5, l1_ratio=0, penalty=l2, solver=liblinear; total time=   0.0s\n",
      "[CV] END ......C=5, l1_ratio=0, penalty=l2, solver=liblinear; total time=   0.0s\n",
      "[CV] END ......C=5, l1_ratio=0, penalty=l2, solver=liblinear; total time=   0.0s\n",
      "[CV] END ......C=5, l1_ratio=0, penalty=l2, solver=liblinear; total time=   0.0s\n",
      "[CV] END ......C=5, l1_ratio=0, penalty=l2, solver=liblinear; total time=   0.0s\n"
     ]
    },
    {
     "name": "stderr",
     "output_type": "stream",
     "text": [
      "C:\\Users\\sande\\anaconda3\\lib\\site-packages\\sklearn\\linear_model\\_logistic.py:1476: UserWarning: l1_ratio parameter is only used when penalty is 'elasticnet'. Got (penalty=l2)\n",
      "  warnings.warn(\n",
      "C:\\Users\\sande\\anaconda3\\lib\\site-packages\\sklearn\\linear_model\\_logistic.py:1476: UserWarning: l1_ratio parameter is only used when penalty is 'elasticnet'. Got (penalty=l2)\n",
      "  warnings.warn(\n",
      "C:\\Users\\sande\\anaconda3\\lib\\site-packages\\sklearn\\linear_model\\_logistic.py:1476: UserWarning: l1_ratio parameter is only used when penalty is 'elasticnet'. Got (penalty=l2)\n",
      "  warnings.warn(\n",
      "C:\\Users\\sande\\anaconda3\\lib\\site-packages\\sklearn\\linear_model\\_logistic.py:1476: UserWarning: l1_ratio parameter is only used when penalty is 'elasticnet'. Got (penalty=l2)\n",
      "  warnings.warn(\n",
      "C:\\Users\\sande\\anaconda3\\lib\\site-packages\\sklearn\\linear_model\\_logistic.py:1476: UserWarning: l1_ratio parameter is only used when penalty is 'elasticnet'. Got (penalty=l2)\n",
      "  warnings.warn(\n"
     ]
    },
    {
     "name": "stdout",
     "output_type": "stream",
     "text": [
      "[CV] END ............C=5, l1_ratio=0, penalty=l2, solver=sag; total time=   0.1s\n",
      "[CV] END ............C=5, l1_ratio=0, penalty=l2, solver=sag; total time=   0.1s\n"
     ]
    },
    {
     "name": "stderr",
     "output_type": "stream",
     "text": [
      "C:\\Users\\sande\\anaconda3\\lib\\site-packages\\sklearn\\linear_model\\_logistic.py:1476: UserWarning: l1_ratio parameter is only used when penalty is 'elasticnet'. Got (penalty=l2)\n",
      "  warnings.warn(\n",
      "C:\\Users\\sande\\anaconda3\\lib\\site-packages\\sklearn\\linear_model\\_logistic.py:1476: UserWarning: l1_ratio parameter is only used when penalty is 'elasticnet'. Got (penalty=l2)\n",
      "  warnings.warn(\n"
     ]
    },
    {
     "name": "stdout",
     "output_type": "stream",
     "text": [
      "[CV] END ............C=5, l1_ratio=0, penalty=l2, solver=sag; total time=   0.1s\n",
      "[CV] END ............C=5, l1_ratio=0, penalty=l2, solver=sag; total time=   0.1s\n"
     ]
    },
    {
     "name": "stderr",
     "output_type": "stream",
     "text": [
      "C:\\Users\\sande\\anaconda3\\lib\\site-packages\\sklearn\\linear_model\\_logistic.py:1476: UserWarning: l1_ratio parameter is only used when penalty is 'elasticnet'. Got (penalty=l2)\n",
      "  warnings.warn(\n",
      "C:\\Users\\sande\\anaconda3\\lib\\site-packages\\sklearn\\linear_model\\_logistic.py:1476: UserWarning: l1_ratio parameter is only used when penalty is 'elasticnet'. Got (penalty=l2)\n",
      "  warnings.warn(\n"
     ]
    },
    {
     "name": "stdout",
     "output_type": "stream",
     "text": [
      "[CV] END ............C=5, l1_ratio=0, penalty=l2, solver=sag; total time=   0.1s\n"
     ]
    },
    {
     "name": "stderr",
     "output_type": "stream",
     "text": [
      "C:\\Users\\sande\\anaconda3\\lib\\site-packages\\sklearn\\linear_model\\_logistic.py:1476: UserWarning: l1_ratio parameter is only used when penalty is 'elasticnet'. Got (penalty=l2)\n",
      "  warnings.warn(\n"
     ]
    },
    {
     "name": "stdout",
     "output_type": "stream",
     "text": [
      "[CV] END ...........C=5, l1_ratio=0, penalty=l2, solver=saga; total time=   0.1s\n"
     ]
    },
    {
     "name": "stderr",
     "output_type": "stream",
     "text": [
      "C:\\Users\\sande\\anaconda3\\lib\\site-packages\\sklearn\\linear_model\\_logistic.py:1476: UserWarning: l1_ratio parameter is only used when penalty is 'elasticnet'. Got (penalty=l2)\n",
      "  warnings.warn(\n"
     ]
    },
    {
     "name": "stdout",
     "output_type": "stream",
     "text": [
      "[CV] END ...........C=5, l1_ratio=0, penalty=l2, solver=saga; total time=   0.2s\n"
     ]
    },
    {
     "name": "stderr",
     "output_type": "stream",
     "text": [
      "C:\\Users\\sande\\anaconda3\\lib\\site-packages\\sklearn\\linear_model\\_logistic.py:1476: UserWarning: l1_ratio parameter is only used when penalty is 'elasticnet'. Got (penalty=l2)\n",
      "  warnings.warn(\n"
     ]
    },
    {
     "name": "stdout",
     "output_type": "stream",
     "text": [
      "[CV] END ...........C=5, l1_ratio=0, penalty=l2, solver=saga; total time=   0.2s\n"
     ]
    },
    {
     "name": "stderr",
     "output_type": "stream",
     "text": [
      "C:\\Users\\sande\\anaconda3\\lib\\site-packages\\sklearn\\linear_model\\_logistic.py:1476: UserWarning: l1_ratio parameter is only used when penalty is 'elasticnet'. Got (penalty=l2)\n",
      "  warnings.warn(\n"
     ]
    },
    {
     "name": "stdout",
     "output_type": "stream",
     "text": [
      "[CV] END ...........C=5, l1_ratio=0, penalty=l2, solver=saga; total time=   0.2s\n"
     ]
    },
    {
     "name": "stderr",
     "output_type": "stream",
     "text": [
      "C:\\Users\\sande\\anaconda3\\lib\\site-packages\\sklearn\\linear_model\\_logistic.py:1476: UserWarning: l1_ratio parameter is only used when penalty is 'elasticnet'. Got (penalty=l2)\n",
      "  warnings.warn(\n"
     ]
    },
    {
     "name": "stdout",
     "output_type": "stream",
     "text": [
      "[CV] END ...........C=5, l1_ratio=0, penalty=l2, solver=saga; total time=   0.2s\n",
      "[CV] END C=5, l1_ratio=0, penalty=elasticnet, solver=newton-cg; total time=   0.0s\n",
      "[CV] END C=5, l1_ratio=0, penalty=elasticnet, solver=newton-cg; total time=   0.0s\n",
      "[CV] END C=5, l1_ratio=0, penalty=elasticnet, solver=newton-cg; total time=   0.0s\n",
      "[CV] END C=5, l1_ratio=0, penalty=elasticnet, solver=newton-cg; total time=   0.0s\n",
      "[CV] END C=5, l1_ratio=0, penalty=elasticnet, solver=newton-cg; total time=   0.0s\n",
      "[CV] END ..C=5, l1_ratio=0, penalty=elasticnet, solver=lbfgs; total time=   0.0s\n",
      "[CV] END ..C=5, l1_ratio=0, penalty=elasticnet, solver=lbfgs; total time=   0.0s\n",
      "[CV] END ..C=5, l1_ratio=0, penalty=elasticnet, solver=lbfgs; total time=   0.0s\n",
      "[CV] END ..C=5, l1_ratio=0, penalty=elasticnet, solver=lbfgs; total time=   0.0s\n",
      "[CV] END ..C=5, l1_ratio=0, penalty=elasticnet, solver=lbfgs; total time=   0.0s\n",
      "[CV] END C=5, l1_ratio=0, penalty=elasticnet, solver=liblinear; total time=   0.0s\n",
      "[CV] END C=5, l1_ratio=0, penalty=elasticnet, solver=liblinear; total time=   0.0s\n",
      "[CV] END C=5, l1_ratio=0, penalty=elasticnet, solver=liblinear; total time=   0.0s\n",
      "[CV] END C=5, l1_ratio=0, penalty=elasticnet, solver=liblinear; total time=   0.0s\n",
      "[CV] END C=5, l1_ratio=0, penalty=elasticnet, solver=liblinear; total time=   0.0s\n",
      "[CV] END ....C=5, l1_ratio=0, penalty=elasticnet, solver=sag; total time=   0.0s\n",
      "[CV] END ....C=5, l1_ratio=0, penalty=elasticnet, solver=sag; total time=   0.0s\n",
      "[CV] END ....C=5, l1_ratio=0, penalty=elasticnet, solver=sag; total time=   0.0s\n",
      "[CV] END ....C=5, l1_ratio=0, penalty=elasticnet, solver=sag; total time=   0.0s\n",
      "[CV] END ....C=5, l1_ratio=0, penalty=elasticnet, solver=sag; total time=   0.0s\n",
      "[CV] END ...C=5, l1_ratio=0, penalty=elasticnet, solver=saga; total time=   0.1s\n",
      "[CV] END ...C=5, l1_ratio=0, penalty=elasticnet, solver=saga; total time=   0.2s\n",
      "[CV] END ...C=5, l1_ratio=0, penalty=elasticnet, solver=saga; total time=   0.2s\n",
      "[CV] END ...C=5, l1_ratio=0, penalty=elasticnet, solver=saga; total time=   0.2s\n",
      "[CV] END ...C=5, l1_ratio=0, penalty=elasticnet, solver=saga; total time=   0.2s\n",
      "[CV] END ....C=5, l1_ratio=0, penalty=none, solver=newton-cg; total time=   0.0s\n",
      "[CV] END ....C=5, l1_ratio=0, penalty=none, solver=newton-cg; total time=   0.0s\n"
     ]
    },
    {
     "name": "stderr",
     "output_type": "stream",
     "text": [
      "C:\\Users\\sande\\anaconda3\\lib\\site-packages\\sklearn\\linear_model\\_logistic.py:1476: UserWarning: l1_ratio parameter is only used when penalty is 'elasticnet'. Got (penalty=none)\n",
      "  warnings.warn(\n",
      "C:\\Users\\sande\\anaconda3\\lib\\site-packages\\sklearn\\linear_model\\_logistic.py:1483: UserWarning: Setting penalty='none' will ignore the C and l1_ratio parameters\n",
      "  warnings.warn(\n",
      "C:\\Users\\sande\\anaconda3\\lib\\site-packages\\sklearn\\linear_model\\_logistic.py:1476: UserWarning: l1_ratio parameter is only used when penalty is 'elasticnet'. Got (penalty=none)\n",
      "  warnings.warn(\n",
      "C:\\Users\\sande\\anaconda3\\lib\\site-packages\\sklearn\\linear_model\\_logistic.py:1483: UserWarning: Setting penalty='none' will ignore the C and l1_ratio parameters\n",
      "  warnings.warn(\n",
      "C:\\Users\\sande\\anaconda3\\lib\\site-packages\\sklearn\\linear_model\\_logistic.py:1476: UserWarning: l1_ratio parameter is only used when penalty is 'elasticnet'. Got (penalty=none)\n",
      "  warnings.warn(\n",
      "C:\\Users\\sande\\anaconda3\\lib\\site-packages\\sklearn\\linear_model\\_logistic.py:1483: UserWarning: Setting penalty='none' will ignore the C and l1_ratio parameters\n",
      "  warnings.warn(\n"
     ]
    },
    {
     "name": "stdout",
     "output_type": "stream",
     "text": [
      "[CV] END ....C=5, l1_ratio=0, penalty=none, solver=newton-cg; total time=   0.0s\n",
      "[CV] END ....C=5, l1_ratio=0, penalty=none, solver=newton-cg; total time=   0.0s\n",
      "[CV] END ....C=5, l1_ratio=0, penalty=none, solver=newton-cg; total time=   0.0s\n",
      "[CV] END ........C=5, l1_ratio=0, penalty=none, solver=lbfgs; total time=   0.0s\n"
     ]
    },
    {
     "name": "stderr",
     "output_type": "stream",
     "text": [
      "C:\\Users\\sande\\anaconda3\\lib\\site-packages\\sklearn\\linear_model\\_logistic.py:1476: UserWarning: l1_ratio parameter is only used when penalty is 'elasticnet'. Got (penalty=none)\n",
      "  warnings.warn(\n",
      "C:\\Users\\sande\\anaconda3\\lib\\site-packages\\sklearn\\linear_model\\_logistic.py:1483: UserWarning: Setting penalty='none' will ignore the C and l1_ratio parameters\n",
      "  warnings.warn(\n",
      "C:\\Users\\sande\\anaconda3\\lib\\site-packages\\sklearn\\linear_model\\_logistic.py:1476: UserWarning: l1_ratio parameter is only used when penalty is 'elasticnet'. Got (penalty=none)\n",
      "  warnings.warn(\n",
      "C:\\Users\\sande\\anaconda3\\lib\\site-packages\\sklearn\\linear_model\\_logistic.py:1483: UserWarning: Setting penalty='none' will ignore the C and l1_ratio parameters\n",
      "  warnings.warn(\n",
      "C:\\Users\\sande\\anaconda3\\lib\\site-packages\\sklearn\\linear_model\\_logistic.py:1476: UserWarning: l1_ratio parameter is only used when penalty is 'elasticnet'. Got (penalty=none)\n",
      "  warnings.warn(\n",
      "C:\\Users\\sande\\anaconda3\\lib\\site-packages\\sklearn\\linear_model\\_logistic.py:1483: UserWarning: Setting penalty='none' will ignore the C and l1_ratio parameters\n",
      "  warnings.warn(\n",
      "C:\\Users\\sande\\anaconda3\\lib\\site-packages\\sklearn\\linear_model\\_logistic.py:1476: UserWarning: l1_ratio parameter is only used when penalty is 'elasticnet'. Got (penalty=none)\n",
      "  warnings.warn(\n",
      "C:\\Users\\sande\\anaconda3\\lib\\site-packages\\sklearn\\linear_model\\_logistic.py:1483: UserWarning: Setting penalty='none' will ignore the C and l1_ratio parameters\n",
      "  warnings.warn(\n",
      "C:\\Users\\sande\\anaconda3\\lib\\site-packages\\sklearn\\linear_model\\_logistic.py:1476: UserWarning: l1_ratio parameter is only used when penalty is 'elasticnet'. Got (penalty=none)\n",
      "  warnings.warn(\n",
      "C:\\Users\\sande\\anaconda3\\lib\\site-packages\\sklearn\\linear_model\\_logistic.py:1483: UserWarning: Setting penalty='none' will ignore the C and l1_ratio parameters\n",
      "  warnings.warn(\n"
     ]
    },
    {
     "name": "stdout",
     "output_type": "stream",
     "text": [
      "[CV] END ........C=5, l1_ratio=0, penalty=none, solver=lbfgs; total time=   0.0s\n",
      "[CV] END ........C=5, l1_ratio=0, penalty=none, solver=lbfgs; total time=   0.0s\n"
     ]
    },
    {
     "name": "stderr",
     "output_type": "stream",
     "text": [
      "C:\\Users\\sande\\anaconda3\\lib\\site-packages\\sklearn\\linear_model\\_logistic.py:1476: UserWarning: l1_ratio parameter is only used when penalty is 'elasticnet'. Got (penalty=none)\n",
      "  warnings.warn(\n",
      "C:\\Users\\sande\\anaconda3\\lib\\site-packages\\sklearn\\linear_model\\_logistic.py:1483: UserWarning: Setting penalty='none' will ignore the C and l1_ratio parameters\n",
      "  warnings.warn(\n",
      "C:\\Users\\sande\\anaconda3\\lib\\site-packages\\sklearn\\linear_model\\_logistic.py:1476: UserWarning: l1_ratio parameter is only used when penalty is 'elasticnet'. Got (penalty=none)\n",
      "  warnings.warn(\n",
      "C:\\Users\\sande\\anaconda3\\lib\\site-packages\\sklearn\\linear_model\\_logistic.py:1483: UserWarning: Setting penalty='none' will ignore the C and l1_ratio parameters\n",
      "  warnings.warn(\n",
      "C:\\Users\\sande\\anaconda3\\lib\\site-packages\\sklearn\\linear_model\\_logistic.py:1476: UserWarning: l1_ratio parameter is only used when penalty is 'elasticnet'. Got (penalty=none)\n",
      "  warnings.warn(\n",
      "C:\\Users\\sande\\anaconda3\\lib\\site-packages\\sklearn\\linear_model\\_logistic.py:1483: UserWarning: Setting penalty='none' will ignore the C and l1_ratio parameters\n",
      "  warnings.warn(\n"
     ]
    },
    {
     "name": "stdout",
     "output_type": "stream",
     "text": [
      "[CV] END ........C=5, l1_ratio=0, penalty=none, solver=lbfgs; total time=   0.0s\n",
      "[CV] END ........C=5, l1_ratio=0, penalty=none, solver=lbfgs; total time=   0.0s\n",
      "[CV] END ....C=5, l1_ratio=0, penalty=none, solver=liblinear; total time=   0.0s\n",
      "[CV] END ....C=5, l1_ratio=0, penalty=none, solver=liblinear; total time=   0.0s\n",
      "[CV] END ....C=5, l1_ratio=0, penalty=none, solver=liblinear; total time=   0.0s\n",
      "[CV] END ....C=5, l1_ratio=0, penalty=none, solver=liblinear; total time=   0.0s\n",
      "[CV] END ....C=5, l1_ratio=0, penalty=none, solver=liblinear; total time=   0.0s\n"
     ]
    },
    {
     "name": "stderr",
     "output_type": "stream",
     "text": [
      "C:\\Users\\sande\\anaconda3\\lib\\site-packages\\sklearn\\linear_model\\_sag.py:352: ConvergenceWarning: The max_iter was reached which means the coef_ did not converge\n",
      "  warnings.warn(\n",
      "C:\\Users\\sande\\anaconda3\\lib\\site-packages\\sklearn\\linear_model\\_logistic.py:1476: UserWarning: l1_ratio parameter is only used when penalty is 'elasticnet'. Got (penalty=none)\n",
      "  warnings.warn(\n",
      "C:\\Users\\sande\\anaconda3\\lib\\site-packages\\sklearn\\linear_model\\_logistic.py:1483: UserWarning: Setting penalty='none' will ignore the C and l1_ratio parameters\n",
      "  warnings.warn(\n"
     ]
    },
    {
     "name": "stdout",
     "output_type": "stream",
     "text": [
      "[CV] END ..........C=5, l1_ratio=0, penalty=none, solver=sag; total time=   0.7s\n"
     ]
    },
    {
     "name": "stderr",
     "output_type": "stream",
     "text": [
      "C:\\Users\\sande\\anaconda3\\lib\\site-packages\\sklearn\\linear_model\\_sag.py:352: ConvergenceWarning: The max_iter was reached which means the coef_ did not converge\n",
      "  warnings.warn(\n",
      "C:\\Users\\sande\\anaconda3\\lib\\site-packages\\sklearn\\linear_model\\_logistic.py:1476: UserWarning: l1_ratio parameter is only used when penalty is 'elasticnet'. Got (penalty=none)\n",
      "  warnings.warn(\n",
      "C:\\Users\\sande\\anaconda3\\lib\\site-packages\\sklearn\\linear_model\\_logistic.py:1483: UserWarning: Setting penalty='none' will ignore the C and l1_ratio parameters\n",
      "  warnings.warn(\n"
     ]
    },
    {
     "name": "stdout",
     "output_type": "stream",
     "text": [
      "[CV] END ..........C=5, l1_ratio=0, penalty=none, solver=sag; total time=   0.7s\n"
     ]
    },
    {
     "name": "stderr",
     "output_type": "stream",
     "text": [
      "C:\\Users\\sande\\anaconda3\\lib\\site-packages\\sklearn\\linear_model\\_sag.py:352: ConvergenceWarning: The max_iter was reached which means the coef_ did not converge\n",
      "  warnings.warn(\n",
      "C:\\Users\\sande\\anaconda3\\lib\\site-packages\\sklearn\\linear_model\\_logistic.py:1476: UserWarning: l1_ratio parameter is only used when penalty is 'elasticnet'. Got (penalty=none)\n",
      "  warnings.warn(\n",
      "C:\\Users\\sande\\anaconda3\\lib\\site-packages\\sklearn\\linear_model\\_logistic.py:1483: UserWarning: Setting penalty='none' will ignore the C and l1_ratio parameters\n",
      "  warnings.warn(\n"
     ]
    },
    {
     "name": "stdout",
     "output_type": "stream",
     "text": [
      "[CV] END ..........C=5, l1_ratio=0, penalty=none, solver=sag; total time=   0.7s\n"
     ]
    },
    {
     "name": "stderr",
     "output_type": "stream",
     "text": [
      "C:\\Users\\sande\\anaconda3\\lib\\site-packages\\sklearn\\linear_model\\_sag.py:352: ConvergenceWarning: The max_iter was reached which means the coef_ did not converge\n",
      "  warnings.warn(\n",
      "C:\\Users\\sande\\anaconda3\\lib\\site-packages\\sklearn\\linear_model\\_logistic.py:1476: UserWarning: l1_ratio parameter is only used when penalty is 'elasticnet'. Got (penalty=none)\n",
      "  warnings.warn(\n",
      "C:\\Users\\sande\\anaconda3\\lib\\site-packages\\sklearn\\linear_model\\_logistic.py:1483: UserWarning: Setting penalty='none' will ignore the C and l1_ratio parameters\n",
      "  warnings.warn(\n"
     ]
    },
    {
     "name": "stdout",
     "output_type": "stream",
     "text": [
      "[CV] END ..........C=5, l1_ratio=0, penalty=none, solver=sag; total time=   0.7s\n",
      "[CV] END ..........C=5, l1_ratio=0, penalty=none, solver=sag; total time=   0.4s\n"
     ]
    },
    {
     "name": "stderr",
     "output_type": "stream",
     "text": [
      "C:\\Users\\sande\\anaconda3\\lib\\site-packages\\sklearn\\linear_model\\_logistic.py:1476: UserWarning: l1_ratio parameter is only used when penalty is 'elasticnet'. Got (penalty=none)\n",
      "  warnings.warn(\n",
      "C:\\Users\\sande\\anaconda3\\lib\\site-packages\\sklearn\\linear_model\\_logistic.py:1483: UserWarning: Setting penalty='none' will ignore the C and l1_ratio parameters\n",
      "  warnings.warn(\n",
      "C:\\Users\\sande\\anaconda3\\lib\\site-packages\\sklearn\\linear_model\\_sag.py:352: ConvergenceWarning: The max_iter was reached which means the coef_ did not converge\n",
      "  warnings.warn(\n",
      "C:\\Users\\sande\\anaconda3\\lib\\site-packages\\sklearn\\linear_model\\_logistic.py:1476: UserWarning: l1_ratio parameter is only used when penalty is 'elasticnet'. Got (penalty=none)\n",
      "  warnings.warn(\n",
      "C:\\Users\\sande\\anaconda3\\lib\\site-packages\\sklearn\\linear_model\\_logistic.py:1483: UserWarning: Setting penalty='none' will ignore the C and l1_ratio parameters\n",
      "  warnings.warn(\n"
     ]
    },
    {
     "name": "stdout",
     "output_type": "stream",
     "text": [
      "[CV] END .........C=5, l1_ratio=0, penalty=none, solver=saga; total time=   0.8s\n"
     ]
    },
    {
     "name": "stderr",
     "output_type": "stream",
     "text": [
      "C:\\Users\\sande\\anaconda3\\lib\\site-packages\\sklearn\\linear_model\\_sag.py:352: ConvergenceWarning: The max_iter was reached which means the coef_ did not converge\n",
      "  warnings.warn(\n",
      "C:\\Users\\sande\\anaconda3\\lib\\site-packages\\sklearn\\linear_model\\_logistic.py:1476: UserWarning: l1_ratio parameter is only used when penalty is 'elasticnet'. Got (penalty=none)\n",
      "  warnings.warn(\n",
      "C:\\Users\\sande\\anaconda3\\lib\\site-packages\\sklearn\\linear_model\\_logistic.py:1483: UserWarning: Setting penalty='none' will ignore the C and l1_ratio parameters\n",
      "  warnings.warn(\n"
     ]
    },
    {
     "name": "stdout",
     "output_type": "stream",
     "text": [
      "[CV] END .........C=5, l1_ratio=0, penalty=none, solver=saga; total time=   0.8s\n"
     ]
    },
    {
     "name": "stderr",
     "output_type": "stream",
     "text": [
      "C:\\Users\\sande\\anaconda3\\lib\\site-packages\\sklearn\\linear_model\\_sag.py:352: ConvergenceWarning: The max_iter was reached which means the coef_ did not converge\n",
      "  warnings.warn(\n",
      "C:\\Users\\sande\\anaconda3\\lib\\site-packages\\sklearn\\linear_model\\_logistic.py:1476: UserWarning: l1_ratio parameter is only used when penalty is 'elasticnet'. Got (penalty=none)\n",
      "  warnings.warn(\n",
      "C:\\Users\\sande\\anaconda3\\lib\\site-packages\\sklearn\\linear_model\\_logistic.py:1483: UserWarning: Setting penalty='none' will ignore the C and l1_ratio parameters\n",
      "  warnings.warn(\n"
     ]
    },
    {
     "name": "stdout",
     "output_type": "stream",
     "text": [
      "[CV] END .........C=5, l1_ratio=0, penalty=none, solver=saga; total time=   0.8s\n"
     ]
    },
    {
     "name": "stderr",
     "output_type": "stream",
     "text": [
      "C:\\Users\\sande\\anaconda3\\lib\\site-packages\\sklearn\\linear_model\\_sag.py:352: ConvergenceWarning: The max_iter was reached which means the coef_ did not converge\n",
      "  warnings.warn(\n",
      "C:\\Users\\sande\\anaconda3\\lib\\site-packages\\sklearn\\linear_model\\_logistic.py:1476: UserWarning: l1_ratio parameter is only used when penalty is 'elasticnet'. Got (penalty=none)\n",
      "  warnings.warn(\n",
      "C:\\Users\\sande\\anaconda3\\lib\\site-packages\\sklearn\\linear_model\\_logistic.py:1483: UserWarning: Setting penalty='none' will ignore the C and l1_ratio parameters\n",
      "  warnings.warn(\n"
     ]
    },
    {
     "name": "stdout",
     "output_type": "stream",
     "text": [
      "[CV] END .........C=5, l1_ratio=0, penalty=none, solver=saga; total time=   0.8s\n",
      "[CV] END .........C=5, l1_ratio=0, penalty=none, solver=saga; total time=   0.6s\n",
      "[CV] END ...C=5, l1_ratio=0.75, penalty=l1, solver=newton-cg; total time=   0.0s\n",
      "[CV] END ...C=5, l1_ratio=0.75, penalty=l1, solver=newton-cg; total time=   0.0s\n",
      "[CV] END ...C=5, l1_ratio=0.75, penalty=l1, solver=newton-cg; total time=   0.0s\n",
      "[CV] END ...C=5, l1_ratio=0.75, penalty=l1, solver=newton-cg; total time=   0.0s\n",
      "[CV] END ...C=5, l1_ratio=0.75, penalty=l1, solver=newton-cg; total time=   0.0s\n",
      "[CV] END .......C=5, l1_ratio=0.75, penalty=l1, solver=lbfgs; total time=   0.0s\n",
      "[CV] END .......C=5, l1_ratio=0.75, penalty=l1, solver=lbfgs; total time=   0.0s\n",
      "[CV] END .......C=5, l1_ratio=0.75, penalty=l1, solver=lbfgs; total time=   0.0s\n",
      "[CV] END .......C=5, l1_ratio=0.75, penalty=l1, solver=lbfgs; total time=   0.0s\n",
      "[CV] END .......C=5, l1_ratio=0.75, penalty=l1, solver=lbfgs; total time=   0.0s\n",
      "[CV] END ...C=5, l1_ratio=0.75, penalty=l1, solver=liblinear; total time=   0.0s\n",
      "[CV] END ...C=5, l1_ratio=0.75, penalty=l1, solver=liblinear; total time=   0.0s\n",
      "[CV] END ...C=5, l1_ratio=0.75, penalty=l1, solver=liblinear; total time=   0.0s\n",
      "[CV] END ...C=5, l1_ratio=0.75, penalty=l1, solver=liblinear; total time=   0.0s\n"
     ]
    },
    {
     "name": "stderr",
     "output_type": "stream",
     "text": [
      "C:\\Users\\sande\\anaconda3\\lib\\site-packages\\sklearn\\linear_model\\_logistic.py:1476: UserWarning: l1_ratio parameter is only used when penalty is 'elasticnet'. Got (penalty=l1)\n",
      "  warnings.warn(\n",
      "C:\\Users\\sande\\anaconda3\\lib\\site-packages\\sklearn\\linear_model\\_logistic.py:1476: UserWarning: l1_ratio parameter is only used when penalty is 'elasticnet'. Got (penalty=l1)\n",
      "  warnings.warn(\n",
      "C:\\Users\\sande\\anaconda3\\lib\\site-packages\\sklearn\\linear_model\\_logistic.py:1476: UserWarning: l1_ratio parameter is only used when penalty is 'elasticnet'. Got (penalty=l1)\n",
      "  warnings.warn(\n",
      "C:\\Users\\sande\\anaconda3\\lib\\site-packages\\sklearn\\linear_model\\_logistic.py:1476: UserWarning: l1_ratio parameter is only used when penalty is 'elasticnet'. Got (penalty=l1)\n",
      "  warnings.warn(\n",
      "C:\\Users\\sande\\anaconda3\\lib\\site-packages\\sklearn\\linear_model\\_logistic.py:1476: UserWarning: l1_ratio parameter is only used when penalty is 'elasticnet'. Got (penalty=l1)\n",
      "  warnings.warn(\n"
     ]
    },
    {
     "name": "stdout",
     "output_type": "stream",
     "text": [
      "[CV] END ...C=5, l1_ratio=0.75, penalty=l1, solver=liblinear; total time=   0.0s\n",
      "[CV] END .........C=5, l1_ratio=0.75, penalty=l1, solver=sag; total time=   0.0s\n",
      "[CV] END .........C=5, l1_ratio=0.75, penalty=l1, solver=sag; total time=   0.0s\n",
      "[CV] END .........C=5, l1_ratio=0.75, penalty=l1, solver=sag; total time=   0.0s\n",
      "[CV] END .........C=5, l1_ratio=0.75, penalty=l1, solver=sag; total time=   0.0s\n",
      "[CV] END .........C=5, l1_ratio=0.75, penalty=l1, solver=sag; total time=   0.0s\n"
     ]
    },
    {
     "name": "stderr",
     "output_type": "stream",
     "text": [
      "C:\\Users\\sande\\anaconda3\\lib\\site-packages\\sklearn\\linear_model\\_logistic.py:1476: UserWarning: l1_ratio parameter is only used when penalty is 'elasticnet'. Got (penalty=l1)\n",
      "  warnings.warn(\n"
     ]
    },
    {
     "name": "stdout",
     "output_type": "stream",
     "text": [
      "[CV] END ........C=5, l1_ratio=0.75, penalty=l1, solver=saga; total time=   0.5s\n"
     ]
    },
    {
     "name": "stderr",
     "output_type": "stream",
     "text": [
      "C:\\Users\\sande\\anaconda3\\lib\\site-packages\\sklearn\\linear_model\\_logistic.py:1476: UserWarning: l1_ratio parameter is only used when penalty is 'elasticnet'. Got (penalty=l1)\n",
      "  warnings.warn(\n"
     ]
    },
    {
     "name": "stdout",
     "output_type": "stream",
     "text": [
      "[CV] END ........C=5, l1_ratio=0.75, penalty=l1, solver=saga; total time=   0.3s\n"
     ]
    },
    {
     "name": "stderr",
     "output_type": "stream",
     "text": [
      "C:\\Users\\sande\\anaconda3\\lib\\site-packages\\sklearn\\linear_model\\_logistic.py:1476: UserWarning: l1_ratio parameter is only used when penalty is 'elasticnet'. Got (penalty=l1)\n",
      "  warnings.warn(\n"
     ]
    },
    {
     "name": "stdout",
     "output_type": "stream",
     "text": [
      "[CV] END ........C=5, l1_ratio=0.75, penalty=l1, solver=saga; total time=   0.4s\n"
     ]
    },
    {
     "name": "stderr",
     "output_type": "stream",
     "text": [
      "C:\\Users\\sande\\anaconda3\\lib\\site-packages\\sklearn\\linear_model\\_logistic.py:1476: UserWarning: l1_ratio parameter is only used when penalty is 'elasticnet'. Got (penalty=l1)\n",
      "  warnings.warn(\n"
     ]
    },
    {
     "name": "stdout",
     "output_type": "stream",
     "text": [
      "[CV] END ........C=5, l1_ratio=0.75, penalty=l1, solver=saga; total time=   0.4s\n"
     ]
    },
    {
     "name": "stderr",
     "output_type": "stream",
     "text": [
      "C:\\Users\\sande\\anaconda3\\lib\\site-packages\\sklearn\\linear_model\\_logistic.py:1476: UserWarning: l1_ratio parameter is only used when penalty is 'elasticnet'. Got (penalty=l1)\n",
      "  warnings.warn(\n",
      "C:\\Users\\sande\\anaconda3\\lib\\site-packages\\sklearn\\linear_model\\_logistic.py:1476: UserWarning: l1_ratio parameter is only used when penalty is 'elasticnet'. Got (penalty=l2)\n",
      "  warnings.warn(\n",
      "C:\\Users\\sande\\anaconda3\\lib\\site-packages\\sklearn\\linear_model\\_logistic.py:1476: UserWarning: l1_ratio parameter is only used when penalty is 'elasticnet'. Got (penalty=l2)\n",
      "  warnings.warn(\n",
      "C:\\Users\\sande\\anaconda3\\lib\\site-packages\\sklearn\\linear_model\\_logistic.py:1476: UserWarning: l1_ratio parameter is only used when penalty is 'elasticnet'. Got (penalty=l2)\n",
      "  warnings.warn(\n",
      "C:\\Users\\sande\\anaconda3\\lib\\site-packages\\sklearn\\linear_model\\_logistic.py:1476: UserWarning: l1_ratio parameter is only used when penalty is 'elasticnet'. Got (penalty=l2)\n",
      "  warnings.warn(\n",
      "C:\\Users\\sande\\anaconda3\\lib\\site-packages\\sklearn\\linear_model\\_logistic.py:1476: UserWarning: l1_ratio parameter is only used when penalty is 'elasticnet'. Got (penalty=l2)\n",
      "  warnings.warn(\n",
      "C:\\Users\\sande\\anaconda3\\lib\\site-packages\\sklearn\\linear_model\\_logistic.py:1476: UserWarning: l1_ratio parameter is only used when penalty is 'elasticnet'. Got (penalty=l2)\n",
      "  warnings.warn(\n",
      "C:\\Users\\sande\\anaconda3\\lib\\site-packages\\sklearn\\linear_model\\_logistic.py:1476: UserWarning: l1_ratio parameter is only used when penalty is 'elasticnet'. Got (penalty=l2)\n",
      "  warnings.warn(\n"
     ]
    },
    {
     "name": "stdout",
     "output_type": "stream",
     "text": [
      "[CV] END ........C=5, l1_ratio=0.75, penalty=l1, solver=saga; total time=   0.1s\n",
      "[CV] END ...C=5, l1_ratio=0.75, penalty=l2, solver=newton-cg; total time=   0.0s\n",
      "[CV] END ...C=5, l1_ratio=0.75, penalty=l2, solver=newton-cg; total time=   0.0s\n",
      "[CV] END ...C=5, l1_ratio=0.75, penalty=l2, solver=newton-cg; total time=   0.0s\n",
      "[CV] END ...C=5, l1_ratio=0.75, penalty=l2, solver=newton-cg; total time=   0.0s\n",
      "[CV] END ...C=5, l1_ratio=0.75, penalty=l2, solver=newton-cg; total time=   0.0s\n",
      "[CV] END .......C=5, l1_ratio=0.75, penalty=l2, solver=lbfgs; total time=   0.0s\n",
      "[CV] END .......C=5, l1_ratio=0.75, penalty=l2, solver=lbfgs; total time=   0.0s\n",
      "[CV] END .......C=5, l1_ratio=0.75, penalty=l2, solver=lbfgs; total time=   0.0s\n",
      "[CV] END .......C=5, l1_ratio=0.75, penalty=l2, solver=lbfgs; total time=   0.0s\n",
      "[CV] END .......C=5, l1_ratio=0.75, penalty=l2, solver=lbfgs; total time=   0.0s\n",
      "[CV] END ...C=5, l1_ratio=0.75, penalty=l2, solver=liblinear; total time=   0.0s\n",
      "[CV] END ...C=5, l1_ratio=0.75, penalty=l2, solver=liblinear; total time=   0.0s\n",
      "[CV] END ...C=5, l1_ratio=0.75, penalty=l2, solver=liblinear; total time=   0.0s\n",
      "[CV] END ...C=5, l1_ratio=0.75, penalty=l2, solver=liblinear; total time=   0.0s\n",
      "[CV] END ...C=5, l1_ratio=0.75, penalty=l2, solver=liblinear; total time=   0.0s\n"
     ]
    },
    {
     "name": "stderr",
     "output_type": "stream",
     "text": [
      "C:\\Users\\sande\\anaconda3\\lib\\site-packages\\sklearn\\linear_model\\_logistic.py:1476: UserWarning: l1_ratio parameter is only used when penalty is 'elasticnet'. Got (penalty=l2)\n",
      "  warnings.warn(\n",
      "C:\\Users\\sande\\anaconda3\\lib\\site-packages\\sklearn\\linear_model\\_logistic.py:1476: UserWarning: l1_ratio parameter is only used when penalty is 'elasticnet'. Got (penalty=l2)\n",
      "  warnings.warn(\n",
      "C:\\Users\\sande\\anaconda3\\lib\\site-packages\\sklearn\\linear_model\\_logistic.py:1476: UserWarning: l1_ratio parameter is only used when penalty is 'elasticnet'. Got (penalty=l2)\n",
      "  warnings.warn(\n",
      "C:\\Users\\sande\\anaconda3\\lib\\site-packages\\sklearn\\linear_model\\_logistic.py:1476: UserWarning: l1_ratio parameter is only used when penalty is 'elasticnet'. Got (penalty=l2)\n",
      "  warnings.warn(\n",
      "C:\\Users\\sande\\anaconda3\\lib\\site-packages\\sklearn\\linear_model\\_logistic.py:1476: UserWarning: l1_ratio parameter is only used when penalty is 'elasticnet'. Got (penalty=l2)\n",
      "  warnings.warn(\n",
      "C:\\Users\\sande\\anaconda3\\lib\\site-packages\\sklearn\\linear_model\\_logistic.py:1476: UserWarning: l1_ratio parameter is only used when penalty is 'elasticnet'. Got (penalty=l2)\n",
      "  warnings.warn(\n",
      "C:\\Users\\sande\\anaconda3\\lib\\site-packages\\sklearn\\linear_model\\_logistic.py:1476: UserWarning: l1_ratio parameter is only used when penalty is 'elasticnet'. Got (penalty=l2)\n",
      "  warnings.warn(\n",
      "C:\\Users\\sande\\anaconda3\\lib\\site-packages\\sklearn\\linear_model\\_logistic.py:1476: UserWarning: l1_ratio parameter is only used when penalty is 'elasticnet'. Got (penalty=l2)\n",
      "  warnings.warn(\n",
      "C:\\Users\\sande\\anaconda3\\lib\\site-packages\\sklearn\\linear_model\\_logistic.py:1476: UserWarning: l1_ratio parameter is only used when penalty is 'elasticnet'. Got (penalty=l2)\n",
      "  warnings.warn(\n"
     ]
    },
    {
     "name": "stdout",
     "output_type": "stream",
     "text": [
      "[CV] END .........C=5, l1_ratio=0.75, penalty=l2, solver=sag; total time=   0.1s\n",
      "[CV] END .........C=5, l1_ratio=0.75, penalty=l2, solver=sag; total time=   0.1s\n"
     ]
    },
    {
     "name": "stderr",
     "output_type": "stream",
     "text": [
      "C:\\Users\\sande\\anaconda3\\lib\\site-packages\\sklearn\\linear_model\\_logistic.py:1476: UserWarning: l1_ratio parameter is only used when penalty is 'elasticnet'. Got (penalty=l2)\n",
      "  warnings.warn(\n",
      "C:\\Users\\sande\\anaconda3\\lib\\site-packages\\sklearn\\linear_model\\_logistic.py:1476: UserWarning: l1_ratio parameter is only used when penalty is 'elasticnet'. Got (penalty=l2)\n",
      "  warnings.warn(\n"
     ]
    },
    {
     "name": "stdout",
     "output_type": "stream",
     "text": [
      "[CV] END .........C=5, l1_ratio=0.75, penalty=l2, solver=sag; total time=   0.1s\n",
      "[CV] END .........C=5, l1_ratio=0.75, penalty=l2, solver=sag; total time=   0.1s\n"
     ]
    },
    {
     "name": "stderr",
     "output_type": "stream",
     "text": [
      "C:\\Users\\sande\\anaconda3\\lib\\site-packages\\sklearn\\linear_model\\_logistic.py:1476: UserWarning: l1_ratio parameter is only used when penalty is 'elasticnet'. Got (penalty=l2)\n",
      "  warnings.warn(\n",
      "C:\\Users\\sande\\anaconda3\\lib\\site-packages\\sklearn\\linear_model\\_logistic.py:1476: UserWarning: l1_ratio parameter is only used when penalty is 'elasticnet'. Got (penalty=l2)\n",
      "  warnings.warn(\n"
     ]
    },
    {
     "name": "stdout",
     "output_type": "stream",
     "text": [
      "[CV] END .........C=5, l1_ratio=0.75, penalty=l2, solver=sag; total time=   0.1s\n"
     ]
    },
    {
     "name": "stderr",
     "output_type": "stream",
     "text": [
      "C:\\Users\\sande\\anaconda3\\lib\\site-packages\\sklearn\\linear_model\\_logistic.py:1476: UserWarning: l1_ratio parameter is only used when penalty is 'elasticnet'. Got (penalty=l2)\n",
      "  warnings.warn(\n"
     ]
    },
    {
     "name": "stdout",
     "output_type": "stream",
     "text": [
      "[CV] END ........C=5, l1_ratio=0.75, penalty=l2, solver=saga; total time=   0.1s\n"
     ]
    },
    {
     "name": "stderr",
     "output_type": "stream",
     "text": [
      "C:\\Users\\sande\\anaconda3\\lib\\site-packages\\sklearn\\linear_model\\_logistic.py:1476: UserWarning: l1_ratio parameter is only used when penalty is 'elasticnet'. Got (penalty=l2)\n",
      "  warnings.warn(\n"
     ]
    },
    {
     "name": "stdout",
     "output_type": "stream",
     "text": [
      "[CV] END ........C=5, l1_ratio=0.75, penalty=l2, solver=saga; total time=   0.2s\n"
     ]
    },
    {
     "name": "stderr",
     "output_type": "stream",
     "text": [
      "C:\\Users\\sande\\anaconda3\\lib\\site-packages\\sklearn\\linear_model\\_logistic.py:1476: UserWarning: l1_ratio parameter is only used when penalty is 'elasticnet'. Got (penalty=l2)\n",
      "  warnings.warn(\n"
     ]
    },
    {
     "name": "stdout",
     "output_type": "stream",
     "text": [
      "[CV] END ........C=5, l1_ratio=0.75, penalty=l2, solver=saga; total time=   0.2s\n"
     ]
    },
    {
     "name": "stderr",
     "output_type": "stream",
     "text": [
      "C:\\Users\\sande\\anaconda3\\lib\\site-packages\\sklearn\\linear_model\\_logistic.py:1476: UserWarning: l1_ratio parameter is only used when penalty is 'elasticnet'. Got (penalty=l2)\n",
      "  warnings.warn(\n"
     ]
    },
    {
     "name": "stdout",
     "output_type": "stream",
     "text": [
      "[CV] END ........C=5, l1_ratio=0.75, penalty=l2, solver=saga; total time=   0.2s\n"
     ]
    },
    {
     "name": "stderr",
     "output_type": "stream",
     "text": [
      "C:\\Users\\sande\\anaconda3\\lib\\site-packages\\sklearn\\linear_model\\_logistic.py:1476: UserWarning: l1_ratio parameter is only used when penalty is 'elasticnet'. Got (penalty=l2)\n",
      "  warnings.warn(\n"
     ]
    },
    {
     "name": "stdout",
     "output_type": "stream",
     "text": [
      "[CV] END ........C=5, l1_ratio=0.75, penalty=l2, solver=saga; total time=   0.2s\n",
      "[CV] END C=5, l1_ratio=0.75, penalty=elasticnet, solver=newton-cg; total time=   0.0s\n",
      "[CV] END C=5, l1_ratio=0.75, penalty=elasticnet, solver=newton-cg; total time=   0.0s\n",
      "[CV] END C=5, l1_ratio=0.75, penalty=elasticnet, solver=newton-cg; total time=   0.0s\n",
      "[CV] END C=5, l1_ratio=0.75, penalty=elasticnet, solver=newton-cg; total time=   0.0s\n",
      "[CV] END C=5, l1_ratio=0.75, penalty=elasticnet, solver=newton-cg; total time=   0.0s\n",
      "[CV] END C=5, l1_ratio=0.75, penalty=elasticnet, solver=lbfgs; total time=   0.0s\n",
      "[CV] END C=5, l1_ratio=0.75, penalty=elasticnet, solver=lbfgs; total time=   0.0s\n",
      "[CV] END C=5, l1_ratio=0.75, penalty=elasticnet, solver=lbfgs; total time=   0.0s\n",
      "[CV] END C=5, l1_ratio=0.75, penalty=elasticnet, solver=lbfgs; total time=   0.0s\n",
      "[CV] END C=5, l1_ratio=0.75, penalty=elasticnet, solver=lbfgs; total time=   0.0s\n",
      "[CV] END C=5, l1_ratio=0.75, penalty=elasticnet, solver=liblinear; total time=   0.0s\n",
      "[CV] END C=5, l1_ratio=0.75, penalty=elasticnet, solver=liblinear; total time=   0.0s\n",
      "[CV] END C=5, l1_ratio=0.75, penalty=elasticnet, solver=liblinear; total time=   0.0s\n",
      "[CV] END C=5, l1_ratio=0.75, penalty=elasticnet, solver=liblinear; total time=   0.0s\n",
      "[CV] END C=5, l1_ratio=0.75, penalty=elasticnet, solver=liblinear; total time=   0.0s\n",
      "[CV] END .C=5, l1_ratio=0.75, penalty=elasticnet, solver=sag; total time=   0.0s\n",
      "[CV] END .C=5, l1_ratio=0.75, penalty=elasticnet, solver=sag; total time=   0.0s\n",
      "[CV] END .C=5, l1_ratio=0.75, penalty=elasticnet, solver=sag; total time=   0.0s\n",
      "[CV] END .C=5, l1_ratio=0.75, penalty=elasticnet, solver=sag; total time=   0.0s\n",
      "[CV] END .C=5, l1_ratio=0.75, penalty=elasticnet, solver=sag; total time=   0.0s\n",
      "[CV] END C=5, l1_ratio=0.75, penalty=elasticnet, solver=saga; total time=   0.7s\n",
      "[CV] END C=5, l1_ratio=0.75, penalty=elasticnet, solver=saga; total time=   0.5s\n",
      "[CV] END C=5, l1_ratio=0.75, penalty=elasticnet, solver=saga; total time=   0.6s\n",
      "[CV] END C=5, l1_ratio=0.75, penalty=elasticnet, solver=saga; total time=   0.6s\n",
      "[CV] END C=5, l1_ratio=0.75, penalty=elasticnet, solver=saga; total time=   0.1s\n"
     ]
    },
    {
     "name": "stderr",
     "output_type": "stream",
     "text": [
      "C:\\Users\\sande\\anaconda3\\lib\\site-packages\\sklearn\\linear_model\\_logistic.py:1476: UserWarning: l1_ratio parameter is only used when penalty is 'elasticnet'. Got (penalty=none)\n",
      "  warnings.warn(\n",
      "C:\\Users\\sande\\anaconda3\\lib\\site-packages\\sklearn\\linear_model\\_logistic.py:1483: UserWarning: Setting penalty='none' will ignore the C and l1_ratio parameters\n",
      "  warnings.warn(\n",
      "C:\\Users\\sande\\anaconda3\\lib\\site-packages\\sklearn\\linear_model\\_logistic.py:1476: UserWarning: l1_ratio parameter is only used when penalty is 'elasticnet'. Got (penalty=none)\n",
      "  warnings.warn(\n",
      "C:\\Users\\sande\\anaconda3\\lib\\site-packages\\sklearn\\linear_model\\_logistic.py:1483: UserWarning: Setting penalty='none' will ignore the C and l1_ratio parameters\n",
      "  warnings.warn(\n"
     ]
    },
    {
     "name": "stdout",
     "output_type": "stream",
     "text": [
      "[CV] END .C=5, l1_ratio=0.75, penalty=none, solver=newton-cg; total time=   0.0s\n",
      "[CV] END .C=5, l1_ratio=0.75, penalty=none, solver=newton-cg; total time=   0.0s\n",
      "[CV] END .C=5, l1_ratio=0.75, penalty=none, solver=newton-cg; total time=   0.0s\n"
     ]
    },
    {
     "name": "stderr",
     "output_type": "stream",
     "text": [
      "C:\\Users\\sande\\anaconda3\\lib\\site-packages\\sklearn\\linear_model\\_logistic.py:1476: UserWarning: l1_ratio parameter is only used when penalty is 'elasticnet'. Got (penalty=none)\n",
      "  warnings.warn(\n",
      "C:\\Users\\sande\\anaconda3\\lib\\site-packages\\sklearn\\linear_model\\_logistic.py:1483: UserWarning: Setting penalty='none' will ignore the C and l1_ratio parameters\n",
      "  warnings.warn(\n",
      "C:\\Users\\sande\\anaconda3\\lib\\site-packages\\sklearn\\linear_model\\_logistic.py:1476: UserWarning: l1_ratio parameter is only used when penalty is 'elasticnet'. Got (penalty=none)\n",
      "  warnings.warn(\n",
      "C:\\Users\\sande\\anaconda3\\lib\\site-packages\\sklearn\\linear_model\\_logistic.py:1483: UserWarning: Setting penalty='none' will ignore the C and l1_ratio parameters\n",
      "  warnings.warn(\n",
      "C:\\Users\\sande\\anaconda3\\lib\\site-packages\\sklearn\\linear_model\\_logistic.py:1476: UserWarning: l1_ratio parameter is only used when penalty is 'elasticnet'. Got (penalty=none)\n",
      "  warnings.warn(\n",
      "C:\\Users\\sande\\anaconda3\\lib\\site-packages\\sklearn\\linear_model\\_logistic.py:1483: UserWarning: Setting penalty='none' will ignore the C and l1_ratio parameters\n",
      "  warnings.warn(\n"
     ]
    },
    {
     "name": "stdout",
     "output_type": "stream",
     "text": [
      "[CV] END .C=5, l1_ratio=0.75, penalty=none, solver=newton-cg; total time=   0.0s\n",
      "[CV] END .C=5, l1_ratio=0.75, penalty=none, solver=newton-cg; total time=   0.0s\n",
      "[CV] END .....C=5, l1_ratio=0.75, penalty=none, solver=lbfgs; total time=   0.0s\n",
      "[CV] END .....C=5, l1_ratio=0.75, penalty=none, solver=lbfgs; total time=   0.0s\n"
     ]
    },
    {
     "name": "stderr",
     "output_type": "stream",
     "text": [
      "C:\\Users\\sande\\anaconda3\\lib\\site-packages\\sklearn\\linear_model\\_logistic.py:1476: UserWarning: l1_ratio parameter is only used when penalty is 'elasticnet'. Got (penalty=none)\n",
      "  warnings.warn(\n",
      "C:\\Users\\sande\\anaconda3\\lib\\site-packages\\sklearn\\linear_model\\_logistic.py:1483: UserWarning: Setting penalty='none' will ignore the C and l1_ratio parameters\n",
      "  warnings.warn(\n",
      "C:\\Users\\sande\\anaconda3\\lib\\site-packages\\sklearn\\linear_model\\_logistic.py:1476: UserWarning: l1_ratio parameter is only used when penalty is 'elasticnet'. Got (penalty=none)\n",
      "  warnings.warn(\n",
      "C:\\Users\\sande\\anaconda3\\lib\\site-packages\\sklearn\\linear_model\\_logistic.py:1483: UserWarning: Setting penalty='none' will ignore the C and l1_ratio parameters\n",
      "  warnings.warn(\n",
      "C:\\Users\\sande\\anaconda3\\lib\\site-packages\\sklearn\\linear_model\\_logistic.py:1476: UserWarning: l1_ratio parameter is only used when penalty is 'elasticnet'. Got (penalty=none)\n",
      "  warnings.warn(\n",
      "C:\\Users\\sande\\anaconda3\\lib\\site-packages\\sklearn\\linear_model\\_logistic.py:1483: UserWarning: Setting penalty='none' will ignore the C and l1_ratio parameters\n",
      "  warnings.warn(\n"
     ]
    },
    {
     "name": "stdout",
     "output_type": "stream",
     "text": [
      "[CV] END .....C=5, l1_ratio=0.75, penalty=none, solver=lbfgs; total time=   0.0s\n",
      "[CV] END .....C=5, l1_ratio=0.75, penalty=none, solver=lbfgs; total time=   0.0s\n",
      "[CV] END .....C=5, l1_ratio=0.75, penalty=none, solver=lbfgs; total time=   0.0s\n",
      "[CV] END .C=5, l1_ratio=0.75, penalty=none, solver=liblinear; total time=   0.0s\n",
      "[CV] END .C=5, l1_ratio=0.75, penalty=none, solver=liblinear; total time=   0.0s\n",
      "[CV] END .C=5, l1_ratio=0.75, penalty=none, solver=liblinear; total time=   0.0s\n",
      "[CV] END .C=5, l1_ratio=0.75, penalty=none, solver=liblinear; total time=   0.0s\n",
      "[CV] END .C=5, l1_ratio=0.75, penalty=none, solver=liblinear; total time=   0.0s\n"
     ]
    },
    {
     "name": "stderr",
     "output_type": "stream",
     "text": [
      "C:\\Users\\sande\\anaconda3\\lib\\site-packages\\sklearn\\linear_model\\_logistic.py:1476: UserWarning: l1_ratio parameter is only used when penalty is 'elasticnet'. Got (penalty=none)\n",
      "  warnings.warn(\n",
      "C:\\Users\\sande\\anaconda3\\lib\\site-packages\\sklearn\\linear_model\\_logistic.py:1483: UserWarning: Setting penalty='none' will ignore the C and l1_ratio parameters\n",
      "  warnings.warn(\n",
      "C:\\Users\\sande\\anaconda3\\lib\\site-packages\\sklearn\\linear_model\\_logistic.py:1476: UserWarning: l1_ratio parameter is only used when penalty is 'elasticnet'. Got (penalty=none)\n",
      "  warnings.warn(\n",
      "C:\\Users\\sande\\anaconda3\\lib\\site-packages\\sklearn\\linear_model\\_logistic.py:1483: UserWarning: Setting penalty='none' will ignore the C and l1_ratio parameters\n",
      "  warnings.warn(\n",
      "C:\\Users\\sande\\anaconda3\\lib\\site-packages\\sklearn\\linear_model\\_logistic.py:1476: UserWarning: l1_ratio parameter is only used when penalty is 'elasticnet'. Got (penalty=none)\n",
      "  warnings.warn(\n",
      "C:\\Users\\sande\\anaconda3\\lib\\site-packages\\sklearn\\linear_model\\_logistic.py:1483: UserWarning: Setting penalty='none' will ignore the C and l1_ratio parameters\n",
      "  warnings.warn(\n",
      "C:\\Users\\sande\\anaconda3\\lib\\site-packages\\sklearn\\linear_model\\_sag.py:352: ConvergenceWarning: The max_iter was reached which means the coef_ did not converge\n",
      "  warnings.warn(\n",
      "C:\\Users\\sande\\anaconda3\\lib\\site-packages\\sklearn\\linear_model\\_logistic.py:1476: UserWarning: l1_ratio parameter is only used when penalty is 'elasticnet'. Got (penalty=none)\n",
      "  warnings.warn(\n",
      "C:\\Users\\sande\\anaconda3\\lib\\site-packages\\sklearn\\linear_model\\_logistic.py:1483: UserWarning: Setting penalty='none' will ignore the C and l1_ratio parameters\n",
      "  warnings.warn(\n"
     ]
    },
    {
     "name": "stdout",
     "output_type": "stream",
     "text": [
      "[CV] END .......C=5, l1_ratio=0.75, penalty=none, solver=sag; total time=   0.7s\n"
     ]
    },
    {
     "name": "stderr",
     "output_type": "stream",
     "text": [
      "C:\\Users\\sande\\anaconda3\\lib\\site-packages\\sklearn\\linear_model\\_sag.py:352: ConvergenceWarning: The max_iter was reached which means the coef_ did not converge\n",
      "  warnings.warn(\n",
      "C:\\Users\\sande\\anaconda3\\lib\\site-packages\\sklearn\\linear_model\\_logistic.py:1476: UserWarning: l1_ratio parameter is only used when penalty is 'elasticnet'. Got (penalty=none)\n",
      "  warnings.warn(\n",
      "C:\\Users\\sande\\anaconda3\\lib\\site-packages\\sklearn\\linear_model\\_logistic.py:1483: UserWarning: Setting penalty='none' will ignore the C and l1_ratio parameters\n",
      "  warnings.warn(\n"
     ]
    },
    {
     "name": "stdout",
     "output_type": "stream",
     "text": [
      "[CV] END .......C=5, l1_ratio=0.75, penalty=none, solver=sag; total time=   0.7s\n"
     ]
    },
    {
     "name": "stderr",
     "output_type": "stream",
     "text": [
      "C:\\Users\\sande\\anaconda3\\lib\\site-packages\\sklearn\\linear_model\\_sag.py:352: ConvergenceWarning: The max_iter was reached which means the coef_ did not converge\n",
      "  warnings.warn(\n",
      "C:\\Users\\sande\\anaconda3\\lib\\site-packages\\sklearn\\linear_model\\_logistic.py:1476: UserWarning: l1_ratio parameter is only used when penalty is 'elasticnet'. Got (penalty=none)\n",
      "  warnings.warn(\n",
      "C:\\Users\\sande\\anaconda3\\lib\\site-packages\\sklearn\\linear_model\\_logistic.py:1483: UserWarning: Setting penalty='none' will ignore the C and l1_ratio parameters\n",
      "  warnings.warn(\n"
     ]
    },
    {
     "name": "stdout",
     "output_type": "stream",
     "text": [
      "[CV] END .......C=5, l1_ratio=0.75, penalty=none, solver=sag; total time=   0.7s\n"
     ]
    },
    {
     "name": "stderr",
     "output_type": "stream",
     "text": [
      "C:\\Users\\sande\\anaconda3\\lib\\site-packages\\sklearn\\linear_model\\_sag.py:352: ConvergenceWarning: The max_iter was reached which means the coef_ did not converge\n",
      "  warnings.warn(\n",
      "C:\\Users\\sande\\anaconda3\\lib\\site-packages\\sklearn\\linear_model\\_logistic.py:1476: UserWarning: l1_ratio parameter is only used when penalty is 'elasticnet'. Got (penalty=none)\n",
      "  warnings.warn(\n",
      "C:\\Users\\sande\\anaconda3\\lib\\site-packages\\sklearn\\linear_model\\_logistic.py:1483: UserWarning: Setting penalty='none' will ignore the C and l1_ratio parameters\n",
      "  warnings.warn(\n"
     ]
    },
    {
     "name": "stdout",
     "output_type": "stream",
     "text": [
      "[CV] END .......C=5, l1_ratio=0.75, penalty=none, solver=sag; total time=   0.7s\n",
      "[CV] END .......C=5, l1_ratio=0.75, penalty=none, solver=sag; total time=   0.4s\n"
     ]
    },
    {
     "name": "stderr",
     "output_type": "stream",
     "text": [
      "C:\\Users\\sande\\anaconda3\\lib\\site-packages\\sklearn\\linear_model\\_logistic.py:1476: UserWarning: l1_ratio parameter is only used when penalty is 'elasticnet'. Got (penalty=none)\n",
      "  warnings.warn(\n",
      "C:\\Users\\sande\\anaconda3\\lib\\site-packages\\sklearn\\linear_model\\_logistic.py:1483: UserWarning: Setting penalty='none' will ignore the C and l1_ratio parameters\n",
      "  warnings.warn(\n",
      "C:\\Users\\sande\\anaconda3\\lib\\site-packages\\sklearn\\linear_model\\_sag.py:352: ConvergenceWarning: The max_iter was reached which means the coef_ did not converge\n",
      "  warnings.warn(\n",
      "C:\\Users\\sande\\anaconda3\\lib\\site-packages\\sklearn\\linear_model\\_logistic.py:1476: UserWarning: l1_ratio parameter is only used when penalty is 'elasticnet'. Got (penalty=none)\n",
      "  warnings.warn(\n",
      "C:\\Users\\sande\\anaconda3\\lib\\site-packages\\sklearn\\linear_model\\_logistic.py:1483: UserWarning: Setting penalty='none' will ignore the C and l1_ratio parameters\n",
      "  warnings.warn(\n"
     ]
    },
    {
     "name": "stdout",
     "output_type": "stream",
     "text": [
      "[CV] END ......C=5, l1_ratio=0.75, penalty=none, solver=saga; total time=   0.8s\n"
     ]
    },
    {
     "name": "stderr",
     "output_type": "stream",
     "text": [
      "C:\\Users\\sande\\anaconda3\\lib\\site-packages\\sklearn\\linear_model\\_sag.py:352: ConvergenceWarning: The max_iter was reached which means the coef_ did not converge\n",
      "  warnings.warn(\n",
      "C:\\Users\\sande\\anaconda3\\lib\\site-packages\\sklearn\\linear_model\\_logistic.py:1476: UserWarning: l1_ratio parameter is only used when penalty is 'elasticnet'. Got (penalty=none)\n",
      "  warnings.warn(\n",
      "C:\\Users\\sande\\anaconda3\\lib\\site-packages\\sklearn\\linear_model\\_logistic.py:1483: UserWarning: Setting penalty='none' will ignore the C and l1_ratio parameters\n",
      "  warnings.warn(\n"
     ]
    },
    {
     "name": "stdout",
     "output_type": "stream",
     "text": [
      "[CV] END ......C=5, l1_ratio=0.75, penalty=none, solver=saga; total time=   0.8s\n"
     ]
    },
    {
     "name": "stderr",
     "output_type": "stream",
     "text": [
      "C:\\Users\\sande\\anaconda3\\lib\\site-packages\\sklearn\\linear_model\\_sag.py:352: ConvergenceWarning: The max_iter was reached which means the coef_ did not converge\n",
      "  warnings.warn(\n",
      "C:\\Users\\sande\\anaconda3\\lib\\site-packages\\sklearn\\linear_model\\_logistic.py:1476: UserWarning: l1_ratio parameter is only used when penalty is 'elasticnet'. Got (penalty=none)\n",
      "  warnings.warn(\n",
      "C:\\Users\\sande\\anaconda3\\lib\\site-packages\\sklearn\\linear_model\\_logistic.py:1483: UserWarning: Setting penalty='none' will ignore the C and l1_ratio parameters\n",
      "  warnings.warn(\n"
     ]
    },
    {
     "name": "stdout",
     "output_type": "stream",
     "text": [
      "[CV] END ......C=5, l1_ratio=0.75, penalty=none, solver=saga; total time=   0.8s\n"
     ]
    },
    {
     "name": "stderr",
     "output_type": "stream",
     "text": [
      "C:\\Users\\sande\\anaconda3\\lib\\site-packages\\sklearn\\linear_model\\_sag.py:352: ConvergenceWarning: The max_iter was reached which means the coef_ did not converge\n",
      "  warnings.warn(\n",
      "C:\\Users\\sande\\anaconda3\\lib\\site-packages\\sklearn\\linear_model\\_logistic.py:1476: UserWarning: l1_ratio parameter is only used when penalty is 'elasticnet'. Got (penalty=none)\n",
      "  warnings.warn(\n",
      "C:\\Users\\sande\\anaconda3\\lib\\site-packages\\sklearn\\linear_model\\_logistic.py:1483: UserWarning: Setting penalty='none' will ignore the C and l1_ratio parameters\n",
      "  warnings.warn(\n"
     ]
    },
    {
     "name": "stdout",
     "output_type": "stream",
     "text": [
      "[CV] END ......C=5, l1_ratio=0.75, penalty=none, solver=saga; total time=   0.8s\n",
      "[CV] END ......C=5, l1_ratio=0.75, penalty=none, solver=saga; total time=   0.7s\n",
      "[CV] END ...C=5, l1_ratio=0.95, penalty=l1, solver=newton-cg; total time=   0.0s\n",
      "[CV] END ...C=5, l1_ratio=0.95, penalty=l1, solver=newton-cg; total time=   0.0s\n",
      "[CV] END ...C=5, l1_ratio=0.95, penalty=l1, solver=newton-cg; total time=   0.0s\n",
      "[CV] END ...C=5, l1_ratio=0.95, penalty=l1, solver=newton-cg; total time=   0.0s\n",
      "[CV] END ...C=5, l1_ratio=0.95, penalty=l1, solver=newton-cg; total time=   0.0s\n",
      "[CV] END .......C=5, l1_ratio=0.95, penalty=l1, solver=lbfgs; total time=   0.0s\n",
      "[CV] END .......C=5, l1_ratio=0.95, penalty=l1, solver=lbfgs; total time=   0.0s\n",
      "[CV] END .......C=5, l1_ratio=0.95, penalty=l1, solver=lbfgs; total time=   0.0s\n",
      "[CV] END .......C=5, l1_ratio=0.95, penalty=l1, solver=lbfgs; total time=   0.0s\n",
      "[CV] END .......C=5, l1_ratio=0.95, penalty=l1, solver=lbfgs; total time=   0.0s\n",
      "[CV] END ...C=5, l1_ratio=0.95, penalty=l1, solver=liblinear; total time=   0.0s\n",
      "[CV] END ...C=5, l1_ratio=0.95, penalty=l1, solver=liblinear; total time=   0.0s\n",
      "[CV] END ...C=5, l1_ratio=0.95, penalty=l1, solver=liblinear; total time=   0.0s\n"
     ]
    },
    {
     "name": "stderr",
     "output_type": "stream",
     "text": [
      "C:\\Users\\sande\\anaconda3\\lib\\site-packages\\sklearn\\linear_model\\_logistic.py:1476: UserWarning: l1_ratio parameter is only used when penalty is 'elasticnet'. Got (penalty=l1)\n",
      "  warnings.warn(\n",
      "C:\\Users\\sande\\anaconda3\\lib\\site-packages\\sklearn\\linear_model\\_logistic.py:1476: UserWarning: l1_ratio parameter is only used when penalty is 'elasticnet'. Got (penalty=l1)\n",
      "  warnings.warn(\n",
      "C:\\Users\\sande\\anaconda3\\lib\\site-packages\\sklearn\\linear_model\\_logistic.py:1476: UserWarning: l1_ratio parameter is only used when penalty is 'elasticnet'. Got (penalty=l1)\n",
      "  warnings.warn(\n",
      "C:\\Users\\sande\\anaconda3\\lib\\site-packages\\sklearn\\linear_model\\_logistic.py:1476: UserWarning: l1_ratio parameter is only used when penalty is 'elasticnet'. Got (penalty=l1)\n",
      "  warnings.warn(\n"
     ]
    },
    {
     "name": "stdout",
     "output_type": "stream",
     "text": [
      "[CV] END ...C=5, l1_ratio=0.95, penalty=l1, solver=liblinear; total time=   0.0s\n",
      "[CV] END ...C=5, l1_ratio=0.95, penalty=l1, solver=liblinear; total time=   0.0s\n",
      "[CV] END .........C=5, l1_ratio=0.95, penalty=l1, solver=sag; total time=   0.0s\n",
      "[CV] END .........C=5, l1_ratio=0.95, penalty=l1, solver=sag; total time=   0.0s\n",
      "[CV] END .........C=5, l1_ratio=0.95, penalty=l1, solver=sag; total time=   0.0s\n",
      "[CV] END .........C=5, l1_ratio=0.95, penalty=l1, solver=sag; total time=   0.0s\n",
      "[CV] END .........C=5, l1_ratio=0.95, penalty=l1, solver=sag; total time=   0.0s\n"
     ]
    },
    {
     "name": "stderr",
     "output_type": "stream",
     "text": [
      "C:\\Users\\sande\\anaconda3\\lib\\site-packages\\sklearn\\linear_model\\_logistic.py:1476: UserWarning: l1_ratio parameter is only used when penalty is 'elasticnet'. Got (penalty=l1)\n",
      "  warnings.warn(\n",
      "C:\\Users\\sande\\anaconda3\\lib\\site-packages\\sklearn\\linear_model\\_logistic.py:1476: UserWarning: l1_ratio parameter is only used when penalty is 'elasticnet'. Got (penalty=l1)\n",
      "  warnings.warn(\n"
     ]
    },
    {
     "name": "stdout",
     "output_type": "stream",
     "text": [
      "[CV] END ........C=5, l1_ratio=0.95, penalty=l1, solver=saga; total time=   0.5s\n"
     ]
    },
    {
     "name": "stderr",
     "output_type": "stream",
     "text": [
      "C:\\Users\\sande\\anaconda3\\lib\\site-packages\\sklearn\\linear_model\\_logistic.py:1476: UserWarning: l1_ratio parameter is only used when penalty is 'elasticnet'. Got (penalty=l1)\n",
      "  warnings.warn(\n"
     ]
    },
    {
     "name": "stdout",
     "output_type": "stream",
     "text": [
      "[CV] END ........C=5, l1_ratio=0.95, penalty=l1, solver=saga; total time=   0.3s\n"
     ]
    },
    {
     "name": "stderr",
     "output_type": "stream",
     "text": [
      "C:\\Users\\sande\\anaconda3\\lib\\site-packages\\sklearn\\linear_model\\_logistic.py:1476: UserWarning: l1_ratio parameter is only used when penalty is 'elasticnet'. Got (penalty=l1)\n",
      "  warnings.warn(\n"
     ]
    },
    {
     "name": "stdout",
     "output_type": "stream",
     "text": [
      "[CV] END ........C=5, l1_ratio=0.95, penalty=l1, solver=saga; total time=   0.4s\n"
     ]
    },
    {
     "name": "stderr",
     "output_type": "stream",
     "text": [
      "C:\\Users\\sande\\anaconda3\\lib\\site-packages\\sklearn\\linear_model\\_logistic.py:1476: UserWarning: l1_ratio parameter is only used when penalty is 'elasticnet'. Got (penalty=l1)\n",
      "  warnings.warn(\n"
     ]
    },
    {
     "name": "stdout",
     "output_type": "stream",
     "text": [
      "[CV] END ........C=5, l1_ratio=0.95, penalty=l1, solver=saga; total time=   0.4s\n"
     ]
    },
    {
     "name": "stderr",
     "output_type": "stream",
     "text": [
      "C:\\Users\\sande\\anaconda3\\lib\\site-packages\\sklearn\\linear_model\\_logistic.py:1476: UserWarning: l1_ratio parameter is only used when penalty is 'elasticnet'. Got (penalty=l1)\n",
      "  warnings.warn(\n"
     ]
    },
    {
     "name": "stdout",
     "output_type": "stream",
     "text": [
      "[CV] END ........C=5, l1_ratio=0.95, penalty=l1, solver=saga; total time=   0.1s\n",
      "[CV] END ...C=5, l1_ratio=0.95, penalty=l2, solver=newton-cg; total time=   0.0s\n",
      "[CV] END ...C=5, l1_ratio=0.95, penalty=l2, solver=newton-cg; total time=   0.0s\n",
      "[CV] END ...C=5, l1_ratio=0.95, penalty=l2, solver=newton-cg; total time=   0.0s\n",
      "[CV] END ...C=5, l1_ratio=0.95, penalty=l2, solver=newton-cg; total time=   0.0s\n",
      "[CV] END ...C=5, l1_ratio=0.95, penalty=l2, solver=newton-cg; total time=   0.0s\n",
      "[CV] END .......C=5, l1_ratio=0.95, penalty=l2, solver=lbfgs; total time=   0.0s\n"
     ]
    },
    {
     "name": "stderr",
     "output_type": "stream",
     "text": [
      "C:\\Users\\sande\\anaconda3\\lib\\site-packages\\sklearn\\linear_model\\_logistic.py:1476: UserWarning: l1_ratio parameter is only used when penalty is 'elasticnet'. Got (penalty=l2)\n",
      "  warnings.warn(\n",
      "C:\\Users\\sande\\anaconda3\\lib\\site-packages\\sklearn\\linear_model\\_logistic.py:1476: UserWarning: l1_ratio parameter is only used when penalty is 'elasticnet'. Got (penalty=l2)\n",
      "  warnings.warn(\n",
      "C:\\Users\\sande\\anaconda3\\lib\\site-packages\\sklearn\\linear_model\\_logistic.py:1476: UserWarning: l1_ratio parameter is only used when penalty is 'elasticnet'. Got (penalty=l2)\n",
      "  warnings.warn(\n",
      "C:\\Users\\sande\\anaconda3\\lib\\site-packages\\sklearn\\linear_model\\_logistic.py:1476: UserWarning: l1_ratio parameter is only used when penalty is 'elasticnet'. Got (penalty=l2)\n",
      "  warnings.warn(\n",
      "C:\\Users\\sande\\anaconda3\\lib\\site-packages\\sklearn\\linear_model\\_logistic.py:1476: UserWarning: l1_ratio parameter is only used when penalty is 'elasticnet'. Got (penalty=l2)\n",
      "  warnings.warn(\n",
      "C:\\Users\\sande\\anaconda3\\lib\\site-packages\\sklearn\\linear_model\\_logistic.py:1476: UserWarning: l1_ratio parameter is only used when penalty is 'elasticnet'. Got (penalty=l2)\n",
      "  warnings.warn(\n",
      "C:\\Users\\sande\\anaconda3\\lib\\site-packages\\sklearn\\linear_model\\_logistic.py:1476: UserWarning: l1_ratio parameter is only used when penalty is 'elasticnet'. Got (penalty=l2)\n",
      "  warnings.warn(\n",
      "C:\\Users\\sande\\anaconda3\\lib\\site-packages\\sklearn\\linear_model\\_logistic.py:1476: UserWarning: l1_ratio parameter is only used when penalty is 'elasticnet'. Got (penalty=l2)\n",
      "  warnings.warn(\n",
      "C:\\Users\\sande\\anaconda3\\lib\\site-packages\\sklearn\\linear_model\\_logistic.py:1476: UserWarning: l1_ratio parameter is only used when penalty is 'elasticnet'. Got (penalty=l2)\n",
      "  warnings.warn(\n",
      "C:\\Users\\sande\\anaconda3\\lib\\site-packages\\sklearn\\linear_model\\_logistic.py:1476: UserWarning: l1_ratio parameter is only used when penalty is 'elasticnet'. Got (penalty=l2)\n",
      "  warnings.warn(\n",
      "C:\\Users\\sande\\anaconda3\\lib\\site-packages\\sklearn\\linear_model\\_logistic.py:1476: UserWarning: l1_ratio parameter is only used when penalty is 'elasticnet'. Got (penalty=l2)\n",
      "  warnings.warn(\n",
      "C:\\Users\\sande\\anaconda3\\lib\\site-packages\\sklearn\\linear_model\\_logistic.py:1476: UserWarning: l1_ratio parameter is only used when penalty is 'elasticnet'. Got (penalty=l2)\n",
      "  warnings.warn(\n",
      "C:\\Users\\sande\\anaconda3\\lib\\site-packages\\sklearn\\linear_model\\_logistic.py:1476: UserWarning: l1_ratio parameter is only used when penalty is 'elasticnet'. Got (penalty=l2)\n",
      "  warnings.warn(\n",
      "C:\\Users\\sande\\anaconda3\\lib\\site-packages\\sklearn\\linear_model\\_logistic.py:1476: UserWarning: l1_ratio parameter is only used when penalty is 'elasticnet'. Got (penalty=l2)\n",
      "  warnings.warn(\n"
     ]
    },
    {
     "name": "stdout",
     "output_type": "stream",
     "text": [
      "[CV] END .......C=5, l1_ratio=0.95, penalty=l2, solver=lbfgs; total time=   0.0s\n",
      "[CV] END .......C=5, l1_ratio=0.95, penalty=l2, solver=lbfgs; total time=   0.0s\n",
      "[CV] END .......C=5, l1_ratio=0.95, penalty=l2, solver=lbfgs; total time=   0.0s\n",
      "[CV] END .......C=5, l1_ratio=0.95, penalty=l2, solver=lbfgs; total time=   0.0s\n",
      "[CV] END ...C=5, l1_ratio=0.95, penalty=l2, solver=liblinear; total time=   0.0s\n",
      "[CV] END ...C=5, l1_ratio=0.95, penalty=l2, solver=liblinear; total time=   0.0s\n",
      "[CV] END ...C=5, l1_ratio=0.95, penalty=l2, solver=liblinear; total time=   0.0s\n",
      "[CV] END ...C=5, l1_ratio=0.95, penalty=l2, solver=liblinear; total time=   0.0s\n",
      "[CV] END ...C=5, l1_ratio=0.95, penalty=l2, solver=liblinear; total time=   0.0s\n"
     ]
    },
    {
     "name": "stderr",
     "output_type": "stream",
     "text": [
      "C:\\Users\\sande\\anaconda3\\lib\\site-packages\\sklearn\\linear_model\\_logistic.py:1476: UserWarning: l1_ratio parameter is only used when penalty is 'elasticnet'. Got (penalty=l2)\n",
      "  warnings.warn(\n",
      "C:\\Users\\sande\\anaconda3\\lib\\site-packages\\sklearn\\linear_model\\_logistic.py:1476: UserWarning: l1_ratio parameter is only used when penalty is 'elasticnet'. Got (penalty=l2)\n",
      "  warnings.warn(\n"
     ]
    },
    {
     "name": "stdout",
     "output_type": "stream",
     "text": [
      "[CV] END .........C=5, l1_ratio=0.95, penalty=l2, solver=sag; total time=   0.1s\n",
      "[CV] END .........C=5, l1_ratio=0.95, penalty=l2, solver=sag; total time=   0.1s\n"
     ]
    },
    {
     "name": "stderr",
     "output_type": "stream",
     "text": [
      "C:\\Users\\sande\\anaconda3\\lib\\site-packages\\sklearn\\linear_model\\_logistic.py:1476: UserWarning: l1_ratio parameter is only used when penalty is 'elasticnet'. Got (penalty=l2)\n",
      "  warnings.warn(\n",
      "C:\\Users\\sande\\anaconda3\\lib\\site-packages\\sklearn\\linear_model\\_logistic.py:1476: UserWarning: l1_ratio parameter is only used when penalty is 'elasticnet'. Got (penalty=l2)\n",
      "  warnings.warn(\n"
     ]
    },
    {
     "name": "stdout",
     "output_type": "stream",
     "text": [
      "[CV] END .........C=5, l1_ratio=0.95, penalty=l2, solver=sag; total time=   0.1s\n",
      "[CV] END .........C=5, l1_ratio=0.95, penalty=l2, solver=sag; total time=   0.1s\n"
     ]
    },
    {
     "name": "stderr",
     "output_type": "stream",
     "text": [
      "C:\\Users\\sande\\anaconda3\\lib\\site-packages\\sklearn\\linear_model\\_logistic.py:1476: UserWarning: l1_ratio parameter is only used when penalty is 'elasticnet'. Got (penalty=l2)\n",
      "  warnings.warn(\n",
      "C:\\Users\\sande\\anaconda3\\lib\\site-packages\\sklearn\\linear_model\\_logistic.py:1476: UserWarning: l1_ratio parameter is only used when penalty is 'elasticnet'. Got (penalty=l2)\n",
      "  warnings.warn(\n"
     ]
    },
    {
     "name": "stdout",
     "output_type": "stream",
     "text": [
      "[CV] END .........C=5, l1_ratio=0.95, penalty=l2, solver=sag; total time=   0.1s\n",
      "[CV] END ........C=5, l1_ratio=0.95, penalty=l2, solver=saga; total time=   0.1s\n"
     ]
    },
    {
     "name": "stderr",
     "output_type": "stream",
     "text": [
      "C:\\Users\\sande\\anaconda3\\lib\\site-packages\\sklearn\\linear_model\\_logistic.py:1476: UserWarning: l1_ratio parameter is only used when penalty is 'elasticnet'. Got (penalty=l2)\n",
      "  warnings.warn(\n",
      "C:\\Users\\sande\\anaconda3\\lib\\site-packages\\sklearn\\linear_model\\_logistic.py:1476: UserWarning: l1_ratio parameter is only used when penalty is 'elasticnet'. Got (penalty=l2)\n",
      "  warnings.warn(\n"
     ]
    },
    {
     "name": "stdout",
     "output_type": "stream",
     "text": [
      "[CV] END ........C=5, l1_ratio=0.95, penalty=l2, solver=saga; total time=   0.2s\n"
     ]
    },
    {
     "name": "stderr",
     "output_type": "stream",
     "text": [
      "C:\\Users\\sande\\anaconda3\\lib\\site-packages\\sklearn\\linear_model\\_logistic.py:1476: UserWarning: l1_ratio parameter is only used when penalty is 'elasticnet'. Got (penalty=l2)\n",
      "  warnings.warn(\n"
     ]
    },
    {
     "name": "stdout",
     "output_type": "stream",
     "text": [
      "[CV] END ........C=5, l1_ratio=0.95, penalty=l2, solver=saga; total time=   0.2s\n"
     ]
    },
    {
     "name": "stderr",
     "output_type": "stream",
     "text": [
      "C:\\Users\\sande\\anaconda3\\lib\\site-packages\\sklearn\\linear_model\\_logistic.py:1476: UserWarning: l1_ratio parameter is only used when penalty is 'elasticnet'. Got (penalty=l2)\n",
      "  warnings.warn(\n"
     ]
    },
    {
     "name": "stdout",
     "output_type": "stream",
     "text": [
      "[CV] END ........C=5, l1_ratio=0.95, penalty=l2, solver=saga; total time=   0.2s\n"
     ]
    },
    {
     "name": "stderr",
     "output_type": "stream",
     "text": [
      "C:\\Users\\sande\\anaconda3\\lib\\site-packages\\sklearn\\linear_model\\_logistic.py:1476: UserWarning: l1_ratio parameter is only used when penalty is 'elasticnet'. Got (penalty=l2)\n",
      "  warnings.warn(\n"
     ]
    },
    {
     "name": "stdout",
     "output_type": "stream",
     "text": [
      "[CV] END ........C=5, l1_ratio=0.95, penalty=l2, solver=saga; total time=   0.2s\n",
      "[CV] END C=5, l1_ratio=0.95, penalty=elasticnet, solver=newton-cg; total time=   0.0s\n",
      "[CV] END C=5, l1_ratio=0.95, penalty=elasticnet, solver=newton-cg; total time=   0.0s\n",
      "[CV] END C=5, l1_ratio=0.95, penalty=elasticnet, solver=newton-cg; total time=   0.0s\n",
      "[CV] END C=5, l1_ratio=0.95, penalty=elasticnet, solver=newton-cg; total time=   0.0s\n",
      "[CV] END C=5, l1_ratio=0.95, penalty=elasticnet, solver=newton-cg; total time=   0.0s\n",
      "[CV] END C=5, l1_ratio=0.95, penalty=elasticnet, solver=lbfgs; total time=   0.0s\n",
      "[CV] END C=5, l1_ratio=0.95, penalty=elasticnet, solver=lbfgs; total time=   0.0s\n",
      "[CV] END C=5, l1_ratio=0.95, penalty=elasticnet, solver=lbfgs; total time=   0.0s\n",
      "[CV] END C=5, l1_ratio=0.95, penalty=elasticnet, solver=lbfgs; total time=   0.0s\n",
      "[CV] END C=5, l1_ratio=0.95, penalty=elasticnet, solver=lbfgs; total time=   0.0s\n",
      "[CV] END C=5, l1_ratio=0.95, penalty=elasticnet, solver=liblinear; total time=   0.0s\n",
      "[CV] END C=5, l1_ratio=0.95, penalty=elasticnet, solver=liblinear; total time=   0.0s\n",
      "[CV] END C=5, l1_ratio=0.95, penalty=elasticnet, solver=liblinear; total time=   0.0s\n",
      "[CV] END C=5, l1_ratio=0.95, penalty=elasticnet, solver=liblinear; total time=   0.0s\n",
      "[CV] END C=5, l1_ratio=0.95, penalty=elasticnet, solver=liblinear; total time=   0.0s\n",
      "[CV] END .C=5, l1_ratio=0.95, penalty=elasticnet, solver=sag; total time=   0.0s\n",
      "[CV] END .C=5, l1_ratio=0.95, penalty=elasticnet, solver=sag; total time=   0.0s\n",
      "[CV] END .C=5, l1_ratio=0.95, penalty=elasticnet, solver=sag; total time=   0.0s\n",
      "[CV] END .C=5, l1_ratio=0.95, penalty=elasticnet, solver=sag; total time=   0.0s\n",
      "[CV] END .C=5, l1_ratio=0.95, penalty=elasticnet, solver=sag; total time=   0.0s\n",
      "[CV] END C=5, l1_ratio=0.95, penalty=elasticnet, solver=saga; total time=   0.5s\n",
      "[CV] END C=5, l1_ratio=0.95, penalty=elasticnet, solver=saga; total time=   0.4s\n",
      "[CV] END C=5, l1_ratio=0.95, penalty=elasticnet, solver=saga; total time=   0.5s\n",
      "[CV] END C=5, l1_ratio=0.95, penalty=elasticnet, solver=saga; total time=   0.4s\n",
      "[CV] END C=5, l1_ratio=0.95, penalty=elasticnet, solver=saga; total time=   0.1s\n"
     ]
    },
    {
     "name": "stderr",
     "output_type": "stream",
     "text": [
      "C:\\Users\\sande\\anaconda3\\lib\\site-packages\\sklearn\\linear_model\\_logistic.py:1476: UserWarning: l1_ratio parameter is only used when penalty is 'elasticnet'. Got (penalty=none)\n",
      "  warnings.warn(\n",
      "C:\\Users\\sande\\anaconda3\\lib\\site-packages\\sklearn\\linear_model\\_logistic.py:1483: UserWarning: Setting penalty='none' will ignore the C and l1_ratio parameters\n",
      "  warnings.warn(\n",
      "C:\\Users\\sande\\anaconda3\\lib\\site-packages\\sklearn\\linear_model\\_logistic.py:1476: UserWarning: l1_ratio parameter is only used when penalty is 'elasticnet'. Got (penalty=none)\n",
      "  warnings.warn(\n",
      "C:\\Users\\sande\\anaconda3\\lib\\site-packages\\sklearn\\linear_model\\_logistic.py:1483: UserWarning: Setting penalty='none' will ignore the C and l1_ratio parameters\n",
      "  warnings.warn(\n",
      "C:\\Users\\sande\\anaconda3\\lib\\site-packages\\sklearn\\linear_model\\_logistic.py:1476: UserWarning: l1_ratio parameter is only used when penalty is 'elasticnet'. Got (penalty=none)\n",
      "  warnings.warn(\n",
      "C:\\Users\\sande\\anaconda3\\lib\\site-packages\\sklearn\\linear_model\\_logistic.py:1483: UserWarning: Setting penalty='none' will ignore the C and l1_ratio parameters\n",
      "  warnings.warn(\n"
     ]
    },
    {
     "name": "stdout",
     "output_type": "stream",
     "text": [
      "[CV] END .C=5, l1_ratio=0.95, penalty=none, solver=newton-cg; total time=   0.0s\n",
      "[CV] END .C=5, l1_ratio=0.95, penalty=none, solver=newton-cg; total time=   0.0s\n",
      "[CV] END .C=5, l1_ratio=0.95, penalty=none, solver=newton-cg; total time=   0.0s\n"
     ]
    },
    {
     "name": "stderr",
     "output_type": "stream",
     "text": [
      "C:\\Users\\sande\\anaconda3\\lib\\site-packages\\sklearn\\linear_model\\_logistic.py:1476: UserWarning: l1_ratio parameter is only used when penalty is 'elasticnet'. Got (penalty=none)\n",
      "  warnings.warn(\n",
      "C:\\Users\\sande\\anaconda3\\lib\\site-packages\\sklearn\\linear_model\\_logistic.py:1483: UserWarning: Setting penalty='none' will ignore the C and l1_ratio parameters\n",
      "  warnings.warn(\n",
      "C:\\Users\\sande\\anaconda3\\lib\\site-packages\\sklearn\\linear_model\\_logistic.py:1476: UserWarning: l1_ratio parameter is only used when penalty is 'elasticnet'. Got (penalty=none)\n",
      "  warnings.warn(\n",
      "C:\\Users\\sande\\anaconda3\\lib\\site-packages\\sklearn\\linear_model\\_logistic.py:1483: UserWarning: Setting penalty='none' will ignore the C and l1_ratio parameters\n",
      "  warnings.warn(\n",
      "C:\\Users\\sande\\anaconda3\\lib\\site-packages\\sklearn\\linear_model\\_logistic.py:1476: UserWarning: l1_ratio parameter is only used when penalty is 'elasticnet'. Got (penalty=none)\n",
      "  warnings.warn(\n",
      "C:\\Users\\sande\\anaconda3\\lib\\site-packages\\sklearn\\linear_model\\_logistic.py:1483: UserWarning: Setting penalty='none' will ignore the C and l1_ratio parameters\n",
      "  warnings.warn(\n"
     ]
    },
    {
     "name": "stdout",
     "output_type": "stream",
     "text": [
      "[CV] END .C=5, l1_ratio=0.95, penalty=none, solver=newton-cg; total time=   0.0s\n",
      "[CV] END .C=5, l1_ratio=0.95, penalty=none, solver=newton-cg; total time=   0.0s\n",
      "[CV] END .....C=5, l1_ratio=0.95, penalty=none, solver=lbfgs; total time=   0.0s\n",
      "[CV] END .....C=5, l1_ratio=0.95, penalty=none, solver=lbfgs; total time=   0.0s\n"
     ]
    },
    {
     "name": "stderr",
     "output_type": "stream",
     "text": [
      "C:\\Users\\sande\\anaconda3\\lib\\site-packages\\sklearn\\linear_model\\_logistic.py:1476: UserWarning: l1_ratio parameter is only used when penalty is 'elasticnet'. Got (penalty=none)\n",
      "  warnings.warn(\n",
      "C:\\Users\\sande\\anaconda3\\lib\\site-packages\\sklearn\\linear_model\\_logistic.py:1483: UserWarning: Setting penalty='none' will ignore the C and l1_ratio parameters\n",
      "  warnings.warn(\n",
      "C:\\Users\\sande\\anaconda3\\lib\\site-packages\\sklearn\\linear_model\\_logistic.py:1476: UserWarning: l1_ratio parameter is only used when penalty is 'elasticnet'. Got (penalty=none)\n",
      "  warnings.warn(\n",
      "C:\\Users\\sande\\anaconda3\\lib\\site-packages\\sklearn\\linear_model\\_logistic.py:1483: UserWarning: Setting penalty='none' will ignore the C and l1_ratio parameters\n",
      "  warnings.warn(\n",
      "C:\\Users\\sande\\anaconda3\\lib\\site-packages\\sklearn\\linear_model\\_logistic.py:1476: UserWarning: l1_ratio parameter is only used when penalty is 'elasticnet'. Got (penalty=none)\n",
      "  warnings.warn(\n",
      "C:\\Users\\sande\\anaconda3\\lib\\site-packages\\sklearn\\linear_model\\_logistic.py:1483: UserWarning: Setting penalty='none' will ignore the C and l1_ratio parameters\n",
      "  warnings.warn(\n"
     ]
    },
    {
     "name": "stdout",
     "output_type": "stream",
     "text": [
      "[CV] END .....C=5, l1_ratio=0.95, penalty=none, solver=lbfgs; total time=   0.0s\n",
      "[CV] END .....C=5, l1_ratio=0.95, penalty=none, solver=lbfgs; total time=   0.0s\n",
      "[CV] END .....C=5, l1_ratio=0.95, penalty=none, solver=lbfgs; total time=   0.0s\n",
      "[CV] END .C=5, l1_ratio=0.95, penalty=none, solver=liblinear; total time=   0.0s\n",
      "[CV] END .C=5, l1_ratio=0.95, penalty=none, solver=liblinear; total time=   0.0s\n",
      "[CV] END .C=5, l1_ratio=0.95, penalty=none, solver=liblinear; total time=   0.0s\n",
      "[CV] END .C=5, l1_ratio=0.95, penalty=none, solver=liblinear; total time=   0.0s\n",
      "[CV] END .C=5, l1_ratio=0.95, penalty=none, solver=liblinear; total time=   0.0s\n"
     ]
    },
    {
     "name": "stderr",
     "output_type": "stream",
     "text": [
      "C:\\Users\\sande\\anaconda3\\lib\\site-packages\\sklearn\\linear_model\\_logistic.py:1476: UserWarning: l1_ratio parameter is only used when penalty is 'elasticnet'. Got (penalty=none)\n",
      "  warnings.warn(\n",
      "C:\\Users\\sande\\anaconda3\\lib\\site-packages\\sklearn\\linear_model\\_logistic.py:1483: UserWarning: Setting penalty='none' will ignore the C and l1_ratio parameters\n",
      "  warnings.warn(\n",
      "C:\\Users\\sande\\anaconda3\\lib\\site-packages\\sklearn\\linear_model\\_logistic.py:1476: UserWarning: l1_ratio parameter is only used when penalty is 'elasticnet'. Got (penalty=none)\n",
      "  warnings.warn(\n",
      "C:\\Users\\sande\\anaconda3\\lib\\site-packages\\sklearn\\linear_model\\_logistic.py:1483: UserWarning: Setting penalty='none' will ignore the C and l1_ratio parameters\n",
      "  warnings.warn(\n",
      "C:\\Users\\sande\\anaconda3\\lib\\site-packages\\sklearn\\linear_model\\_sag.py:352: ConvergenceWarning: The max_iter was reached which means the coef_ did not converge\n",
      "  warnings.warn(\n",
      "C:\\Users\\sande\\anaconda3\\lib\\site-packages\\sklearn\\linear_model\\_logistic.py:1476: UserWarning: l1_ratio parameter is only used when penalty is 'elasticnet'. Got (penalty=none)\n",
      "  warnings.warn(\n",
      "C:\\Users\\sande\\anaconda3\\lib\\site-packages\\sklearn\\linear_model\\_logistic.py:1483: UserWarning: Setting penalty='none' will ignore the C and l1_ratio parameters\n",
      "  warnings.warn(\n"
     ]
    },
    {
     "name": "stdout",
     "output_type": "stream",
     "text": [
      "[CV] END .......C=5, l1_ratio=0.95, penalty=none, solver=sag; total time=   0.7s\n"
     ]
    },
    {
     "name": "stderr",
     "output_type": "stream",
     "text": [
      "C:\\Users\\sande\\anaconda3\\lib\\site-packages\\sklearn\\linear_model\\_sag.py:352: ConvergenceWarning: The max_iter was reached which means the coef_ did not converge\n",
      "  warnings.warn(\n",
      "C:\\Users\\sande\\anaconda3\\lib\\site-packages\\sklearn\\linear_model\\_logistic.py:1476: UserWarning: l1_ratio parameter is only used when penalty is 'elasticnet'. Got (penalty=none)\n",
      "  warnings.warn(\n",
      "C:\\Users\\sande\\anaconda3\\lib\\site-packages\\sklearn\\linear_model\\_logistic.py:1483: UserWarning: Setting penalty='none' will ignore the C and l1_ratio parameters\n",
      "  warnings.warn(\n"
     ]
    },
    {
     "name": "stdout",
     "output_type": "stream",
     "text": [
      "[CV] END .......C=5, l1_ratio=0.95, penalty=none, solver=sag; total time=   0.7s\n"
     ]
    },
    {
     "name": "stderr",
     "output_type": "stream",
     "text": [
      "C:\\Users\\sande\\anaconda3\\lib\\site-packages\\sklearn\\linear_model\\_sag.py:352: ConvergenceWarning: The max_iter was reached which means the coef_ did not converge\n",
      "  warnings.warn(\n",
      "C:\\Users\\sande\\anaconda3\\lib\\site-packages\\sklearn\\linear_model\\_logistic.py:1476: UserWarning: l1_ratio parameter is only used when penalty is 'elasticnet'. Got (penalty=none)\n",
      "  warnings.warn(\n",
      "C:\\Users\\sande\\anaconda3\\lib\\site-packages\\sklearn\\linear_model\\_logistic.py:1483: UserWarning: Setting penalty='none' will ignore the C and l1_ratio parameters\n",
      "  warnings.warn(\n"
     ]
    },
    {
     "name": "stdout",
     "output_type": "stream",
     "text": [
      "[CV] END .......C=5, l1_ratio=0.95, penalty=none, solver=sag; total time=   0.7s\n"
     ]
    },
    {
     "name": "stderr",
     "output_type": "stream",
     "text": [
      "C:\\Users\\sande\\anaconda3\\lib\\site-packages\\sklearn\\linear_model\\_sag.py:352: ConvergenceWarning: The max_iter was reached which means the coef_ did not converge\n",
      "  warnings.warn(\n",
      "C:\\Users\\sande\\anaconda3\\lib\\site-packages\\sklearn\\linear_model\\_logistic.py:1476: UserWarning: l1_ratio parameter is only used when penalty is 'elasticnet'. Got (penalty=none)\n",
      "  warnings.warn(\n",
      "C:\\Users\\sande\\anaconda3\\lib\\site-packages\\sklearn\\linear_model\\_logistic.py:1483: UserWarning: Setting penalty='none' will ignore the C and l1_ratio parameters\n",
      "  warnings.warn(\n"
     ]
    },
    {
     "name": "stdout",
     "output_type": "stream",
     "text": [
      "[CV] END .......C=5, l1_ratio=0.95, penalty=none, solver=sag; total time=   0.7s\n",
      "[CV] END .......C=5, l1_ratio=0.95, penalty=none, solver=sag; total time=   0.4s\n"
     ]
    },
    {
     "name": "stderr",
     "output_type": "stream",
     "text": [
      "C:\\Users\\sande\\anaconda3\\lib\\site-packages\\sklearn\\linear_model\\_logistic.py:1476: UserWarning: l1_ratio parameter is only used when penalty is 'elasticnet'. Got (penalty=none)\n",
      "  warnings.warn(\n",
      "C:\\Users\\sande\\anaconda3\\lib\\site-packages\\sklearn\\linear_model\\_logistic.py:1483: UserWarning: Setting penalty='none' will ignore the C and l1_ratio parameters\n",
      "  warnings.warn(\n",
      "C:\\Users\\sande\\anaconda3\\lib\\site-packages\\sklearn\\linear_model\\_sag.py:352: ConvergenceWarning: The max_iter was reached which means the coef_ did not converge\n",
      "  warnings.warn(\n",
      "C:\\Users\\sande\\anaconda3\\lib\\site-packages\\sklearn\\linear_model\\_logistic.py:1476: UserWarning: l1_ratio parameter is only used when penalty is 'elasticnet'. Got (penalty=none)\n",
      "  warnings.warn(\n",
      "C:\\Users\\sande\\anaconda3\\lib\\site-packages\\sklearn\\linear_model\\_logistic.py:1483: UserWarning: Setting penalty='none' will ignore the C and l1_ratio parameters\n",
      "  warnings.warn(\n"
     ]
    },
    {
     "name": "stdout",
     "output_type": "stream",
     "text": [
      "[CV] END ......C=5, l1_ratio=0.95, penalty=none, solver=saga; total time=   0.8s\n"
     ]
    },
    {
     "name": "stderr",
     "output_type": "stream",
     "text": [
      "C:\\Users\\sande\\anaconda3\\lib\\site-packages\\sklearn\\linear_model\\_sag.py:352: ConvergenceWarning: The max_iter was reached which means the coef_ did not converge\n",
      "  warnings.warn(\n",
      "C:\\Users\\sande\\anaconda3\\lib\\site-packages\\sklearn\\linear_model\\_logistic.py:1476: UserWarning: l1_ratio parameter is only used when penalty is 'elasticnet'. Got (penalty=none)\n",
      "  warnings.warn(\n",
      "C:\\Users\\sande\\anaconda3\\lib\\site-packages\\sklearn\\linear_model\\_logistic.py:1483: UserWarning: Setting penalty='none' will ignore the C and l1_ratio parameters\n",
      "  warnings.warn(\n"
     ]
    },
    {
     "name": "stdout",
     "output_type": "stream",
     "text": [
      "[CV] END ......C=5, l1_ratio=0.95, penalty=none, solver=saga; total time=   0.8s\n"
     ]
    },
    {
     "name": "stderr",
     "output_type": "stream",
     "text": [
      "C:\\Users\\sande\\anaconda3\\lib\\site-packages\\sklearn\\linear_model\\_sag.py:352: ConvergenceWarning: The max_iter was reached which means the coef_ did not converge\n",
      "  warnings.warn(\n",
      "C:\\Users\\sande\\anaconda3\\lib\\site-packages\\sklearn\\linear_model\\_logistic.py:1476: UserWarning: l1_ratio parameter is only used when penalty is 'elasticnet'. Got (penalty=none)\n",
      "  warnings.warn(\n",
      "C:\\Users\\sande\\anaconda3\\lib\\site-packages\\sklearn\\linear_model\\_logistic.py:1483: UserWarning: Setting penalty='none' will ignore the C and l1_ratio parameters\n",
      "  warnings.warn(\n"
     ]
    },
    {
     "name": "stdout",
     "output_type": "stream",
     "text": [
      "[CV] END ......C=5, l1_ratio=0.95, penalty=none, solver=saga; total time=   0.8s\n"
     ]
    },
    {
     "name": "stderr",
     "output_type": "stream",
     "text": [
      "C:\\Users\\sande\\anaconda3\\lib\\site-packages\\sklearn\\linear_model\\_sag.py:352: ConvergenceWarning: The max_iter was reached which means the coef_ did not converge\n",
      "  warnings.warn(\n",
      "C:\\Users\\sande\\anaconda3\\lib\\site-packages\\sklearn\\linear_model\\_logistic.py:1476: UserWarning: l1_ratio parameter is only used when penalty is 'elasticnet'. Got (penalty=none)\n",
      "  warnings.warn(\n",
      "C:\\Users\\sande\\anaconda3\\lib\\site-packages\\sklearn\\linear_model\\_logistic.py:1483: UserWarning: Setting penalty='none' will ignore the C and l1_ratio parameters\n",
      "  warnings.warn(\n"
     ]
    },
    {
     "name": "stdout",
     "output_type": "stream",
     "text": [
      "[CV] END ......C=5, l1_ratio=0.95, penalty=none, solver=saga; total time=   0.8s\n",
      "[CV] END ......C=5, l1_ratio=0.95, penalty=none, solver=saga; total time=   0.6s\n",
      "[CV] END ......C=5, l1_ratio=1, penalty=l1, solver=newton-cg; total time=   0.0s\n",
      "[CV] END ......C=5, l1_ratio=1, penalty=l1, solver=newton-cg; total time=   0.0s\n",
      "[CV] END ......C=5, l1_ratio=1, penalty=l1, solver=newton-cg; total time=   0.0s\n",
      "[CV] END ......C=5, l1_ratio=1, penalty=l1, solver=newton-cg; total time=   0.0s\n",
      "[CV] END ......C=5, l1_ratio=1, penalty=l1, solver=newton-cg; total time=   0.0s\n",
      "[CV] END ..........C=5, l1_ratio=1, penalty=l1, solver=lbfgs; total time=   0.0s\n",
      "[CV] END ..........C=5, l1_ratio=1, penalty=l1, solver=lbfgs; total time=   0.0s\n",
      "[CV] END ..........C=5, l1_ratio=1, penalty=l1, solver=lbfgs; total time=   0.0s\n",
      "[CV] END ..........C=5, l1_ratio=1, penalty=l1, solver=lbfgs; total time=   0.0s\n",
      "[CV] END ..........C=5, l1_ratio=1, penalty=l1, solver=lbfgs; total time=   0.0s\n",
      "[CV] END ......C=5, l1_ratio=1, penalty=l1, solver=liblinear; total time=   0.0s\n",
      "[CV] END ......C=5, l1_ratio=1, penalty=l1, solver=liblinear; total time=   0.0s\n",
      "[CV] END ......C=5, l1_ratio=1, penalty=l1, solver=liblinear; total time=   0.0s\n",
      "[CV] END ......C=5, l1_ratio=1, penalty=l1, solver=liblinear; total time=   0.0s\n",
      "[CV] END ......C=5, l1_ratio=1, penalty=l1, solver=liblinear; total time=   0.0s\n"
     ]
    },
    {
     "name": "stderr",
     "output_type": "stream",
     "text": [
      "C:\\Users\\sande\\anaconda3\\lib\\site-packages\\sklearn\\linear_model\\_logistic.py:1476: UserWarning: l1_ratio parameter is only used when penalty is 'elasticnet'. Got (penalty=l1)\n",
      "  warnings.warn(\n",
      "C:\\Users\\sande\\anaconda3\\lib\\site-packages\\sklearn\\linear_model\\_logistic.py:1476: UserWarning: l1_ratio parameter is only used when penalty is 'elasticnet'. Got (penalty=l1)\n",
      "  warnings.warn(\n",
      "C:\\Users\\sande\\anaconda3\\lib\\site-packages\\sklearn\\linear_model\\_logistic.py:1476: UserWarning: l1_ratio parameter is only used when penalty is 'elasticnet'. Got (penalty=l1)\n",
      "  warnings.warn(\n",
      "C:\\Users\\sande\\anaconda3\\lib\\site-packages\\sklearn\\linear_model\\_logistic.py:1476: UserWarning: l1_ratio parameter is only used when penalty is 'elasticnet'. Got (penalty=l1)\n",
      "  warnings.warn(\n",
      "C:\\Users\\sande\\anaconda3\\lib\\site-packages\\sklearn\\linear_model\\_logistic.py:1476: UserWarning: l1_ratio parameter is only used when penalty is 'elasticnet'. Got (penalty=l1)\n",
      "  warnings.warn(\n"
     ]
    },
    {
     "name": "stdout",
     "output_type": "stream",
     "text": [
      "[CV] END ............C=5, l1_ratio=1, penalty=l1, solver=sag; total time=   0.0s\n",
      "[CV] END ............C=5, l1_ratio=1, penalty=l1, solver=sag; total time=   0.0s\n",
      "[CV] END ............C=5, l1_ratio=1, penalty=l1, solver=sag; total time=   0.0s\n",
      "[CV] END ............C=5, l1_ratio=1, penalty=l1, solver=sag; total time=   0.0s\n",
      "[CV] END ............C=5, l1_ratio=1, penalty=l1, solver=sag; total time=   0.0s\n"
     ]
    },
    {
     "name": "stderr",
     "output_type": "stream",
     "text": [
      "C:\\Users\\sande\\anaconda3\\lib\\site-packages\\sklearn\\linear_model\\_logistic.py:1476: UserWarning: l1_ratio parameter is only used when penalty is 'elasticnet'. Got (penalty=l1)\n",
      "  warnings.warn(\n"
     ]
    },
    {
     "name": "stdout",
     "output_type": "stream",
     "text": [
      "[CV] END ...........C=5, l1_ratio=1, penalty=l1, solver=saga; total time=   0.5s\n"
     ]
    },
    {
     "name": "stderr",
     "output_type": "stream",
     "text": [
      "C:\\Users\\sande\\anaconda3\\lib\\site-packages\\sklearn\\linear_model\\_logistic.py:1476: UserWarning: l1_ratio parameter is only used when penalty is 'elasticnet'. Got (penalty=l1)\n",
      "  warnings.warn(\n"
     ]
    },
    {
     "name": "stdout",
     "output_type": "stream",
     "text": [
      "[CV] END ...........C=5, l1_ratio=1, penalty=l1, solver=saga; total time=   0.3s\n"
     ]
    },
    {
     "name": "stderr",
     "output_type": "stream",
     "text": [
      "C:\\Users\\sande\\anaconda3\\lib\\site-packages\\sklearn\\linear_model\\_logistic.py:1476: UserWarning: l1_ratio parameter is only used when penalty is 'elasticnet'. Got (penalty=l1)\n",
      "  warnings.warn(\n"
     ]
    },
    {
     "name": "stdout",
     "output_type": "stream",
     "text": [
      "[CV] END ...........C=5, l1_ratio=1, penalty=l1, solver=saga; total time=   0.4s\n"
     ]
    },
    {
     "name": "stderr",
     "output_type": "stream",
     "text": [
      "C:\\Users\\sande\\anaconda3\\lib\\site-packages\\sklearn\\linear_model\\_logistic.py:1476: UserWarning: l1_ratio parameter is only used when penalty is 'elasticnet'. Got (penalty=l1)\n",
      "  warnings.warn(\n"
     ]
    },
    {
     "name": "stdout",
     "output_type": "stream",
     "text": [
      "[CV] END ...........C=5, l1_ratio=1, penalty=l1, solver=saga; total time=   0.4s\n"
     ]
    },
    {
     "name": "stderr",
     "output_type": "stream",
     "text": [
      "C:\\Users\\sande\\anaconda3\\lib\\site-packages\\sklearn\\linear_model\\_logistic.py:1476: UserWarning: l1_ratio parameter is only used when penalty is 'elasticnet'. Got (penalty=l1)\n",
      "  warnings.warn(\n"
     ]
    },
    {
     "name": "stdout",
     "output_type": "stream",
     "text": [
      "[CV] END ...........C=5, l1_ratio=1, penalty=l1, solver=saga; total time=   0.1s\n",
      "[CV] END ......C=5, l1_ratio=1, penalty=l2, solver=newton-cg; total time=   0.0s\n",
      "[CV] END ......C=5, l1_ratio=1, penalty=l2, solver=newton-cg; total time=   0.0s\n",
      "[CV] END ......C=5, l1_ratio=1, penalty=l2, solver=newton-cg; total time=   0.0s\n",
      "[CV] END ......C=5, l1_ratio=1, penalty=l2, solver=newton-cg; total time=   0.0s\n",
      "[CV] END ......C=5, l1_ratio=1, penalty=l2, solver=newton-cg; total time=   0.0s\n",
      "[CV] END ..........C=5, l1_ratio=1, penalty=l2, solver=lbfgs; total time=   0.0s\n"
     ]
    },
    {
     "name": "stderr",
     "output_type": "stream",
     "text": [
      "C:\\Users\\sande\\anaconda3\\lib\\site-packages\\sklearn\\linear_model\\_logistic.py:1476: UserWarning: l1_ratio parameter is only used when penalty is 'elasticnet'. Got (penalty=l2)\n",
      "  warnings.warn(\n",
      "C:\\Users\\sande\\anaconda3\\lib\\site-packages\\sklearn\\linear_model\\_logistic.py:1476: UserWarning: l1_ratio parameter is only used when penalty is 'elasticnet'. Got (penalty=l2)\n",
      "  warnings.warn(\n",
      "C:\\Users\\sande\\anaconda3\\lib\\site-packages\\sklearn\\linear_model\\_logistic.py:1476: UserWarning: l1_ratio parameter is only used when penalty is 'elasticnet'. Got (penalty=l2)\n",
      "  warnings.warn(\n",
      "C:\\Users\\sande\\anaconda3\\lib\\site-packages\\sklearn\\linear_model\\_logistic.py:1476: UserWarning: l1_ratio parameter is only used when penalty is 'elasticnet'. Got (penalty=l2)\n",
      "  warnings.warn(\n",
      "C:\\Users\\sande\\anaconda3\\lib\\site-packages\\sklearn\\linear_model\\_logistic.py:1476: UserWarning: l1_ratio parameter is only used when penalty is 'elasticnet'. Got (penalty=l2)\n",
      "  warnings.warn(\n",
      "C:\\Users\\sande\\anaconda3\\lib\\site-packages\\sklearn\\linear_model\\_logistic.py:1476: UserWarning: l1_ratio parameter is only used when penalty is 'elasticnet'. Got (penalty=l2)\n",
      "  warnings.warn(\n",
      "C:\\Users\\sande\\anaconda3\\lib\\site-packages\\sklearn\\linear_model\\_logistic.py:1476: UserWarning: l1_ratio parameter is only used when penalty is 'elasticnet'. Got (penalty=l2)\n",
      "  warnings.warn(\n",
      "C:\\Users\\sande\\anaconda3\\lib\\site-packages\\sklearn\\linear_model\\_logistic.py:1476: UserWarning: l1_ratio parameter is only used when penalty is 'elasticnet'. Got (penalty=l2)\n",
      "  warnings.warn(\n",
      "C:\\Users\\sande\\anaconda3\\lib\\site-packages\\sklearn\\linear_model\\_logistic.py:1476: UserWarning: l1_ratio parameter is only used when penalty is 'elasticnet'. Got (penalty=l2)\n",
      "  warnings.warn(\n",
      "C:\\Users\\sande\\anaconda3\\lib\\site-packages\\sklearn\\linear_model\\_logistic.py:1476: UserWarning: l1_ratio parameter is only used when penalty is 'elasticnet'. Got (penalty=l2)\n",
      "  warnings.warn(\n",
      "C:\\Users\\sande\\anaconda3\\lib\\site-packages\\sklearn\\linear_model\\_logistic.py:1476: UserWarning: l1_ratio parameter is only used when penalty is 'elasticnet'. Got (penalty=l2)\n",
      "  warnings.warn(\n",
      "C:\\Users\\sande\\anaconda3\\lib\\site-packages\\sklearn\\linear_model\\_logistic.py:1476: UserWarning: l1_ratio parameter is only used when penalty is 'elasticnet'. Got (penalty=l2)\n",
      "  warnings.warn(\n",
      "C:\\Users\\sande\\anaconda3\\lib\\site-packages\\sklearn\\linear_model\\_logistic.py:1476: UserWarning: l1_ratio parameter is only used when penalty is 'elasticnet'. Got (penalty=l2)\n",
      "  warnings.warn(\n"
     ]
    },
    {
     "name": "stdout",
     "output_type": "stream",
     "text": [
      "[CV] END ..........C=5, l1_ratio=1, penalty=l2, solver=lbfgs; total time=   0.0s\n",
      "[CV] END ..........C=5, l1_ratio=1, penalty=l2, solver=lbfgs; total time=   0.0s\n",
      "[CV] END ..........C=5, l1_ratio=1, penalty=l2, solver=lbfgs; total time=   0.0s\n",
      "[CV] END ..........C=5, l1_ratio=1, penalty=l2, solver=lbfgs; total time=   0.0s\n",
      "[CV] END ......C=5, l1_ratio=1, penalty=l2, solver=liblinear; total time=   0.0s\n",
      "[CV] END ......C=5, l1_ratio=1, penalty=l2, solver=liblinear; total time=   0.0s\n",
      "[CV] END ......C=5, l1_ratio=1, penalty=l2, solver=liblinear; total time=   0.0s\n",
      "[CV] END ......C=5, l1_ratio=1, penalty=l2, solver=liblinear; total time=   0.0s\n",
      "[CV] END ......C=5, l1_ratio=1, penalty=l2, solver=liblinear; total time=   0.0s\n"
     ]
    },
    {
     "name": "stderr",
     "output_type": "stream",
     "text": [
      "C:\\Users\\sande\\anaconda3\\lib\\site-packages\\sklearn\\linear_model\\_logistic.py:1476: UserWarning: l1_ratio parameter is only used when penalty is 'elasticnet'. Got (penalty=l2)\n",
      "  warnings.warn(\n",
      "C:\\Users\\sande\\anaconda3\\lib\\site-packages\\sklearn\\linear_model\\_logistic.py:1476: UserWarning: l1_ratio parameter is only used when penalty is 'elasticnet'. Got (penalty=l2)\n",
      "  warnings.warn(\n",
      "C:\\Users\\sande\\anaconda3\\lib\\site-packages\\sklearn\\linear_model\\_logistic.py:1476: UserWarning: l1_ratio parameter is only used when penalty is 'elasticnet'. Got (penalty=l2)\n",
      "  warnings.warn(\n"
     ]
    },
    {
     "name": "stdout",
     "output_type": "stream",
     "text": [
      "[CV] END ............C=5, l1_ratio=1, penalty=l2, solver=sag; total time=   0.1s\n",
      "[CV] END ............C=5, l1_ratio=1, penalty=l2, solver=sag; total time=   0.1s\n"
     ]
    },
    {
     "name": "stderr",
     "output_type": "stream",
     "text": [
      "C:\\Users\\sande\\anaconda3\\lib\\site-packages\\sklearn\\linear_model\\_logistic.py:1476: UserWarning: l1_ratio parameter is only used when penalty is 'elasticnet'. Got (penalty=l2)\n",
      "  warnings.warn(\n",
      "C:\\Users\\sande\\anaconda3\\lib\\site-packages\\sklearn\\linear_model\\_logistic.py:1476: UserWarning: l1_ratio parameter is only used when penalty is 'elasticnet'. Got (penalty=l2)\n",
      "  warnings.warn(\n"
     ]
    },
    {
     "name": "stdout",
     "output_type": "stream",
     "text": [
      "[CV] END ............C=5, l1_ratio=1, penalty=l2, solver=sag; total time=   0.1s\n",
      "[CV] END ............C=5, l1_ratio=1, penalty=l2, solver=sag; total time=   0.1s\n"
     ]
    },
    {
     "name": "stderr",
     "output_type": "stream",
     "text": [
      "C:\\Users\\sande\\anaconda3\\lib\\site-packages\\sklearn\\linear_model\\_logistic.py:1476: UserWarning: l1_ratio parameter is only used when penalty is 'elasticnet'. Got (penalty=l2)\n",
      "  warnings.warn(\n",
      "C:\\Users\\sande\\anaconda3\\lib\\site-packages\\sklearn\\linear_model\\_logistic.py:1476: UserWarning: l1_ratio parameter is only used when penalty is 'elasticnet'. Got (penalty=l2)\n",
      "  warnings.warn(\n"
     ]
    },
    {
     "name": "stdout",
     "output_type": "stream",
     "text": [
      "[CV] END ............C=5, l1_ratio=1, penalty=l2, solver=sag; total time=   0.1s\n"
     ]
    },
    {
     "name": "stderr",
     "output_type": "stream",
     "text": [
      "C:\\Users\\sande\\anaconda3\\lib\\site-packages\\sklearn\\linear_model\\_logistic.py:1476: UserWarning: l1_ratio parameter is only used when penalty is 'elasticnet'. Got (penalty=l2)\n",
      "  warnings.warn(\n"
     ]
    },
    {
     "name": "stdout",
     "output_type": "stream",
     "text": [
      "[CV] END ...........C=5, l1_ratio=1, penalty=l2, solver=saga; total time=   0.1s\n"
     ]
    },
    {
     "name": "stderr",
     "output_type": "stream",
     "text": [
      "C:\\Users\\sande\\anaconda3\\lib\\site-packages\\sklearn\\linear_model\\_logistic.py:1476: UserWarning: l1_ratio parameter is only used when penalty is 'elasticnet'. Got (penalty=l2)\n",
      "  warnings.warn(\n"
     ]
    },
    {
     "name": "stdout",
     "output_type": "stream",
     "text": [
      "[CV] END ...........C=5, l1_ratio=1, penalty=l2, solver=saga; total time=   0.2s\n"
     ]
    },
    {
     "name": "stderr",
     "output_type": "stream",
     "text": [
      "C:\\Users\\sande\\anaconda3\\lib\\site-packages\\sklearn\\linear_model\\_logistic.py:1476: UserWarning: l1_ratio parameter is only used when penalty is 'elasticnet'. Got (penalty=l2)\n",
      "  warnings.warn(\n"
     ]
    },
    {
     "name": "stdout",
     "output_type": "stream",
     "text": [
      "[CV] END ...........C=5, l1_ratio=1, penalty=l2, solver=saga; total time=   0.2s\n"
     ]
    },
    {
     "name": "stderr",
     "output_type": "stream",
     "text": [
      "C:\\Users\\sande\\anaconda3\\lib\\site-packages\\sklearn\\linear_model\\_logistic.py:1476: UserWarning: l1_ratio parameter is only used when penalty is 'elasticnet'. Got (penalty=l2)\n",
      "  warnings.warn(\n"
     ]
    },
    {
     "name": "stdout",
     "output_type": "stream",
     "text": [
      "[CV] END ...........C=5, l1_ratio=1, penalty=l2, solver=saga; total time=   0.2s\n"
     ]
    },
    {
     "name": "stderr",
     "output_type": "stream",
     "text": [
      "C:\\Users\\sande\\anaconda3\\lib\\site-packages\\sklearn\\linear_model\\_logistic.py:1476: UserWarning: l1_ratio parameter is only used when penalty is 'elasticnet'. Got (penalty=l2)\n",
      "  warnings.warn(\n"
     ]
    },
    {
     "name": "stdout",
     "output_type": "stream",
     "text": [
      "[CV] END ...........C=5, l1_ratio=1, penalty=l2, solver=saga; total time=   0.2s\n",
      "[CV] END C=5, l1_ratio=1, penalty=elasticnet, solver=newton-cg; total time=   0.0s\n",
      "[CV] END C=5, l1_ratio=1, penalty=elasticnet, solver=newton-cg; total time=   0.0s\n",
      "[CV] END C=5, l1_ratio=1, penalty=elasticnet, solver=newton-cg; total time=   0.0s\n",
      "[CV] END C=5, l1_ratio=1, penalty=elasticnet, solver=newton-cg; total time=   0.0s\n",
      "[CV] END C=5, l1_ratio=1, penalty=elasticnet, solver=newton-cg; total time=   0.0s\n",
      "[CV] END ..C=5, l1_ratio=1, penalty=elasticnet, solver=lbfgs; total time=   0.0s\n",
      "[CV] END ..C=5, l1_ratio=1, penalty=elasticnet, solver=lbfgs; total time=   0.0s\n",
      "[CV] END ..C=5, l1_ratio=1, penalty=elasticnet, solver=lbfgs; total time=   0.0s\n",
      "[CV] END ..C=5, l1_ratio=1, penalty=elasticnet, solver=lbfgs; total time=   0.0s\n",
      "[CV] END ..C=5, l1_ratio=1, penalty=elasticnet, solver=lbfgs; total time=   0.0s\n",
      "[CV] END C=5, l1_ratio=1, penalty=elasticnet, solver=liblinear; total time=   0.0s\n",
      "[CV] END C=5, l1_ratio=1, penalty=elasticnet, solver=liblinear; total time=   0.0s\n",
      "[CV] END C=5, l1_ratio=1, penalty=elasticnet, solver=liblinear; total time=   0.0s\n",
      "[CV] END C=5, l1_ratio=1, penalty=elasticnet, solver=liblinear; total time=   0.0s\n",
      "[CV] END C=5, l1_ratio=1, penalty=elasticnet, solver=liblinear; total time=   0.0s\n",
      "[CV] END ....C=5, l1_ratio=1, penalty=elasticnet, solver=sag; total time=   0.0s\n",
      "[CV] END ....C=5, l1_ratio=1, penalty=elasticnet, solver=sag; total time=   0.0s\n",
      "[CV] END ....C=5, l1_ratio=1, penalty=elasticnet, solver=sag; total time=   0.0s\n",
      "[CV] END ....C=5, l1_ratio=1, penalty=elasticnet, solver=sag; total time=   0.0s\n",
      "[CV] END ....C=5, l1_ratio=1, penalty=elasticnet, solver=sag; total time=   0.0s\n",
      "[CV] END ...C=5, l1_ratio=1, penalty=elasticnet, solver=saga; total time=   0.5s\n",
      "[CV] END ...C=5, l1_ratio=1, penalty=elasticnet, solver=saga; total time=   0.4s\n",
      "[CV] END ...C=5, l1_ratio=1, penalty=elasticnet, solver=saga; total time=   0.4s\n",
      "[CV] END ...C=5, l1_ratio=1, penalty=elasticnet, solver=saga; total time=   0.4s\n",
      "[CV] END ...C=5, l1_ratio=1, penalty=elasticnet, solver=saga; total time=   0.1s\n"
     ]
    },
    {
     "name": "stderr",
     "output_type": "stream",
     "text": [
      "C:\\Users\\sande\\anaconda3\\lib\\site-packages\\sklearn\\linear_model\\_logistic.py:1476: UserWarning: l1_ratio parameter is only used when penalty is 'elasticnet'. Got (penalty=none)\n",
      "  warnings.warn(\n",
      "C:\\Users\\sande\\anaconda3\\lib\\site-packages\\sklearn\\linear_model\\_logistic.py:1483: UserWarning: Setting penalty='none' will ignore the C and l1_ratio parameters\n",
      "  warnings.warn(\n",
      "C:\\Users\\sande\\anaconda3\\lib\\site-packages\\sklearn\\linear_model\\_logistic.py:1476: UserWarning: l1_ratio parameter is only used when penalty is 'elasticnet'. Got (penalty=none)\n",
      "  warnings.warn(\n",
      "C:\\Users\\sande\\anaconda3\\lib\\site-packages\\sklearn\\linear_model\\_logistic.py:1483: UserWarning: Setting penalty='none' will ignore the C and l1_ratio parameters\n",
      "  warnings.warn(\n",
      "C:\\Users\\sande\\anaconda3\\lib\\site-packages\\sklearn\\linear_model\\_logistic.py:1476: UserWarning: l1_ratio parameter is only used when penalty is 'elasticnet'. Got (penalty=none)\n",
      "  warnings.warn(\n",
      "C:\\Users\\sande\\anaconda3\\lib\\site-packages\\sklearn\\linear_model\\_logistic.py:1483: UserWarning: Setting penalty='none' will ignore the C and l1_ratio parameters\n",
      "  warnings.warn(\n"
     ]
    },
    {
     "name": "stdout",
     "output_type": "stream",
     "text": [
      "[CV] END ....C=5, l1_ratio=1, penalty=none, solver=newton-cg; total time=   0.0s\n",
      "[CV] END ....C=5, l1_ratio=1, penalty=none, solver=newton-cg; total time=   0.0s\n",
      "[CV] END ....C=5, l1_ratio=1, penalty=none, solver=newton-cg; total time=   0.0s\n"
     ]
    },
    {
     "name": "stderr",
     "output_type": "stream",
     "text": [
      "C:\\Users\\sande\\anaconda3\\lib\\site-packages\\sklearn\\linear_model\\_logistic.py:1476: UserWarning: l1_ratio parameter is only used when penalty is 'elasticnet'. Got (penalty=none)\n",
      "  warnings.warn(\n",
      "C:\\Users\\sande\\anaconda3\\lib\\site-packages\\sklearn\\linear_model\\_logistic.py:1483: UserWarning: Setting penalty='none' will ignore the C and l1_ratio parameters\n",
      "  warnings.warn(\n",
      "C:\\Users\\sande\\anaconda3\\lib\\site-packages\\sklearn\\linear_model\\_logistic.py:1476: UserWarning: l1_ratio parameter is only used when penalty is 'elasticnet'. Got (penalty=none)\n",
      "  warnings.warn(\n",
      "C:\\Users\\sande\\anaconda3\\lib\\site-packages\\sklearn\\linear_model\\_logistic.py:1483: UserWarning: Setting penalty='none' will ignore the C and l1_ratio parameters\n",
      "  warnings.warn(\n",
      "C:\\Users\\sande\\anaconda3\\lib\\site-packages\\sklearn\\linear_model\\_logistic.py:1476: UserWarning: l1_ratio parameter is only used when penalty is 'elasticnet'. Got (penalty=none)\n",
      "  warnings.warn(\n",
      "C:\\Users\\sande\\anaconda3\\lib\\site-packages\\sklearn\\linear_model\\_logistic.py:1483: UserWarning: Setting penalty='none' will ignore the C and l1_ratio parameters\n",
      "  warnings.warn(\n",
      "C:\\Users\\sande\\anaconda3\\lib\\site-packages\\sklearn\\linear_model\\_logistic.py:1476: UserWarning: l1_ratio parameter is only used when penalty is 'elasticnet'. Got (penalty=none)\n",
      "  warnings.warn(\n",
      "C:\\Users\\sande\\anaconda3\\lib\\site-packages\\sklearn\\linear_model\\_logistic.py:1483: UserWarning: Setting penalty='none' will ignore the C and l1_ratio parameters\n",
      "  warnings.warn(\n"
     ]
    },
    {
     "name": "stdout",
     "output_type": "stream",
     "text": [
      "[CV] END ....C=5, l1_ratio=1, penalty=none, solver=newton-cg; total time=   0.0s\n",
      "[CV] END ....C=5, l1_ratio=1, penalty=none, solver=newton-cg; total time=   0.0s\n",
      "[CV] END ........C=5, l1_ratio=1, penalty=none, solver=lbfgs; total time=   0.0s\n",
      "[CV] END ........C=5, l1_ratio=1, penalty=none, solver=lbfgs; total time=   0.0s\n"
     ]
    },
    {
     "name": "stderr",
     "output_type": "stream",
     "text": [
      "C:\\Users\\sande\\anaconda3\\lib\\site-packages\\sklearn\\linear_model\\_logistic.py:1476: UserWarning: l1_ratio parameter is only used when penalty is 'elasticnet'. Got (penalty=none)\n",
      "  warnings.warn(\n",
      "C:\\Users\\sande\\anaconda3\\lib\\site-packages\\sklearn\\linear_model\\_logistic.py:1483: UserWarning: Setting penalty='none' will ignore the C and l1_ratio parameters\n",
      "  warnings.warn(\n",
      "C:\\Users\\sande\\anaconda3\\lib\\site-packages\\sklearn\\linear_model\\_logistic.py:1476: UserWarning: l1_ratio parameter is only used when penalty is 'elasticnet'. Got (penalty=none)\n",
      "  warnings.warn(\n",
      "C:\\Users\\sande\\anaconda3\\lib\\site-packages\\sklearn\\linear_model\\_logistic.py:1483: UserWarning: Setting penalty='none' will ignore the C and l1_ratio parameters\n",
      "  warnings.warn(\n"
     ]
    },
    {
     "name": "stdout",
     "output_type": "stream",
     "text": [
      "[CV] END ........C=5, l1_ratio=1, penalty=none, solver=lbfgs; total time=   0.0s\n",
      "[CV] END ........C=5, l1_ratio=1, penalty=none, solver=lbfgs; total time=   0.0s\n",
      "[CV] END ........C=5, l1_ratio=1, penalty=none, solver=lbfgs; total time=   0.0s\n",
      "[CV] END ....C=5, l1_ratio=1, penalty=none, solver=liblinear; total time=   0.0s\n",
      "[CV] END ....C=5, l1_ratio=1, penalty=none, solver=liblinear; total time=   0.0s\n",
      "[CV] END ....C=5, l1_ratio=1, penalty=none, solver=liblinear; total time=   0.0s\n",
      "[CV] END ....C=5, l1_ratio=1, penalty=none, solver=liblinear; total time=   0.0s\n",
      "[CV] END ....C=5, l1_ratio=1, penalty=none, solver=liblinear; total time=   0.0s\n"
     ]
    },
    {
     "name": "stderr",
     "output_type": "stream",
     "text": [
      "C:\\Users\\sande\\anaconda3\\lib\\site-packages\\sklearn\\linear_model\\_logistic.py:1476: UserWarning: l1_ratio parameter is only used when penalty is 'elasticnet'. Got (penalty=none)\n",
      "  warnings.warn(\n",
      "C:\\Users\\sande\\anaconda3\\lib\\site-packages\\sklearn\\linear_model\\_logistic.py:1483: UserWarning: Setting penalty='none' will ignore the C and l1_ratio parameters\n",
      "  warnings.warn(\n",
      "C:\\Users\\sande\\anaconda3\\lib\\site-packages\\sklearn\\linear_model\\_logistic.py:1476: UserWarning: l1_ratio parameter is only used when penalty is 'elasticnet'. Got (penalty=none)\n",
      "  warnings.warn(\n",
      "C:\\Users\\sande\\anaconda3\\lib\\site-packages\\sklearn\\linear_model\\_logistic.py:1483: UserWarning: Setting penalty='none' will ignore the C and l1_ratio parameters\n",
      "  warnings.warn(\n",
      "C:\\Users\\sande\\anaconda3\\lib\\site-packages\\sklearn\\linear_model\\_sag.py:352: ConvergenceWarning: The max_iter was reached which means the coef_ did not converge\n",
      "  warnings.warn(\n",
      "C:\\Users\\sande\\anaconda3\\lib\\site-packages\\sklearn\\linear_model\\_logistic.py:1476: UserWarning: l1_ratio parameter is only used when penalty is 'elasticnet'. Got (penalty=none)\n",
      "  warnings.warn(\n",
      "C:\\Users\\sande\\anaconda3\\lib\\site-packages\\sklearn\\linear_model\\_logistic.py:1483: UserWarning: Setting penalty='none' will ignore the C and l1_ratio parameters\n",
      "  warnings.warn(\n"
     ]
    },
    {
     "name": "stdout",
     "output_type": "stream",
     "text": [
      "[CV] END ..........C=5, l1_ratio=1, penalty=none, solver=sag; total time=   0.8s\n"
     ]
    },
    {
     "name": "stderr",
     "output_type": "stream",
     "text": [
      "C:\\Users\\sande\\anaconda3\\lib\\site-packages\\sklearn\\linear_model\\_sag.py:352: ConvergenceWarning: The max_iter was reached which means the coef_ did not converge\n",
      "  warnings.warn(\n",
      "C:\\Users\\sande\\anaconda3\\lib\\site-packages\\sklearn\\linear_model\\_logistic.py:1476: UserWarning: l1_ratio parameter is only used when penalty is 'elasticnet'. Got (penalty=none)\n",
      "  warnings.warn(\n",
      "C:\\Users\\sande\\anaconda3\\lib\\site-packages\\sklearn\\linear_model\\_logistic.py:1483: UserWarning: Setting penalty='none' will ignore the C and l1_ratio parameters\n",
      "  warnings.warn(\n"
     ]
    },
    {
     "name": "stdout",
     "output_type": "stream",
     "text": [
      "[CV] END ..........C=5, l1_ratio=1, penalty=none, solver=sag; total time=   0.7s\n"
     ]
    },
    {
     "name": "stderr",
     "output_type": "stream",
     "text": [
      "C:\\Users\\sande\\anaconda3\\lib\\site-packages\\sklearn\\linear_model\\_sag.py:352: ConvergenceWarning: The max_iter was reached which means the coef_ did not converge\n",
      "  warnings.warn(\n",
      "C:\\Users\\sande\\anaconda3\\lib\\site-packages\\sklearn\\linear_model\\_logistic.py:1476: UserWarning: l1_ratio parameter is only used when penalty is 'elasticnet'. Got (penalty=none)\n",
      "  warnings.warn(\n",
      "C:\\Users\\sande\\anaconda3\\lib\\site-packages\\sklearn\\linear_model\\_logistic.py:1483: UserWarning: Setting penalty='none' will ignore the C and l1_ratio parameters\n",
      "  warnings.warn(\n"
     ]
    },
    {
     "name": "stdout",
     "output_type": "stream",
     "text": [
      "[CV] END ..........C=5, l1_ratio=1, penalty=none, solver=sag; total time=   0.7s\n"
     ]
    },
    {
     "name": "stderr",
     "output_type": "stream",
     "text": [
      "C:\\Users\\sande\\anaconda3\\lib\\site-packages\\sklearn\\linear_model\\_sag.py:352: ConvergenceWarning: The max_iter was reached which means the coef_ did not converge\n",
      "  warnings.warn(\n",
      "C:\\Users\\sande\\anaconda3\\lib\\site-packages\\sklearn\\linear_model\\_logistic.py:1476: UserWarning: l1_ratio parameter is only used when penalty is 'elasticnet'. Got (penalty=none)\n",
      "  warnings.warn(\n",
      "C:\\Users\\sande\\anaconda3\\lib\\site-packages\\sklearn\\linear_model\\_logistic.py:1483: UserWarning: Setting penalty='none' will ignore the C and l1_ratio parameters\n",
      "  warnings.warn(\n"
     ]
    },
    {
     "name": "stdout",
     "output_type": "stream",
     "text": [
      "[CV] END ..........C=5, l1_ratio=1, penalty=none, solver=sag; total time=   0.7s\n",
      "[CV] END ..........C=5, l1_ratio=1, penalty=none, solver=sag; total time=   0.4s\n"
     ]
    },
    {
     "name": "stderr",
     "output_type": "stream",
     "text": [
      "C:\\Users\\sande\\anaconda3\\lib\\site-packages\\sklearn\\linear_model\\_logistic.py:1476: UserWarning: l1_ratio parameter is only used when penalty is 'elasticnet'. Got (penalty=none)\n",
      "  warnings.warn(\n",
      "C:\\Users\\sande\\anaconda3\\lib\\site-packages\\sklearn\\linear_model\\_logistic.py:1483: UserWarning: Setting penalty='none' will ignore the C and l1_ratio parameters\n",
      "  warnings.warn(\n",
      "C:\\Users\\sande\\anaconda3\\lib\\site-packages\\sklearn\\linear_model\\_sag.py:352: ConvergenceWarning: The max_iter was reached which means the coef_ did not converge\n",
      "  warnings.warn(\n",
      "C:\\Users\\sande\\anaconda3\\lib\\site-packages\\sklearn\\linear_model\\_logistic.py:1476: UserWarning: l1_ratio parameter is only used when penalty is 'elasticnet'. Got (penalty=none)\n",
      "  warnings.warn(\n",
      "C:\\Users\\sande\\anaconda3\\lib\\site-packages\\sklearn\\linear_model\\_logistic.py:1483: UserWarning: Setting penalty='none' will ignore the C and l1_ratio parameters\n",
      "  warnings.warn(\n"
     ]
    },
    {
     "name": "stdout",
     "output_type": "stream",
     "text": [
      "[CV] END .........C=5, l1_ratio=1, penalty=none, solver=saga; total time=   0.8s\n"
     ]
    },
    {
     "name": "stderr",
     "output_type": "stream",
     "text": [
      "C:\\Users\\sande\\anaconda3\\lib\\site-packages\\sklearn\\linear_model\\_sag.py:352: ConvergenceWarning: The max_iter was reached which means the coef_ did not converge\n",
      "  warnings.warn(\n",
      "C:\\Users\\sande\\anaconda3\\lib\\site-packages\\sklearn\\linear_model\\_logistic.py:1476: UserWarning: l1_ratio parameter is only used when penalty is 'elasticnet'. Got (penalty=none)\n",
      "  warnings.warn(\n",
      "C:\\Users\\sande\\anaconda3\\lib\\site-packages\\sklearn\\linear_model\\_logistic.py:1483: UserWarning: Setting penalty='none' will ignore the C and l1_ratio parameters\n",
      "  warnings.warn(\n"
     ]
    },
    {
     "name": "stdout",
     "output_type": "stream",
     "text": [
      "[CV] END .........C=5, l1_ratio=1, penalty=none, solver=saga; total time=   0.8s\n"
     ]
    },
    {
     "name": "stderr",
     "output_type": "stream",
     "text": [
      "C:\\Users\\sande\\anaconda3\\lib\\site-packages\\sklearn\\linear_model\\_sag.py:352: ConvergenceWarning: The max_iter was reached which means the coef_ did not converge\n",
      "  warnings.warn(\n",
      "C:\\Users\\sande\\anaconda3\\lib\\site-packages\\sklearn\\linear_model\\_logistic.py:1476: UserWarning: l1_ratio parameter is only used when penalty is 'elasticnet'. Got (penalty=none)\n",
      "  warnings.warn(\n",
      "C:\\Users\\sande\\anaconda3\\lib\\site-packages\\sklearn\\linear_model\\_logistic.py:1483: UserWarning: Setting penalty='none' will ignore the C and l1_ratio parameters\n",
      "  warnings.warn(\n"
     ]
    },
    {
     "name": "stdout",
     "output_type": "stream",
     "text": [
      "[CV] END .........C=5, l1_ratio=1, penalty=none, solver=saga; total time=   0.8s\n"
     ]
    },
    {
     "name": "stderr",
     "output_type": "stream",
     "text": [
      "C:\\Users\\sande\\anaconda3\\lib\\site-packages\\sklearn\\linear_model\\_sag.py:352: ConvergenceWarning: The max_iter was reached which means the coef_ did not converge\n",
      "  warnings.warn(\n",
      "C:\\Users\\sande\\anaconda3\\lib\\site-packages\\sklearn\\linear_model\\_logistic.py:1476: UserWarning: l1_ratio parameter is only used when penalty is 'elasticnet'. Got (penalty=none)\n",
      "  warnings.warn(\n",
      "C:\\Users\\sande\\anaconda3\\lib\\site-packages\\sklearn\\linear_model\\_logistic.py:1483: UserWarning: Setting penalty='none' will ignore the C and l1_ratio parameters\n",
      "  warnings.warn(\n"
     ]
    },
    {
     "name": "stdout",
     "output_type": "stream",
     "text": [
      "[CV] END .........C=5, l1_ratio=1, penalty=none, solver=saga; total time=   0.8s\n",
      "[CV] END .........C=5, l1_ratio=1, penalty=none, solver=saga; total time=   0.7s\n",
      "[CV] END ......C=8, l1_ratio=0, penalty=l1, solver=newton-cg; total time=   0.0s\n",
      "[CV] END ......C=8, l1_ratio=0, penalty=l1, solver=newton-cg; total time=   0.0s\n",
      "[CV] END ......C=8, l1_ratio=0, penalty=l1, solver=newton-cg; total time=   0.0s\n",
      "[CV] END ......C=8, l1_ratio=0, penalty=l1, solver=newton-cg; total time=   0.0s\n",
      "[CV] END ......C=8, l1_ratio=0, penalty=l1, solver=newton-cg; total time=   0.0s\n",
      "[CV] END ..........C=8, l1_ratio=0, penalty=l1, solver=lbfgs; total time=   0.0s\n",
      "[CV] END ..........C=8, l1_ratio=0, penalty=l1, solver=lbfgs; total time=   0.0s\n",
      "[CV] END ..........C=8, l1_ratio=0, penalty=l1, solver=lbfgs; total time=   0.0s\n",
      "[CV] END ..........C=8, l1_ratio=0, penalty=l1, solver=lbfgs; total time=   0.0s\n",
      "[CV] END ..........C=8, l1_ratio=0, penalty=l1, solver=lbfgs; total time=   0.0s\n",
      "[CV] END ......C=8, l1_ratio=0, penalty=l1, solver=liblinear; total time=   0.0s\n",
      "[CV] END ......C=8, l1_ratio=0, penalty=l1, solver=liblinear; total time=   0.0s\n",
      "[CV] END ......C=8, l1_ratio=0, penalty=l1, solver=liblinear; total time=   0.0s\n"
     ]
    },
    {
     "name": "stderr",
     "output_type": "stream",
     "text": [
      "C:\\Users\\sande\\anaconda3\\lib\\site-packages\\sklearn\\linear_model\\_logistic.py:1476: UserWarning: l1_ratio parameter is only used when penalty is 'elasticnet'. Got (penalty=l1)\n",
      "  warnings.warn(\n",
      "C:\\Users\\sande\\anaconda3\\lib\\site-packages\\sklearn\\linear_model\\_logistic.py:1476: UserWarning: l1_ratio parameter is only used when penalty is 'elasticnet'. Got (penalty=l1)\n",
      "  warnings.warn(\n",
      "C:\\Users\\sande\\anaconda3\\lib\\site-packages\\sklearn\\linear_model\\_logistic.py:1476: UserWarning: l1_ratio parameter is only used when penalty is 'elasticnet'. Got (penalty=l1)\n",
      "  warnings.warn(\n",
      "C:\\Users\\sande\\anaconda3\\lib\\site-packages\\sklearn\\linear_model\\_logistic.py:1476: UserWarning: l1_ratio parameter is only used when penalty is 'elasticnet'. Got (penalty=l1)\n",
      "  warnings.warn(\n"
     ]
    },
    {
     "name": "stdout",
     "output_type": "stream",
     "text": [
      "[CV] END ......C=8, l1_ratio=0, penalty=l1, solver=liblinear; total time=   0.0s\n",
      "[CV] END ......C=8, l1_ratio=0, penalty=l1, solver=liblinear; total time=   0.0s\n",
      "[CV] END ............C=8, l1_ratio=0, penalty=l1, solver=sag; total time=   0.0s\n",
      "[CV] END ............C=8, l1_ratio=0, penalty=l1, solver=sag; total time=   0.0s\n",
      "[CV] END ............C=8, l1_ratio=0, penalty=l1, solver=sag; total time=   0.0s\n",
      "[CV] END ............C=8, l1_ratio=0, penalty=l1, solver=sag; total time=   0.0s\n",
      "[CV] END ............C=8, l1_ratio=0, penalty=l1, solver=sag; total time=   0.0s\n"
     ]
    },
    {
     "name": "stderr",
     "output_type": "stream",
     "text": [
      "C:\\Users\\sande\\anaconda3\\lib\\site-packages\\sklearn\\linear_model\\_logistic.py:1476: UserWarning: l1_ratio parameter is only used when penalty is 'elasticnet'. Got (penalty=l1)\n",
      "  warnings.warn(\n",
      "C:\\Users\\sande\\anaconda3\\lib\\site-packages\\sklearn\\linear_model\\_logistic.py:1476: UserWarning: l1_ratio parameter is only used when penalty is 'elasticnet'. Got (penalty=l1)\n",
      "  warnings.warn(\n"
     ]
    },
    {
     "name": "stdout",
     "output_type": "stream",
     "text": [
      "[CV] END ...........C=8, l1_ratio=0, penalty=l1, solver=saga; total time=   0.5s\n"
     ]
    },
    {
     "name": "stderr",
     "output_type": "stream",
     "text": [
      "C:\\Users\\sande\\anaconda3\\lib\\site-packages\\sklearn\\linear_model\\_logistic.py:1476: UserWarning: l1_ratio parameter is only used when penalty is 'elasticnet'. Got (penalty=l1)\n",
      "  warnings.warn(\n"
     ]
    },
    {
     "name": "stdout",
     "output_type": "stream",
     "text": [
      "[CV] END ...........C=8, l1_ratio=0, penalty=l1, solver=saga; total time=   0.3s\n"
     ]
    },
    {
     "name": "stderr",
     "output_type": "stream",
     "text": [
      "C:\\Users\\sande\\anaconda3\\lib\\site-packages\\sklearn\\linear_model\\_logistic.py:1476: UserWarning: l1_ratio parameter is only used when penalty is 'elasticnet'. Got (penalty=l1)\n",
      "  warnings.warn(\n"
     ]
    },
    {
     "name": "stdout",
     "output_type": "stream",
     "text": [
      "[CV] END ...........C=8, l1_ratio=0, penalty=l1, solver=saga; total time=   0.5s\n"
     ]
    },
    {
     "name": "stderr",
     "output_type": "stream",
     "text": [
      "C:\\Users\\sande\\anaconda3\\lib\\site-packages\\sklearn\\linear_model\\_logistic.py:1476: UserWarning: l1_ratio parameter is only used when penalty is 'elasticnet'. Got (penalty=l1)\n",
      "  warnings.warn(\n"
     ]
    },
    {
     "name": "stdout",
     "output_type": "stream",
     "text": [
      "[CV] END ...........C=8, l1_ratio=0, penalty=l1, solver=saga; total time=   0.4s\n"
     ]
    },
    {
     "name": "stderr",
     "output_type": "stream",
     "text": [
      "C:\\Users\\sande\\anaconda3\\lib\\site-packages\\sklearn\\linear_model\\_logistic.py:1476: UserWarning: l1_ratio parameter is only used when penalty is 'elasticnet'. Got (penalty=l1)\n",
      "  warnings.warn(\n"
     ]
    },
    {
     "name": "stdout",
     "output_type": "stream",
     "text": [
      "[CV] END ...........C=8, l1_ratio=0, penalty=l1, solver=saga; total time=   0.1s\n",
      "[CV] END ......C=8, l1_ratio=0, penalty=l2, solver=newton-cg; total time=   0.0s\n",
      "[CV] END ......C=8, l1_ratio=0, penalty=l2, solver=newton-cg; total time=   0.0s\n",
      "[CV] END ......C=8, l1_ratio=0, penalty=l2, solver=newton-cg; total time=   0.0s\n",
      "[CV] END ......C=8, l1_ratio=0, penalty=l2, solver=newton-cg; total time=   0.0s\n",
      "[CV] END ......C=8, l1_ratio=0, penalty=l2, solver=newton-cg; total time=   0.0s\n",
      "[CV] END ..........C=8, l1_ratio=0, penalty=l2, solver=lbfgs; total time=   0.0s\n"
     ]
    },
    {
     "name": "stderr",
     "output_type": "stream",
     "text": [
      "C:\\Users\\sande\\anaconda3\\lib\\site-packages\\sklearn\\linear_model\\_logistic.py:1476: UserWarning: l1_ratio parameter is only used when penalty is 'elasticnet'. Got (penalty=l2)\n",
      "  warnings.warn(\n",
      "C:\\Users\\sande\\anaconda3\\lib\\site-packages\\sklearn\\linear_model\\_logistic.py:1476: UserWarning: l1_ratio parameter is only used when penalty is 'elasticnet'. Got (penalty=l2)\n",
      "  warnings.warn(\n",
      "C:\\Users\\sande\\anaconda3\\lib\\site-packages\\sklearn\\linear_model\\_logistic.py:1476: UserWarning: l1_ratio parameter is only used when penalty is 'elasticnet'. Got (penalty=l2)\n",
      "  warnings.warn(\n",
      "C:\\Users\\sande\\anaconda3\\lib\\site-packages\\sklearn\\linear_model\\_logistic.py:1476: UserWarning: l1_ratio parameter is only used when penalty is 'elasticnet'. Got (penalty=l2)\n",
      "  warnings.warn(\n",
      "C:\\Users\\sande\\anaconda3\\lib\\site-packages\\sklearn\\linear_model\\_logistic.py:1476: UserWarning: l1_ratio parameter is only used when penalty is 'elasticnet'. Got (penalty=l2)\n",
      "  warnings.warn(\n",
      "C:\\Users\\sande\\anaconda3\\lib\\site-packages\\sklearn\\linear_model\\_logistic.py:1476: UserWarning: l1_ratio parameter is only used when penalty is 'elasticnet'. Got (penalty=l2)\n",
      "  warnings.warn(\n",
      "C:\\Users\\sande\\anaconda3\\lib\\site-packages\\sklearn\\linear_model\\_logistic.py:1476: UserWarning: l1_ratio parameter is only used when penalty is 'elasticnet'. Got (penalty=l2)\n",
      "  warnings.warn(\n",
      "C:\\Users\\sande\\anaconda3\\lib\\site-packages\\sklearn\\linear_model\\_logistic.py:1476: UserWarning: l1_ratio parameter is only used when penalty is 'elasticnet'. Got (penalty=l2)\n",
      "  warnings.warn(\n",
      "C:\\Users\\sande\\anaconda3\\lib\\site-packages\\sklearn\\linear_model\\_logistic.py:1476: UserWarning: l1_ratio parameter is only used when penalty is 'elasticnet'. Got (penalty=l2)\n",
      "  warnings.warn(\n",
      "C:\\Users\\sande\\anaconda3\\lib\\site-packages\\sklearn\\linear_model\\_logistic.py:1476: UserWarning: l1_ratio parameter is only used when penalty is 'elasticnet'. Got (penalty=l2)\n",
      "  warnings.warn(\n",
      "C:\\Users\\sande\\anaconda3\\lib\\site-packages\\sklearn\\linear_model\\_logistic.py:1476: UserWarning: l1_ratio parameter is only used when penalty is 'elasticnet'. Got (penalty=l2)\n",
      "  warnings.warn(\n",
      "C:\\Users\\sande\\anaconda3\\lib\\site-packages\\sklearn\\linear_model\\_logistic.py:1476: UserWarning: l1_ratio parameter is only used when penalty is 'elasticnet'. Got (penalty=l2)\n",
      "  warnings.warn(\n",
      "C:\\Users\\sande\\anaconda3\\lib\\site-packages\\sklearn\\linear_model\\_logistic.py:1476: UserWarning: l1_ratio parameter is only used when penalty is 'elasticnet'. Got (penalty=l2)\n",
      "  warnings.warn(\n"
     ]
    },
    {
     "name": "stdout",
     "output_type": "stream",
     "text": [
      "[CV] END ..........C=8, l1_ratio=0, penalty=l2, solver=lbfgs; total time=   0.0s\n",
      "[CV] END ..........C=8, l1_ratio=0, penalty=l2, solver=lbfgs; total time=   0.0s\n",
      "[CV] END ..........C=8, l1_ratio=0, penalty=l2, solver=lbfgs; total time=   0.0s\n",
      "[CV] END ..........C=8, l1_ratio=0, penalty=l2, solver=lbfgs; total time=   0.0s\n",
      "[CV] END ......C=8, l1_ratio=0, penalty=l2, solver=liblinear; total time=   0.0s\n",
      "[CV] END ......C=8, l1_ratio=0, penalty=l2, solver=liblinear; total time=   0.0s\n",
      "[CV] END ......C=8, l1_ratio=0, penalty=l2, solver=liblinear; total time=   0.0s\n",
      "[CV] END ......C=8, l1_ratio=0, penalty=l2, solver=liblinear; total time=   0.0s\n",
      "[CV] END ......C=8, l1_ratio=0, penalty=l2, solver=liblinear; total time=   0.0s\n"
     ]
    },
    {
     "name": "stderr",
     "output_type": "stream",
     "text": [
      "C:\\Users\\sande\\anaconda3\\lib\\site-packages\\sklearn\\linear_model\\_logistic.py:1476: UserWarning: l1_ratio parameter is only used when penalty is 'elasticnet'. Got (penalty=l2)\n",
      "  warnings.warn(\n",
      "C:\\Users\\sande\\anaconda3\\lib\\site-packages\\sklearn\\linear_model\\_logistic.py:1476: UserWarning: l1_ratio parameter is only used when penalty is 'elasticnet'. Got (penalty=l2)\n",
      "  warnings.warn(\n",
      "C:\\Users\\sande\\anaconda3\\lib\\site-packages\\sklearn\\linear_model\\_logistic.py:1476: UserWarning: l1_ratio parameter is only used when penalty is 'elasticnet'. Got (penalty=l2)\n",
      "  warnings.warn(\n"
     ]
    },
    {
     "name": "stdout",
     "output_type": "stream",
     "text": [
      "[CV] END ............C=8, l1_ratio=0, penalty=l2, solver=sag; total time=   0.2s\n"
     ]
    },
    {
     "name": "stderr",
     "output_type": "stream",
     "text": [
      "C:\\Users\\sande\\anaconda3\\lib\\site-packages\\sklearn\\linear_model\\_logistic.py:1476: UserWarning: l1_ratio parameter is only used when penalty is 'elasticnet'. Got (penalty=l2)\n",
      "  warnings.warn(\n"
     ]
    },
    {
     "name": "stdout",
     "output_type": "stream",
     "text": [
      "[CV] END ............C=8, l1_ratio=0, penalty=l2, solver=sag; total time=   0.1s\n"
     ]
    },
    {
     "name": "stderr",
     "output_type": "stream",
     "text": [
      "C:\\Users\\sande\\anaconda3\\lib\\site-packages\\sklearn\\linear_model\\_logistic.py:1476: UserWarning: l1_ratio parameter is only used when penalty is 'elasticnet'. Got (penalty=l2)\n",
      "  warnings.warn(\n"
     ]
    },
    {
     "name": "stdout",
     "output_type": "stream",
     "text": [
      "[CV] END ............C=8, l1_ratio=0, penalty=l2, solver=sag; total time=   0.2s\n"
     ]
    },
    {
     "name": "stderr",
     "output_type": "stream",
     "text": [
      "C:\\Users\\sande\\anaconda3\\lib\\site-packages\\sklearn\\linear_model\\_logistic.py:1476: UserWarning: l1_ratio parameter is only used when penalty is 'elasticnet'. Got (penalty=l2)\n",
      "  warnings.warn(\n"
     ]
    },
    {
     "name": "stdout",
     "output_type": "stream",
     "text": [
      "[CV] END ............C=8, l1_ratio=0, penalty=l2, solver=sag; total time=   0.2s\n"
     ]
    },
    {
     "name": "stderr",
     "output_type": "stream",
     "text": [
      "C:\\Users\\sande\\anaconda3\\lib\\site-packages\\sklearn\\linear_model\\_logistic.py:1476: UserWarning: l1_ratio parameter is only used when penalty is 'elasticnet'. Got (penalty=l2)\n",
      "  warnings.warn(\n"
     ]
    },
    {
     "name": "stdout",
     "output_type": "stream",
     "text": [
      "[CV] END ............C=8, l1_ratio=0, penalty=l2, solver=sag; total time=   0.1s\n"
     ]
    },
    {
     "name": "stderr",
     "output_type": "stream",
     "text": [
      "C:\\Users\\sande\\anaconda3\\lib\\site-packages\\sklearn\\linear_model\\_logistic.py:1476: UserWarning: l1_ratio parameter is only used when penalty is 'elasticnet'. Got (penalty=l2)\n",
      "  warnings.warn(\n"
     ]
    },
    {
     "name": "stdout",
     "output_type": "stream",
     "text": [
      "[CV] END ...........C=8, l1_ratio=0, penalty=l2, solver=saga; total time=   0.2s\n"
     ]
    },
    {
     "name": "stderr",
     "output_type": "stream",
     "text": [
      "C:\\Users\\sande\\anaconda3\\lib\\site-packages\\sklearn\\linear_model\\_logistic.py:1476: UserWarning: l1_ratio parameter is only used when penalty is 'elasticnet'. Got (penalty=l2)\n",
      "  warnings.warn(\n"
     ]
    },
    {
     "name": "stdout",
     "output_type": "stream",
     "text": [
      "[CV] END ...........C=8, l1_ratio=0, penalty=l2, solver=saga; total time=   0.3s\n"
     ]
    },
    {
     "name": "stderr",
     "output_type": "stream",
     "text": [
      "C:\\Users\\sande\\anaconda3\\lib\\site-packages\\sklearn\\linear_model\\_logistic.py:1476: UserWarning: l1_ratio parameter is only used when penalty is 'elasticnet'. Got (penalty=l2)\n",
      "  warnings.warn(\n"
     ]
    },
    {
     "name": "stdout",
     "output_type": "stream",
     "text": [
      "[CV] END ...........C=8, l1_ratio=0, penalty=l2, solver=saga; total time=   0.3s\n"
     ]
    },
    {
     "name": "stderr",
     "output_type": "stream",
     "text": [
      "C:\\Users\\sande\\anaconda3\\lib\\site-packages\\sklearn\\linear_model\\_logistic.py:1476: UserWarning: l1_ratio parameter is only used when penalty is 'elasticnet'. Got (penalty=l2)\n",
      "  warnings.warn(\n"
     ]
    },
    {
     "name": "stdout",
     "output_type": "stream",
     "text": [
      "[CV] END ...........C=8, l1_ratio=0, penalty=l2, solver=saga; total time=   0.2s\n"
     ]
    },
    {
     "name": "stderr",
     "output_type": "stream",
     "text": [
      "C:\\Users\\sande\\anaconda3\\lib\\site-packages\\sklearn\\linear_model\\_logistic.py:1476: UserWarning: l1_ratio parameter is only used when penalty is 'elasticnet'. Got (penalty=l2)\n",
      "  warnings.warn(\n"
     ]
    },
    {
     "name": "stdout",
     "output_type": "stream",
     "text": [
      "[CV] END ...........C=8, l1_ratio=0, penalty=l2, solver=saga; total time=   0.3s\n",
      "[CV] END C=8, l1_ratio=0, penalty=elasticnet, solver=newton-cg; total time=   0.0s\n",
      "[CV] END C=8, l1_ratio=0, penalty=elasticnet, solver=newton-cg; total time=   0.0s\n",
      "[CV] END C=8, l1_ratio=0, penalty=elasticnet, solver=newton-cg; total time=   0.0s\n",
      "[CV] END C=8, l1_ratio=0, penalty=elasticnet, solver=newton-cg; total time=   0.0s\n",
      "[CV] END C=8, l1_ratio=0, penalty=elasticnet, solver=newton-cg; total time=   0.0s\n",
      "[CV] END ..C=8, l1_ratio=0, penalty=elasticnet, solver=lbfgs; total time=   0.0s\n",
      "[CV] END ..C=8, l1_ratio=0, penalty=elasticnet, solver=lbfgs; total time=   0.0s\n",
      "[CV] END ..C=8, l1_ratio=0, penalty=elasticnet, solver=lbfgs; total time=   0.0s\n",
      "[CV] END ..C=8, l1_ratio=0, penalty=elasticnet, solver=lbfgs; total time=   0.0s\n",
      "[CV] END ..C=8, l1_ratio=0, penalty=elasticnet, solver=lbfgs; total time=   0.0s\n",
      "[CV] END C=8, l1_ratio=0, penalty=elasticnet, solver=liblinear; total time=   0.0s\n",
      "[CV] END C=8, l1_ratio=0, penalty=elasticnet, solver=liblinear; total time=   0.0s\n",
      "[CV] END C=8, l1_ratio=0, penalty=elasticnet, solver=liblinear; total time=   0.0s\n",
      "[CV] END C=8, l1_ratio=0, penalty=elasticnet, solver=liblinear; total time=   0.0s\n",
      "[CV] END C=8, l1_ratio=0, penalty=elasticnet, solver=liblinear; total time=   0.0s\n",
      "[CV] END ....C=8, l1_ratio=0, penalty=elasticnet, solver=sag; total time=   0.0s\n",
      "[CV] END ....C=8, l1_ratio=0, penalty=elasticnet, solver=sag; total time=   0.0s\n",
      "[CV] END ....C=8, l1_ratio=0, penalty=elasticnet, solver=sag; total time=   0.0s\n",
      "[CV] END ....C=8, l1_ratio=0, penalty=elasticnet, solver=sag; total time=   0.0s\n",
      "[CV] END ....C=8, l1_ratio=0, penalty=elasticnet, solver=sag; total time=   0.0s\n",
      "[CV] END ...C=8, l1_ratio=0, penalty=elasticnet, solver=saga; total time=   0.2s\n",
      "[CV] END ...C=8, l1_ratio=0, penalty=elasticnet, solver=saga; total time=   0.3s\n",
      "[CV] END ...C=8, l1_ratio=0, penalty=elasticnet, solver=saga; total time=   0.3s\n",
      "[CV] END ...C=8, l1_ratio=0, penalty=elasticnet, solver=saga; total time=   0.2s\n",
      "[CV] END ...C=8, l1_ratio=0, penalty=elasticnet, solver=saga; total time=   0.3s\n",
      "[CV] END ....C=8, l1_ratio=0, penalty=none, solver=newton-cg; total time=   0.0s\n",
      "[CV] END ....C=8, l1_ratio=0, penalty=none, solver=newton-cg; total time=   0.0s\n"
     ]
    },
    {
     "name": "stderr",
     "output_type": "stream",
     "text": [
      "C:\\Users\\sande\\anaconda3\\lib\\site-packages\\sklearn\\linear_model\\_logistic.py:1476: UserWarning: l1_ratio parameter is only used when penalty is 'elasticnet'. Got (penalty=none)\n",
      "  warnings.warn(\n",
      "C:\\Users\\sande\\anaconda3\\lib\\site-packages\\sklearn\\linear_model\\_logistic.py:1483: UserWarning: Setting penalty='none' will ignore the C and l1_ratio parameters\n",
      "  warnings.warn(\n",
      "C:\\Users\\sande\\anaconda3\\lib\\site-packages\\sklearn\\linear_model\\_logistic.py:1476: UserWarning: l1_ratio parameter is only used when penalty is 'elasticnet'. Got (penalty=none)\n",
      "  warnings.warn(\n",
      "C:\\Users\\sande\\anaconda3\\lib\\site-packages\\sklearn\\linear_model\\_logistic.py:1483: UserWarning: Setting penalty='none' will ignore the C and l1_ratio parameters\n",
      "  warnings.warn(\n",
      "C:\\Users\\sande\\anaconda3\\lib\\site-packages\\sklearn\\linear_model\\_logistic.py:1476: UserWarning: l1_ratio parameter is only used when penalty is 'elasticnet'. Got (penalty=none)\n",
      "  warnings.warn(\n",
      "C:\\Users\\sande\\anaconda3\\lib\\site-packages\\sklearn\\linear_model\\_logistic.py:1483: UserWarning: Setting penalty='none' will ignore the C and l1_ratio parameters\n",
      "  warnings.warn(\n"
     ]
    },
    {
     "name": "stdout",
     "output_type": "stream",
     "text": [
      "[CV] END ....C=8, l1_ratio=0, penalty=none, solver=newton-cg; total time=   0.0s\n",
      "[CV] END ....C=8, l1_ratio=0, penalty=none, solver=newton-cg; total time=   0.0s\n",
      "[CV] END ....C=8, l1_ratio=0, penalty=none, solver=newton-cg; total time=   0.0s\n",
      "[CV] END ........C=8, l1_ratio=0, penalty=none, solver=lbfgs; total time=   0.0s\n"
     ]
    },
    {
     "name": "stderr",
     "output_type": "stream",
     "text": [
      "C:\\Users\\sande\\anaconda3\\lib\\site-packages\\sklearn\\linear_model\\_logistic.py:1476: UserWarning: l1_ratio parameter is only used when penalty is 'elasticnet'. Got (penalty=none)\n",
      "  warnings.warn(\n",
      "C:\\Users\\sande\\anaconda3\\lib\\site-packages\\sklearn\\linear_model\\_logistic.py:1483: UserWarning: Setting penalty='none' will ignore the C and l1_ratio parameters\n",
      "  warnings.warn(\n",
      "C:\\Users\\sande\\anaconda3\\lib\\site-packages\\sklearn\\linear_model\\_logistic.py:1476: UserWarning: l1_ratio parameter is only used when penalty is 'elasticnet'. Got (penalty=none)\n",
      "  warnings.warn(\n",
      "C:\\Users\\sande\\anaconda3\\lib\\site-packages\\sklearn\\linear_model\\_logistic.py:1483: UserWarning: Setting penalty='none' will ignore the C and l1_ratio parameters\n",
      "  warnings.warn(\n",
      "C:\\Users\\sande\\anaconda3\\lib\\site-packages\\sklearn\\linear_model\\_logistic.py:1476: UserWarning: l1_ratio parameter is only used when penalty is 'elasticnet'. Got (penalty=none)\n",
      "  warnings.warn(\n",
      "C:\\Users\\sande\\anaconda3\\lib\\site-packages\\sklearn\\linear_model\\_logistic.py:1483: UserWarning: Setting penalty='none' will ignore the C and l1_ratio parameters\n",
      "  warnings.warn(\n",
      "C:\\Users\\sande\\anaconda3\\lib\\site-packages\\sklearn\\linear_model\\_logistic.py:1476: UserWarning: l1_ratio parameter is only used when penalty is 'elasticnet'. Got (penalty=none)\n",
      "  warnings.warn(\n",
      "C:\\Users\\sande\\anaconda3\\lib\\site-packages\\sklearn\\linear_model\\_logistic.py:1483: UserWarning: Setting penalty='none' will ignore the C and l1_ratio parameters\n",
      "  warnings.warn(\n",
      "C:\\Users\\sande\\anaconda3\\lib\\site-packages\\sklearn\\linear_model\\_logistic.py:1476: UserWarning: l1_ratio parameter is only used when penalty is 'elasticnet'. Got (penalty=none)\n",
      "  warnings.warn(\n",
      "C:\\Users\\sande\\anaconda3\\lib\\site-packages\\sklearn\\linear_model\\_logistic.py:1483: UserWarning: Setting penalty='none' will ignore the C and l1_ratio parameters\n",
      "  warnings.warn(\n",
      "C:\\Users\\sande\\anaconda3\\lib\\site-packages\\sklearn\\linear_model\\_logistic.py:1476: UserWarning: l1_ratio parameter is only used when penalty is 'elasticnet'. Got (penalty=none)\n",
      "  warnings.warn(\n",
      "C:\\Users\\sande\\anaconda3\\lib\\site-packages\\sklearn\\linear_model\\_logistic.py:1483: UserWarning: Setting penalty='none' will ignore the C and l1_ratio parameters\n",
      "  warnings.warn(\n"
     ]
    },
    {
     "name": "stdout",
     "output_type": "stream",
     "text": [
      "[CV] END ........C=8, l1_ratio=0, penalty=none, solver=lbfgs; total time=   0.0s\n",
      "[CV] END ........C=8, l1_ratio=0, penalty=none, solver=lbfgs; total time=   0.0s\n",
      "[CV] END ........C=8, l1_ratio=0, penalty=none, solver=lbfgs; total time=   0.0s\n"
     ]
    },
    {
     "name": "stderr",
     "output_type": "stream",
     "text": [
      "C:\\Users\\sande\\anaconda3\\lib\\site-packages\\sklearn\\linear_model\\_logistic.py:1476: UserWarning: l1_ratio parameter is only used when penalty is 'elasticnet'. Got (penalty=none)\n",
      "  warnings.warn(\n",
      "C:\\Users\\sande\\anaconda3\\lib\\site-packages\\sklearn\\linear_model\\_logistic.py:1483: UserWarning: Setting penalty='none' will ignore the C and l1_ratio parameters\n",
      "  warnings.warn(\n",
      "C:\\Users\\sande\\anaconda3\\lib\\site-packages\\sklearn\\linear_model\\_logistic.py:1476: UserWarning: l1_ratio parameter is only used when penalty is 'elasticnet'. Got (penalty=none)\n",
      "  warnings.warn(\n",
      "C:\\Users\\sande\\anaconda3\\lib\\site-packages\\sklearn\\linear_model\\_logistic.py:1483: UserWarning: Setting penalty='none' will ignore the C and l1_ratio parameters\n",
      "  warnings.warn(\n"
     ]
    },
    {
     "name": "stdout",
     "output_type": "stream",
     "text": [
      "[CV] END ........C=8, l1_ratio=0, penalty=none, solver=lbfgs; total time=   0.0s\n",
      "[CV] END ....C=8, l1_ratio=0, penalty=none, solver=liblinear; total time=   0.0s\n",
      "[CV] END ....C=8, l1_ratio=0, penalty=none, solver=liblinear; total time=   0.0s\n",
      "[CV] END ....C=8, l1_ratio=0, penalty=none, solver=liblinear; total time=   0.0s\n",
      "[CV] END ....C=8, l1_ratio=0, penalty=none, solver=liblinear; total time=   0.0s\n",
      "[CV] END ....C=8, l1_ratio=0, penalty=none, solver=liblinear; total time=   0.0s\n"
     ]
    },
    {
     "name": "stderr",
     "output_type": "stream",
     "text": [
      "C:\\Users\\sande\\anaconda3\\lib\\site-packages\\sklearn\\linear_model\\_sag.py:352: ConvergenceWarning: The max_iter was reached which means the coef_ did not converge\n",
      "  warnings.warn(\n",
      "C:\\Users\\sande\\anaconda3\\lib\\site-packages\\sklearn\\linear_model\\_logistic.py:1476: UserWarning: l1_ratio parameter is only used when penalty is 'elasticnet'. Got (penalty=none)\n",
      "  warnings.warn(\n",
      "C:\\Users\\sande\\anaconda3\\lib\\site-packages\\sklearn\\linear_model\\_logistic.py:1483: UserWarning: Setting penalty='none' will ignore the C and l1_ratio parameters\n",
      "  warnings.warn(\n"
     ]
    },
    {
     "name": "stdout",
     "output_type": "stream",
     "text": [
      "[CV] END ..........C=8, l1_ratio=0, penalty=none, solver=sag; total time=   0.7s\n"
     ]
    },
    {
     "name": "stderr",
     "output_type": "stream",
     "text": [
      "C:\\Users\\sande\\anaconda3\\lib\\site-packages\\sklearn\\linear_model\\_sag.py:352: ConvergenceWarning: The max_iter was reached which means the coef_ did not converge\n",
      "  warnings.warn(\n",
      "C:\\Users\\sande\\anaconda3\\lib\\site-packages\\sklearn\\linear_model\\_logistic.py:1476: UserWarning: l1_ratio parameter is only used when penalty is 'elasticnet'. Got (penalty=none)\n",
      "  warnings.warn(\n",
      "C:\\Users\\sande\\anaconda3\\lib\\site-packages\\sklearn\\linear_model\\_logistic.py:1483: UserWarning: Setting penalty='none' will ignore the C and l1_ratio parameters\n",
      "  warnings.warn(\n"
     ]
    },
    {
     "name": "stdout",
     "output_type": "stream",
     "text": [
      "[CV] END ..........C=8, l1_ratio=0, penalty=none, solver=sag; total time=   0.7s\n"
     ]
    },
    {
     "name": "stderr",
     "output_type": "stream",
     "text": [
      "C:\\Users\\sande\\anaconda3\\lib\\site-packages\\sklearn\\linear_model\\_sag.py:352: ConvergenceWarning: The max_iter was reached which means the coef_ did not converge\n",
      "  warnings.warn(\n",
      "C:\\Users\\sande\\anaconda3\\lib\\site-packages\\sklearn\\linear_model\\_logistic.py:1476: UserWarning: l1_ratio parameter is only used when penalty is 'elasticnet'. Got (penalty=none)\n",
      "  warnings.warn(\n",
      "C:\\Users\\sande\\anaconda3\\lib\\site-packages\\sklearn\\linear_model\\_logistic.py:1483: UserWarning: Setting penalty='none' will ignore the C and l1_ratio parameters\n",
      "  warnings.warn(\n"
     ]
    },
    {
     "name": "stdout",
     "output_type": "stream",
     "text": [
      "[CV] END ..........C=8, l1_ratio=0, penalty=none, solver=sag; total time=   0.7s\n"
     ]
    },
    {
     "name": "stderr",
     "output_type": "stream",
     "text": [
      "C:\\Users\\sande\\anaconda3\\lib\\site-packages\\sklearn\\linear_model\\_sag.py:352: ConvergenceWarning: The max_iter was reached which means the coef_ did not converge\n",
      "  warnings.warn(\n",
      "C:\\Users\\sande\\anaconda3\\lib\\site-packages\\sklearn\\linear_model\\_logistic.py:1476: UserWarning: l1_ratio parameter is only used when penalty is 'elasticnet'. Got (penalty=none)\n",
      "  warnings.warn(\n",
      "C:\\Users\\sande\\anaconda3\\lib\\site-packages\\sklearn\\linear_model\\_logistic.py:1483: UserWarning: Setting penalty='none' will ignore the C and l1_ratio parameters\n",
      "  warnings.warn(\n"
     ]
    },
    {
     "name": "stdout",
     "output_type": "stream",
     "text": [
      "[CV] END ..........C=8, l1_ratio=0, penalty=none, solver=sag; total time=   0.7s\n",
      "[CV] END ..........C=8, l1_ratio=0, penalty=none, solver=sag; total time=   0.4s\n"
     ]
    },
    {
     "name": "stderr",
     "output_type": "stream",
     "text": [
      "C:\\Users\\sande\\anaconda3\\lib\\site-packages\\sklearn\\linear_model\\_logistic.py:1476: UserWarning: l1_ratio parameter is only used when penalty is 'elasticnet'. Got (penalty=none)\n",
      "  warnings.warn(\n",
      "C:\\Users\\sande\\anaconda3\\lib\\site-packages\\sklearn\\linear_model\\_logistic.py:1483: UserWarning: Setting penalty='none' will ignore the C and l1_ratio parameters\n",
      "  warnings.warn(\n",
      "C:\\Users\\sande\\anaconda3\\lib\\site-packages\\sklearn\\linear_model\\_sag.py:352: ConvergenceWarning: The max_iter was reached which means the coef_ did not converge\n",
      "  warnings.warn(\n",
      "C:\\Users\\sande\\anaconda3\\lib\\site-packages\\sklearn\\linear_model\\_logistic.py:1476: UserWarning: l1_ratio parameter is only used when penalty is 'elasticnet'. Got (penalty=none)\n",
      "  warnings.warn(\n",
      "C:\\Users\\sande\\anaconda3\\lib\\site-packages\\sklearn\\linear_model\\_logistic.py:1483: UserWarning: Setting penalty='none' will ignore the C and l1_ratio parameters\n",
      "  warnings.warn(\n"
     ]
    },
    {
     "name": "stdout",
     "output_type": "stream",
     "text": [
      "[CV] END .........C=8, l1_ratio=0, penalty=none, solver=saga; total time=   0.8s\n"
     ]
    },
    {
     "name": "stderr",
     "output_type": "stream",
     "text": [
      "C:\\Users\\sande\\anaconda3\\lib\\site-packages\\sklearn\\linear_model\\_sag.py:352: ConvergenceWarning: The max_iter was reached which means the coef_ did not converge\n",
      "  warnings.warn(\n",
      "C:\\Users\\sande\\anaconda3\\lib\\site-packages\\sklearn\\linear_model\\_logistic.py:1476: UserWarning: l1_ratio parameter is only used when penalty is 'elasticnet'. Got (penalty=none)\n",
      "  warnings.warn(\n",
      "C:\\Users\\sande\\anaconda3\\lib\\site-packages\\sklearn\\linear_model\\_logistic.py:1483: UserWarning: Setting penalty='none' will ignore the C and l1_ratio parameters\n",
      "  warnings.warn(\n"
     ]
    },
    {
     "name": "stdout",
     "output_type": "stream",
     "text": [
      "[CV] END .........C=8, l1_ratio=0, penalty=none, solver=saga; total time=   0.8s\n"
     ]
    },
    {
     "name": "stderr",
     "output_type": "stream",
     "text": [
      "C:\\Users\\sande\\anaconda3\\lib\\site-packages\\sklearn\\linear_model\\_sag.py:352: ConvergenceWarning: The max_iter was reached which means the coef_ did not converge\n",
      "  warnings.warn(\n",
      "C:\\Users\\sande\\anaconda3\\lib\\site-packages\\sklearn\\linear_model\\_logistic.py:1476: UserWarning: l1_ratio parameter is only used when penalty is 'elasticnet'. Got (penalty=none)\n",
      "  warnings.warn(\n",
      "C:\\Users\\sande\\anaconda3\\lib\\site-packages\\sklearn\\linear_model\\_logistic.py:1483: UserWarning: Setting penalty='none' will ignore the C and l1_ratio parameters\n",
      "  warnings.warn(\n"
     ]
    },
    {
     "name": "stdout",
     "output_type": "stream",
     "text": [
      "[CV] END .........C=8, l1_ratio=0, penalty=none, solver=saga; total time=   0.8s\n"
     ]
    },
    {
     "name": "stderr",
     "output_type": "stream",
     "text": [
      "C:\\Users\\sande\\anaconda3\\lib\\site-packages\\sklearn\\linear_model\\_sag.py:352: ConvergenceWarning: The max_iter was reached which means the coef_ did not converge\n",
      "  warnings.warn(\n",
      "C:\\Users\\sande\\anaconda3\\lib\\site-packages\\sklearn\\linear_model\\_logistic.py:1476: UserWarning: l1_ratio parameter is only used when penalty is 'elasticnet'. Got (penalty=none)\n",
      "  warnings.warn(\n",
      "C:\\Users\\sande\\anaconda3\\lib\\site-packages\\sklearn\\linear_model\\_logistic.py:1483: UserWarning: Setting penalty='none' will ignore the C and l1_ratio parameters\n",
      "  warnings.warn(\n"
     ]
    },
    {
     "name": "stdout",
     "output_type": "stream",
     "text": [
      "[CV] END .........C=8, l1_ratio=0, penalty=none, solver=saga; total time=   0.8s\n",
      "[CV] END .........C=8, l1_ratio=0, penalty=none, solver=saga; total time=   0.7s\n",
      "[CV] END ...C=8, l1_ratio=0.75, penalty=l1, solver=newton-cg; total time=   0.0s\n",
      "[CV] END ...C=8, l1_ratio=0.75, penalty=l1, solver=newton-cg; total time=   0.0s\n",
      "[CV] END ...C=8, l1_ratio=0.75, penalty=l1, solver=newton-cg; total time=   0.0s\n",
      "[CV] END ...C=8, l1_ratio=0.75, penalty=l1, solver=newton-cg; total time=   0.0s\n",
      "[CV] END ...C=8, l1_ratio=0.75, penalty=l1, solver=newton-cg; total time=   0.0s\n",
      "[CV] END .......C=8, l1_ratio=0.75, penalty=l1, solver=lbfgs; total time=   0.0s\n",
      "[CV] END .......C=8, l1_ratio=0.75, penalty=l1, solver=lbfgs; total time=   0.0s\n",
      "[CV] END .......C=8, l1_ratio=0.75, penalty=l1, solver=lbfgs; total time=   0.0s\n",
      "[CV] END .......C=8, l1_ratio=0.75, penalty=l1, solver=lbfgs; total time=   0.0s\n",
      "[CV] END .......C=8, l1_ratio=0.75, penalty=l1, solver=lbfgs; total time=   0.0s\n",
      "[CV] END ...C=8, l1_ratio=0.75, penalty=l1, solver=liblinear; total time=   0.0s\n",
      "[CV] END ...C=8, l1_ratio=0.75, penalty=l1, solver=liblinear; total time=   0.0s\n",
      "[CV] END ...C=8, l1_ratio=0.75, penalty=l1, solver=liblinear; total time=   0.0s\n",
      "[CV] END ...C=8, l1_ratio=0.75, penalty=l1, solver=liblinear; total time=   0.0s\n"
     ]
    },
    {
     "name": "stderr",
     "output_type": "stream",
     "text": [
      "C:\\Users\\sande\\anaconda3\\lib\\site-packages\\sklearn\\linear_model\\_logistic.py:1476: UserWarning: l1_ratio parameter is only used when penalty is 'elasticnet'. Got (penalty=l1)\n",
      "  warnings.warn(\n",
      "C:\\Users\\sande\\anaconda3\\lib\\site-packages\\sklearn\\linear_model\\_logistic.py:1476: UserWarning: l1_ratio parameter is only used when penalty is 'elasticnet'. Got (penalty=l1)\n",
      "  warnings.warn(\n",
      "C:\\Users\\sande\\anaconda3\\lib\\site-packages\\sklearn\\linear_model\\_logistic.py:1476: UserWarning: l1_ratio parameter is only used when penalty is 'elasticnet'. Got (penalty=l1)\n",
      "  warnings.warn(\n",
      "C:\\Users\\sande\\anaconda3\\lib\\site-packages\\sklearn\\linear_model\\_logistic.py:1476: UserWarning: l1_ratio parameter is only used when penalty is 'elasticnet'. Got (penalty=l1)\n",
      "  warnings.warn(\n",
      "C:\\Users\\sande\\anaconda3\\lib\\site-packages\\sklearn\\linear_model\\_logistic.py:1476: UserWarning: l1_ratio parameter is only used when penalty is 'elasticnet'. Got (penalty=l1)\n",
      "  warnings.warn(\n"
     ]
    },
    {
     "name": "stdout",
     "output_type": "stream",
     "text": [
      "[CV] END ...C=8, l1_ratio=0.75, penalty=l1, solver=liblinear; total time=   0.0s\n",
      "[CV] END .........C=8, l1_ratio=0.75, penalty=l1, solver=sag; total time=   0.0s\n",
      "[CV] END .........C=8, l1_ratio=0.75, penalty=l1, solver=sag; total time=   0.0s\n",
      "[CV] END .........C=8, l1_ratio=0.75, penalty=l1, solver=sag; total time=   0.0s\n",
      "[CV] END .........C=8, l1_ratio=0.75, penalty=l1, solver=sag; total time=   0.0s\n",
      "[CV] END .........C=8, l1_ratio=0.75, penalty=l1, solver=sag; total time=   0.0s\n"
     ]
    },
    {
     "name": "stderr",
     "output_type": "stream",
     "text": [
      "C:\\Users\\sande\\anaconda3\\lib\\site-packages\\sklearn\\linear_model\\_logistic.py:1476: UserWarning: l1_ratio parameter is only used when penalty is 'elasticnet'. Got (penalty=l1)\n",
      "  warnings.warn(\n"
     ]
    },
    {
     "name": "stdout",
     "output_type": "stream",
     "text": [
      "[CV] END ........C=8, l1_ratio=0.75, penalty=l1, solver=saga; total time=   0.5s\n"
     ]
    },
    {
     "name": "stderr",
     "output_type": "stream",
     "text": [
      "C:\\Users\\sande\\anaconda3\\lib\\site-packages\\sklearn\\linear_model\\_logistic.py:1476: UserWarning: l1_ratio parameter is only used when penalty is 'elasticnet'. Got (penalty=l1)\n",
      "  warnings.warn(\n"
     ]
    },
    {
     "name": "stdout",
     "output_type": "stream",
     "text": [
      "[CV] END ........C=8, l1_ratio=0.75, penalty=l1, solver=saga; total time=   0.3s\n"
     ]
    },
    {
     "name": "stderr",
     "output_type": "stream",
     "text": [
      "C:\\Users\\sande\\anaconda3\\lib\\site-packages\\sklearn\\linear_model\\_logistic.py:1476: UserWarning: l1_ratio parameter is only used when penalty is 'elasticnet'. Got (penalty=l1)\n",
      "  warnings.warn(\n"
     ]
    },
    {
     "name": "stdout",
     "output_type": "stream",
     "text": [
      "[CV] END ........C=8, l1_ratio=0.75, penalty=l1, solver=saga; total time=   0.4s\n"
     ]
    },
    {
     "name": "stderr",
     "output_type": "stream",
     "text": [
      "C:\\Users\\sande\\anaconda3\\lib\\site-packages\\sklearn\\linear_model\\_logistic.py:1476: UserWarning: l1_ratio parameter is only used when penalty is 'elasticnet'. Got (penalty=l1)\n",
      "  warnings.warn(\n"
     ]
    },
    {
     "name": "stdout",
     "output_type": "stream",
     "text": [
      "[CV] END ........C=8, l1_ratio=0.75, penalty=l1, solver=saga; total time=   0.4s\n"
     ]
    },
    {
     "name": "stderr",
     "output_type": "stream",
     "text": [
      "C:\\Users\\sande\\anaconda3\\lib\\site-packages\\sklearn\\linear_model\\_logistic.py:1476: UserWarning: l1_ratio parameter is only used when penalty is 'elasticnet'. Got (penalty=l1)\n",
      "  warnings.warn(\n"
     ]
    },
    {
     "name": "stdout",
     "output_type": "stream",
     "text": [
      "[CV] END ........C=8, l1_ratio=0.75, penalty=l1, solver=saga; total time=   0.1s\n",
      "[CV] END ...C=8, l1_ratio=0.75, penalty=l2, solver=newton-cg; total time=   0.0s\n",
      "[CV] END ...C=8, l1_ratio=0.75, penalty=l2, solver=newton-cg; total time=   0.0s\n",
      "[CV] END ...C=8, l1_ratio=0.75, penalty=l2, solver=newton-cg; total time=   0.0s\n",
      "[CV] END ...C=8, l1_ratio=0.75, penalty=l2, solver=newton-cg; total time=   0.0s\n",
      "[CV] END ...C=8, l1_ratio=0.75, penalty=l2, solver=newton-cg; total time=   0.0s\n",
      "[CV] END .......C=8, l1_ratio=0.75, penalty=l2, solver=lbfgs; total time=   0.0s\n"
     ]
    },
    {
     "name": "stderr",
     "output_type": "stream",
     "text": [
      "C:\\Users\\sande\\anaconda3\\lib\\site-packages\\sklearn\\linear_model\\_logistic.py:1476: UserWarning: l1_ratio parameter is only used when penalty is 'elasticnet'. Got (penalty=l2)\n",
      "  warnings.warn(\n",
      "C:\\Users\\sande\\anaconda3\\lib\\site-packages\\sklearn\\linear_model\\_logistic.py:1476: UserWarning: l1_ratio parameter is only used when penalty is 'elasticnet'. Got (penalty=l2)\n",
      "  warnings.warn(\n",
      "C:\\Users\\sande\\anaconda3\\lib\\site-packages\\sklearn\\linear_model\\_logistic.py:1476: UserWarning: l1_ratio parameter is only used when penalty is 'elasticnet'. Got (penalty=l2)\n",
      "  warnings.warn(\n",
      "C:\\Users\\sande\\anaconda3\\lib\\site-packages\\sklearn\\linear_model\\_logistic.py:1476: UserWarning: l1_ratio parameter is only used when penalty is 'elasticnet'. Got (penalty=l2)\n",
      "  warnings.warn(\n",
      "C:\\Users\\sande\\anaconda3\\lib\\site-packages\\sklearn\\linear_model\\_logistic.py:1476: UserWarning: l1_ratio parameter is only used when penalty is 'elasticnet'. Got (penalty=l2)\n",
      "  warnings.warn(\n",
      "C:\\Users\\sande\\anaconda3\\lib\\site-packages\\sklearn\\linear_model\\_logistic.py:1476: UserWarning: l1_ratio parameter is only used when penalty is 'elasticnet'. Got (penalty=l2)\n",
      "  warnings.warn(\n",
      "C:\\Users\\sande\\anaconda3\\lib\\site-packages\\sklearn\\linear_model\\_logistic.py:1476: UserWarning: l1_ratio parameter is only used when penalty is 'elasticnet'. Got (penalty=l2)\n",
      "  warnings.warn(\n"
     ]
    },
    {
     "name": "stdout",
     "output_type": "stream",
     "text": [
      "[CV] END .......C=8, l1_ratio=0.75, penalty=l2, solver=lbfgs; total time=   0.0s\n",
      "[CV] END .......C=8, l1_ratio=0.75, penalty=l2, solver=lbfgs; total time=   0.0s\n",
      "[CV] END .......C=8, l1_ratio=0.75, penalty=l2, solver=lbfgs; total time=   0.0s\n",
      "[CV] END .......C=8, l1_ratio=0.75, penalty=l2, solver=lbfgs; total time=   0.0s\n",
      "[CV] END ...C=8, l1_ratio=0.75, penalty=l2, solver=liblinear; total time=   0.0s\n",
      "[CV] END ...C=8, l1_ratio=0.75, penalty=l2, solver=liblinear; total time=   0.0s\n",
      "[CV] END ...C=8, l1_ratio=0.75, penalty=l2, solver=liblinear; total time=   0.0s\n",
      "[CV] END ...C=8, l1_ratio=0.75, penalty=l2, solver=liblinear; total time=   0.0s\n",
      "[CV] END ...C=8, l1_ratio=0.75, penalty=l2, solver=liblinear; total time=   0.0s\n"
     ]
    },
    {
     "name": "stderr",
     "output_type": "stream",
     "text": [
      "C:\\Users\\sande\\anaconda3\\lib\\site-packages\\sklearn\\linear_model\\_logistic.py:1476: UserWarning: l1_ratio parameter is only used when penalty is 'elasticnet'. Got (penalty=l2)\n",
      "  warnings.warn(\n",
      "C:\\Users\\sande\\anaconda3\\lib\\site-packages\\sklearn\\linear_model\\_logistic.py:1476: UserWarning: l1_ratio parameter is only used when penalty is 'elasticnet'. Got (penalty=l2)\n",
      "  warnings.warn(\n",
      "C:\\Users\\sande\\anaconda3\\lib\\site-packages\\sklearn\\linear_model\\_logistic.py:1476: UserWarning: l1_ratio parameter is only used when penalty is 'elasticnet'. Got (penalty=l2)\n",
      "  warnings.warn(\n",
      "C:\\Users\\sande\\anaconda3\\lib\\site-packages\\sklearn\\linear_model\\_logistic.py:1476: UserWarning: l1_ratio parameter is only used when penalty is 'elasticnet'. Got (penalty=l2)\n",
      "  warnings.warn(\n",
      "C:\\Users\\sande\\anaconda3\\lib\\site-packages\\sklearn\\linear_model\\_logistic.py:1476: UserWarning: l1_ratio parameter is only used when penalty is 'elasticnet'. Got (penalty=l2)\n",
      "  warnings.warn(\n",
      "C:\\Users\\sande\\anaconda3\\lib\\site-packages\\sklearn\\linear_model\\_logistic.py:1476: UserWarning: l1_ratio parameter is only used when penalty is 'elasticnet'. Got (penalty=l2)\n",
      "  warnings.warn(\n",
      "C:\\Users\\sande\\anaconda3\\lib\\site-packages\\sklearn\\linear_model\\_logistic.py:1476: UserWarning: l1_ratio parameter is only used when penalty is 'elasticnet'. Got (penalty=l2)\n",
      "  warnings.warn(\n",
      "C:\\Users\\sande\\anaconda3\\lib\\site-packages\\sklearn\\linear_model\\_logistic.py:1476: UserWarning: l1_ratio parameter is only used when penalty is 'elasticnet'. Got (penalty=l2)\n",
      "  warnings.warn(\n",
      "C:\\Users\\sande\\anaconda3\\lib\\site-packages\\sklearn\\linear_model\\_logistic.py:1476: UserWarning: l1_ratio parameter is only used when penalty is 'elasticnet'. Got (penalty=l2)\n",
      "  warnings.warn(\n"
     ]
    },
    {
     "name": "stdout",
     "output_type": "stream",
     "text": [
      "[CV] END .........C=8, l1_ratio=0.75, penalty=l2, solver=sag; total time=   0.2s\n"
     ]
    },
    {
     "name": "stderr",
     "output_type": "stream",
     "text": [
      "C:\\Users\\sande\\anaconda3\\lib\\site-packages\\sklearn\\linear_model\\_logistic.py:1476: UserWarning: l1_ratio parameter is only used when penalty is 'elasticnet'. Got (penalty=l2)\n",
      "  warnings.warn(\n"
     ]
    },
    {
     "name": "stdout",
     "output_type": "stream",
     "text": [
      "[CV] END .........C=8, l1_ratio=0.75, penalty=l2, solver=sag; total time=   0.1s\n"
     ]
    },
    {
     "name": "stderr",
     "output_type": "stream",
     "text": [
      "C:\\Users\\sande\\anaconda3\\lib\\site-packages\\sklearn\\linear_model\\_logistic.py:1476: UserWarning: l1_ratio parameter is only used when penalty is 'elasticnet'. Got (penalty=l2)\n",
      "  warnings.warn(\n"
     ]
    },
    {
     "name": "stdout",
     "output_type": "stream",
     "text": [
      "[CV] END .........C=8, l1_ratio=0.75, penalty=l2, solver=sag; total time=   0.2s\n"
     ]
    },
    {
     "name": "stderr",
     "output_type": "stream",
     "text": [
      "C:\\Users\\sande\\anaconda3\\lib\\site-packages\\sklearn\\linear_model\\_logistic.py:1476: UserWarning: l1_ratio parameter is only used when penalty is 'elasticnet'. Got (penalty=l2)\n",
      "  warnings.warn(\n"
     ]
    },
    {
     "name": "stdout",
     "output_type": "stream",
     "text": [
      "[CV] END .........C=8, l1_ratio=0.75, penalty=l2, solver=sag; total time=   0.2s\n"
     ]
    },
    {
     "name": "stderr",
     "output_type": "stream",
     "text": [
      "C:\\Users\\sande\\anaconda3\\lib\\site-packages\\sklearn\\linear_model\\_logistic.py:1476: UserWarning: l1_ratio parameter is only used when penalty is 'elasticnet'. Got (penalty=l2)\n",
      "  warnings.warn(\n"
     ]
    },
    {
     "name": "stdout",
     "output_type": "stream",
     "text": [
      "[CV] END .........C=8, l1_ratio=0.75, penalty=l2, solver=sag; total time=   0.1s\n"
     ]
    },
    {
     "name": "stderr",
     "output_type": "stream",
     "text": [
      "C:\\Users\\sande\\anaconda3\\lib\\site-packages\\sklearn\\linear_model\\_logistic.py:1476: UserWarning: l1_ratio parameter is only used when penalty is 'elasticnet'. Got (penalty=l2)\n",
      "  warnings.warn(\n"
     ]
    },
    {
     "name": "stdout",
     "output_type": "stream",
     "text": [
      "[CV] END ........C=8, l1_ratio=0.75, penalty=l2, solver=saga; total time=   0.2s\n"
     ]
    },
    {
     "name": "stderr",
     "output_type": "stream",
     "text": [
      "C:\\Users\\sande\\anaconda3\\lib\\site-packages\\sklearn\\linear_model\\_logistic.py:1476: UserWarning: l1_ratio parameter is only used when penalty is 'elasticnet'. Got (penalty=l2)\n",
      "  warnings.warn(\n"
     ]
    },
    {
     "name": "stdout",
     "output_type": "stream",
     "text": [
      "[CV] END ........C=8, l1_ratio=0.75, penalty=l2, solver=saga; total time=   0.3s\n"
     ]
    },
    {
     "name": "stderr",
     "output_type": "stream",
     "text": [
      "C:\\Users\\sande\\anaconda3\\lib\\site-packages\\sklearn\\linear_model\\_logistic.py:1476: UserWarning: l1_ratio parameter is only used when penalty is 'elasticnet'. Got (penalty=l2)\n",
      "  warnings.warn(\n"
     ]
    },
    {
     "name": "stdout",
     "output_type": "stream",
     "text": [
      "[CV] END ........C=8, l1_ratio=0.75, penalty=l2, solver=saga; total time=   0.3s\n"
     ]
    },
    {
     "name": "stderr",
     "output_type": "stream",
     "text": [
      "C:\\Users\\sande\\anaconda3\\lib\\site-packages\\sklearn\\linear_model\\_logistic.py:1476: UserWarning: l1_ratio parameter is only used when penalty is 'elasticnet'. Got (penalty=l2)\n",
      "  warnings.warn(\n"
     ]
    },
    {
     "name": "stdout",
     "output_type": "stream",
     "text": [
      "[CV] END ........C=8, l1_ratio=0.75, penalty=l2, solver=saga; total time=   0.2s\n"
     ]
    },
    {
     "name": "stderr",
     "output_type": "stream",
     "text": [
      "C:\\Users\\sande\\anaconda3\\lib\\site-packages\\sklearn\\linear_model\\_logistic.py:1476: UserWarning: l1_ratio parameter is only used when penalty is 'elasticnet'. Got (penalty=l2)\n",
      "  warnings.warn(\n"
     ]
    },
    {
     "name": "stdout",
     "output_type": "stream",
     "text": [
      "[CV] END ........C=8, l1_ratio=0.75, penalty=l2, solver=saga; total time=   0.3s\n",
      "[CV] END C=8, l1_ratio=0.75, penalty=elasticnet, solver=newton-cg; total time=   0.0s\n",
      "[CV] END C=8, l1_ratio=0.75, penalty=elasticnet, solver=newton-cg; total time=   0.0s\n",
      "[CV] END C=8, l1_ratio=0.75, penalty=elasticnet, solver=newton-cg; total time=   0.0s\n",
      "[CV] END C=8, l1_ratio=0.75, penalty=elasticnet, solver=newton-cg; total time=   0.0s\n",
      "[CV] END C=8, l1_ratio=0.75, penalty=elasticnet, solver=newton-cg; total time=   0.0s\n",
      "[CV] END C=8, l1_ratio=0.75, penalty=elasticnet, solver=lbfgs; total time=   0.0s\n",
      "[CV] END C=8, l1_ratio=0.75, penalty=elasticnet, solver=lbfgs; total time=   0.0s\n",
      "[CV] END C=8, l1_ratio=0.75, penalty=elasticnet, solver=lbfgs; total time=   0.0s\n",
      "[CV] END C=8, l1_ratio=0.75, penalty=elasticnet, solver=lbfgs; total time=   0.0s\n",
      "[CV] END C=8, l1_ratio=0.75, penalty=elasticnet, solver=lbfgs; total time=   0.0s\n",
      "[CV] END C=8, l1_ratio=0.75, penalty=elasticnet, solver=liblinear; total time=   0.0s\n",
      "[CV] END C=8, l1_ratio=0.75, penalty=elasticnet, solver=liblinear; total time=   0.0s\n",
      "[CV] END C=8, l1_ratio=0.75, penalty=elasticnet, solver=liblinear; total time=   0.0s\n",
      "[CV] END C=8, l1_ratio=0.75, penalty=elasticnet, solver=liblinear; total time=   0.0s\n",
      "[CV] END C=8, l1_ratio=0.75, penalty=elasticnet, solver=liblinear; total time=   0.0s\n",
      "[CV] END .C=8, l1_ratio=0.75, penalty=elasticnet, solver=sag; total time=   0.0s\n",
      "[CV] END .C=8, l1_ratio=0.75, penalty=elasticnet, solver=sag; total time=   0.0s\n",
      "[CV] END .C=8, l1_ratio=0.75, penalty=elasticnet, solver=sag; total time=   0.0s\n",
      "[CV] END .C=8, l1_ratio=0.75, penalty=elasticnet, solver=sag; total time=   0.0s\n",
      "[CV] END .C=8, l1_ratio=0.75, penalty=elasticnet, solver=sag; total time=   0.0s\n",
      "[CV] END C=8, l1_ratio=0.75, penalty=elasticnet, solver=saga; total time=   0.6s\n",
      "[CV] END C=8, l1_ratio=0.75, penalty=elasticnet, solver=saga; total time=   0.4s\n",
      "[CV] END C=8, l1_ratio=0.75, penalty=elasticnet, solver=saga; total time=   0.6s\n",
      "[CV] END C=8, l1_ratio=0.75, penalty=elasticnet, solver=saga; total time=   0.5s\n",
      "[CV] END C=8, l1_ratio=0.75, penalty=elasticnet, solver=saga; total time=   0.2s\n",
      "[CV] END .C=8, l1_ratio=0.75, penalty=none, solver=newton-cg; total time=   0.0s\n",
      "[CV] END .C=8, l1_ratio=0.75, penalty=none, solver=newton-cg; total time=   0.0s\n"
     ]
    },
    {
     "name": "stderr",
     "output_type": "stream",
     "text": [
      "C:\\Users\\sande\\anaconda3\\lib\\site-packages\\sklearn\\linear_model\\_logistic.py:1476: UserWarning: l1_ratio parameter is only used when penalty is 'elasticnet'. Got (penalty=none)\n",
      "  warnings.warn(\n",
      "C:\\Users\\sande\\anaconda3\\lib\\site-packages\\sklearn\\linear_model\\_logistic.py:1483: UserWarning: Setting penalty='none' will ignore the C and l1_ratio parameters\n",
      "  warnings.warn(\n",
      "C:\\Users\\sande\\anaconda3\\lib\\site-packages\\sklearn\\linear_model\\_logistic.py:1476: UserWarning: l1_ratio parameter is only used when penalty is 'elasticnet'. Got (penalty=none)\n",
      "  warnings.warn(\n",
      "C:\\Users\\sande\\anaconda3\\lib\\site-packages\\sklearn\\linear_model\\_logistic.py:1483: UserWarning: Setting penalty='none' will ignore the C and l1_ratio parameters\n",
      "  warnings.warn(\n",
      "C:\\Users\\sande\\anaconda3\\lib\\site-packages\\sklearn\\linear_model\\_logistic.py:1476: UserWarning: l1_ratio parameter is only used when penalty is 'elasticnet'. Got (penalty=none)\n",
      "  warnings.warn(\n",
      "C:\\Users\\sande\\anaconda3\\lib\\site-packages\\sklearn\\linear_model\\_logistic.py:1483: UserWarning: Setting penalty='none' will ignore the C and l1_ratio parameters\n",
      "  warnings.warn(\n"
     ]
    },
    {
     "name": "stdout",
     "output_type": "stream",
     "text": [
      "[CV] END .C=8, l1_ratio=0.75, penalty=none, solver=newton-cg; total time=   0.0s\n",
      "[CV] END .C=8, l1_ratio=0.75, penalty=none, solver=newton-cg; total time=   0.0s\n",
      "[CV] END .C=8, l1_ratio=0.75, penalty=none, solver=newton-cg; total time=   0.0s\n",
      "[CV] END .....C=8, l1_ratio=0.75, penalty=none, solver=lbfgs; total time=   0.0s\n"
     ]
    },
    {
     "name": "stderr",
     "output_type": "stream",
     "text": [
      "C:\\Users\\sande\\anaconda3\\lib\\site-packages\\sklearn\\linear_model\\_logistic.py:1476: UserWarning: l1_ratio parameter is only used when penalty is 'elasticnet'. Got (penalty=none)\n",
      "  warnings.warn(\n",
      "C:\\Users\\sande\\anaconda3\\lib\\site-packages\\sklearn\\linear_model\\_logistic.py:1483: UserWarning: Setting penalty='none' will ignore the C and l1_ratio parameters\n",
      "  warnings.warn(\n",
      "C:\\Users\\sande\\anaconda3\\lib\\site-packages\\sklearn\\linear_model\\_logistic.py:1476: UserWarning: l1_ratio parameter is only used when penalty is 'elasticnet'. Got (penalty=none)\n",
      "  warnings.warn(\n",
      "C:\\Users\\sande\\anaconda3\\lib\\site-packages\\sklearn\\linear_model\\_logistic.py:1483: UserWarning: Setting penalty='none' will ignore the C and l1_ratio parameters\n",
      "  warnings.warn(\n",
      "C:\\Users\\sande\\anaconda3\\lib\\site-packages\\sklearn\\linear_model\\_logistic.py:1476: UserWarning: l1_ratio parameter is only used when penalty is 'elasticnet'. Got (penalty=none)\n",
      "  warnings.warn(\n",
      "C:\\Users\\sande\\anaconda3\\lib\\site-packages\\sklearn\\linear_model\\_logistic.py:1483: UserWarning: Setting penalty='none' will ignore the C and l1_ratio parameters\n",
      "  warnings.warn(\n",
      "C:\\Users\\sande\\anaconda3\\lib\\site-packages\\sklearn\\linear_model\\_logistic.py:1476: UserWarning: l1_ratio parameter is only used when penalty is 'elasticnet'. Got (penalty=none)\n",
      "  warnings.warn(\n",
      "C:\\Users\\sande\\anaconda3\\lib\\site-packages\\sklearn\\linear_model\\_logistic.py:1483: UserWarning: Setting penalty='none' will ignore the C and l1_ratio parameters\n",
      "  warnings.warn(\n"
     ]
    },
    {
     "name": "stdout",
     "output_type": "stream",
     "text": [
      "[CV] END .....C=8, l1_ratio=0.75, penalty=none, solver=lbfgs; total time=   0.0s\n",
      "[CV] END .....C=8, l1_ratio=0.75, penalty=none, solver=lbfgs; total time=   0.0s\n",
      "[CV] END .....C=8, l1_ratio=0.75, penalty=none, solver=lbfgs; total time=   0.0s\n"
     ]
    },
    {
     "name": "stderr",
     "output_type": "stream",
     "text": [
      "C:\\Users\\sande\\anaconda3\\lib\\site-packages\\sklearn\\linear_model\\_logistic.py:1476: UserWarning: l1_ratio parameter is only used when penalty is 'elasticnet'. Got (penalty=none)\n",
      "  warnings.warn(\n",
      "C:\\Users\\sande\\anaconda3\\lib\\site-packages\\sklearn\\linear_model\\_logistic.py:1483: UserWarning: Setting penalty='none' will ignore the C and l1_ratio parameters\n",
      "  warnings.warn(\n",
      "C:\\Users\\sande\\anaconda3\\lib\\site-packages\\sklearn\\linear_model\\_logistic.py:1476: UserWarning: l1_ratio parameter is only used when penalty is 'elasticnet'. Got (penalty=none)\n",
      "  warnings.warn(\n",
      "C:\\Users\\sande\\anaconda3\\lib\\site-packages\\sklearn\\linear_model\\_logistic.py:1483: UserWarning: Setting penalty='none' will ignore the C and l1_ratio parameters\n",
      "  warnings.warn(\n",
      "C:\\Users\\sande\\anaconda3\\lib\\site-packages\\sklearn\\linear_model\\_logistic.py:1476: UserWarning: l1_ratio parameter is only used when penalty is 'elasticnet'. Got (penalty=none)\n",
      "  warnings.warn(\n",
      "C:\\Users\\sande\\anaconda3\\lib\\site-packages\\sklearn\\linear_model\\_logistic.py:1483: UserWarning: Setting penalty='none' will ignore the C and l1_ratio parameters\n",
      "  warnings.warn(\n",
      "C:\\Users\\sande\\anaconda3\\lib\\site-packages\\sklearn\\linear_model\\_logistic.py:1476: UserWarning: l1_ratio parameter is only used when penalty is 'elasticnet'. Got (penalty=none)\n",
      "  warnings.warn(\n",
      "C:\\Users\\sande\\anaconda3\\lib\\site-packages\\sklearn\\linear_model\\_logistic.py:1483: UserWarning: Setting penalty='none' will ignore the C and l1_ratio parameters\n",
      "  warnings.warn(\n"
     ]
    },
    {
     "name": "stdout",
     "output_type": "stream",
     "text": [
      "[CV] END .....C=8, l1_ratio=0.75, penalty=none, solver=lbfgs; total time=   0.0s\n",
      "[CV] END .C=8, l1_ratio=0.75, penalty=none, solver=liblinear; total time=   0.0s\n",
      "[CV] END .C=8, l1_ratio=0.75, penalty=none, solver=liblinear; total time=   0.0s\n",
      "[CV] END .C=8, l1_ratio=0.75, penalty=none, solver=liblinear; total time=   0.0s\n",
      "[CV] END .C=8, l1_ratio=0.75, penalty=none, solver=liblinear; total time=   0.0s\n",
      "[CV] END .C=8, l1_ratio=0.75, penalty=none, solver=liblinear; total time=   0.0s\n"
     ]
    },
    {
     "name": "stderr",
     "output_type": "stream",
     "text": [
      "C:\\Users\\sande\\anaconda3\\lib\\site-packages\\sklearn\\linear_model\\_sag.py:352: ConvergenceWarning: The max_iter was reached which means the coef_ did not converge\n",
      "  warnings.warn(\n",
      "C:\\Users\\sande\\anaconda3\\lib\\site-packages\\sklearn\\linear_model\\_logistic.py:1476: UserWarning: l1_ratio parameter is only used when penalty is 'elasticnet'. Got (penalty=none)\n",
      "  warnings.warn(\n",
      "C:\\Users\\sande\\anaconda3\\lib\\site-packages\\sklearn\\linear_model\\_logistic.py:1483: UserWarning: Setting penalty='none' will ignore the C and l1_ratio parameters\n",
      "  warnings.warn(\n"
     ]
    },
    {
     "name": "stdout",
     "output_type": "stream",
     "text": [
      "[CV] END .......C=8, l1_ratio=0.75, penalty=none, solver=sag; total time=   0.7s\n"
     ]
    },
    {
     "name": "stderr",
     "output_type": "stream",
     "text": [
      "C:\\Users\\sande\\anaconda3\\lib\\site-packages\\sklearn\\linear_model\\_sag.py:352: ConvergenceWarning: The max_iter was reached which means the coef_ did not converge\n",
      "  warnings.warn(\n",
      "C:\\Users\\sande\\anaconda3\\lib\\site-packages\\sklearn\\linear_model\\_logistic.py:1476: UserWarning: l1_ratio parameter is only used when penalty is 'elasticnet'. Got (penalty=none)\n",
      "  warnings.warn(\n",
      "C:\\Users\\sande\\anaconda3\\lib\\site-packages\\sklearn\\linear_model\\_logistic.py:1483: UserWarning: Setting penalty='none' will ignore the C and l1_ratio parameters\n",
      "  warnings.warn(\n"
     ]
    },
    {
     "name": "stdout",
     "output_type": "stream",
     "text": [
      "[CV] END .......C=8, l1_ratio=0.75, penalty=none, solver=sag; total time=   0.7s\n"
     ]
    },
    {
     "name": "stderr",
     "output_type": "stream",
     "text": [
      "C:\\Users\\sande\\anaconda3\\lib\\site-packages\\sklearn\\linear_model\\_sag.py:352: ConvergenceWarning: The max_iter was reached which means the coef_ did not converge\n",
      "  warnings.warn(\n",
      "C:\\Users\\sande\\anaconda3\\lib\\site-packages\\sklearn\\linear_model\\_logistic.py:1476: UserWarning: l1_ratio parameter is only used when penalty is 'elasticnet'. Got (penalty=none)\n",
      "  warnings.warn(\n",
      "C:\\Users\\sande\\anaconda3\\lib\\site-packages\\sklearn\\linear_model\\_logistic.py:1483: UserWarning: Setting penalty='none' will ignore the C and l1_ratio parameters\n",
      "  warnings.warn(\n"
     ]
    },
    {
     "name": "stdout",
     "output_type": "stream",
     "text": [
      "[CV] END .......C=8, l1_ratio=0.75, penalty=none, solver=sag; total time=   0.7s\n"
     ]
    },
    {
     "name": "stderr",
     "output_type": "stream",
     "text": [
      "C:\\Users\\sande\\anaconda3\\lib\\site-packages\\sklearn\\linear_model\\_sag.py:352: ConvergenceWarning: The max_iter was reached which means the coef_ did not converge\n",
      "  warnings.warn(\n",
      "C:\\Users\\sande\\anaconda3\\lib\\site-packages\\sklearn\\linear_model\\_logistic.py:1476: UserWarning: l1_ratio parameter is only used when penalty is 'elasticnet'. Got (penalty=none)\n",
      "  warnings.warn(\n",
      "C:\\Users\\sande\\anaconda3\\lib\\site-packages\\sklearn\\linear_model\\_logistic.py:1483: UserWarning: Setting penalty='none' will ignore the C and l1_ratio parameters\n",
      "  warnings.warn(\n"
     ]
    },
    {
     "name": "stdout",
     "output_type": "stream",
     "text": [
      "[CV] END .......C=8, l1_ratio=0.75, penalty=none, solver=sag; total time=   0.7s\n",
      "[CV] END .......C=8, l1_ratio=0.75, penalty=none, solver=sag; total time=   0.4s\n"
     ]
    },
    {
     "name": "stderr",
     "output_type": "stream",
     "text": [
      "C:\\Users\\sande\\anaconda3\\lib\\site-packages\\sklearn\\linear_model\\_logistic.py:1476: UserWarning: l1_ratio parameter is only used when penalty is 'elasticnet'. Got (penalty=none)\n",
      "  warnings.warn(\n",
      "C:\\Users\\sande\\anaconda3\\lib\\site-packages\\sklearn\\linear_model\\_logistic.py:1483: UserWarning: Setting penalty='none' will ignore the C and l1_ratio parameters\n",
      "  warnings.warn(\n",
      "C:\\Users\\sande\\anaconda3\\lib\\site-packages\\sklearn\\linear_model\\_sag.py:352: ConvergenceWarning: The max_iter was reached which means the coef_ did not converge\n",
      "  warnings.warn(\n",
      "C:\\Users\\sande\\anaconda3\\lib\\site-packages\\sklearn\\linear_model\\_logistic.py:1476: UserWarning: l1_ratio parameter is only used when penalty is 'elasticnet'. Got (penalty=none)\n",
      "  warnings.warn(\n",
      "C:\\Users\\sande\\anaconda3\\lib\\site-packages\\sklearn\\linear_model\\_logistic.py:1483: UserWarning: Setting penalty='none' will ignore the C and l1_ratio parameters\n",
      "  warnings.warn(\n"
     ]
    },
    {
     "name": "stdout",
     "output_type": "stream",
     "text": [
      "[CV] END ......C=8, l1_ratio=0.75, penalty=none, solver=saga; total time=   0.8s\n"
     ]
    },
    {
     "name": "stderr",
     "output_type": "stream",
     "text": [
      "C:\\Users\\sande\\anaconda3\\lib\\site-packages\\sklearn\\linear_model\\_sag.py:352: ConvergenceWarning: The max_iter was reached which means the coef_ did not converge\n",
      "  warnings.warn(\n",
      "C:\\Users\\sande\\anaconda3\\lib\\site-packages\\sklearn\\linear_model\\_logistic.py:1476: UserWarning: l1_ratio parameter is only used when penalty is 'elasticnet'. Got (penalty=none)\n",
      "  warnings.warn(\n",
      "C:\\Users\\sande\\anaconda3\\lib\\site-packages\\sklearn\\linear_model\\_logistic.py:1483: UserWarning: Setting penalty='none' will ignore the C and l1_ratio parameters\n",
      "  warnings.warn(\n"
     ]
    },
    {
     "name": "stdout",
     "output_type": "stream",
     "text": [
      "[CV] END ......C=8, l1_ratio=0.75, penalty=none, solver=saga; total time=   0.8s\n"
     ]
    },
    {
     "name": "stderr",
     "output_type": "stream",
     "text": [
      "C:\\Users\\sande\\anaconda3\\lib\\site-packages\\sklearn\\linear_model\\_sag.py:352: ConvergenceWarning: The max_iter was reached which means the coef_ did not converge\n",
      "  warnings.warn(\n",
      "C:\\Users\\sande\\anaconda3\\lib\\site-packages\\sklearn\\linear_model\\_logistic.py:1476: UserWarning: l1_ratio parameter is only used when penalty is 'elasticnet'. Got (penalty=none)\n",
      "  warnings.warn(\n",
      "C:\\Users\\sande\\anaconda3\\lib\\site-packages\\sklearn\\linear_model\\_logistic.py:1483: UserWarning: Setting penalty='none' will ignore the C and l1_ratio parameters\n",
      "  warnings.warn(\n"
     ]
    },
    {
     "name": "stdout",
     "output_type": "stream",
     "text": [
      "[CV] END ......C=8, l1_ratio=0.75, penalty=none, solver=saga; total time=   0.8s\n"
     ]
    },
    {
     "name": "stderr",
     "output_type": "stream",
     "text": [
      "C:\\Users\\sande\\anaconda3\\lib\\site-packages\\sklearn\\linear_model\\_sag.py:352: ConvergenceWarning: The max_iter was reached which means the coef_ did not converge\n",
      "  warnings.warn(\n",
      "C:\\Users\\sande\\anaconda3\\lib\\site-packages\\sklearn\\linear_model\\_logistic.py:1476: UserWarning: l1_ratio parameter is only used when penalty is 'elasticnet'. Got (penalty=none)\n",
      "  warnings.warn(\n",
      "C:\\Users\\sande\\anaconda3\\lib\\site-packages\\sklearn\\linear_model\\_logistic.py:1483: UserWarning: Setting penalty='none' will ignore the C and l1_ratio parameters\n",
      "  warnings.warn(\n"
     ]
    },
    {
     "name": "stdout",
     "output_type": "stream",
     "text": [
      "[CV] END ......C=8, l1_ratio=0.75, penalty=none, solver=saga; total time=   0.8s\n",
      "[CV] END ......C=8, l1_ratio=0.75, penalty=none, solver=saga; total time=   0.7s\n",
      "[CV] END ...C=8, l1_ratio=0.95, penalty=l1, solver=newton-cg; total time=   0.0s\n",
      "[CV] END ...C=8, l1_ratio=0.95, penalty=l1, solver=newton-cg; total time=   0.0s\n",
      "[CV] END ...C=8, l1_ratio=0.95, penalty=l1, solver=newton-cg; total time=   0.0s\n",
      "[CV] END ...C=8, l1_ratio=0.95, penalty=l1, solver=newton-cg; total time=   0.0s\n",
      "[CV] END ...C=8, l1_ratio=0.95, penalty=l1, solver=newton-cg; total time=   0.0s\n",
      "[CV] END .......C=8, l1_ratio=0.95, penalty=l1, solver=lbfgs; total time=   0.0s\n",
      "[CV] END .......C=8, l1_ratio=0.95, penalty=l1, solver=lbfgs; total time=   0.0s\n",
      "[CV] END .......C=8, l1_ratio=0.95, penalty=l1, solver=lbfgs; total time=   0.0s\n",
      "[CV] END .......C=8, l1_ratio=0.95, penalty=l1, solver=lbfgs; total time=   0.0s\n",
      "[CV] END .......C=8, l1_ratio=0.95, penalty=l1, solver=lbfgs; total time=   0.0s\n",
      "[CV] END ...C=8, l1_ratio=0.95, penalty=l1, solver=liblinear; total time=   0.0s\n",
      "[CV] END ...C=8, l1_ratio=0.95, penalty=l1, solver=liblinear; total time=   0.0s\n",
      "[CV] END ...C=8, l1_ratio=0.95, penalty=l1, solver=liblinear; total time=   0.0s\n",
      "[CV] END ...C=8, l1_ratio=0.95, penalty=l1, solver=liblinear; total time=   0.0s\n"
     ]
    },
    {
     "name": "stderr",
     "output_type": "stream",
     "text": [
      "C:\\Users\\sande\\anaconda3\\lib\\site-packages\\sklearn\\linear_model\\_logistic.py:1476: UserWarning: l1_ratio parameter is only used when penalty is 'elasticnet'. Got (penalty=l1)\n",
      "  warnings.warn(\n",
      "C:\\Users\\sande\\anaconda3\\lib\\site-packages\\sklearn\\linear_model\\_logistic.py:1476: UserWarning: l1_ratio parameter is only used when penalty is 'elasticnet'. Got (penalty=l1)\n",
      "  warnings.warn(\n",
      "C:\\Users\\sande\\anaconda3\\lib\\site-packages\\sklearn\\linear_model\\_logistic.py:1476: UserWarning: l1_ratio parameter is only used when penalty is 'elasticnet'. Got (penalty=l1)\n",
      "  warnings.warn(\n",
      "C:\\Users\\sande\\anaconda3\\lib\\site-packages\\sklearn\\linear_model\\_logistic.py:1476: UserWarning: l1_ratio parameter is only used when penalty is 'elasticnet'. Got (penalty=l1)\n",
      "  warnings.warn(\n",
      "C:\\Users\\sande\\anaconda3\\lib\\site-packages\\sklearn\\linear_model\\_logistic.py:1476: UserWarning: l1_ratio parameter is only used when penalty is 'elasticnet'. Got (penalty=l1)\n",
      "  warnings.warn(\n"
     ]
    },
    {
     "name": "stdout",
     "output_type": "stream",
     "text": [
      "[CV] END ...C=8, l1_ratio=0.95, penalty=l1, solver=liblinear; total time=   0.0s\n",
      "[CV] END .........C=8, l1_ratio=0.95, penalty=l1, solver=sag; total time=   0.0s\n",
      "[CV] END .........C=8, l1_ratio=0.95, penalty=l1, solver=sag; total time=   0.0s\n",
      "[CV] END .........C=8, l1_ratio=0.95, penalty=l1, solver=sag; total time=   0.0s\n",
      "[CV] END .........C=8, l1_ratio=0.95, penalty=l1, solver=sag; total time=   0.0s\n",
      "[CV] END .........C=8, l1_ratio=0.95, penalty=l1, solver=sag; total time=   0.0s\n"
     ]
    },
    {
     "name": "stderr",
     "output_type": "stream",
     "text": [
      "C:\\Users\\sande\\anaconda3\\lib\\site-packages\\sklearn\\linear_model\\_logistic.py:1476: UserWarning: l1_ratio parameter is only used when penalty is 'elasticnet'. Got (penalty=l1)\n",
      "  warnings.warn(\n"
     ]
    },
    {
     "name": "stdout",
     "output_type": "stream",
     "text": [
      "[CV] END ........C=8, l1_ratio=0.95, penalty=l1, solver=saga; total time=   0.5s\n"
     ]
    },
    {
     "name": "stderr",
     "output_type": "stream",
     "text": [
      "C:\\Users\\sande\\anaconda3\\lib\\site-packages\\sklearn\\linear_model\\_logistic.py:1476: UserWarning: l1_ratio parameter is only used when penalty is 'elasticnet'. Got (penalty=l1)\n",
      "  warnings.warn(\n"
     ]
    },
    {
     "name": "stdout",
     "output_type": "stream",
     "text": [
      "[CV] END ........C=8, l1_ratio=0.95, penalty=l1, solver=saga; total time=   0.4s\n"
     ]
    },
    {
     "name": "stderr",
     "output_type": "stream",
     "text": [
      "C:\\Users\\sande\\anaconda3\\lib\\site-packages\\sklearn\\linear_model\\_logistic.py:1476: UserWarning: l1_ratio parameter is only used when penalty is 'elasticnet'. Got (penalty=l1)\n",
      "  warnings.warn(\n"
     ]
    },
    {
     "name": "stdout",
     "output_type": "stream",
     "text": [
      "[CV] END ........C=8, l1_ratio=0.95, penalty=l1, solver=saga; total time=   0.4s\n"
     ]
    },
    {
     "name": "stderr",
     "output_type": "stream",
     "text": [
      "C:\\Users\\sande\\anaconda3\\lib\\site-packages\\sklearn\\linear_model\\_logistic.py:1476: UserWarning: l1_ratio parameter is only used when penalty is 'elasticnet'. Got (penalty=l1)\n",
      "  warnings.warn(\n"
     ]
    },
    {
     "name": "stdout",
     "output_type": "stream",
     "text": [
      "[CV] END ........C=8, l1_ratio=0.95, penalty=l1, solver=saga; total time=   0.4s\n"
     ]
    },
    {
     "name": "stderr",
     "output_type": "stream",
     "text": [
      "C:\\Users\\sande\\anaconda3\\lib\\site-packages\\sklearn\\linear_model\\_logistic.py:1476: UserWarning: l1_ratio parameter is only used when penalty is 'elasticnet'. Got (penalty=l1)\n",
      "  warnings.warn(\n"
     ]
    },
    {
     "name": "stdout",
     "output_type": "stream",
     "text": [
      "[CV] END ........C=8, l1_ratio=0.95, penalty=l1, solver=saga; total time=   0.1s\n",
      "[CV] END ...C=8, l1_ratio=0.95, penalty=l2, solver=newton-cg; total time=   0.0s\n",
      "[CV] END ...C=8, l1_ratio=0.95, penalty=l2, solver=newton-cg; total time=   0.0s\n",
      "[CV] END ...C=8, l1_ratio=0.95, penalty=l2, solver=newton-cg; total time=   0.0s\n",
      "[CV] END ...C=8, l1_ratio=0.95, penalty=l2, solver=newton-cg; total time=   0.0s\n",
      "[CV] END ...C=8, l1_ratio=0.95, penalty=l2, solver=newton-cg; total time=   0.0s\n",
      "[CV] END .......C=8, l1_ratio=0.95, penalty=l2, solver=lbfgs; total time=   0.0s\n"
     ]
    },
    {
     "name": "stderr",
     "output_type": "stream",
     "text": [
      "C:\\Users\\sande\\anaconda3\\lib\\site-packages\\sklearn\\linear_model\\_logistic.py:1476: UserWarning: l1_ratio parameter is only used when penalty is 'elasticnet'. Got (penalty=l2)\n",
      "  warnings.warn(\n",
      "C:\\Users\\sande\\anaconda3\\lib\\site-packages\\sklearn\\linear_model\\_logistic.py:1476: UserWarning: l1_ratio parameter is only used when penalty is 'elasticnet'. Got (penalty=l2)\n",
      "  warnings.warn(\n",
      "C:\\Users\\sande\\anaconda3\\lib\\site-packages\\sklearn\\linear_model\\_logistic.py:1476: UserWarning: l1_ratio parameter is only used when penalty is 'elasticnet'. Got (penalty=l2)\n",
      "  warnings.warn(\n",
      "C:\\Users\\sande\\anaconda3\\lib\\site-packages\\sklearn\\linear_model\\_logistic.py:1476: UserWarning: l1_ratio parameter is only used when penalty is 'elasticnet'. Got (penalty=l2)\n",
      "  warnings.warn(\n",
      "C:\\Users\\sande\\anaconda3\\lib\\site-packages\\sklearn\\linear_model\\_logistic.py:1476: UserWarning: l1_ratio parameter is only used when penalty is 'elasticnet'. Got (penalty=l2)\n",
      "  warnings.warn(\n",
      "C:\\Users\\sande\\anaconda3\\lib\\site-packages\\sklearn\\linear_model\\_logistic.py:1476: UserWarning: l1_ratio parameter is only used when penalty is 'elasticnet'. Got (penalty=l2)\n",
      "  warnings.warn(\n",
      "C:\\Users\\sande\\anaconda3\\lib\\site-packages\\sklearn\\linear_model\\_logistic.py:1476: UserWarning: l1_ratio parameter is only used when penalty is 'elasticnet'. Got (penalty=l2)\n",
      "  warnings.warn(\n",
      "C:\\Users\\sande\\anaconda3\\lib\\site-packages\\sklearn\\linear_model\\_logistic.py:1476: UserWarning: l1_ratio parameter is only used when penalty is 'elasticnet'. Got (penalty=l2)\n",
      "  warnings.warn(\n",
      "C:\\Users\\sande\\anaconda3\\lib\\site-packages\\sklearn\\linear_model\\_logistic.py:1476: UserWarning: l1_ratio parameter is only used when penalty is 'elasticnet'. Got (penalty=l2)\n",
      "  warnings.warn(\n",
      "C:\\Users\\sande\\anaconda3\\lib\\site-packages\\sklearn\\linear_model\\_logistic.py:1476: UserWarning: l1_ratio parameter is only used when penalty is 'elasticnet'. Got (penalty=l2)\n",
      "  warnings.warn(\n",
      "C:\\Users\\sande\\anaconda3\\lib\\site-packages\\sklearn\\linear_model\\_logistic.py:1476: UserWarning: l1_ratio parameter is only used when penalty is 'elasticnet'. Got (penalty=l2)\n",
      "  warnings.warn(\n",
      "C:\\Users\\sande\\anaconda3\\lib\\site-packages\\sklearn\\linear_model\\_logistic.py:1476: UserWarning: l1_ratio parameter is only used when penalty is 'elasticnet'. Got (penalty=l2)\n",
      "  warnings.warn(\n",
      "C:\\Users\\sande\\anaconda3\\lib\\site-packages\\sklearn\\linear_model\\_logistic.py:1476: UserWarning: l1_ratio parameter is only used when penalty is 'elasticnet'. Got (penalty=l2)\n",
      "  warnings.warn(\n",
      "C:\\Users\\sande\\anaconda3\\lib\\site-packages\\sklearn\\linear_model\\_logistic.py:1476: UserWarning: l1_ratio parameter is only used when penalty is 'elasticnet'. Got (penalty=l2)\n",
      "  warnings.warn(\n",
      "C:\\Users\\sande\\anaconda3\\lib\\site-packages\\sklearn\\linear_model\\_logistic.py:1476: UserWarning: l1_ratio parameter is only used when penalty is 'elasticnet'. Got (penalty=l2)\n",
      "  warnings.warn(\n"
     ]
    },
    {
     "name": "stdout",
     "output_type": "stream",
     "text": [
      "[CV] END .......C=8, l1_ratio=0.95, penalty=l2, solver=lbfgs; total time=   0.0s\n",
      "[CV] END .......C=8, l1_ratio=0.95, penalty=l2, solver=lbfgs; total time=   0.0s\n",
      "[CV] END .......C=8, l1_ratio=0.95, penalty=l2, solver=lbfgs; total time=   0.0s\n",
      "[CV] END .......C=8, l1_ratio=0.95, penalty=l2, solver=lbfgs; total time=   0.0s\n",
      "[CV] END ...C=8, l1_ratio=0.95, penalty=l2, solver=liblinear; total time=   0.0s\n",
      "[CV] END ...C=8, l1_ratio=0.95, penalty=l2, solver=liblinear; total time=   0.0s\n",
      "[CV] END ...C=8, l1_ratio=0.95, penalty=l2, solver=liblinear; total time=   0.0s\n",
      "[CV] END ...C=8, l1_ratio=0.95, penalty=l2, solver=liblinear; total time=   0.0s\n",
      "[CV] END ...C=8, l1_ratio=0.95, penalty=l2, solver=liblinear; total time=   0.0s\n"
     ]
    },
    {
     "name": "stderr",
     "output_type": "stream",
     "text": [
      "C:\\Users\\sande\\anaconda3\\lib\\site-packages\\sklearn\\linear_model\\_logistic.py:1476: UserWarning: l1_ratio parameter is only used when penalty is 'elasticnet'. Got (penalty=l2)\n",
      "  warnings.warn(\n"
     ]
    },
    {
     "name": "stdout",
     "output_type": "stream",
     "text": [
      "[CV] END .........C=8, l1_ratio=0.95, penalty=l2, solver=sag; total time=   0.2s\n"
     ]
    },
    {
     "name": "stderr",
     "output_type": "stream",
     "text": [
      "C:\\Users\\sande\\anaconda3\\lib\\site-packages\\sklearn\\linear_model\\_logistic.py:1476: UserWarning: l1_ratio parameter is only used when penalty is 'elasticnet'. Got (penalty=l2)\n",
      "  warnings.warn(\n"
     ]
    },
    {
     "name": "stdout",
     "output_type": "stream",
     "text": [
      "[CV] END .........C=8, l1_ratio=0.95, penalty=l2, solver=sag; total time=   0.1s\n"
     ]
    },
    {
     "name": "stderr",
     "output_type": "stream",
     "text": [
      "C:\\Users\\sande\\anaconda3\\lib\\site-packages\\sklearn\\linear_model\\_logistic.py:1476: UserWarning: l1_ratio parameter is only used when penalty is 'elasticnet'. Got (penalty=l2)\n",
      "  warnings.warn(\n"
     ]
    },
    {
     "name": "stdout",
     "output_type": "stream",
     "text": [
      "[CV] END .........C=8, l1_ratio=0.95, penalty=l2, solver=sag; total time=   0.2s\n"
     ]
    },
    {
     "name": "stderr",
     "output_type": "stream",
     "text": [
      "C:\\Users\\sande\\anaconda3\\lib\\site-packages\\sklearn\\linear_model\\_logistic.py:1476: UserWarning: l1_ratio parameter is only used when penalty is 'elasticnet'. Got (penalty=l2)\n",
      "  warnings.warn(\n"
     ]
    },
    {
     "name": "stdout",
     "output_type": "stream",
     "text": [
      "[CV] END .........C=8, l1_ratio=0.95, penalty=l2, solver=sag; total time=   0.2s\n"
     ]
    },
    {
     "name": "stderr",
     "output_type": "stream",
     "text": [
      "C:\\Users\\sande\\anaconda3\\lib\\site-packages\\sklearn\\linear_model\\_logistic.py:1476: UserWarning: l1_ratio parameter is only used when penalty is 'elasticnet'. Got (penalty=l2)\n",
      "  warnings.warn(\n"
     ]
    },
    {
     "name": "stdout",
     "output_type": "stream",
     "text": [
      "[CV] END .........C=8, l1_ratio=0.95, penalty=l2, solver=sag; total time=   0.1s\n"
     ]
    },
    {
     "name": "stderr",
     "output_type": "stream",
     "text": [
      "C:\\Users\\sande\\anaconda3\\lib\\site-packages\\sklearn\\linear_model\\_logistic.py:1476: UserWarning: l1_ratio parameter is only used when penalty is 'elasticnet'. Got (penalty=l2)\n",
      "  warnings.warn(\n"
     ]
    },
    {
     "name": "stdout",
     "output_type": "stream",
     "text": [
      "[CV] END ........C=8, l1_ratio=0.95, penalty=l2, solver=saga; total time=   0.2s\n"
     ]
    },
    {
     "name": "stderr",
     "output_type": "stream",
     "text": [
      "C:\\Users\\sande\\anaconda3\\lib\\site-packages\\sklearn\\linear_model\\_logistic.py:1476: UserWarning: l1_ratio parameter is only used when penalty is 'elasticnet'. Got (penalty=l2)\n",
      "  warnings.warn(\n"
     ]
    },
    {
     "name": "stdout",
     "output_type": "stream",
     "text": [
      "[CV] END ........C=8, l1_ratio=0.95, penalty=l2, solver=saga; total time=   0.3s\n"
     ]
    },
    {
     "name": "stderr",
     "output_type": "stream",
     "text": [
      "C:\\Users\\sande\\anaconda3\\lib\\site-packages\\sklearn\\linear_model\\_logistic.py:1476: UserWarning: l1_ratio parameter is only used when penalty is 'elasticnet'. Got (penalty=l2)\n",
      "  warnings.warn(\n"
     ]
    },
    {
     "name": "stdout",
     "output_type": "stream",
     "text": [
      "[CV] END ........C=8, l1_ratio=0.95, penalty=l2, solver=saga; total time=   0.3s\n"
     ]
    },
    {
     "name": "stderr",
     "output_type": "stream",
     "text": [
      "C:\\Users\\sande\\anaconda3\\lib\\site-packages\\sklearn\\linear_model\\_logistic.py:1476: UserWarning: l1_ratio parameter is only used when penalty is 'elasticnet'. Got (penalty=l2)\n",
      "  warnings.warn(\n"
     ]
    },
    {
     "name": "stdout",
     "output_type": "stream",
     "text": [
      "[CV] END ........C=8, l1_ratio=0.95, penalty=l2, solver=saga; total time=   0.2s\n"
     ]
    },
    {
     "name": "stderr",
     "output_type": "stream",
     "text": [
      "C:\\Users\\sande\\anaconda3\\lib\\site-packages\\sklearn\\linear_model\\_logistic.py:1476: UserWarning: l1_ratio parameter is only used when penalty is 'elasticnet'. Got (penalty=l2)\n",
      "  warnings.warn(\n"
     ]
    },
    {
     "name": "stdout",
     "output_type": "stream",
     "text": [
      "[CV] END ........C=8, l1_ratio=0.95, penalty=l2, solver=saga; total time=   0.3s\n",
      "[CV] END C=8, l1_ratio=0.95, penalty=elasticnet, solver=newton-cg; total time=   0.0s\n",
      "[CV] END C=8, l1_ratio=0.95, penalty=elasticnet, solver=newton-cg; total time=   0.0s\n",
      "[CV] END C=8, l1_ratio=0.95, penalty=elasticnet, solver=newton-cg; total time=   0.0s\n",
      "[CV] END C=8, l1_ratio=0.95, penalty=elasticnet, solver=newton-cg; total time=   0.0s\n",
      "[CV] END C=8, l1_ratio=0.95, penalty=elasticnet, solver=newton-cg; total time=   0.0s\n",
      "[CV] END C=8, l1_ratio=0.95, penalty=elasticnet, solver=lbfgs; total time=   0.0s\n",
      "[CV] END C=8, l1_ratio=0.95, penalty=elasticnet, solver=lbfgs; total time=   0.0s\n",
      "[CV] END C=8, l1_ratio=0.95, penalty=elasticnet, solver=lbfgs; total time=   0.0s\n",
      "[CV] END C=8, l1_ratio=0.95, penalty=elasticnet, solver=lbfgs; total time=   0.0s\n",
      "[CV] END C=8, l1_ratio=0.95, penalty=elasticnet, solver=lbfgs; total time=   0.0s\n",
      "[CV] END C=8, l1_ratio=0.95, penalty=elasticnet, solver=liblinear; total time=   0.0s\n",
      "[CV] END C=8, l1_ratio=0.95, penalty=elasticnet, solver=liblinear; total time=   0.0s\n",
      "[CV] END C=8, l1_ratio=0.95, penalty=elasticnet, solver=liblinear; total time=   0.0s\n",
      "[CV] END C=8, l1_ratio=0.95, penalty=elasticnet, solver=liblinear; total time=   0.0s\n",
      "[CV] END C=8, l1_ratio=0.95, penalty=elasticnet, solver=liblinear; total time=   0.0s\n",
      "[CV] END .C=8, l1_ratio=0.95, penalty=elasticnet, solver=sag; total time=   0.0s\n",
      "[CV] END .C=8, l1_ratio=0.95, penalty=elasticnet, solver=sag; total time=   0.0s\n",
      "[CV] END .C=8, l1_ratio=0.95, penalty=elasticnet, solver=sag; total time=   0.0s\n",
      "[CV] END .C=8, l1_ratio=0.95, penalty=elasticnet, solver=sag; total time=   0.0s\n",
      "[CV] END .C=8, l1_ratio=0.95, penalty=elasticnet, solver=sag; total time=   0.0s\n",
      "[CV] END C=8, l1_ratio=0.95, penalty=elasticnet, solver=saga; total time=   0.5s\n",
      "[CV] END C=8, l1_ratio=0.95, penalty=elasticnet, solver=saga; total time=   0.4s\n",
      "[CV] END C=8, l1_ratio=0.95, penalty=elasticnet, solver=saga; total time=   0.5s\n",
      "[CV] END C=8, l1_ratio=0.95, penalty=elasticnet, solver=saga; total time=   0.4s\n",
      "[CV] END C=8, l1_ratio=0.95, penalty=elasticnet, solver=saga; total time=   0.1s\n"
     ]
    },
    {
     "name": "stderr",
     "output_type": "stream",
     "text": [
      "C:\\Users\\sande\\anaconda3\\lib\\site-packages\\sklearn\\linear_model\\_logistic.py:1476: UserWarning: l1_ratio parameter is only used when penalty is 'elasticnet'. Got (penalty=none)\n",
      "  warnings.warn(\n",
      "C:\\Users\\sande\\anaconda3\\lib\\site-packages\\sklearn\\linear_model\\_logistic.py:1483: UserWarning: Setting penalty='none' will ignore the C and l1_ratio parameters\n",
      "  warnings.warn(\n",
      "C:\\Users\\sande\\anaconda3\\lib\\site-packages\\sklearn\\linear_model\\_logistic.py:1476: UserWarning: l1_ratio parameter is only used when penalty is 'elasticnet'. Got (penalty=none)\n",
      "  warnings.warn(\n",
      "C:\\Users\\sande\\anaconda3\\lib\\site-packages\\sklearn\\linear_model\\_logistic.py:1483: UserWarning: Setting penalty='none' will ignore the C and l1_ratio parameters\n",
      "  warnings.warn(\n"
     ]
    },
    {
     "name": "stdout",
     "output_type": "stream",
     "text": [
      "[CV] END .C=8, l1_ratio=0.95, penalty=none, solver=newton-cg; total time=   0.0s\n",
      "[CV] END .C=8, l1_ratio=0.95, penalty=none, solver=newton-cg; total time=   0.0s\n",
      "[CV] END .C=8, l1_ratio=0.95, penalty=none, solver=newton-cg; total time=   0.0s\n"
     ]
    },
    {
     "name": "stderr",
     "output_type": "stream",
     "text": [
      "C:\\Users\\sande\\anaconda3\\lib\\site-packages\\sklearn\\linear_model\\_logistic.py:1476: UserWarning: l1_ratio parameter is only used when penalty is 'elasticnet'. Got (penalty=none)\n",
      "  warnings.warn(\n",
      "C:\\Users\\sande\\anaconda3\\lib\\site-packages\\sklearn\\linear_model\\_logistic.py:1483: UserWarning: Setting penalty='none' will ignore the C and l1_ratio parameters\n",
      "  warnings.warn(\n",
      "C:\\Users\\sande\\anaconda3\\lib\\site-packages\\sklearn\\linear_model\\_logistic.py:1476: UserWarning: l1_ratio parameter is only used when penalty is 'elasticnet'. Got (penalty=none)\n",
      "  warnings.warn(\n",
      "C:\\Users\\sande\\anaconda3\\lib\\site-packages\\sklearn\\linear_model\\_logistic.py:1483: UserWarning: Setting penalty='none' will ignore the C and l1_ratio parameters\n",
      "  warnings.warn(\n",
      "C:\\Users\\sande\\anaconda3\\lib\\site-packages\\sklearn\\linear_model\\_logistic.py:1476: UserWarning: l1_ratio parameter is only used when penalty is 'elasticnet'. Got (penalty=none)\n",
      "  warnings.warn(\n",
      "C:\\Users\\sande\\anaconda3\\lib\\site-packages\\sklearn\\linear_model\\_logistic.py:1483: UserWarning: Setting penalty='none' will ignore the C and l1_ratio parameters\n",
      "  warnings.warn(\n"
     ]
    },
    {
     "name": "stdout",
     "output_type": "stream",
     "text": [
      "[CV] END .C=8, l1_ratio=0.95, penalty=none, solver=newton-cg; total time=   0.0s\n",
      "[CV] END .C=8, l1_ratio=0.95, penalty=none, solver=newton-cg; total time=   0.0s\n",
      "[CV] END .....C=8, l1_ratio=0.95, penalty=none, solver=lbfgs; total time=   0.0s\n",
      "[CV] END .....C=8, l1_ratio=0.95, penalty=none, solver=lbfgs; total time=   0.0s\n"
     ]
    },
    {
     "name": "stderr",
     "output_type": "stream",
     "text": [
      "C:\\Users\\sande\\anaconda3\\lib\\site-packages\\sklearn\\linear_model\\_logistic.py:1476: UserWarning: l1_ratio parameter is only used when penalty is 'elasticnet'. Got (penalty=none)\n",
      "  warnings.warn(\n",
      "C:\\Users\\sande\\anaconda3\\lib\\site-packages\\sklearn\\linear_model\\_logistic.py:1483: UserWarning: Setting penalty='none' will ignore the C and l1_ratio parameters\n",
      "  warnings.warn(\n",
      "C:\\Users\\sande\\anaconda3\\lib\\site-packages\\sklearn\\linear_model\\_logistic.py:1476: UserWarning: l1_ratio parameter is only used when penalty is 'elasticnet'. Got (penalty=none)\n",
      "  warnings.warn(\n",
      "C:\\Users\\sande\\anaconda3\\lib\\site-packages\\sklearn\\linear_model\\_logistic.py:1483: UserWarning: Setting penalty='none' will ignore the C and l1_ratio parameters\n",
      "  warnings.warn(\n",
      "C:\\Users\\sande\\anaconda3\\lib\\site-packages\\sklearn\\linear_model\\_logistic.py:1476: UserWarning: l1_ratio parameter is only used when penalty is 'elasticnet'. Got (penalty=none)\n",
      "  warnings.warn(\n",
      "C:\\Users\\sande\\anaconda3\\lib\\site-packages\\sklearn\\linear_model\\_logistic.py:1483: UserWarning: Setting penalty='none' will ignore the C and l1_ratio parameters\n",
      "  warnings.warn(\n"
     ]
    },
    {
     "name": "stdout",
     "output_type": "stream",
     "text": [
      "[CV] END .....C=8, l1_ratio=0.95, penalty=none, solver=lbfgs; total time=   0.0s\n",
      "[CV] END .....C=8, l1_ratio=0.95, penalty=none, solver=lbfgs; total time=   0.0s\n",
      "[CV] END .....C=8, l1_ratio=0.95, penalty=none, solver=lbfgs; total time=   0.0s\n",
      "[CV] END .C=8, l1_ratio=0.95, penalty=none, solver=liblinear; total time=   0.0s\n",
      "[CV] END .C=8, l1_ratio=0.95, penalty=none, solver=liblinear; total time=   0.0s\n",
      "[CV] END .C=8, l1_ratio=0.95, penalty=none, solver=liblinear; total time=   0.0s\n",
      "[CV] END .C=8, l1_ratio=0.95, penalty=none, solver=liblinear; total time=   0.0s\n",
      "[CV] END .C=8, l1_ratio=0.95, penalty=none, solver=liblinear; total time=   0.0s\n"
     ]
    },
    {
     "name": "stderr",
     "output_type": "stream",
     "text": [
      "C:\\Users\\sande\\anaconda3\\lib\\site-packages\\sklearn\\linear_model\\_logistic.py:1476: UserWarning: l1_ratio parameter is only used when penalty is 'elasticnet'. Got (penalty=none)\n",
      "  warnings.warn(\n",
      "C:\\Users\\sande\\anaconda3\\lib\\site-packages\\sklearn\\linear_model\\_logistic.py:1483: UserWarning: Setting penalty='none' will ignore the C and l1_ratio parameters\n",
      "  warnings.warn(\n",
      "C:\\Users\\sande\\anaconda3\\lib\\site-packages\\sklearn\\linear_model\\_logistic.py:1476: UserWarning: l1_ratio parameter is only used when penalty is 'elasticnet'. Got (penalty=none)\n",
      "  warnings.warn(\n",
      "C:\\Users\\sande\\anaconda3\\lib\\site-packages\\sklearn\\linear_model\\_logistic.py:1483: UserWarning: Setting penalty='none' will ignore the C and l1_ratio parameters\n",
      "  warnings.warn(\n",
      "C:\\Users\\sande\\anaconda3\\lib\\site-packages\\sklearn\\linear_model\\_logistic.py:1476: UserWarning: l1_ratio parameter is only used when penalty is 'elasticnet'. Got (penalty=none)\n",
      "  warnings.warn(\n",
      "C:\\Users\\sande\\anaconda3\\lib\\site-packages\\sklearn\\linear_model\\_logistic.py:1483: UserWarning: Setting penalty='none' will ignore the C and l1_ratio parameters\n",
      "  warnings.warn(\n",
      "C:\\Users\\sande\\anaconda3\\lib\\site-packages\\sklearn\\linear_model\\_sag.py:352: ConvergenceWarning: The max_iter was reached which means the coef_ did not converge\n",
      "  warnings.warn(\n",
      "C:\\Users\\sande\\anaconda3\\lib\\site-packages\\sklearn\\linear_model\\_logistic.py:1476: UserWarning: l1_ratio parameter is only used when penalty is 'elasticnet'. Got (penalty=none)\n",
      "  warnings.warn(\n",
      "C:\\Users\\sande\\anaconda3\\lib\\site-packages\\sklearn\\linear_model\\_logistic.py:1483: UserWarning: Setting penalty='none' will ignore the C and l1_ratio parameters\n",
      "  warnings.warn(\n"
     ]
    },
    {
     "name": "stdout",
     "output_type": "stream",
     "text": [
      "[CV] END .......C=8, l1_ratio=0.95, penalty=none, solver=sag; total time=   0.7s\n"
     ]
    },
    {
     "name": "stderr",
     "output_type": "stream",
     "text": [
      "C:\\Users\\sande\\anaconda3\\lib\\site-packages\\sklearn\\linear_model\\_sag.py:352: ConvergenceWarning: The max_iter was reached which means the coef_ did not converge\n",
      "  warnings.warn(\n",
      "C:\\Users\\sande\\anaconda3\\lib\\site-packages\\sklearn\\linear_model\\_logistic.py:1476: UserWarning: l1_ratio parameter is only used when penalty is 'elasticnet'. Got (penalty=none)\n",
      "  warnings.warn(\n",
      "C:\\Users\\sande\\anaconda3\\lib\\site-packages\\sklearn\\linear_model\\_logistic.py:1483: UserWarning: Setting penalty='none' will ignore the C and l1_ratio parameters\n",
      "  warnings.warn(\n"
     ]
    },
    {
     "name": "stdout",
     "output_type": "stream",
     "text": [
      "[CV] END .......C=8, l1_ratio=0.95, penalty=none, solver=sag; total time=   0.7s\n"
     ]
    },
    {
     "name": "stderr",
     "output_type": "stream",
     "text": [
      "C:\\Users\\sande\\anaconda3\\lib\\site-packages\\sklearn\\linear_model\\_sag.py:352: ConvergenceWarning: The max_iter was reached which means the coef_ did not converge\n",
      "  warnings.warn(\n",
      "C:\\Users\\sande\\anaconda3\\lib\\site-packages\\sklearn\\linear_model\\_logistic.py:1476: UserWarning: l1_ratio parameter is only used when penalty is 'elasticnet'. Got (penalty=none)\n",
      "  warnings.warn(\n",
      "C:\\Users\\sande\\anaconda3\\lib\\site-packages\\sklearn\\linear_model\\_logistic.py:1483: UserWarning: Setting penalty='none' will ignore the C and l1_ratio parameters\n",
      "  warnings.warn(\n"
     ]
    },
    {
     "name": "stdout",
     "output_type": "stream",
     "text": [
      "[CV] END .......C=8, l1_ratio=0.95, penalty=none, solver=sag; total time=   0.7s\n"
     ]
    },
    {
     "name": "stderr",
     "output_type": "stream",
     "text": [
      "C:\\Users\\sande\\anaconda3\\lib\\site-packages\\sklearn\\linear_model\\_sag.py:352: ConvergenceWarning: The max_iter was reached which means the coef_ did not converge\n",
      "  warnings.warn(\n",
      "C:\\Users\\sande\\anaconda3\\lib\\site-packages\\sklearn\\linear_model\\_logistic.py:1476: UserWarning: l1_ratio parameter is only used when penalty is 'elasticnet'. Got (penalty=none)\n",
      "  warnings.warn(\n",
      "C:\\Users\\sande\\anaconda3\\lib\\site-packages\\sklearn\\linear_model\\_logistic.py:1483: UserWarning: Setting penalty='none' will ignore the C and l1_ratio parameters\n",
      "  warnings.warn(\n"
     ]
    },
    {
     "name": "stdout",
     "output_type": "stream",
     "text": [
      "[CV] END .......C=8, l1_ratio=0.95, penalty=none, solver=sag; total time=   0.7s\n",
      "[CV] END .......C=8, l1_ratio=0.95, penalty=none, solver=sag; total time=   0.4s\n"
     ]
    },
    {
     "name": "stderr",
     "output_type": "stream",
     "text": [
      "C:\\Users\\sande\\anaconda3\\lib\\site-packages\\sklearn\\linear_model\\_logistic.py:1476: UserWarning: l1_ratio parameter is only used when penalty is 'elasticnet'. Got (penalty=none)\n",
      "  warnings.warn(\n",
      "C:\\Users\\sande\\anaconda3\\lib\\site-packages\\sklearn\\linear_model\\_logistic.py:1483: UserWarning: Setting penalty='none' will ignore the C and l1_ratio parameters\n",
      "  warnings.warn(\n",
      "C:\\Users\\sande\\anaconda3\\lib\\site-packages\\sklearn\\linear_model\\_sag.py:352: ConvergenceWarning: The max_iter was reached which means the coef_ did not converge\n",
      "  warnings.warn(\n",
      "C:\\Users\\sande\\anaconda3\\lib\\site-packages\\sklearn\\linear_model\\_logistic.py:1476: UserWarning: l1_ratio parameter is only used when penalty is 'elasticnet'. Got (penalty=none)\n",
      "  warnings.warn(\n",
      "C:\\Users\\sande\\anaconda3\\lib\\site-packages\\sklearn\\linear_model\\_logistic.py:1483: UserWarning: Setting penalty='none' will ignore the C and l1_ratio parameters\n",
      "  warnings.warn(\n"
     ]
    },
    {
     "name": "stdout",
     "output_type": "stream",
     "text": [
      "[CV] END ......C=8, l1_ratio=0.95, penalty=none, solver=saga; total time=   0.8s\n"
     ]
    },
    {
     "name": "stderr",
     "output_type": "stream",
     "text": [
      "C:\\Users\\sande\\anaconda3\\lib\\site-packages\\sklearn\\linear_model\\_sag.py:352: ConvergenceWarning: The max_iter was reached which means the coef_ did not converge\n",
      "  warnings.warn(\n",
      "C:\\Users\\sande\\anaconda3\\lib\\site-packages\\sklearn\\linear_model\\_logistic.py:1476: UserWarning: l1_ratio parameter is only used when penalty is 'elasticnet'. Got (penalty=none)\n",
      "  warnings.warn(\n",
      "C:\\Users\\sande\\anaconda3\\lib\\site-packages\\sklearn\\linear_model\\_logistic.py:1483: UserWarning: Setting penalty='none' will ignore the C and l1_ratio parameters\n",
      "  warnings.warn(\n"
     ]
    },
    {
     "name": "stdout",
     "output_type": "stream",
     "text": [
      "[CV] END ......C=8, l1_ratio=0.95, penalty=none, solver=saga; total time=   0.8s\n"
     ]
    },
    {
     "name": "stderr",
     "output_type": "stream",
     "text": [
      "C:\\Users\\sande\\anaconda3\\lib\\site-packages\\sklearn\\linear_model\\_sag.py:352: ConvergenceWarning: The max_iter was reached which means the coef_ did not converge\n",
      "  warnings.warn(\n",
      "C:\\Users\\sande\\anaconda3\\lib\\site-packages\\sklearn\\linear_model\\_logistic.py:1476: UserWarning: l1_ratio parameter is only used when penalty is 'elasticnet'. Got (penalty=none)\n",
      "  warnings.warn(\n",
      "C:\\Users\\sande\\anaconda3\\lib\\site-packages\\sklearn\\linear_model\\_logistic.py:1483: UserWarning: Setting penalty='none' will ignore the C and l1_ratio parameters\n",
      "  warnings.warn(\n"
     ]
    },
    {
     "name": "stdout",
     "output_type": "stream",
     "text": [
      "[CV] END ......C=8, l1_ratio=0.95, penalty=none, solver=saga; total time=   0.8s\n"
     ]
    },
    {
     "name": "stderr",
     "output_type": "stream",
     "text": [
      "C:\\Users\\sande\\anaconda3\\lib\\site-packages\\sklearn\\linear_model\\_sag.py:352: ConvergenceWarning: The max_iter was reached which means the coef_ did not converge\n",
      "  warnings.warn(\n",
      "C:\\Users\\sande\\anaconda3\\lib\\site-packages\\sklearn\\linear_model\\_logistic.py:1476: UserWarning: l1_ratio parameter is only used when penalty is 'elasticnet'. Got (penalty=none)\n",
      "  warnings.warn(\n",
      "C:\\Users\\sande\\anaconda3\\lib\\site-packages\\sklearn\\linear_model\\_logistic.py:1483: UserWarning: Setting penalty='none' will ignore the C and l1_ratio parameters\n",
      "  warnings.warn(\n"
     ]
    },
    {
     "name": "stdout",
     "output_type": "stream",
     "text": [
      "[CV] END ......C=8, l1_ratio=0.95, penalty=none, solver=saga; total time=   0.8s\n",
      "[CV] END ......C=8, l1_ratio=0.95, penalty=none, solver=saga; total time=   0.7s\n",
      "[CV] END ......C=8, l1_ratio=1, penalty=l1, solver=newton-cg; total time=   0.0s\n",
      "[CV] END ......C=8, l1_ratio=1, penalty=l1, solver=newton-cg; total time=   0.0s\n",
      "[CV] END ......C=8, l1_ratio=1, penalty=l1, solver=newton-cg; total time=   0.0s\n",
      "[CV] END ......C=8, l1_ratio=1, penalty=l1, solver=newton-cg; total time=   0.0s\n",
      "[CV] END ......C=8, l1_ratio=1, penalty=l1, solver=newton-cg; total time=   0.0s\n",
      "[CV] END ..........C=8, l1_ratio=1, penalty=l1, solver=lbfgs; total time=   0.0s\n",
      "[CV] END ..........C=8, l1_ratio=1, penalty=l1, solver=lbfgs; total time=   0.0s\n",
      "[CV] END ..........C=8, l1_ratio=1, penalty=l1, solver=lbfgs; total time=   0.0s\n",
      "[CV] END ..........C=8, l1_ratio=1, penalty=l1, solver=lbfgs; total time=   0.0s\n",
      "[CV] END ..........C=8, l1_ratio=1, penalty=l1, solver=lbfgs; total time=   0.0s\n",
      "[CV] END ......C=8, l1_ratio=1, penalty=l1, solver=liblinear; total time=   0.0s\n",
      "[CV] END ......C=8, l1_ratio=1, penalty=l1, solver=liblinear; total time=   0.0s\n",
      "[CV] END ......C=8, l1_ratio=1, penalty=l1, solver=liblinear; total time=   0.0s\n",
      "[CV] END ......C=8, l1_ratio=1, penalty=l1, solver=liblinear; total time=   0.0s\n"
     ]
    },
    {
     "name": "stderr",
     "output_type": "stream",
     "text": [
      "C:\\Users\\sande\\anaconda3\\lib\\site-packages\\sklearn\\linear_model\\_logistic.py:1476: UserWarning: l1_ratio parameter is only used when penalty is 'elasticnet'. Got (penalty=l1)\n",
      "  warnings.warn(\n",
      "C:\\Users\\sande\\anaconda3\\lib\\site-packages\\sklearn\\linear_model\\_logistic.py:1476: UserWarning: l1_ratio parameter is only used when penalty is 'elasticnet'. Got (penalty=l1)\n",
      "  warnings.warn(\n",
      "C:\\Users\\sande\\anaconda3\\lib\\site-packages\\sklearn\\linear_model\\_logistic.py:1476: UserWarning: l1_ratio parameter is only used when penalty is 'elasticnet'. Got (penalty=l1)\n",
      "  warnings.warn(\n",
      "C:\\Users\\sande\\anaconda3\\lib\\site-packages\\sklearn\\linear_model\\_logistic.py:1476: UserWarning: l1_ratio parameter is only used when penalty is 'elasticnet'. Got (penalty=l1)\n",
      "  warnings.warn(\n",
      "C:\\Users\\sande\\anaconda3\\lib\\site-packages\\sklearn\\linear_model\\_logistic.py:1476: UserWarning: l1_ratio parameter is only used when penalty is 'elasticnet'. Got (penalty=l1)\n",
      "  warnings.warn(\n"
     ]
    },
    {
     "name": "stdout",
     "output_type": "stream",
     "text": [
      "[CV] END ......C=8, l1_ratio=1, penalty=l1, solver=liblinear; total time=   0.0s\n",
      "[CV] END ............C=8, l1_ratio=1, penalty=l1, solver=sag; total time=   0.0s\n",
      "[CV] END ............C=8, l1_ratio=1, penalty=l1, solver=sag; total time=   0.0s\n",
      "[CV] END ............C=8, l1_ratio=1, penalty=l1, solver=sag; total time=   0.0s\n",
      "[CV] END ............C=8, l1_ratio=1, penalty=l1, solver=sag; total time=   0.0s\n",
      "[CV] END ............C=8, l1_ratio=1, penalty=l1, solver=sag; total time=   0.0s\n"
     ]
    },
    {
     "name": "stderr",
     "output_type": "stream",
     "text": [
      "C:\\Users\\sande\\anaconda3\\lib\\site-packages\\sklearn\\linear_model\\_logistic.py:1476: UserWarning: l1_ratio parameter is only used when penalty is 'elasticnet'. Got (penalty=l1)\n",
      "  warnings.warn(\n"
     ]
    },
    {
     "name": "stdout",
     "output_type": "stream",
     "text": [
      "[CV] END ...........C=8, l1_ratio=1, penalty=l1, solver=saga; total time=   0.5s\n"
     ]
    },
    {
     "name": "stderr",
     "output_type": "stream",
     "text": [
      "C:\\Users\\sande\\anaconda3\\lib\\site-packages\\sklearn\\linear_model\\_logistic.py:1476: UserWarning: l1_ratio parameter is only used when penalty is 'elasticnet'. Got (penalty=l1)\n",
      "  warnings.warn(\n"
     ]
    },
    {
     "name": "stdout",
     "output_type": "stream",
     "text": [
      "[CV] END ...........C=8, l1_ratio=1, penalty=l1, solver=saga; total time=   0.3s\n"
     ]
    },
    {
     "name": "stderr",
     "output_type": "stream",
     "text": [
      "C:\\Users\\sande\\anaconda3\\lib\\site-packages\\sklearn\\linear_model\\_logistic.py:1476: UserWarning: l1_ratio parameter is only used when penalty is 'elasticnet'. Got (penalty=l1)\n",
      "  warnings.warn(\n"
     ]
    },
    {
     "name": "stdout",
     "output_type": "stream",
     "text": [
      "[CV] END ...........C=8, l1_ratio=1, penalty=l1, solver=saga; total time=   0.5s\n"
     ]
    },
    {
     "name": "stderr",
     "output_type": "stream",
     "text": [
      "C:\\Users\\sande\\anaconda3\\lib\\site-packages\\sklearn\\linear_model\\_logistic.py:1476: UserWarning: l1_ratio parameter is only used when penalty is 'elasticnet'. Got (penalty=l1)\n",
      "  warnings.warn(\n"
     ]
    },
    {
     "name": "stdout",
     "output_type": "stream",
     "text": [
      "[CV] END ...........C=8, l1_ratio=1, penalty=l1, solver=saga; total time=   0.4s\n"
     ]
    },
    {
     "name": "stderr",
     "output_type": "stream",
     "text": [
      "C:\\Users\\sande\\anaconda3\\lib\\site-packages\\sklearn\\linear_model\\_logistic.py:1476: UserWarning: l1_ratio parameter is only used when penalty is 'elasticnet'. Got (penalty=l1)\n",
      "  warnings.warn(\n"
     ]
    },
    {
     "name": "stdout",
     "output_type": "stream",
     "text": [
      "[CV] END ...........C=8, l1_ratio=1, penalty=l1, solver=saga; total time=   0.1s\n",
      "[CV] END ......C=8, l1_ratio=1, penalty=l2, solver=newton-cg; total time=   0.0s\n",
      "[CV] END ......C=8, l1_ratio=1, penalty=l2, solver=newton-cg; total time=   0.0s\n",
      "[CV] END ......C=8, l1_ratio=1, penalty=l2, solver=newton-cg; total time=   0.0s\n",
      "[CV] END ......C=8, l1_ratio=1, penalty=l2, solver=newton-cg; total time=   0.0s\n",
      "[CV] END ......C=8, l1_ratio=1, penalty=l2, solver=newton-cg; total time=   0.0s\n"
     ]
    },
    {
     "name": "stderr",
     "output_type": "stream",
     "text": [
      "C:\\Users\\sande\\anaconda3\\lib\\site-packages\\sklearn\\linear_model\\_logistic.py:1476: UserWarning: l1_ratio parameter is only used when penalty is 'elasticnet'. Got (penalty=l2)\n",
      "  warnings.warn(\n",
      "C:\\Users\\sande\\anaconda3\\lib\\site-packages\\sklearn\\linear_model\\_logistic.py:1476: UserWarning: l1_ratio parameter is only used when penalty is 'elasticnet'. Got (penalty=l2)\n",
      "  warnings.warn(\n",
      "C:\\Users\\sande\\anaconda3\\lib\\site-packages\\sklearn\\linear_model\\_logistic.py:1476: UserWarning: l1_ratio parameter is only used when penalty is 'elasticnet'. Got (penalty=l2)\n",
      "  warnings.warn(\n",
      "C:\\Users\\sande\\anaconda3\\lib\\site-packages\\sklearn\\linear_model\\_logistic.py:1476: UserWarning: l1_ratio parameter is only used when penalty is 'elasticnet'. Got (penalty=l2)\n",
      "  warnings.warn(\n",
      "C:\\Users\\sande\\anaconda3\\lib\\site-packages\\sklearn\\linear_model\\_logistic.py:1476: UserWarning: l1_ratio parameter is only used when penalty is 'elasticnet'. Got (penalty=l2)\n",
      "  warnings.warn(\n",
      "C:\\Users\\sande\\anaconda3\\lib\\site-packages\\sklearn\\linear_model\\_logistic.py:1476: UserWarning: l1_ratio parameter is only used when penalty is 'elasticnet'. Got (penalty=l2)\n",
      "  warnings.warn(\n"
     ]
    },
    {
     "name": "stdout",
     "output_type": "stream",
     "text": [
      "[CV] END ..........C=8, l1_ratio=1, penalty=l2, solver=lbfgs; total time=   0.0s\n",
      "[CV] END ..........C=8, l1_ratio=1, penalty=l2, solver=lbfgs; total time=   0.0s\n",
      "[CV] END ..........C=8, l1_ratio=1, penalty=l2, solver=lbfgs; total time=   0.0s\n",
      "[CV] END ..........C=8, l1_ratio=1, penalty=l2, solver=lbfgs; total time=   0.0s\n",
      "[CV] END ..........C=8, l1_ratio=1, penalty=l2, solver=lbfgs; total time=   0.0s\n",
      "[CV] END ......C=8, l1_ratio=1, penalty=l2, solver=liblinear; total time=   0.0s\n",
      "[CV] END ......C=8, l1_ratio=1, penalty=l2, solver=liblinear; total time=   0.0s\n"
     ]
    },
    {
     "name": "stderr",
     "output_type": "stream",
     "text": [
      "C:\\Users\\sande\\anaconda3\\lib\\site-packages\\sklearn\\linear_model\\_logistic.py:1476: UserWarning: l1_ratio parameter is only used when penalty is 'elasticnet'. Got (penalty=l2)\n",
      "  warnings.warn(\n",
      "C:\\Users\\sande\\anaconda3\\lib\\site-packages\\sklearn\\linear_model\\_logistic.py:1476: UserWarning: l1_ratio parameter is only used when penalty is 'elasticnet'. Got (penalty=l2)\n",
      "  warnings.warn(\n",
      "C:\\Users\\sande\\anaconda3\\lib\\site-packages\\sklearn\\linear_model\\_logistic.py:1476: UserWarning: l1_ratio parameter is only used when penalty is 'elasticnet'. Got (penalty=l2)\n",
      "  warnings.warn(\n",
      "C:\\Users\\sande\\anaconda3\\lib\\site-packages\\sklearn\\linear_model\\_logistic.py:1476: UserWarning: l1_ratio parameter is only used when penalty is 'elasticnet'. Got (penalty=l2)\n",
      "  warnings.warn(\n",
      "C:\\Users\\sande\\anaconda3\\lib\\site-packages\\sklearn\\linear_model\\_logistic.py:1476: UserWarning: l1_ratio parameter is only used when penalty is 'elasticnet'. Got (penalty=l2)\n",
      "  warnings.warn(\n",
      "C:\\Users\\sande\\anaconda3\\lib\\site-packages\\sklearn\\linear_model\\_logistic.py:1476: UserWarning: l1_ratio parameter is only used when penalty is 'elasticnet'. Got (penalty=l2)\n",
      "  warnings.warn(\n",
      "C:\\Users\\sande\\anaconda3\\lib\\site-packages\\sklearn\\linear_model\\_logistic.py:1476: UserWarning: l1_ratio parameter is only used when penalty is 'elasticnet'. Got (penalty=l2)\n",
      "  warnings.warn(\n",
      "C:\\Users\\sande\\anaconda3\\lib\\site-packages\\sklearn\\linear_model\\_logistic.py:1476: UserWarning: l1_ratio parameter is only used when penalty is 'elasticnet'. Got (penalty=l2)\n",
      "  warnings.warn(\n",
      "C:\\Users\\sande\\anaconda3\\lib\\site-packages\\sklearn\\linear_model\\_logistic.py:1476: UserWarning: l1_ratio parameter is only used when penalty is 'elasticnet'. Got (penalty=l2)\n",
      "  warnings.warn(\n",
      "C:\\Users\\sande\\anaconda3\\lib\\site-packages\\sklearn\\linear_model\\_logistic.py:1476: UserWarning: l1_ratio parameter is only used when penalty is 'elasticnet'. Got (penalty=l2)\n",
      "  warnings.warn(\n"
     ]
    },
    {
     "name": "stdout",
     "output_type": "stream",
     "text": [
      "[CV] END ......C=8, l1_ratio=1, penalty=l2, solver=liblinear; total time=   0.0s\n",
      "[CV] END ......C=8, l1_ratio=1, penalty=l2, solver=liblinear; total time=   0.0s\n",
      "[CV] END ......C=8, l1_ratio=1, penalty=l2, solver=liblinear; total time=   0.0s\n",
      "[CV] END ............C=8, l1_ratio=1, penalty=l2, solver=sag; total time=   0.2s\n"
     ]
    },
    {
     "name": "stderr",
     "output_type": "stream",
     "text": [
      "C:\\Users\\sande\\anaconda3\\lib\\site-packages\\sklearn\\linear_model\\_logistic.py:1476: UserWarning: l1_ratio parameter is only used when penalty is 'elasticnet'. Got (penalty=l2)\n",
      "  warnings.warn(\n"
     ]
    },
    {
     "name": "stdout",
     "output_type": "stream",
     "text": [
      "[CV] END ............C=8, l1_ratio=1, penalty=l2, solver=sag; total time=   0.1s\n"
     ]
    },
    {
     "name": "stderr",
     "output_type": "stream",
     "text": [
      "C:\\Users\\sande\\anaconda3\\lib\\site-packages\\sklearn\\linear_model\\_logistic.py:1476: UserWarning: l1_ratio parameter is only used when penalty is 'elasticnet'. Got (penalty=l2)\n",
      "  warnings.warn(\n"
     ]
    },
    {
     "name": "stdout",
     "output_type": "stream",
     "text": [
      "[CV] END ............C=8, l1_ratio=1, penalty=l2, solver=sag; total time=   0.2s\n"
     ]
    },
    {
     "name": "stderr",
     "output_type": "stream",
     "text": [
      "C:\\Users\\sande\\anaconda3\\lib\\site-packages\\sklearn\\linear_model\\_logistic.py:1476: UserWarning: l1_ratio parameter is only used when penalty is 'elasticnet'. Got (penalty=l2)\n",
      "  warnings.warn(\n"
     ]
    },
    {
     "name": "stdout",
     "output_type": "stream",
     "text": [
      "[CV] END ............C=8, l1_ratio=1, penalty=l2, solver=sag; total time=   0.2s\n"
     ]
    },
    {
     "name": "stderr",
     "output_type": "stream",
     "text": [
      "C:\\Users\\sande\\anaconda3\\lib\\site-packages\\sklearn\\linear_model\\_logistic.py:1476: UserWarning: l1_ratio parameter is only used when penalty is 'elasticnet'. Got (penalty=l2)\n",
      "  warnings.warn(\n"
     ]
    },
    {
     "name": "stdout",
     "output_type": "stream",
     "text": [
      "[CV] END ............C=8, l1_ratio=1, penalty=l2, solver=sag; total time=   0.1s\n"
     ]
    },
    {
     "name": "stderr",
     "output_type": "stream",
     "text": [
      "C:\\Users\\sande\\anaconda3\\lib\\site-packages\\sklearn\\linear_model\\_logistic.py:1476: UserWarning: l1_ratio parameter is only used when penalty is 'elasticnet'. Got (penalty=l2)\n",
      "  warnings.warn(\n"
     ]
    },
    {
     "name": "stdout",
     "output_type": "stream",
     "text": [
      "[CV] END ...........C=8, l1_ratio=1, penalty=l2, solver=saga; total time=   0.2s\n"
     ]
    },
    {
     "name": "stderr",
     "output_type": "stream",
     "text": [
      "C:\\Users\\sande\\anaconda3\\lib\\site-packages\\sklearn\\linear_model\\_logistic.py:1476: UserWarning: l1_ratio parameter is only used when penalty is 'elasticnet'. Got (penalty=l2)\n",
      "  warnings.warn(\n"
     ]
    },
    {
     "name": "stdout",
     "output_type": "stream",
     "text": [
      "[CV] END ...........C=8, l1_ratio=1, penalty=l2, solver=saga; total time=   0.3s\n"
     ]
    },
    {
     "name": "stderr",
     "output_type": "stream",
     "text": [
      "C:\\Users\\sande\\anaconda3\\lib\\site-packages\\sklearn\\linear_model\\_logistic.py:1476: UserWarning: l1_ratio parameter is only used when penalty is 'elasticnet'. Got (penalty=l2)\n",
      "  warnings.warn(\n"
     ]
    },
    {
     "name": "stdout",
     "output_type": "stream",
     "text": [
      "[CV] END ...........C=8, l1_ratio=1, penalty=l2, solver=saga; total time=   0.3s\n"
     ]
    },
    {
     "name": "stderr",
     "output_type": "stream",
     "text": [
      "C:\\Users\\sande\\anaconda3\\lib\\site-packages\\sklearn\\linear_model\\_logistic.py:1476: UserWarning: l1_ratio parameter is only used when penalty is 'elasticnet'. Got (penalty=l2)\n",
      "  warnings.warn(\n"
     ]
    },
    {
     "name": "stdout",
     "output_type": "stream",
     "text": [
      "[CV] END ...........C=8, l1_ratio=1, penalty=l2, solver=saga; total time=   0.2s\n"
     ]
    },
    {
     "name": "stderr",
     "output_type": "stream",
     "text": [
      "C:\\Users\\sande\\anaconda3\\lib\\site-packages\\sklearn\\linear_model\\_logistic.py:1476: UserWarning: l1_ratio parameter is only used when penalty is 'elasticnet'. Got (penalty=l2)\n",
      "  warnings.warn(\n"
     ]
    },
    {
     "name": "stdout",
     "output_type": "stream",
     "text": [
      "[CV] END ...........C=8, l1_ratio=1, penalty=l2, solver=saga; total time=   0.3s\n",
      "[CV] END C=8, l1_ratio=1, penalty=elasticnet, solver=newton-cg; total time=   0.0s\n",
      "[CV] END C=8, l1_ratio=1, penalty=elasticnet, solver=newton-cg; total time=   0.0s\n",
      "[CV] END C=8, l1_ratio=1, penalty=elasticnet, solver=newton-cg; total time=   0.0s\n",
      "[CV] END C=8, l1_ratio=1, penalty=elasticnet, solver=newton-cg; total time=   0.0s\n",
      "[CV] END C=8, l1_ratio=1, penalty=elasticnet, solver=newton-cg; total time=   0.0s\n",
      "[CV] END ..C=8, l1_ratio=1, penalty=elasticnet, solver=lbfgs; total time=   0.0s\n",
      "[CV] END ..C=8, l1_ratio=1, penalty=elasticnet, solver=lbfgs; total time=   0.0s\n",
      "[CV] END ..C=8, l1_ratio=1, penalty=elasticnet, solver=lbfgs; total time=   0.0s\n",
      "[CV] END ..C=8, l1_ratio=1, penalty=elasticnet, solver=lbfgs; total time=   0.0s\n",
      "[CV] END ..C=8, l1_ratio=1, penalty=elasticnet, solver=lbfgs; total time=   0.0s\n",
      "[CV] END C=8, l1_ratio=1, penalty=elasticnet, solver=liblinear; total time=   0.0s\n",
      "[CV] END C=8, l1_ratio=1, penalty=elasticnet, solver=liblinear; total time=   0.0s\n",
      "[CV] END C=8, l1_ratio=1, penalty=elasticnet, solver=liblinear; total time=   0.0s\n",
      "[CV] END C=8, l1_ratio=1, penalty=elasticnet, solver=liblinear; total time=   0.0s\n",
      "[CV] END C=8, l1_ratio=1, penalty=elasticnet, solver=liblinear; total time=   0.0s\n",
      "[CV] END ....C=8, l1_ratio=1, penalty=elasticnet, solver=sag; total time=   0.0s\n",
      "[CV] END ....C=8, l1_ratio=1, penalty=elasticnet, solver=sag; total time=   0.0s\n",
      "[CV] END ....C=8, l1_ratio=1, penalty=elasticnet, solver=sag; total time=   0.0s\n",
      "[CV] END ....C=8, l1_ratio=1, penalty=elasticnet, solver=sag; total time=   0.0s\n",
      "[CV] END ....C=8, l1_ratio=1, penalty=elasticnet, solver=sag; total time=   0.0s\n",
      "[CV] END ...C=8, l1_ratio=1, penalty=elasticnet, solver=saga; total time=   0.5s\n",
      "[CV] END ...C=8, l1_ratio=1, penalty=elasticnet, solver=saga; total time=   0.3s\n",
      "[CV] END ...C=8, l1_ratio=1, penalty=elasticnet, solver=saga; total time=   0.5s\n",
      "[CV] END ...C=8, l1_ratio=1, penalty=elasticnet, solver=saga; total time=   0.4s\n",
      "[CV] END ...C=8, l1_ratio=1, penalty=elasticnet, solver=saga; total time=   0.1s\n"
     ]
    },
    {
     "name": "stderr",
     "output_type": "stream",
     "text": [
      "C:\\Users\\sande\\anaconda3\\lib\\site-packages\\sklearn\\linear_model\\_logistic.py:1476: UserWarning: l1_ratio parameter is only used when penalty is 'elasticnet'. Got (penalty=none)\n",
      "  warnings.warn(\n",
      "C:\\Users\\sande\\anaconda3\\lib\\site-packages\\sklearn\\linear_model\\_logistic.py:1483: UserWarning: Setting penalty='none' will ignore the C and l1_ratio parameters\n",
      "  warnings.warn(\n",
      "C:\\Users\\sande\\anaconda3\\lib\\site-packages\\sklearn\\linear_model\\_logistic.py:1476: UserWarning: l1_ratio parameter is only used when penalty is 'elasticnet'. Got (penalty=none)\n",
      "  warnings.warn(\n",
      "C:\\Users\\sande\\anaconda3\\lib\\site-packages\\sklearn\\linear_model\\_logistic.py:1483: UserWarning: Setting penalty='none' will ignore the C and l1_ratio parameters\n",
      "  warnings.warn(\n",
      "C:\\Users\\sande\\anaconda3\\lib\\site-packages\\sklearn\\linear_model\\_logistic.py:1476: UserWarning: l1_ratio parameter is only used when penalty is 'elasticnet'. Got (penalty=none)\n",
      "  warnings.warn(\n",
      "C:\\Users\\sande\\anaconda3\\lib\\site-packages\\sklearn\\linear_model\\_logistic.py:1483: UserWarning: Setting penalty='none' will ignore the C and l1_ratio parameters\n",
      "  warnings.warn(\n"
     ]
    },
    {
     "name": "stdout",
     "output_type": "stream",
     "text": [
      "[CV] END ....C=8, l1_ratio=1, penalty=none, solver=newton-cg; total time=   0.0s\n",
      "[CV] END ....C=8, l1_ratio=1, penalty=none, solver=newton-cg; total time=   0.0s\n",
      "[CV] END ....C=8, l1_ratio=1, penalty=none, solver=newton-cg; total time=   0.0s\n"
     ]
    },
    {
     "name": "stderr",
     "output_type": "stream",
     "text": [
      "C:\\Users\\sande\\anaconda3\\lib\\site-packages\\sklearn\\linear_model\\_logistic.py:1476: UserWarning: l1_ratio parameter is only used when penalty is 'elasticnet'. Got (penalty=none)\n",
      "  warnings.warn(\n",
      "C:\\Users\\sande\\anaconda3\\lib\\site-packages\\sklearn\\linear_model\\_logistic.py:1483: UserWarning: Setting penalty='none' will ignore the C and l1_ratio parameters\n",
      "  warnings.warn(\n",
      "C:\\Users\\sande\\anaconda3\\lib\\site-packages\\sklearn\\linear_model\\_logistic.py:1476: UserWarning: l1_ratio parameter is only used when penalty is 'elasticnet'. Got (penalty=none)\n",
      "  warnings.warn(\n",
      "C:\\Users\\sande\\anaconda3\\lib\\site-packages\\sklearn\\linear_model\\_logistic.py:1483: UserWarning: Setting penalty='none' will ignore the C and l1_ratio parameters\n",
      "  warnings.warn(\n",
      "C:\\Users\\sande\\anaconda3\\lib\\site-packages\\sklearn\\linear_model\\_logistic.py:1476: UserWarning: l1_ratio parameter is only used when penalty is 'elasticnet'. Got (penalty=none)\n",
      "  warnings.warn(\n",
      "C:\\Users\\sande\\anaconda3\\lib\\site-packages\\sklearn\\linear_model\\_logistic.py:1483: UserWarning: Setting penalty='none' will ignore the C and l1_ratio parameters\n",
      "  warnings.warn(\n"
     ]
    },
    {
     "name": "stdout",
     "output_type": "stream",
     "text": [
      "[CV] END ....C=8, l1_ratio=1, penalty=none, solver=newton-cg; total time=   0.0s\n",
      "[CV] END ....C=8, l1_ratio=1, penalty=none, solver=newton-cg; total time=   0.0s\n",
      "[CV] END ........C=8, l1_ratio=1, penalty=none, solver=lbfgs; total time=   0.0s\n",
      "[CV] END ........C=8, l1_ratio=1, penalty=none, solver=lbfgs; total time=   0.0s\n"
     ]
    },
    {
     "name": "stderr",
     "output_type": "stream",
     "text": [
      "C:\\Users\\sande\\anaconda3\\lib\\site-packages\\sklearn\\linear_model\\_logistic.py:1476: UserWarning: l1_ratio parameter is only used when penalty is 'elasticnet'. Got (penalty=none)\n",
      "  warnings.warn(\n",
      "C:\\Users\\sande\\anaconda3\\lib\\site-packages\\sklearn\\linear_model\\_logistic.py:1483: UserWarning: Setting penalty='none' will ignore the C and l1_ratio parameters\n",
      "  warnings.warn(\n",
      "C:\\Users\\sande\\anaconda3\\lib\\site-packages\\sklearn\\linear_model\\_logistic.py:1476: UserWarning: l1_ratio parameter is only used when penalty is 'elasticnet'. Got (penalty=none)\n",
      "  warnings.warn(\n",
      "C:\\Users\\sande\\anaconda3\\lib\\site-packages\\sklearn\\linear_model\\_logistic.py:1483: UserWarning: Setting penalty='none' will ignore the C and l1_ratio parameters\n",
      "  warnings.warn(\n",
      "C:\\Users\\sande\\anaconda3\\lib\\site-packages\\sklearn\\linear_model\\_logistic.py:1476: UserWarning: l1_ratio parameter is only used when penalty is 'elasticnet'. Got (penalty=none)\n",
      "  warnings.warn(\n",
      "C:\\Users\\sande\\anaconda3\\lib\\site-packages\\sklearn\\linear_model\\_logistic.py:1483: UserWarning: Setting penalty='none' will ignore the C and l1_ratio parameters\n",
      "  warnings.warn(\n"
     ]
    },
    {
     "name": "stdout",
     "output_type": "stream",
     "text": [
      "[CV] END ........C=8, l1_ratio=1, penalty=none, solver=lbfgs; total time=   0.0s\n",
      "[CV] END ........C=8, l1_ratio=1, penalty=none, solver=lbfgs; total time=   0.0s\n",
      "[CV] END ........C=8, l1_ratio=1, penalty=none, solver=lbfgs; total time=   0.0s\n",
      "[CV] END ....C=8, l1_ratio=1, penalty=none, solver=liblinear; total time=   0.0s\n",
      "[CV] END ....C=8, l1_ratio=1, penalty=none, solver=liblinear; total time=   0.0s\n",
      "[CV] END ....C=8, l1_ratio=1, penalty=none, solver=liblinear; total time=   0.0s\n",
      "[CV] END ....C=8, l1_ratio=1, penalty=none, solver=liblinear; total time=   0.0s\n",
      "[CV] END ....C=8, l1_ratio=1, penalty=none, solver=liblinear; total time=   0.0s\n"
     ]
    },
    {
     "name": "stderr",
     "output_type": "stream",
     "text": [
      "C:\\Users\\sande\\anaconda3\\lib\\site-packages\\sklearn\\linear_model\\_logistic.py:1476: UserWarning: l1_ratio parameter is only used when penalty is 'elasticnet'. Got (penalty=none)\n",
      "  warnings.warn(\n",
      "C:\\Users\\sande\\anaconda3\\lib\\site-packages\\sklearn\\linear_model\\_logistic.py:1483: UserWarning: Setting penalty='none' will ignore the C and l1_ratio parameters\n",
      "  warnings.warn(\n",
      "C:\\Users\\sande\\anaconda3\\lib\\site-packages\\sklearn\\linear_model\\_logistic.py:1476: UserWarning: l1_ratio parameter is only used when penalty is 'elasticnet'. Got (penalty=none)\n",
      "  warnings.warn(\n",
      "C:\\Users\\sande\\anaconda3\\lib\\site-packages\\sklearn\\linear_model\\_logistic.py:1483: UserWarning: Setting penalty='none' will ignore the C and l1_ratio parameters\n",
      "  warnings.warn(\n",
      "C:\\Users\\sande\\anaconda3\\lib\\site-packages\\sklearn\\linear_model\\_sag.py:352: ConvergenceWarning: The max_iter was reached which means the coef_ did not converge\n",
      "  warnings.warn(\n",
      "C:\\Users\\sande\\anaconda3\\lib\\site-packages\\sklearn\\linear_model\\_logistic.py:1476: UserWarning: l1_ratio parameter is only used when penalty is 'elasticnet'. Got (penalty=none)\n",
      "  warnings.warn(\n",
      "C:\\Users\\sande\\anaconda3\\lib\\site-packages\\sklearn\\linear_model\\_logistic.py:1483: UserWarning: Setting penalty='none' will ignore the C and l1_ratio parameters\n",
      "  warnings.warn(\n"
     ]
    },
    {
     "name": "stdout",
     "output_type": "stream",
     "text": [
      "[CV] END ..........C=8, l1_ratio=1, penalty=none, solver=sag; total time=   0.7s\n"
     ]
    },
    {
     "name": "stderr",
     "output_type": "stream",
     "text": [
      "C:\\Users\\sande\\anaconda3\\lib\\site-packages\\sklearn\\linear_model\\_sag.py:352: ConvergenceWarning: The max_iter was reached which means the coef_ did not converge\n",
      "  warnings.warn(\n",
      "C:\\Users\\sande\\anaconda3\\lib\\site-packages\\sklearn\\linear_model\\_logistic.py:1476: UserWarning: l1_ratio parameter is only used when penalty is 'elasticnet'. Got (penalty=none)\n",
      "  warnings.warn(\n",
      "C:\\Users\\sande\\anaconda3\\lib\\site-packages\\sklearn\\linear_model\\_logistic.py:1483: UserWarning: Setting penalty='none' will ignore the C and l1_ratio parameters\n",
      "  warnings.warn(\n"
     ]
    },
    {
     "name": "stdout",
     "output_type": "stream",
     "text": [
      "[CV] END ..........C=8, l1_ratio=1, penalty=none, solver=sag; total time=   0.7s\n"
     ]
    },
    {
     "name": "stderr",
     "output_type": "stream",
     "text": [
      "C:\\Users\\sande\\anaconda3\\lib\\site-packages\\sklearn\\linear_model\\_sag.py:352: ConvergenceWarning: The max_iter was reached which means the coef_ did not converge\n",
      "  warnings.warn(\n",
      "C:\\Users\\sande\\anaconda3\\lib\\site-packages\\sklearn\\linear_model\\_logistic.py:1476: UserWarning: l1_ratio parameter is only used when penalty is 'elasticnet'. Got (penalty=none)\n",
      "  warnings.warn(\n",
      "C:\\Users\\sande\\anaconda3\\lib\\site-packages\\sklearn\\linear_model\\_logistic.py:1483: UserWarning: Setting penalty='none' will ignore the C and l1_ratio parameters\n",
      "  warnings.warn(\n"
     ]
    },
    {
     "name": "stdout",
     "output_type": "stream",
     "text": [
      "[CV] END ..........C=8, l1_ratio=1, penalty=none, solver=sag; total time=   0.7s\n"
     ]
    },
    {
     "name": "stderr",
     "output_type": "stream",
     "text": [
      "C:\\Users\\sande\\anaconda3\\lib\\site-packages\\sklearn\\linear_model\\_sag.py:352: ConvergenceWarning: The max_iter was reached which means the coef_ did not converge\n",
      "  warnings.warn(\n",
      "C:\\Users\\sande\\anaconda3\\lib\\site-packages\\sklearn\\linear_model\\_logistic.py:1476: UserWarning: l1_ratio parameter is only used when penalty is 'elasticnet'. Got (penalty=none)\n",
      "  warnings.warn(\n",
      "C:\\Users\\sande\\anaconda3\\lib\\site-packages\\sklearn\\linear_model\\_logistic.py:1483: UserWarning: Setting penalty='none' will ignore the C and l1_ratio parameters\n",
      "  warnings.warn(\n"
     ]
    },
    {
     "name": "stdout",
     "output_type": "stream",
     "text": [
      "[CV] END ..........C=8, l1_ratio=1, penalty=none, solver=sag; total time=   0.7s\n",
      "[CV] END ..........C=8, l1_ratio=1, penalty=none, solver=sag; total time=   0.4s\n"
     ]
    },
    {
     "name": "stderr",
     "output_type": "stream",
     "text": [
      "C:\\Users\\sande\\anaconda3\\lib\\site-packages\\sklearn\\linear_model\\_logistic.py:1476: UserWarning: l1_ratio parameter is only used when penalty is 'elasticnet'. Got (penalty=none)\n",
      "  warnings.warn(\n",
      "C:\\Users\\sande\\anaconda3\\lib\\site-packages\\sklearn\\linear_model\\_logistic.py:1483: UserWarning: Setting penalty='none' will ignore the C and l1_ratio parameters\n",
      "  warnings.warn(\n",
      "C:\\Users\\sande\\anaconda3\\lib\\site-packages\\sklearn\\linear_model\\_sag.py:352: ConvergenceWarning: The max_iter was reached which means the coef_ did not converge\n",
      "  warnings.warn(\n",
      "C:\\Users\\sande\\anaconda3\\lib\\site-packages\\sklearn\\linear_model\\_logistic.py:1476: UserWarning: l1_ratio parameter is only used when penalty is 'elasticnet'. Got (penalty=none)\n",
      "  warnings.warn(\n",
      "C:\\Users\\sande\\anaconda3\\lib\\site-packages\\sklearn\\linear_model\\_logistic.py:1483: UserWarning: Setting penalty='none' will ignore the C and l1_ratio parameters\n",
      "  warnings.warn(\n"
     ]
    },
    {
     "name": "stdout",
     "output_type": "stream",
     "text": [
      "[CV] END .........C=8, l1_ratio=1, penalty=none, solver=saga; total time=   0.8s\n"
     ]
    },
    {
     "name": "stderr",
     "output_type": "stream",
     "text": [
      "C:\\Users\\sande\\anaconda3\\lib\\site-packages\\sklearn\\linear_model\\_sag.py:352: ConvergenceWarning: The max_iter was reached which means the coef_ did not converge\n",
      "  warnings.warn(\n",
      "C:\\Users\\sande\\anaconda3\\lib\\site-packages\\sklearn\\linear_model\\_logistic.py:1476: UserWarning: l1_ratio parameter is only used when penalty is 'elasticnet'. Got (penalty=none)\n",
      "  warnings.warn(\n",
      "C:\\Users\\sande\\anaconda3\\lib\\site-packages\\sklearn\\linear_model\\_logistic.py:1483: UserWarning: Setting penalty='none' will ignore the C and l1_ratio parameters\n",
      "  warnings.warn(\n"
     ]
    },
    {
     "name": "stdout",
     "output_type": "stream",
     "text": [
      "[CV] END .........C=8, l1_ratio=1, penalty=none, solver=saga; total time=   0.8s\n"
     ]
    },
    {
     "name": "stderr",
     "output_type": "stream",
     "text": [
      "C:\\Users\\sande\\anaconda3\\lib\\site-packages\\sklearn\\linear_model\\_sag.py:352: ConvergenceWarning: The max_iter was reached which means the coef_ did not converge\n",
      "  warnings.warn(\n",
      "C:\\Users\\sande\\anaconda3\\lib\\site-packages\\sklearn\\linear_model\\_logistic.py:1476: UserWarning: l1_ratio parameter is only used when penalty is 'elasticnet'. Got (penalty=none)\n",
      "  warnings.warn(\n",
      "C:\\Users\\sande\\anaconda3\\lib\\site-packages\\sklearn\\linear_model\\_logistic.py:1483: UserWarning: Setting penalty='none' will ignore the C and l1_ratio parameters\n",
      "  warnings.warn(\n"
     ]
    },
    {
     "name": "stdout",
     "output_type": "stream",
     "text": [
      "[CV] END .........C=8, l1_ratio=1, penalty=none, solver=saga; total time=   0.8s\n"
     ]
    },
    {
     "name": "stderr",
     "output_type": "stream",
     "text": [
      "C:\\Users\\sande\\anaconda3\\lib\\site-packages\\sklearn\\linear_model\\_sag.py:352: ConvergenceWarning: The max_iter was reached which means the coef_ did not converge\n",
      "  warnings.warn(\n",
      "C:\\Users\\sande\\anaconda3\\lib\\site-packages\\sklearn\\linear_model\\_logistic.py:1476: UserWarning: l1_ratio parameter is only used when penalty is 'elasticnet'. Got (penalty=none)\n",
      "  warnings.warn(\n",
      "C:\\Users\\sande\\anaconda3\\lib\\site-packages\\sklearn\\linear_model\\_logistic.py:1483: UserWarning: Setting penalty='none' will ignore the C and l1_ratio parameters\n",
      "  warnings.warn(\n"
     ]
    },
    {
     "name": "stdout",
     "output_type": "stream",
     "text": [
      "[CV] END .........C=8, l1_ratio=1, penalty=none, solver=saga; total time=   0.8s\n",
      "[CV] END .........C=8, l1_ratio=1, penalty=none, solver=saga; total time=   0.7s\n"
     ]
    },
    {
     "name": "stderr",
     "output_type": "stream",
     "text": [
      "C:\\Users\\sande\\anaconda3\\lib\\site-packages\\sklearn\\model_selection\\_validation.py:372: FitFailedWarning: \n",
      "480 fits failed out of a total of 1200.\n",
      "The score on these train-test partitions for these parameters will be set to nan.\n",
      "If these failures are not expected, you can try to debug them by setting error_score='raise'.\n",
      "\n",
      "Below are more details about the failures:\n",
      "--------------------------------------------------------------------------------\n",
      "60 fits failed with the following error:\n",
      "Traceback (most recent call last):\n",
      "  File \"C:\\Users\\sande\\anaconda3\\lib\\site-packages\\sklearn\\model_selection\\_validation.py\", line 680, in _fit_and_score\n",
      "    estimator.fit(X_train, y_train, **fit_params)\n",
      "  File \"C:\\Users\\sande\\anaconda3\\lib\\site-packages\\sklearn\\linear_model\\_logistic.py\", line 1461, in fit\n",
      "    solver = _check_solver(self.solver, self.penalty, self.dual)\n",
      "  File \"C:\\Users\\sande\\anaconda3\\lib\\site-packages\\sklearn\\linear_model\\_logistic.py\", line 447, in _check_solver\n",
      "    raise ValueError(\n",
      "ValueError: Solver newton-cg supports only 'l2' or 'none' penalties, got l1 penalty.\n",
      "\n",
      "--------------------------------------------------------------------------------\n",
      "60 fits failed with the following error:\n",
      "Traceback (most recent call last):\n",
      "  File \"C:\\Users\\sande\\anaconda3\\lib\\site-packages\\sklearn\\model_selection\\_validation.py\", line 680, in _fit_and_score\n",
      "    estimator.fit(X_train, y_train, **fit_params)\n",
      "  File \"C:\\Users\\sande\\anaconda3\\lib\\site-packages\\sklearn\\linear_model\\_logistic.py\", line 1461, in fit\n",
      "    solver = _check_solver(self.solver, self.penalty, self.dual)\n",
      "  File \"C:\\Users\\sande\\anaconda3\\lib\\site-packages\\sklearn\\linear_model\\_logistic.py\", line 447, in _check_solver\n",
      "    raise ValueError(\n",
      "ValueError: Solver lbfgs supports only 'l2' or 'none' penalties, got l1 penalty.\n",
      "\n",
      "--------------------------------------------------------------------------------\n",
      "60 fits failed with the following error:\n",
      "Traceback (most recent call last):\n",
      "  File \"C:\\Users\\sande\\anaconda3\\lib\\site-packages\\sklearn\\model_selection\\_validation.py\", line 680, in _fit_and_score\n",
      "    estimator.fit(X_train, y_train, **fit_params)\n",
      "  File \"C:\\Users\\sande\\anaconda3\\lib\\site-packages\\sklearn\\linear_model\\_logistic.py\", line 1461, in fit\n",
      "    solver = _check_solver(self.solver, self.penalty, self.dual)\n",
      "  File \"C:\\Users\\sande\\anaconda3\\lib\\site-packages\\sklearn\\linear_model\\_logistic.py\", line 447, in _check_solver\n",
      "    raise ValueError(\n",
      "ValueError: Solver sag supports only 'l2' or 'none' penalties, got l1 penalty.\n",
      "\n",
      "--------------------------------------------------------------------------------\n",
      "60 fits failed with the following error:\n",
      "Traceback (most recent call last):\n",
      "  File \"C:\\Users\\sande\\anaconda3\\lib\\site-packages\\sklearn\\model_selection\\_validation.py\", line 680, in _fit_and_score\n",
      "    estimator.fit(X_train, y_train, **fit_params)\n",
      "  File \"C:\\Users\\sande\\anaconda3\\lib\\site-packages\\sklearn\\linear_model\\_logistic.py\", line 1461, in fit\n",
      "    solver = _check_solver(self.solver, self.penalty, self.dual)\n",
      "  File \"C:\\Users\\sande\\anaconda3\\lib\\site-packages\\sklearn\\linear_model\\_logistic.py\", line 447, in _check_solver\n",
      "    raise ValueError(\n",
      "ValueError: Solver newton-cg supports only 'l2' or 'none' penalties, got elasticnet penalty.\n",
      "\n",
      "--------------------------------------------------------------------------------\n",
      "60 fits failed with the following error:\n",
      "Traceback (most recent call last):\n",
      "  File \"C:\\Users\\sande\\anaconda3\\lib\\site-packages\\sklearn\\model_selection\\_validation.py\", line 680, in _fit_and_score\n",
      "    estimator.fit(X_train, y_train, **fit_params)\n",
      "  File \"C:\\Users\\sande\\anaconda3\\lib\\site-packages\\sklearn\\linear_model\\_logistic.py\", line 1461, in fit\n",
      "    solver = _check_solver(self.solver, self.penalty, self.dual)\n",
      "  File \"C:\\Users\\sande\\anaconda3\\lib\\site-packages\\sklearn\\linear_model\\_logistic.py\", line 447, in _check_solver\n",
      "    raise ValueError(\n",
      "ValueError: Solver lbfgs supports only 'l2' or 'none' penalties, got elasticnet penalty.\n",
      "\n",
      "--------------------------------------------------------------------------------\n",
      "60 fits failed with the following error:\n",
      "Traceback (most recent call last):\n",
      "  File \"C:\\Users\\sande\\anaconda3\\lib\\site-packages\\sklearn\\model_selection\\_validation.py\", line 680, in _fit_and_score\n",
      "    estimator.fit(X_train, y_train, **fit_params)\n",
      "  File \"C:\\Users\\sande\\anaconda3\\lib\\site-packages\\sklearn\\linear_model\\_logistic.py\", line 1461, in fit\n",
      "    solver = _check_solver(self.solver, self.penalty, self.dual)\n",
      "  File \"C:\\Users\\sande\\anaconda3\\lib\\site-packages\\sklearn\\linear_model\\_logistic.py\", line 457, in _check_solver\n",
      "    raise ValueError(\n",
      "ValueError: Only 'saga' solver supports elasticnet penalty, got solver=liblinear.\n",
      "\n",
      "--------------------------------------------------------------------------------\n",
      "60 fits failed with the following error:\n",
      "Traceback (most recent call last):\n",
      "  File \"C:\\Users\\sande\\anaconda3\\lib\\site-packages\\sklearn\\model_selection\\_validation.py\", line 680, in _fit_and_score\n",
      "    estimator.fit(X_train, y_train, **fit_params)\n",
      "  File \"C:\\Users\\sande\\anaconda3\\lib\\site-packages\\sklearn\\linear_model\\_logistic.py\", line 1461, in fit\n",
      "    solver = _check_solver(self.solver, self.penalty, self.dual)\n",
      "  File \"C:\\Users\\sande\\anaconda3\\lib\\site-packages\\sklearn\\linear_model\\_logistic.py\", line 447, in _check_solver\n",
      "    raise ValueError(\n",
      "ValueError: Solver sag supports only 'l2' or 'none' penalties, got elasticnet penalty.\n",
      "\n",
      "--------------------------------------------------------------------------------\n",
      "60 fits failed with the following error:\n",
      "Traceback (most recent call last):\n",
      "  File \"C:\\Users\\sande\\anaconda3\\lib\\site-packages\\sklearn\\model_selection\\_validation.py\", line 680, in _fit_and_score\n",
      "    estimator.fit(X_train, y_train, **fit_params)\n",
      "  File \"C:\\Users\\sande\\anaconda3\\lib\\site-packages\\sklearn\\linear_model\\_logistic.py\", line 1461, in fit\n",
      "    solver = _check_solver(self.solver, self.penalty, self.dual)\n",
      "  File \"C:\\Users\\sande\\anaconda3\\lib\\site-packages\\sklearn\\linear_model\\_logistic.py\", line 464, in _check_solver\n",
      "    raise ValueError(\"penalty='none' is not supported for the liblinear solver\")\n",
      "ValueError: penalty='none' is not supported for the liblinear solver\n",
      "\n",
      "  warnings.warn(some_fits_failed_message, FitFailedWarning)\n",
      "C:\\Users\\sande\\anaconda3\\lib\\site-packages\\sklearn\\model_selection\\_search.py:969: UserWarning: One or more of the test scores are non-finite: [       nan        nan 0.82253521        nan 0.82253521 0.82323944\n",
      " 0.82323944 0.82323944 0.82323944 0.82323944        nan        nan\n",
      "        nan        nan 0.82323944 0.82676056 0.82676056        nan\n",
      " 0.82676056 0.82746479        nan        nan 0.82253521        nan\n",
      " 0.82323944 0.82323944 0.82323944 0.82323944 0.82323944 0.82323944\n",
      "        nan        nan        nan        nan 0.82323944 0.82676056\n",
      " 0.82676056        nan 0.82676056 0.82746479        nan        nan\n",
      " 0.82253521        nan 0.82323944 0.82323944 0.82323944 0.82323944\n",
      " 0.82323944 0.82323944        nan        nan        nan        nan\n",
      " 0.82323944 0.82676056 0.82676056        nan 0.82676056 0.82746479\n",
      "        nan        nan 0.82253521        nan 0.82253521 0.82323944\n",
      " 0.82323944 0.82323944 0.82323944 0.82323944        nan        nan\n",
      "        nan        nan 0.82323944 0.82676056 0.82676056        nan\n",
      " 0.82676056 0.82746479        nan        nan 0.82605634        nan\n",
      " 0.82605634 0.82676056 0.82676056 0.82676056 0.82676056 0.82676056\n",
      "        nan        nan        nan        nan 0.82676056 0.82676056\n",
      " 0.82676056        nan 0.82676056 0.82746479        nan        nan\n",
      " 0.82605634        nan 0.82605634 0.82676056 0.82676056 0.82676056\n",
      " 0.82676056 0.82676056        nan        nan        nan        nan\n",
      " 0.82605634 0.82676056 0.82676056        nan 0.82676056 0.82746479\n",
      "        nan        nan 0.82605634        nan 0.82605634 0.82676056\n",
      " 0.82676056 0.82676056 0.82676056 0.82676056        nan        nan\n",
      "        nan        nan 0.82605634 0.82676056 0.82676056        nan\n",
      " 0.82676056 0.82746479        nan        nan 0.82605634        nan\n",
      " 0.82605634 0.82676056 0.82676056 0.82676056 0.82676056 0.82676056\n",
      "        nan        nan        nan        nan 0.82605634 0.82676056\n",
      " 0.82676056        nan 0.82676056 0.82746479        nan        nan\n",
      " 0.82464789        nan 0.82464789 0.82605634 0.82605634 0.82676056\n",
      " 0.82605634 0.82605634        nan        nan        nan        nan\n",
      " 0.82605634 0.82676056 0.82676056        nan 0.82676056 0.82746479\n",
      "        nan        nan 0.82535211        nan 0.82464789 0.82605634\n",
      " 0.82605634 0.82676056 0.82605634 0.82605634        nan        nan\n",
      "        nan        nan 0.82464789 0.82676056 0.82676056        nan\n",
      " 0.82676056 0.82746479        nan        nan 0.82535211        nan\n",
      " 0.82464789 0.82605634 0.82605634 0.82676056 0.82605634 0.82605634\n",
      "        nan        nan        nan        nan 0.82464789 0.82676056\n",
      " 0.82676056        nan 0.82676056 0.82746479        nan        nan\n",
      " 0.82464789        nan 0.82464789 0.82605634 0.82605634 0.82676056\n",
      " 0.82605634 0.82605634        nan        nan        nan        nan\n",
      " 0.82464789 0.82676056 0.82676056        nan 0.82676056 0.82746479]\n",
      "  warnings.warn(\n",
      "C:\\Users\\sande\\anaconda3\\lib\\site-packages\\sklearn\\linear_model\\_logistic.py:1476: UserWarning: l1_ratio parameter is only used when penalty is 'elasticnet'. Got (penalty=none)\n",
      "  warnings.warn(\n"
     ]
    },
    {
     "name": "stderr",
     "output_type": "stream",
     "text": [
      "C:\\Users\\sande\\anaconda3\\lib\\site-packages\\sklearn\\linear_model\\_sag.py:352: ConvergenceWarning: The max_iter was reached which means the coef_ did not converge\n",
      "  warnings.warn(\n"
     ]
    },
    {
     "data": {
      "text/plain": [
       "GridSearchCV(estimator=LogisticRegression(max_iter=2000),\n",
       "             param_grid={'C': [1, 5, 8], 'l1_ratio': [0, 0.75, 0.95, 1],\n",
       "                         'penalty': ['l1', 'l2', 'elasticnet', 'none'],\n",
       "                         'solver': ['newton-cg', 'lbfgs', 'liblinear', 'sag',\n",
       "                                    'saga']},\n",
       "             verbose=2)"
      ]
     },
     "execution_count": 25,
     "metadata": {},
     "output_type": "execute_result"
    }
   ],
   "source": [
    "grid_model.fit(X_train,y_train)"
   ]
  },
  {
   "cell_type": "code",
   "execution_count": 26,
   "id": "d8496c2a",
   "metadata": {},
   "outputs": [
    {
     "data": {
      "text/plain": [
       "{'C': 1, 'l1_ratio': 0, 'penalty': 'none', 'solver': 'saga'}"
      ]
     },
     "execution_count": 26,
     "metadata": {},
     "output_type": "execute_result"
    }
   ],
   "source": [
    "grid_model.best_params_"
   ]
  },
  {
   "cell_type": "code",
   "execution_count": 27,
   "id": "6119ba76",
   "metadata": {},
   "outputs": [],
   "source": [
    "y_pred=grid_model.predict(X_test)"
   ]
  },
  {
   "cell_type": "code",
   "execution_count": 28,
   "id": "b91d8f47",
   "metadata": {},
   "outputs": [
    {
     "name": "stderr",
     "output_type": "stream",
     "text": [
      "C:\\Users\\sande\\anaconda3\\lib\\site-packages\\sklearn\\utils\\deprecation.py:87: FutureWarning: Function plot_confusion_matrix is deprecated; Function `plot_confusion_matrix` is deprecated in 1.0 and will be removed in 1.2. Use one of the class methods: ConfusionMatrixDisplay.from_predictions or ConfusionMatrixDisplay.from_estimator.\n",
      "  warnings.warn(msg, category=FutureWarning)\n"
     ]
    },
    {
     "data": {
      "text/plain": [
       "<sklearn.metrics._plot.confusion_matrix.ConfusionMatrixDisplay at 0x176a2d5df40>"
      ]
     },
     "execution_count": 28,
     "metadata": {},
     "output_type": "execute_result"
    },
    {
     "data": {
      "image/png": "[encoded data removed]",
      "text/plain": [
       "<Figure size 432x288 with 2 Axes>"
      ]
     },
     "metadata": {
      "needs_background": "light"
     },
     "output_type": "display_data"
    }
   ],
   "source": [
    "plot_confusion_matrix(grid_model,X_test,y_test)"
   ]
  },
  {
   "cell_type": "code",
   "execution_count": 29,
   "id": "292cdcf2",
   "metadata": {},
   "outputs": [
    {
     "name": "stdout",
     "output_type": "stream",
     "text": [
      "              precision    recall  f1-score   support\n",
      "\n",
      "           0       0.89      0.92      0.91       394\n",
      "           1       0.55      0.45      0.49        80\n",
      "\n",
      "    accuracy                           0.84       474\n",
      "   macro avg       0.72      0.69      0.70       474\n",
      "weighted avg       0.83      0.84      0.84       474\n",
      "\n"
     ]
    }
   ],
   "source": [
    "print(classification_report(y_test,y_pred))"
   ]
  },
  {
   "cell_type": "markdown",
   "id": "eebb4633",
   "metadata": {},
   "source": [
    "prediction 2"
   ]
  },
  {
   "cell_type": "code",
   "execution_count": 30,
   "id": "3b640311",
   "metadata": {},
   "outputs": [
    {
     "name": "stdout",
     "output_type": "stream",
     "text": [
      "              precision    recall  f1-score   support\n",
      "\n",
      "           0       0.89      0.92      0.91       394\n",
      "           1       0.55      0.45      0.49        80\n",
      "\n",
      "    accuracy                           0.84       474\n",
      "   macro avg       0.72      0.69      0.70       474\n",
      "weighted avg       0.83      0.84      0.84       474\n",
      "\n"
     ]
    }
   ],
   "source": [
    "print(classification_report(y_test,y_pred))"
   ]
  },
  {
   "cell_type": "markdown",
   "id": "2246c079",
   "metadata": {},
   "source": [
    "# Model 2 KNeighborsClassifier"
   ]
  },
  {
   "cell_type": "code",
   "execution_count": 31,
   "id": "f807dc2e",
   "metadata": {},
   "outputs": [],
   "source": [
    "from sklearn.neighbors import KNeighborsClassifier"
   ]
  },
  {
   "cell_type": "code",
   "execution_count": 32,
   "id": "3a66e68a",
   "metadata": {},
   "outputs": [],
   "source": [
    "knnmodel=KNeighborsClassifier()"
   ]
  },
  {
   "cell_type": "code",
   "execution_count": 33,
   "id": "1705ff99",
   "metadata": {},
   "outputs": [
    {
     "data": {
      "text/plain": [
       "KNeighborsClassifier()"
      ]
     },
     "execution_count": 33,
     "metadata": {},
     "output_type": "execute_result"
    }
   ],
   "source": [
    "knnmodel.fit(X_train,y_train)"
   ]
  },
  {
   "cell_type": "code",
   "execution_count": 34,
   "id": "c7a257b4",
   "metadata": {},
   "outputs": [],
   "source": [
    "y_pred=knnmodel.predict(X_test)"
   ]
  },
  {
   "cell_type": "code",
   "execution_count": 35,
   "id": "433dbf95",
   "metadata": {},
   "outputs": [
    {
     "name": "stderr",
     "output_type": "stream",
     "text": [
      "C:\\Users\\sande\\anaconda3\\lib\\site-packages\\sklearn\\utils\\deprecation.py:87: FutureWarning: Function plot_confusion_matrix is deprecated; Function `plot_confusion_matrix` is deprecated in 1.0 and will be removed in 1.2. Use one of the class methods: ConfusionMatrixDisplay.from_predictions or ConfusionMatrixDisplay.from_estimator.\n",
      "  warnings.warn(msg, category=FutureWarning)\n"
     ]
    },
    {
     "data": {
      "text/plain": [
       "<sklearn.metrics._plot.confusion_matrix.ConfusionMatrixDisplay at 0x176a20813d0>"
      ]
     },
     "execution_count": 35,
     "metadata": {},
     "output_type": "execute_result"
    },
    {
     "data": {
      "image/png": "[encoded data removed]",
      "text/plain": [
       "<Figure size 432x288 with 2 Axes>"
      ]
     },
     "metadata": {
      "needs_background": "light"
     },
     "output_type": "display_data"
    }
   ],
   "source": [
    "plot_confusion_matrix(knnmodel,X_test,y_test)"
   ]
  },
  {
   "cell_type": "code",
   "execution_count": 36,
   "id": "671700ea",
   "metadata": {},
   "outputs": [
    {
     "name": "stdout",
     "output_type": "stream",
     "text": [
      "              precision    recall  f1-score   support\n",
      "\n",
      "           0       0.94      0.92      0.93       394\n",
      "           1       0.63      0.69      0.66        80\n",
      "\n",
      "    accuracy                           0.88       474\n",
      "   macro avg       0.78      0.80      0.79       474\n",
      "weighted avg       0.88      0.88      0.88       474\n",
      "\n"
     ]
    }
   ],
   "source": [
    "print(classification_report(y_test,y_pred))"
   ]
  },
  {
   "cell_type": "markdown",
   "id": "f23068ac",
   "metadata": {},
   "source": [
    "KNN Hyperparameter tuning"
   ]
  },
  {
   "cell_type": "code",
   "execution_count": 37,
   "id": "c1b776d5",
   "metadata": {},
   "outputs": [],
   "source": [
    "params={'n_neighbors':[6,7,8,9,10],'weights' :['uniform', 'distance'],'algorithm':['auto', 'ball_tree', 'kd_tree', 'brute'],'leaf_size':[5,10,15],'p':[1,2]}"
   ]
  },
  {
   "cell_type": "code",
   "execution_count": 38,
   "id": "3e7cd6f9",
   "metadata": {},
   "outputs": [],
   "source": [
    "knn_grid=GridSearchCV(knnmodel,params,verbose=2)"
   ]
  },
  {
   "cell_type": "code",
   "execution_count": 39,
   "id": "76dc9bc3",
   "metadata": {},
   "outputs": [
    {
     "name": "stdout",
     "output_type": "stream",
     "text": [
      "Fitting 5 folds for each of 240 candidates, totalling 1200 fits\n",
      "[CV] END algorithm=auto, leaf_size=5, n_neighbors=6, p=1, weights=uniform; total time=   0.0s\n",
      "[CV] END algorithm=auto, leaf_size=5, n_neighbors=6, p=1, weights=uniform; total time=   0.0s\n",
      "[CV] END algorithm=auto, leaf_size=5, n_neighbors=6, p=1, weights=uniform; total time=   0.0s\n",
      "[CV] END algorithm=auto, leaf_size=5, n_neighbors=6, p=1, weights=uniform; total time=   0.0s\n",
      "[CV] END algorithm=auto, leaf_size=5, n_neighbors=6, p=1, weights=uniform; total time=   0.0s\n",
      "[CV] END algorithm=auto, leaf_size=5, n_neighbors=6, p=1, weights=distance; total time=   0.0s\n",
      "[CV] END algorithm=auto, leaf_size=5, n_neighbors=6, p=1, weights=distance; total time=   0.0s\n",
      "[CV] END algorithm=auto, leaf_size=5, n_neighbors=6, p=1, weights=distance; total time=   0.0s\n",
      "[CV] END algorithm=auto, leaf_size=5, n_neighbors=6, p=1, weights=distance; total time=   0.0s\n",
      "[CV] END algorithm=auto, leaf_size=5, n_neighbors=6, p=1, weights=distance; total time=   0.0s\n",
      "[CV] END algorithm=auto, leaf_size=5, n_neighbors=6, p=2, weights=uniform; total time=   0.0s\n",
      "[CV] END algorithm=auto, leaf_size=5, n_neighbors=6, p=2, weights=uniform; total time=   0.0s\n",
      "[CV] END algorithm=auto, leaf_size=5, n_neighbors=6, p=2, weights=uniform; total time=   0.0s\n",
      "[CV] END algorithm=auto, leaf_size=5, n_neighbors=6, p=2, weights=uniform; total time=   0.0s\n",
      "[CV] END algorithm=auto, leaf_size=5, n_neighbors=6, p=2, weights=uniform; total time=   0.0s\n",
      "[CV] END algorithm=auto, leaf_size=5, n_neighbors=6, p=2, weights=distance; total time=   0.0s\n",
      "[CV] END algorithm=auto, leaf_size=5, n_neighbors=6, p=2, weights=distance; total time=   0.0s\n",
      "[CV] END algorithm=auto, leaf_size=5, n_neighbors=6, p=2, weights=distance; total time=   0.0s\n",
      "[CV] END algorithm=auto, leaf_size=5, n_neighbors=6, p=2, weights=distance; total time=   0.0s\n",
      "[CV] END algorithm=auto, leaf_size=5, n_neighbors=6, p=2, weights=distance; total time=   0.0s\n",
      "[CV] END algorithm=auto, leaf_size=5, n_neighbors=7, p=1, weights=uniform; total time=   0.0s\n",
      "[CV] END algorithm=auto, leaf_size=5, n_neighbors=7, p=1, weights=uniform; total time=   0.0s\n",
      "[CV] END algorithm=auto, leaf_size=5, n_neighbors=7, p=1, weights=uniform; total time=   0.0s\n",
      "[CV] END algorithm=auto, leaf_size=5, n_neighbors=7, p=1, weights=uniform; total time=   0.0s\n",
      "[CV] END algorithm=auto, leaf_size=5, n_neighbors=7, p=1, weights=uniform; total time=   0.0s\n",
      "[CV] END algorithm=auto, leaf_size=5, n_neighbors=7, p=1, weights=distance; total time=   0.0s\n",
      "[CV] END algorithm=auto, leaf_size=5, n_neighbors=7, p=1, weights=distance; total time=   0.0s\n",
      "[CV] END algorithm=auto, leaf_size=5, n_neighbors=7, p=1, weights=distance; total time=   0.0s\n",
      "[CV] END algorithm=auto, leaf_size=5, n_neighbors=7, p=1, weights=distance; total time=   0.0s\n",
      "[CV] END algorithm=auto, leaf_size=5, n_neighbors=7, p=1, weights=distance; total time=   0.0s\n",
      "[CV] END algorithm=auto, leaf_size=5, n_neighbors=7, p=2, weights=uniform; total time=   0.0s\n",
      "[CV] END algorithm=auto, leaf_size=5, n_neighbors=7, p=2, weights=uniform; total time=   0.0s\n",
      "[CV] END algorithm=auto, leaf_size=5, n_neighbors=7, p=2, weights=uniform; total time=   0.0s\n",
      "[CV] END algorithm=auto, leaf_size=5, n_neighbors=7, p=2, weights=uniform; total time=   0.0s\n",
      "[CV] END algorithm=auto, leaf_size=5, n_neighbors=7, p=2, weights=uniform; total time=   0.0s\n",
      "[CV] END algorithm=auto, leaf_size=5, n_neighbors=7, p=2, weights=distance; total time=   0.0s\n",
      "[CV] END algorithm=auto, leaf_size=5, n_neighbors=7, p=2, weights=distance; total time=   0.0s\n",
      "[CV] END algorithm=auto, leaf_size=5, n_neighbors=7, p=2, weights=distance; total time=   0.0s\n",
      "[CV] END algorithm=auto, leaf_size=5, n_neighbors=7, p=2, weights=distance; total time=   0.0s\n",
      "[CV] END algorithm=auto, leaf_size=5, n_neighbors=7, p=2, weights=distance; total time=   0.0s\n",
      "[CV] END algorithm=auto, leaf_size=5, n_neighbors=8, p=1, weights=uniform; total time=   0.0s\n",
      "[CV] END algorithm=auto, leaf_size=5, n_neighbors=8, p=1, weights=uniform; total time=   0.0s\n",
      "[CV] END algorithm=auto, leaf_size=5, n_neighbors=8, p=1, weights=uniform; total time=   0.0s\n",
      "[CV] END algorithm=auto, leaf_size=5, n_neighbors=8, p=1, weights=uniform; total time=   0.0s\n",
      "[CV] END algorithm=auto, leaf_size=5, n_neighbors=8, p=1, weights=uniform; total time=   0.0s\n",
      "[CV] END algorithm=auto, leaf_size=5, n_neighbors=8, p=1, weights=distance; total time=   0.0s\n",
      "[CV] END algorithm=auto, leaf_size=5, n_neighbors=8, p=1, weights=distance; total time=   0.0s\n",
      "[CV] END algorithm=auto, leaf_size=5, n_neighbors=8, p=1, weights=distance; total time=   0.0s\n",
      "[CV] END algorithm=auto, leaf_size=5, n_neighbors=8, p=1, weights=distance; total time=   0.0s\n",
      "[CV] END algorithm=auto, leaf_size=5, n_neighbors=8, p=1, weights=distance; total time=   0.0s\n",
      "[CV] END algorithm=auto, leaf_size=5, n_neighbors=8, p=2, weights=uniform; total time=   0.0s\n",
      "[CV] END algorithm=auto, leaf_size=5, n_neighbors=8, p=2, weights=uniform; total time=   0.0s\n",
      "[CV] END algorithm=auto, leaf_size=5, n_neighbors=8, p=2, weights=uniform; total time=   0.0s\n",
      "[CV] END algorithm=auto, leaf_size=5, n_neighbors=8, p=2, weights=uniform; total time=   0.0s\n",
      "[CV] END algorithm=auto, leaf_size=5, n_neighbors=8, p=2, weights=uniform; total time=   0.0s\n",
      "[CV] END algorithm=auto, leaf_size=5, n_neighbors=8, p=2, weights=distance; total time=   0.0s\n",
      "[CV] END algorithm=auto, leaf_size=5, n_neighbors=8, p=2, weights=distance; total time=   0.0s\n",
      "[CV] END algorithm=auto, leaf_size=5, n_neighbors=8, p=2, weights=distance; total time=   0.0s\n",
      "[CV] END algorithm=auto, leaf_size=5, n_neighbors=8, p=2, weights=distance; total time=   0.0s\n",
      "[CV] END algorithm=auto, leaf_size=5, n_neighbors=8, p=2, weights=distance; total time=   0.0s\n",
      "[CV] END algorithm=auto, leaf_size=5, n_neighbors=9, p=1, weights=uniform; total time=   0.0s\n",
      "[CV] END algorithm=auto, leaf_size=5, n_neighbors=9, p=1, weights=uniform; total time=   0.0s\n",
      "[CV] END algorithm=auto, leaf_size=5, n_neighbors=9, p=1, weights=uniform; total time=   0.0s\n",
      "[CV] END algorithm=auto, leaf_size=5, n_neighbors=9, p=1, weights=uniform; total time=   0.0s\n",
      "[CV] END algorithm=auto, leaf_size=5, n_neighbors=9, p=1, weights=uniform; total time=   0.0s\n",
      "[CV] END algorithm=auto, leaf_size=5, n_neighbors=9, p=1, weights=distance; total time=   0.0s\n",
      "[CV] END algorithm=auto, leaf_size=5, n_neighbors=9, p=1, weights=distance; total time=   0.0s\n",
      "[CV] END algorithm=auto, leaf_size=5, n_neighbors=9, p=1, weights=distance; total time=   0.0s\n",
      "[CV] END algorithm=auto, leaf_size=5, n_neighbors=9, p=1, weights=distance; total time=   0.0s\n",
      "[CV] END algorithm=auto, leaf_size=5, n_neighbors=9, p=1, weights=distance; total time=   0.0s\n",
      "[CV] END algorithm=auto, leaf_size=5, n_neighbors=9, p=2, weights=uniform; total time=   0.0s\n",
      "[CV] END algorithm=auto, leaf_size=5, n_neighbors=9, p=2, weights=uniform; total time=   0.0s\n",
      "[CV] END algorithm=auto, leaf_size=5, n_neighbors=9, p=2, weights=uniform; total time=   0.0s\n",
      "[CV] END algorithm=auto, leaf_size=5, n_neighbors=9, p=2, weights=uniform; total time=   0.0s\n",
      "[CV] END algorithm=auto, leaf_size=5, n_neighbors=9, p=2, weights=uniform; total time=   0.0s\n",
      "[CV] END algorithm=auto, leaf_size=5, n_neighbors=9, p=2, weights=distance; total time=   0.0s\n",
      "[CV] END algorithm=auto, leaf_size=5, n_neighbors=9, p=2, weights=distance; total time=   0.0s\n",
      "[CV] END algorithm=auto, leaf_size=5, n_neighbors=9, p=2, weights=distance; total time=   0.0s\n",
      "[CV] END algorithm=auto, leaf_size=5, n_neighbors=9, p=2, weights=distance; total time=   0.0s\n",
      "[CV] END algorithm=auto, leaf_size=5, n_neighbors=9, p=2, weights=distance; total time=   0.0s\n",
      "[CV] END algorithm=auto, leaf_size=5, n_neighbors=10, p=1, weights=uniform; total time=   0.0s\n",
      "[CV] END algorithm=auto, leaf_size=5, n_neighbors=10, p=1, weights=uniform; total time=   0.0s\n",
      "[CV] END algorithm=auto, leaf_size=5, n_neighbors=10, p=1, weights=uniform; total time=   0.0s\n",
      "[CV] END algorithm=auto, leaf_size=5, n_neighbors=10, p=1, weights=uniform; total time=   0.0s\n",
      "[CV] END algorithm=auto, leaf_size=5, n_neighbors=10, p=1, weights=uniform; total time=   0.0s\n",
      "[CV] END algorithm=auto, leaf_size=5, n_neighbors=10, p=1, weights=distance; total time=   0.0s\n",
      "[CV] END algorithm=auto, leaf_size=5, n_neighbors=10, p=1, weights=distance; total time=   0.0s\n",
      "[CV] END algorithm=auto, leaf_size=5, n_neighbors=10, p=1, weights=distance; total time=   0.0s\n",
      "[CV] END algorithm=auto, leaf_size=5, n_neighbors=10, p=1, weights=distance; total time=   0.0s\n",
      "[CV] END algorithm=auto, leaf_size=5, n_neighbors=10, p=1, weights=distance; total time=   0.0s\n",
      "[CV] END algorithm=auto, leaf_size=5, n_neighbors=10, p=2, weights=uniform; total time=   0.0s\n",
      "[CV] END algorithm=auto, leaf_size=5, n_neighbors=10, p=2, weights=uniform; total time=   0.0s\n",
      "[CV] END algorithm=auto, leaf_size=5, n_neighbors=10, p=2, weights=uniform; total time=   0.0s\n",
      "[CV] END algorithm=auto, leaf_size=5, n_neighbors=10, p=2, weights=uniform; total time=   0.0s\n"
     ]
    },
    {
     "name": "stdout",
     "output_type": "stream",
     "text": [
      "[CV] END algorithm=auto, leaf_size=5, n_neighbors=10, p=2, weights=uniform; total time=   0.0s\n",
      "[CV] END algorithm=auto, leaf_size=5, n_neighbors=10, p=2, weights=distance; total time=   0.0s\n",
      "[CV] END algorithm=auto, leaf_size=5, n_neighbors=10, p=2, weights=distance; total time=   0.0s\n",
      "[CV] END algorithm=auto, leaf_size=5, n_neighbors=10, p=2, weights=distance; total time=   0.0s\n",
      "[CV] END algorithm=auto, leaf_size=5, n_neighbors=10, p=2, weights=distance; total time=   0.0s\n",
      "[CV] END algorithm=auto, leaf_size=5, n_neighbors=10, p=2, weights=distance; total time=   0.0s\n",
      "[CV] END algorithm=auto, leaf_size=10, n_neighbors=6, p=1, weights=uniform; total time=   0.0s\n",
      "[CV] END algorithm=auto, leaf_size=10, n_neighbors=6, p=1, weights=uniform; total time=   0.0s\n",
      "[CV] END algorithm=auto, leaf_size=10, n_neighbors=6, p=1, weights=uniform; total time=   0.0s\n",
      "[CV] END algorithm=auto, leaf_size=10, n_neighbors=6, p=1, weights=uniform; total time=   0.0s\n",
      "[CV] END algorithm=auto, leaf_size=10, n_neighbors=6, p=1, weights=uniform; total time=   0.0s\n",
      "[CV] END algorithm=auto, leaf_size=10, n_neighbors=6, p=1, weights=distance; total time=   0.0s\n",
      "[CV] END algorithm=auto, leaf_size=10, n_neighbors=6, p=1, weights=distance; total time=   0.0s\n",
      "[CV] END algorithm=auto, leaf_size=10, n_neighbors=6, p=1, weights=distance; total time=   0.0s\n",
      "[CV] END algorithm=auto, leaf_size=10, n_neighbors=6, p=1, weights=distance; total time=   0.0s\n",
      "[CV] END algorithm=auto, leaf_size=10, n_neighbors=6, p=1, weights=distance; total time=   0.0s\n",
      "[CV] END algorithm=auto, leaf_size=10, n_neighbors=6, p=2, weights=uniform; total time=   0.0s\n",
      "[CV] END algorithm=auto, leaf_size=10, n_neighbors=6, p=2, weights=uniform; total time=   0.0s\n",
      "[CV] END algorithm=auto, leaf_size=10, n_neighbors=6, p=2, weights=uniform; total time=   0.0s\n",
      "[CV] END algorithm=auto, leaf_size=10, n_neighbors=6, p=2, weights=uniform; total time=   0.0s\n",
      "[CV] END algorithm=auto, leaf_size=10, n_neighbors=6, p=2, weights=uniform; total time=   0.0s\n",
      "[CV] END algorithm=auto, leaf_size=10, n_neighbors=6, p=2, weights=distance; total time=   0.0s\n",
      "[CV] END algorithm=auto, leaf_size=10, n_neighbors=6, p=2, weights=distance; total time=   0.0s\n",
      "[CV] END algorithm=auto, leaf_size=10, n_neighbors=6, p=2, weights=distance; total time=   0.0s\n",
      "[CV] END algorithm=auto, leaf_size=10, n_neighbors=6, p=2, weights=distance; total time=   0.0s\n",
      "[CV] END algorithm=auto, leaf_size=10, n_neighbors=6, p=2, weights=distance; total time=   0.0s\n",
      "[CV] END algorithm=auto, leaf_size=10, n_neighbors=7, p=1, weights=uniform; total time=   0.0s\n",
      "[CV] END algorithm=auto, leaf_size=10, n_neighbors=7, p=1, weights=uniform; total time=   0.0s\n",
      "[CV] END algorithm=auto, leaf_size=10, n_neighbors=7, p=1, weights=uniform; total time=   0.0s\n",
      "[CV] END algorithm=auto, leaf_size=10, n_neighbors=7, p=1, weights=uniform; total time=   0.0s\n",
      "[CV] END algorithm=auto, leaf_size=10, n_neighbors=7, p=1, weights=uniform; total time=   0.0s\n",
      "[CV] END algorithm=auto, leaf_size=10, n_neighbors=7, p=1, weights=distance; total time=   0.0s\n",
      "[CV] END algorithm=auto, leaf_size=10, n_neighbors=7, p=1, weights=distance; total time=   0.0s\n",
      "[CV] END algorithm=auto, leaf_size=10, n_neighbors=7, p=1, weights=distance; total time=   0.0s\n",
      "[CV] END algorithm=auto, leaf_size=10, n_neighbors=7, p=1, weights=distance; total time=   0.0s\n",
      "[CV] END algorithm=auto, leaf_size=10, n_neighbors=7, p=1, weights=distance; total time=   0.0s\n",
      "[CV] END algorithm=auto, leaf_size=10, n_neighbors=7, p=2, weights=uniform; total time=   0.0s\n",
      "[CV] END algorithm=auto, leaf_size=10, n_neighbors=7, p=2, weights=uniform; total time=   0.0s\n",
      "[CV] END algorithm=auto, leaf_size=10, n_neighbors=7, p=2, weights=uniform; total time=   0.0s\n",
      "[CV] END algorithm=auto, leaf_size=10, n_neighbors=7, p=2, weights=uniform; total time=   0.0s\n",
      "[CV] END algorithm=auto, leaf_size=10, n_neighbors=7, p=2, weights=uniform; total time=   0.0s\n",
      "[CV] END algorithm=auto, leaf_size=10, n_neighbors=7, p=2, weights=distance; total time=   0.0s\n",
      "[CV] END algorithm=auto, leaf_size=10, n_neighbors=7, p=2, weights=distance; total time=   0.0s\n",
      "[CV] END algorithm=auto, leaf_size=10, n_neighbors=7, p=2, weights=distance; total time=   0.0s\n",
      "[CV] END algorithm=auto, leaf_size=10, n_neighbors=7, p=2, weights=distance; total time=   0.0s\n",
      "[CV] END algorithm=auto, leaf_size=10, n_neighbors=7, p=2, weights=distance; total time=   0.0s\n",
      "[CV] END algorithm=auto, leaf_size=10, n_neighbors=8, p=1, weights=uniform; total time=   0.0s\n",
      "[CV] END algorithm=auto, leaf_size=10, n_neighbors=8, p=1, weights=uniform; total time=   0.0s\n",
      "[CV] END algorithm=auto, leaf_size=10, n_neighbors=8, p=1, weights=uniform; total time=   0.0s\n",
      "[CV] END algorithm=auto, leaf_size=10, n_neighbors=8, p=1, weights=uniform; total time=   0.0s\n",
      "[CV] END algorithm=auto, leaf_size=10, n_neighbors=8, p=1, weights=uniform; total time=   0.0s\n",
      "[CV] END algorithm=auto, leaf_size=10, n_neighbors=8, p=1, weights=distance; total time=   0.0s\n",
      "[CV] END algorithm=auto, leaf_size=10, n_neighbors=8, p=1, weights=distance; total time=   0.0s\n",
      "[CV] END algorithm=auto, leaf_size=10, n_neighbors=8, p=1, weights=distance; total time=   0.0s\n",
      "[CV] END algorithm=auto, leaf_size=10, n_neighbors=8, p=1, weights=distance; total time=   0.0s\n",
      "[CV] END algorithm=auto, leaf_size=10, n_neighbors=8, p=1, weights=distance; total time=   0.0s\n",
      "[CV] END algorithm=auto, leaf_size=10, n_neighbors=8, p=2, weights=uniform; total time=   0.0s\n",
      "[CV] END algorithm=auto, leaf_size=10, n_neighbors=8, p=2, weights=uniform; total time=   0.0s\n",
      "[CV] END algorithm=auto, leaf_size=10, n_neighbors=8, p=2, weights=uniform; total time=   0.0s\n",
      "[CV] END algorithm=auto, leaf_size=10, n_neighbors=8, p=2, weights=uniform; total time=   0.0s\n",
      "[CV] END algorithm=auto, leaf_size=10, n_neighbors=8, p=2, weights=uniform; total time=   0.0s\n",
      "[CV] END algorithm=auto, leaf_size=10, n_neighbors=8, p=2, weights=distance; total time=   0.0s\n",
      "[CV] END algorithm=auto, leaf_size=10, n_neighbors=8, p=2, weights=distance; total time=   0.0s\n",
      "[CV] END algorithm=auto, leaf_size=10, n_neighbors=8, p=2, weights=distance; total time=   0.0s\n",
      "[CV] END algorithm=auto, leaf_size=10, n_neighbors=8, p=2, weights=distance; total time=   0.0s\n",
      "[CV] END algorithm=auto, leaf_size=10, n_neighbors=8, p=2, weights=distance; total time=   0.0s\n",
      "[CV] END algorithm=auto, leaf_size=10, n_neighbors=9, p=1, weights=uniform; total time=   0.0s\n",
      "[CV] END algorithm=auto, leaf_size=10, n_neighbors=9, p=1, weights=uniform; total time=   0.0s\n",
      "[CV] END algorithm=auto, leaf_size=10, n_neighbors=9, p=1, weights=uniform; total time=   0.0s\n",
      "[CV] END algorithm=auto, leaf_size=10, n_neighbors=9, p=1, weights=uniform; total time=   0.0s\n",
      "[CV] END algorithm=auto, leaf_size=10, n_neighbors=9, p=1, weights=uniform; total time=   0.0s\n",
      "[CV] END algorithm=auto, leaf_size=10, n_neighbors=9, p=1, weights=distance; total time=   0.0s\n",
      "[CV] END algorithm=auto, leaf_size=10, n_neighbors=9, p=1, weights=distance; total time=   0.0s\n",
      "[CV] END algorithm=auto, leaf_size=10, n_neighbors=9, p=1, weights=distance; total time=   0.0s\n",
      "[CV] END algorithm=auto, leaf_size=10, n_neighbors=9, p=1, weights=distance; total time=   0.0s\n",
      "[CV] END algorithm=auto, leaf_size=10, n_neighbors=9, p=1, weights=distance; total time=   0.0s\n",
      "[CV] END algorithm=auto, leaf_size=10, n_neighbors=9, p=2, weights=uniform; total time=   0.0s\n",
      "[CV] END algorithm=auto, leaf_size=10, n_neighbors=9, p=2, weights=uniform; total time=   0.0s\n",
      "[CV] END algorithm=auto, leaf_size=10, n_neighbors=9, p=2, weights=uniform; total time=   0.0s\n",
      "[CV] END algorithm=auto, leaf_size=10, n_neighbors=9, p=2, weights=uniform; total time=   0.0s\n",
      "[CV] END algorithm=auto, leaf_size=10, n_neighbors=9, p=2, weights=uniform; total time=   0.0s\n",
      "[CV] END algorithm=auto, leaf_size=10, n_neighbors=9, p=2, weights=distance; total time=   0.0s\n",
      "[CV] END algorithm=auto, leaf_size=10, n_neighbors=9, p=2, weights=distance; total time=   0.0s\n",
      "[CV] END algorithm=auto, leaf_size=10, n_neighbors=9, p=2, weights=distance; total time=   0.0s\n",
      "[CV] END algorithm=auto, leaf_size=10, n_neighbors=9, p=2, weights=distance; total time=   0.0s\n",
      "[CV] END algorithm=auto, leaf_size=10, n_neighbors=9, p=2, weights=distance; total time=   0.0s\n",
      "[CV] END algorithm=auto, leaf_size=10, n_neighbors=10, p=1, weights=uniform; total time=   0.0s\n",
      "[CV] END algorithm=auto, leaf_size=10, n_neighbors=10, p=1, weights=uniform; total time=   0.0s\n",
      "[CV] END algorithm=auto, leaf_size=10, n_neighbors=10, p=1, weights=uniform; total time=   0.0s\n",
      "[CV] END algorithm=auto, leaf_size=10, n_neighbors=10, p=1, weights=uniform; total time=   0.0s\n",
      "[CV] END algorithm=auto, leaf_size=10, n_neighbors=10, p=1, weights=uniform; total time=   0.0s\n",
      "[CV] END algorithm=auto, leaf_size=10, n_neighbors=10, p=1, weights=distance; total time=   0.0s\n",
      "[CV] END algorithm=auto, leaf_size=10, n_neighbors=10, p=1, weights=distance; total time=   0.0s\n",
      "[CV] END algorithm=auto, leaf_size=10, n_neighbors=10, p=1, weights=distance; total time=   0.0s\n",
      "[CV] END algorithm=auto, leaf_size=10, n_neighbors=10, p=1, weights=distance; total time=   0.0s\n",
      "[CV] END algorithm=auto, leaf_size=10, n_neighbors=10, p=1, weights=distance; total time=   0.0s\n",
      "[CV] END algorithm=auto, leaf_size=10, n_neighbors=10, p=2, weights=uniform; total time=   0.0s\n",
      "[CV] END algorithm=auto, leaf_size=10, n_neighbors=10, p=2, weights=uniform; total time=   0.0s\n",
      "[CV] END algorithm=auto, leaf_size=10, n_neighbors=10, p=2, weights=uniform; total time=   0.0s\n",
      "[CV] END algorithm=auto, leaf_size=10, n_neighbors=10, p=2, weights=uniform; total time=   0.0s\n",
      "[CV] END algorithm=auto, leaf_size=10, n_neighbors=10, p=2, weights=uniform; total time=   0.0s\n",
      "[CV] END algorithm=auto, leaf_size=10, n_neighbors=10, p=2, weights=distance; total time=   0.0s\n"
     ]
    },
    {
     "name": "stdout",
     "output_type": "stream",
     "text": [
      "[CV] END algorithm=auto, leaf_size=10, n_neighbors=10, p=2, weights=distance; total time=   0.0s\n",
      "[CV] END algorithm=auto, leaf_size=10, n_neighbors=10, p=2, weights=distance; total time=   0.0s\n",
      "[CV] END algorithm=auto, leaf_size=10, n_neighbors=10, p=2, weights=distance; total time=   0.0s\n",
      "[CV] END algorithm=auto, leaf_size=10, n_neighbors=10, p=2, weights=distance; total time=   0.0s\n",
      "[CV] END algorithm=auto, leaf_size=15, n_neighbors=6, p=1, weights=uniform; total time=   0.0s\n",
      "[CV] END algorithm=auto, leaf_size=15, n_neighbors=6, p=1, weights=uniform; total time=   0.0s\n",
      "[CV] END algorithm=auto, leaf_size=15, n_neighbors=6, p=1, weights=uniform; total time=   0.0s\n",
      "[CV] END algorithm=auto, leaf_size=15, n_neighbors=6, p=1, weights=uniform; total time=   0.0s\n",
      "[CV] END algorithm=auto, leaf_size=15, n_neighbors=6, p=1, weights=uniform; total time=   0.0s\n",
      "[CV] END algorithm=auto, leaf_size=15, n_neighbors=6, p=1, weights=distance; total time=   0.0s\n",
      "[CV] END algorithm=auto, leaf_size=15, n_neighbors=6, p=1, weights=distance; total time=   0.0s\n",
      "[CV] END algorithm=auto, leaf_size=15, n_neighbors=6, p=1, weights=distance; total time=   0.0s\n",
      "[CV] END algorithm=auto, leaf_size=15, n_neighbors=6, p=1, weights=distance; total time=   0.0s\n",
      "[CV] END algorithm=auto, leaf_size=15, n_neighbors=6, p=1, weights=distance; total time=   0.0s\n",
      "[CV] END algorithm=auto, leaf_size=15, n_neighbors=6, p=2, weights=uniform; total time=   0.0s\n",
      "[CV] END algorithm=auto, leaf_size=15, n_neighbors=6, p=2, weights=uniform; total time=   0.0s\n",
      "[CV] END algorithm=auto, leaf_size=15, n_neighbors=6, p=2, weights=uniform; total time=   0.0s\n",
      "[CV] END algorithm=auto, leaf_size=15, n_neighbors=6, p=2, weights=uniform; total time=   0.0s\n",
      "[CV] END algorithm=auto, leaf_size=15, n_neighbors=6, p=2, weights=uniform; total time=   0.0s\n",
      "[CV] END algorithm=auto, leaf_size=15, n_neighbors=6, p=2, weights=distance; total time=   0.0s\n",
      "[CV] END algorithm=auto, leaf_size=15, n_neighbors=6, p=2, weights=distance; total time=   0.0s\n",
      "[CV] END algorithm=auto, leaf_size=15, n_neighbors=6, p=2, weights=distance; total time=   0.0s\n",
      "[CV] END algorithm=auto, leaf_size=15, n_neighbors=6, p=2, weights=distance; total time=   0.0s\n",
      "[CV] END algorithm=auto, leaf_size=15, n_neighbors=6, p=2, weights=distance; total time=   0.0s\n",
      "[CV] END algorithm=auto, leaf_size=15, n_neighbors=7, p=1, weights=uniform; total time=   0.0s\n",
      "[CV] END algorithm=auto, leaf_size=15, n_neighbors=7, p=1, weights=uniform; total time=   0.0s\n",
      "[CV] END algorithm=auto, leaf_size=15, n_neighbors=7, p=1, weights=uniform; total time=   0.0s\n",
      "[CV] END algorithm=auto, leaf_size=15, n_neighbors=7, p=1, weights=uniform; total time=   0.0s\n",
      "[CV] END algorithm=auto, leaf_size=15, n_neighbors=7, p=1, weights=uniform; total time=   0.0s\n",
      "[CV] END algorithm=auto, leaf_size=15, n_neighbors=7, p=1, weights=distance; total time=   0.0s\n",
      "[CV] END algorithm=auto, leaf_size=15, n_neighbors=7, p=1, weights=distance; total time=   0.0s\n",
      "[CV] END algorithm=auto, leaf_size=15, n_neighbors=7, p=1, weights=distance; total time=   0.0s\n",
      "[CV] END algorithm=auto, leaf_size=15, n_neighbors=7, p=1, weights=distance; total time=   0.0s\n",
      "[CV] END algorithm=auto, leaf_size=15, n_neighbors=7, p=1, weights=distance; total time=   0.0s\n",
      "[CV] END algorithm=auto, leaf_size=15, n_neighbors=7, p=2, weights=uniform; total time=   0.0s\n",
      "[CV] END algorithm=auto, leaf_size=15, n_neighbors=7, p=2, weights=uniform; total time=   0.0s\n",
      "[CV] END algorithm=auto, leaf_size=15, n_neighbors=7, p=2, weights=uniform; total time=   0.0s\n",
      "[CV] END algorithm=auto, leaf_size=15, n_neighbors=7, p=2, weights=uniform; total time=   0.0s\n",
      "[CV] END algorithm=auto, leaf_size=15, n_neighbors=7, p=2, weights=uniform; total time=   0.0s\n",
      "[CV] END algorithm=auto, leaf_size=15, n_neighbors=7, p=2, weights=distance; total time=   0.0s\n",
      "[CV] END algorithm=auto, leaf_size=15, n_neighbors=7, p=2, weights=distance; total time=   0.0s\n",
      "[CV] END algorithm=auto, leaf_size=15, n_neighbors=7, p=2, weights=distance; total time=   0.0s\n",
      "[CV] END algorithm=auto, leaf_size=15, n_neighbors=7, p=2, weights=distance; total time=   0.0s\n",
      "[CV] END algorithm=auto, leaf_size=15, n_neighbors=7, p=2, weights=distance; total time=   0.0s\n",
      "[CV] END algorithm=auto, leaf_size=15, n_neighbors=8, p=1, weights=uniform; total time=   0.0s\n",
      "[CV] END algorithm=auto, leaf_size=15, n_neighbors=8, p=1, weights=uniform; total time=   0.0s\n",
      "[CV] END algorithm=auto, leaf_size=15, n_neighbors=8, p=1, weights=uniform; total time=   0.0s\n",
      "[CV] END algorithm=auto, leaf_size=15, n_neighbors=8, p=1, weights=uniform; total time=   0.0s\n",
      "[CV] END algorithm=auto, leaf_size=15, n_neighbors=8, p=1, weights=uniform; total time=   0.0s\n",
      "[CV] END algorithm=auto, leaf_size=15, n_neighbors=8, p=1, weights=distance; total time=   0.0s\n",
      "[CV] END algorithm=auto, leaf_size=15, n_neighbors=8, p=1, weights=distance; total time=   0.0s\n",
      "[CV] END algorithm=auto, leaf_size=15, n_neighbors=8, p=1, weights=distance; total time=   0.0s\n",
      "[CV] END algorithm=auto, leaf_size=15, n_neighbors=8, p=1, weights=distance; total time=   0.0s\n",
      "[CV] END algorithm=auto, leaf_size=15, n_neighbors=8, p=1, weights=distance; total time=   0.0s\n",
      "[CV] END algorithm=auto, leaf_size=15, n_neighbors=8, p=2, weights=uniform; total time=   0.0s\n",
      "[CV] END algorithm=auto, leaf_size=15, n_neighbors=8, p=2, weights=uniform; total time=   0.0s\n",
      "[CV] END algorithm=auto, leaf_size=15, n_neighbors=8, p=2, weights=uniform; total time=   0.0s\n",
      "[CV] END algorithm=auto, leaf_size=15, n_neighbors=8, p=2, weights=uniform; total time=   0.0s\n",
      "[CV] END algorithm=auto, leaf_size=15, n_neighbors=8, p=2, weights=uniform; total time=   0.0s\n",
      "[CV] END algorithm=auto, leaf_size=15, n_neighbors=8, p=2, weights=distance; total time=   0.0s\n",
      "[CV] END algorithm=auto, leaf_size=15, n_neighbors=8, p=2, weights=distance; total time=   0.0s\n",
      "[CV] END algorithm=auto, leaf_size=15, n_neighbors=8, p=2, weights=distance; total time=   0.0s\n",
      "[CV] END algorithm=auto, leaf_size=15, n_neighbors=8, p=2, weights=distance; total time=   0.0s\n",
      "[CV] END algorithm=auto, leaf_size=15, n_neighbors=8, p=2, weights=distance; total time=   0.0s\n",
      "[CV] END algorithm=auto, leaf_size=15, n_neighbors=9, p=1, weights=uniform; total time=   0.0s\n",
      "[CV] END algorithm=auto, leaf_size=15, n_neighbors=9, p=1, weights=uniform; total time=   0.0s\n",
      "[CV] END algorithm=auto, leaf_size=15, n_neighbors=9, p=1, weights=uniform; total time=   0.0s\n",
      "[CV] END algorithm=auto, leaf_size=15, n_neighbors=9, p=1, weights=uniform; total time=   0.0s\n",
      "[CV] END algorithm=auto, leaf_size=15, n_neighbors=9, p=1, weights=uniform; total time=   0.0s\n",
      "[CV] END algorithm=auto, leaf_size=15, n_neighbors=9, p=1, weights=distance; total time=   0.0s\n",
      "[CV] END algorithm=auto, leaf_size=15, n_neighbors=9, p=1, weights=distance; total time=   0.0s\n",
      "[CV] END algorithm=auto, leaf_size=15, n_neighbors=9, p=1, weights=distance; total time=   0.0s\n",
      "[CV] END algorithm=auto, leaf_size=15, n_neighbors=9, p=1, weights=distance; total time=   0.0s\n",
      "[CV] END algorithm=auto, leaf_size=15, n_neighbors=9, p=1, weights=distance; total time=   0.0s\n",
      "[CV] END algorithm=auto, leaf_size=15, n_neighbors=9, p=2, weights=uniform; total time=   0.0s\n",
      "[CV] END algorithm=auto, leaf_size=15, n_neighbors=9, p=2, weights=uniform; total time=   0.0s\n",
      "[CV] END algorithm=auto, leaf_size=15, n_neighbors=9, p=2, weights=uniform; total time=   0.0s\n",
      "[CV] END algorithm=auto, leaf_size=15, n_neighbors=9, p=2, weights=uniform; total time=   0.0s\n",
      "[CV] END algorithm=auto, leaf_size=15, n_neighbors=9, p=2, weights=uniform; total time=   0.0s\n",
      "[CV] END algorithm=auto, leaf_size=15, n_neighbors=9, p=2, weights=distance; total time=   0.0s\n",
      "[CV] END algorithm=auto, leaf_size=15, n_neighbors=9, p=2, weights=distance; total time=   0.0s\n",
      "[CV] END algorithm=auto, leaf_size=15, n_neighbors=9, p=2, weights=distance; total time=   0.0s\n",
      "[CV] END algorithm=auto, leaf_size=15, n_neighbors=9, p=2, weights=distance; total time=   0.0s\n",
      "[CV] END algorithm=auto, leaf_size=15, n_neighbors=9, p=2, weights=distance; total time=   0.0s\n",
      "[CV] END algorithm=auto, leaf_size=15, n_neighbors=10, p=1, weights=uniform; total time=   0.0s\n",
      "[CV] END algorithm=auto, leaf_size=15, n_neighbors=10, p=1, weights=uniform; total time=   0.0s\n",
      "[CV] END algorithm=auto, leaf_size=15, n_neighbors=10, p=1, weights=uniform; total time=   0.0s\n",
      "[CV] END algorithm=auto, leaf_size=15, n_neighbors=10, p=1, weights=uniform; total time=   0.0s\n",
      "[CV] END algorithm=auto, leaf_size=15, n_neighbors=10, p=1, weights=uniform; total time=   0.0s\n",
      "[CV] END algorithm=auto, leaf_size=15, n_neighbors=10, p=1, weights=distance; total time=   0.0s\n",
      "[CV] END algorithm=auto, leaf_size=15, n_neighbors=10, p=1, weights=distance; total time=   0.0s\n",
      "[CV] END algorithm=auto, leaf_size=15, n_neighbors=10, p=1, weights=distance; total time=   0.0s\n",
      "[CV] END algorithm=auto, leaf_size=15, n_neighbors=10, p=1, weights=distance; total time=   0.0s\n",
      "[CV] END algorithm=auto, leaf_size=15, n_neighbors=10, p=1, weights=distance; total time=   0.0s\n",
      "[CV] END algorithm=auto, leaf_size=15, n_neighbors=10, p=2, weights=uniform; total time=   0.0s\n",
      "[CV] END algorithm=auto, leaf_size=15, n_neighbors=10, p=2, weights=uniform; total time=   0.0s\n",
      "[CV] END algorithm=auto, leaf_size=15, n_neighbors=10, p=2, weights=uniform; total time=   0.0s\n",
      "[CV] END algorithm=auto, leaf_size=15, n_neighbors=10, p=2, weights=uniform; total time=   0.0s\n"
     ]
    },
    {
     "name": "stdout",
     "output_type": "stream",
     "text": [
      "[CV] END algorithm=auto, leaf_size=15, n_neighbors=10, p=2, weights=uniform; total time=   0.0s\n",
      "[CV] END algorithm=auto, leaf_size=15, n_neighbors=10, p=2, weights=distance; total time=   0.0s\n",
      "[CV] END algorithm=auto, leaf_size=15, n_neighbors=10, p=2, weights=distance; total time=   0.0s\n",
      "[CV] END algorithm=auto, leaf_size=15, n_neighbors=10, p=2, weights=distance; total time=   0.0s\n",
      "[CV] END algorithm=auto, leaf_size=15, n_neighbors=10, p=2, weights=distance; total time=   0.0s\n",
      "[CV] END algorithm=auto, leaf_size=15, n_neighbors=10, p=2, weights=distance; total time=   0.0s\n",
      "[CV] END algorithm=ball_tree, leaf_size=5, n_neighbors=6, p=1, weights=uniform; total time=   0.0s\n",
      "[CV] END algorithm=ball_tree, leaf_size=5, n_neighbors=6, p=1, weights=uniform; total time=   0.0s\n",
      "[CV] END algorithm=ball_tree, leaf_size=5, n_neighbors=6, p=1, weights=uniform; total time=   0.0s\n",
      "[CV] END algorithm=ball_tree, leaf_size=5, n_neighbors=6, p=1, weights=uniform; total time=   0.0s\n",
      "[CV] END algorithm=ball_tree, leaf_size=5, n_neighbors=6, p=1, weights=uniform; total time=   0.0s\n",
      "[CV] END algorithm=ball_tree, leaf_size=5, n_neighbors=6, p=1, weights=distance; total time=   0.0s\n",
      "[CV] END algorithm=ball_tree, leaf_size=5, n_neighbors=6, p=1, weights=distance; total time=   0.0s\n",
      "[CV] END algorithm=ball_tree, leaf_size=5, n_neighbors=6, p=1, weights=distance; total time=   0.0s\n",
      "[CV] END algorithm=ball_tree, leaf_size=5, n_neighbors=6, p=1, weights=distance; total time=   0.0s\n",
      "[CV] END algorithm=ball_tree, leaf_size=5, n_neighbors=6, p=1, weights=distance; total time=   0.0s\n",
      "[CV] END algorithm=ball_tree, leaf_size=5, n_neighbors=6, p=2, weights=uniform; total time=   0.0s\n",
      "[CV] END algorithm=ball_tree, leaf_size=5, n_neighbors=6, p=2, weights=uniform; total time=   0.0s\n",
      "[CV] END algorithm=ball_tree, leaf_size=5, n_neighbors=6, p=2, weights=uniform; total time=   0.0s\n",
      "[CV] END algorithm=ball_tree, leaf_size=5, n_neighbors=6, p=2, weights=uniform; total time=   0.0s\n",
      "[CV] END algorithm=ball_tree, leaf_size=5, n_neighbors=6, p=2, weights=uniform; total time=   0.0s\n",
      "[CV] END algorithm=ball_tree, leaf_size=5, n_neighbors=6, p=2, weights=distance; total time=   0.0s\n",
      "[CV] END algorithm=ball_tree, leaf_size=5, n_neighbors=6, p=2, weights=distance; total time=   0.0s\n",
      "[CV] END algorithm=ball_tree, leaf_size=5, n_neighbors=6, p=2, weights=distance; total time=   0.0s\n",
      "[CV] END algorithm=ball_tree, leaf_size=5, n_neighbors=6, p=2, weights=distance; total time=   0.0s\n",
      "[CV] END algorithm=ball_tree, leaf_size=5, n_neighbors=6, p=2, weights=distance; total time=   0.0s\n",
      "[CV] END algorithm=ball_tree, leaf_size=5, n_neighbors=7, p=1, weights=uniform; total time=   0.0s\n",
      "[CV] END algorithm=ball_tree, leaf_size=5, n_neighbors=7, p=1, weights=uniform; total time=   0.0s\n",
      "[CV] END algorithm=ball_tree, leaf_size=5, n_neighbors=7, p=1, weights=uniform; total time=   0.0s\n",
      "[CV] END algorithm=ball_tree, leaf_size=5, n_neighbors=7, p=1, weights=uniform; total time=   0.0s\n",
      "[CV] END algorithm=ball_tree, leaf_size=5, n_neighbors=7, p=1, weights=uniform; total time=   0.0s\n",
      "[CV] END algorithm=ball_tree, leaf_size=5, n_neighbors=7, p=1, weights=distance; total time=   0.0s\n",
      "[CV] END algorithm=ball_tree, leaf_size=5, n_neighbors=7, p=1, weights=distance; total time=   0.0s\n",
      "[CV] END algorithm=ball_tree, leaf_size=5, n_neighbors=7, p=1, weights=distance; total time=   0.0s\n",
      "[CV] END algorithm=ball_tree, leaf_size=5, n_neighbors=7, p=1, weights=distance; total time=   0.0s\n",
      "[CV] END algorithm=ball_tree, leaf_size=5, n_neighbors=7, p=1, weights=distance; total time=   0.0s\n",
      "[CV] END algorithm=ball_tree, leaf_size=5, n_neighbors=7, p=2, weights=uniform; total time=   0.0s\n",
      "[CV] END algorithm=ball_tree, leaf_size=5, n_neighbors=7, p=2, weights=uniform; total time=   0.0s\n",
      "[CV] END algorithm=ball_tree, leaf_size=5, n_neighbors=7, p=2, weights=uniform; total time=   0.0s\n",
      "[CV] END algorithm=ball_tree, leaf_size=5, n_neighbors=7, p=2, weights=uniform; total time=   0.0s\n",
      "[CV] END algorithm=ball_tree, leaf_size=5, n_neighbors=7, p=2, weights=uniform; total time=   0.0s\n",
      "[CV] END algorithm=ball_tree, leaf_size=5, n_neighbors=7, p=2, weights=distance; total time=   0.0s\n",
      "[CV] END algorithm=ball_tree, leaf_size=5, n_neighbors=7, p=2, weights=distance; total time=   0.0s\n",
      "[CV] END algorithm=ball_tree, leaf_size=5, n_neighbors=7, p=2, weights=distance; total time=   0.0s\n",
      "[CV] END algorithm=ball_tree, leaf_size=5, n_neighbors=7, p=2, weights=distance; total time=   0.0s\n",
      "[CV] END algorithm=ball_tree, leaf_size=5, n_neighbors=7, p=2, weights=distance; total time=   0.0s\n",
      "[CV] END algorithm=ball_tree, leaf_size=5, n_neighbors=8, p=1, weights=uniform; total time=   0.0s\n",
      "[CV] END algorithm=ball_tree, leaf_size=5, n_neighbors=8, p=1, weights=uniform; total time=   0.0s\n",
      "[CV] END algorithm=ball_tree, leaf_size=5, n_neighbors=8, p=1, weights=uniform; total time=   0.0s\n",
      "[CV] END algorithm=ball_tree, leaf_size=5, n_neighbors=8, p=1, weights=uniform; total time=   0.0s\n",
      "[CV] END algorithm=ball_tree, leaf_size=5, n_neighbors=8, p=1, weights=uniform; total time=   0.0s\n",
      "[CV] END algorithm=ball_tree, leaf_size=5, n_neighbors=8, p=1, weights=distance; total time=   0.0s\n",
      "[CV] END algorithm=ball_tree, leaf_size=5, n_neighbors=8, p=1, weights=distance; total time=   0.0s\n",
      "[CV] END algorithm=ball_tree, leaf_size=5, n_neighbors=8, p=1, weights=distance; total time=   0.0s\n",
      "[CV] END algorithm=ball_tree, leaf_size=5, n_neighbors=8, p=1, weights=distance; total time=   0.0s\n",
      "[CV] END algorithm=ball_tree, leaf_size=5, n_neighbors=8, p=1, weights=distance; total time=   0.0s\n",
      "[CV] END algorithm=ball_tree, leaf_size=5, n_neighbors=8, p=2, weights=uniform; total time=   0.0s\n",
      "[CV] END algorithm=ball_tree, leaf_size=5, n_neighbors=8, p=2, weights=uniform; total time=   0.0s\n",
      "[CV] END algorithm=ball_tree, leaf_size=5, n_neighbors=8, p=2, weights=uniform; total time=   0.0s\n",
      "[CV] END algorithm=ball_tree, leaf_size=5, n_neighbors=8, p=2, weights=uniform; total time=   0.0s\n",
      "[CV] END algorithm=ball_tree, leaf_size=5, n_neighbors=8, p=2, weights=uniform; total time=   0.0s\n",
      "[CV] END algorithm=ball_tree, leaf_size=5, n_neighbors=8, p=2, weights=distance; total time=   0.0s\n",
      "[CV] END algorithm=ball_tree, leaf_size=5, n_neighbors=8, p=2, weights=distance; total time=   0.0s\n",
      "[CV] END algorithm=ball_tree, leaf_size=5, n_neighbors=8, p=2, weights=distance; total time=   0.0s\n",
      "[CV] END algorithm=ball_tree, leaf_size=5, n_neighbors=8, p=2, weights=distance; total time=   0.0s\n",
      "[CV] END algorithm=ball_tree, leaf_size=5, n_neighbors=8, p=2, weights=distance; total time=   0.0s\n",
      "[CV] END algorithm=ball_tree, leaf_size=5, n_neighbors=9, p=1, weights=uniform; total time=   0.0s\n",
      "[CV] END algorithm=ball_tree, leaf_size=5, n_neighbors=9, p=1, weights=uniform; total time=   0.0s\n",
      "[CV] END algorithm=ball_tree, leaf_size=5, n_neighbors=9, p=1, weights=uniform; total time=   0.0s\n",
      "[CV] END algorithm=ball_tree, leaf_size=5, n_neighbors=9, p=1, weights=uniform; total time=   0.0s\n",
      "[CV] END algorithm=ball_tree, leaf_size=5, n_neighbors=9, p=1, weights=uniform; total time=   0.0s\n",
      "[CV] END algorithm=ball_tree, leaf_size=5, n_neighbors=9, p=1, weights=distance; total time=   0.0s\n",
      "[CV] END algorithm=ball_tree, leaf_size=5, n_neighbors=9, p=1, weights=distance; total time=   0.0s\n",
      "[CV] END algorithm=ball_tree, leaf_size=5, n_neighbors=9, p=1, weights=distance; total time=   0.0s\n",
      "[CV] END algorithm=ball_tree, leaf_size=5, n_neighbors=9, p=1, weights=distance; total time=   0.0s\n",
      "[CV] END algorithm=ball_tree, leaf_size=5, n_neighbors=9, p=1, weights=distance; total time=   0.0s\n",
      "[CV] END algorithm=ball_tree, leaf_size=5, n_neighbors=9, p=2, weights=uniform; total time=   0.0s\n",
      "[CV] END algorithm=ball_tree, leaf_size=5, n_neighbors=9, p=2, weights=uniform; total time=   0.0s\n",
      "[CV] END algorithm=ball_tree, leaf_size=5, n_neighbors=9, p=2, weights=uniform; total time=   0.0s\n",
      "[CV] END algorithm=ball_tree, leaf_size=5, n_neighbors=9, p=2, weights=uniform; total time=   0.0s\n",
      "[CV] END algorithm=ball_tree, leaf_size=5, n_neighbors=9, p=2, weights=uniform; total time=   0.0s\n",
      "[CV] END algorithm=ball_tree, leaf_size=5, n_neighbors=9, p=2, weights=distance; total time=   0.0s\n",
      "[CV] END algorithm=ball_tree, leaf_size=5, n_neighbors=9, p=2, weights=distance; total time=   0.0s\n",
      "[CV] END algorithm=ball_tree, leaf_size=5, n_neighbors=9, p=2, weights=distance; total time=   0.0s\n",
      "[CV] END algorithm=ball_tree, leaf_size=5, n_neighbors=9, p=2, weights=distance; total time=   0.0s\n",
      "[CV] END algorithm=ball_tree, leaf_size=5, n_neighbors=9, p=2, weights=distance; total time=   0.0s\n",
      "[CV] END algorithm=ball_tree, leaf_size=5, n_neighbors=10, p=1, weights=uniform; total time=   0.0s\n",
      "[CV] END algorithm=ball_tree, leaf_size=5, n_neighbors=10, p=1, weights=uniform; total time=   0.0s\n",
      "[CV] END algorithm=ball_tree, leaf_size=5, n_neighbors=10, p=1, weights=uniform; total time=   0.0s\n",
      "[CV] END algorithm=ball_tree, leaf_size=5, n_neighbors=10, p=1, weights=uniform; total time=   0.0s\n",
      "[CV] END algorithm=ball_tree, leaf_size=5, n_neighbors=10, p=1, weights=uniform; total time=   0.0s\n",
      "[CV] END algorithm=ball_tree, leaf_size=5, n_neighbors=10, p=1, weights=distance; total time=   0.0s\n",
      "[CV] END algorithm=ball_tree, leaf_size=5, n_neighbors=10, p=1, weights=distance; total time=   0.0s\n",
      "[CV] END algorithm=ball_tree, leaf_size=5, n_neighbors=10, p=1, weights=distance; total time=   0.0s\n",
      "[CV] END algorithm=ball_tree, leaf_size=5, n_neighbors=10, p=1, weights=distance; total time=   0.0s\n",
      "[CV] END algorithm=ball_tree, leaf_size=5, n_neighbors=10, p=1, weights=distance; total time=   0.0s\n",
      "[CV] END algorithm=ball_tree, leaf_size=5, n_neighbors=10, p=2, weights=uniform; total time=   0.0s\n",
      "[CV] END algorithm=ball_tree, leaf_size=5, n_neighbors=10, p=2, weights=uniform; total time=   0.0s\n",
      "[CV] END algorithm=ball_tree, leaf_size=5, n_neighbors=10, p=2, weights=uniform; total time=   0.0s\n"
     ]
    },
    {
     "name": "stdout",
     "output_type": "stream",
     "text": [
      "[CV] END algorithm=ball_tree, leaf_size=5, n_neighbors=10, p=2, weights=uniform; total time=   0.0s\n",
      "[CV] END algorithm=ball_tree, leaf_size=5, n_neighbors=10, p=2, weights=uniform; total time=   0.0s\n",
      "[CV] END algorithm=ball_tree, leaf_size=5, n_neighbors=10, p=2, weights=distance; total time=   0.0s\n",
      "[CV] END algorithm=ball_tree, leaf_size=5, n_neighbors=10, p=2, weights=distance; total time=   0.0s\n",
      "[CV] END algorithm=ball_tree, leaf_size=5, n_neighbors=10, p=2, weights=distance; total time=   0.0s\n",
      "[CV] END algorithm=ball_tree, leaf_size=5, n_neighbors=10, p=2, weights=distance; total time=   0.0s\n",
      "[CV] END algorithm=ball_tree, leaf_size=5, n_neighbors=10, p=2, weights=distance; total time=   0.0s\n",
      "[CV] END algorithm=ball_tree, leaf_size=10, n_neighbors=6, p=1, weights=uniform; total time=   0.0s\n",
      "[CV] END algorithm=ball_tree, leaf_size=10, n_neighbors=6, p=1, weights=uniform; total time=   0.0s\n",
      "[CV] END algorithm=ball_tree, leaf_size=10, n_neighbors=6, p=1, weights=uniform; total time=   0.0s\n",
      "[CV] END algorithm=ball_tree, leaf_size=10, n_neighbors=6, p=1, weights=uniform; total time=   0.0s\n",
      "[CV] END algorithm=ball_tree, leaf_size=10, n_neighbors=6, p=1, weights=uniform; total time=   0.0s\n",
      "[CV] END algorithm=ball_tree, leaf_size=10, n_neighbors=6, p=1, weights=distance; total time=   0.0s\n",
      "[CV] END algorithm=ball_tree, leaf_size=10, n_neighbors=6, p=1, weights=distance; total time=   0.0s\n",
      "[CV] END algorithm=ball_tree, leaf_size=10, n_neighbors=6, p=1, weights=distance; total time=   0.0s\n",
      "[CV] END algorithm=ball_tree, leaf_size=10, n_neighbors=6, p=1, weights=distance; total time=   0.0s\n",
      "[CV] END algorithm=ball_tree, leaf_size=10, n_neighbors=6, p=1, weights=distance; total time=   0.0s\n",
      "[CV] END algorithm=ball_tree, leaf_size=10, n_neighbors=6, p=2, weights=uniform; total time=   0.0s\n",
      "[CV] END algorithm=ball_tree, leaf_size=10, n_neighbors=6, p=2, weights=uniform; total time=   0.0s\n",
      "[CV] END algorithm=ball_tree, leaf_size=10, n_neighbors=6, p=2, weights=uniform; total time=   0.0s\n",
      "[CV] END algorithm=ball_tree, leaf_size=10, n_neighbors=6, p=2, weights=uniform; total time=   0.0s\n",
      "[CV] END algorithm=ball_tree, leaf_size=10, n_neighbors=6, p=2, weights=uniform; total time=   0.0s\n",
      "[CV] END algorithm=ball_tree, leaf_size=10, n_neighbors=6, p=2, weights=distance; total time=   0.0s\n",
      "[CV] END algorithm=ball_tree, leaf_size=10, n_neighbors=6, p=2, weights=distance; total time=   0.0s\n",
      "[CV] END algorithm=ball_tree, leaf_size=10, n_neighbors=6, p=2, weights=distance; total time=   0.0s\n",
      "[CV] END algorithm=ball_tree, leaf_size=10, n_neighbors=6, p=2, weights=distance; total time=   0.0s\n",
      "[CV] END algorithm=ball_tree, leaf_size=10, n_neighbors=6, p=2, weights=distance; total time=   0.0s\n",
      "[CV] END algorithm=ball_tree, leaf_size=10, n_neighbors=7, p=1, weights=uniform; total time=   0.0s\n",
      "[CV] END algorithm=ball_tree, leaf_size=10, n_neighbors=7, p=1, weights=uniform; total time=   0.0s\n",
      "[CV] END algorithm=ball_tree, leaf_size=10, n_neighbors=7, p=1, weights=uniform; total time=   0.0s\n",
      "[CV] END algorithm=ball_tree, leaf_size=10, n_neighbors=7, p=1, weights=uniform; total time=   0.0s\n",
      "[CV] END algorithm=ball_tree, leaf_size=10, n_neighbors=7, p=1, weights=uniform; total time=   0.0s\n",
      "[CV] END algorithm=ball_tree, leaf_size=10, n_neighbors=7, p=1, weights=distance; total time=   0.0s\n",
      "[CV] END algorithm=ball_tree, leaf_size=10, n_neighbors=7, p=1, weights=distance; total time=   0.0s\n",
      "[CV] END algorithm=ball_tree, leaf_size=10, n_neighbors=7, p=1, weights=distance; total time=   0.0s\n",
      "[CV] END algorithm=ball_tree, leaf_size=10, n_neighbors=7, p=1, weights=distance; total time=   0.0s\n",
      "[CV] END algorithm=ball_tree, leaf_size=10, n_neighbors=7, p=1, weights=distance; total time=   0.0s\n",
      "[CV] END algorithm=ball_tree, leaf_size=10, n_neighbors=7, p=2, weights=uniform; total time=   0.0s\n",
      "[CV] END algorithm=ball_tree, leaf_size=10, n_neighbors=7, p=2, weights=uniform; total time=   0.0s\n",
      "[CV] END algorithm=ball_tree, leaf_size=10, n_neighbors=7, p=2, weights=uniform; total time=   0.0s\n",
      "[CV] END algorithm=ball_tree, leaf_size=10, n_neighbors=7, p=2, weights=uniform; total time=   0.0s\n",
      "[CV] END algorithm=ball_tree, leaf_size=10, n_neighbors=7, p=2, weights=uniform; total time=   0.0s\n",
      "[CV] END algorithm=ball_tree, leaf_size=10, n_neighbors=7, p=2, weights=distance; total time=   0.0s\n",
      "[CV] END algorithm=ball_tree, leaf_size=10, n_neighbors=7, p=2, weights=distance; total time=   0.0s\n",
      "[CV] END algorithm=ball_tree, leaf_size=10, n_neighbors=7, p=2, weights=distance; total time=   0.0s\n",
      "[CV] END algorithm=ball_tree, leaf_size=10, n_neighbors=7, p=2, weights=distance; total time=   0.0s\n",
      "[CV] END algorithm=ball_tree, leaf_size=10, n_neighbors=7, p=2, weights=distance; total time=   0.0s\n",
      "[CV] END algorithm=ball_tree, leaf_size=10, n_neighbors=8, p=1, weights=uniform; total time=   0.0s\n",
      "[CV] END algorithm=ball_tree, leaf_size=10, n_neighbors=8, p=1, weights=uniform; total time=   0.0s\n",
      "[CV] END algorithm=ball_tree, leaf_size=10, n_neighbors=8, p=1, weights=uniform; total time=   0.0s\n",
      "[CV] END algorithm=ball_tree, leaf_size=10, n_neighbors=8, p=1, weights=uniform; total time=   0.0s\n",
      "[CV] END algorithm=ball_tree, leaf_size=10, n_neighbors=8, p=1, weights=uniform; total time=   0.0s\n",
      "[CV] END algorithm=ball_tree, leaf_size=10, n_neighbors=8, p=1, weights=distance; total time=   0.0s\n",
      "[CV] END algorithm=ball_tree, leaf_size=10, n_neighbors=8, p=1, weights=distance; total time=   0.0s\n",
      "[CV] END algorithm=ball_tree, leaf_size=10, n_neighbors=8, p=1, weights=distance; total time=   0.0s\n",
      "[CV] END algorithm=ball_tree, leaf_size=10, n_neighbors=8, p=1, weights=distance; total time=   0.0s\n",
      "[CV] END algorithm=ball_tree, leaf_size=10, n_neighbors=8, p=1, weights=distance; total time=   0.0s\n",
      "[CV] END algorithm=ball_tree, leaf_size=10, n_neighbors=8, p=2, weights=uniform; total time=   0.0s\n",
      "[CV] END algorithm=ball_tree, leaf_size=10, n_neighbors=8, p=2, weights=uniform; total time=   0.0s\n",
      "[CV] END algorithm=ball_tree, leaf_size=10, n_neighbors=8, p=2, weights=uniform; total time=   0.0s\n",
      "[CV] END algorithm=ball_tree, leaf_size=10, n_neighbors=8, p=2, weights=uniform; total time=   0.0s\n",
      "[CV] END algorithm=ball_tree, leaf_size=10, n_neighbors=8, p=2, weights=uniform; total time=   0.0s\n",
      "[CV] END algorithm=ball_tree, leaf_size=10, n_neighbors=8, p=2, weights=distance; total time=   0.0s\n",
      "[CV] END algorithm=ball_tree, leaf_size=10, n_neighbors=8, p=2, weights=distance; total time=   0.0s\n",
      "[CV] END algorithm=ball_tree, leaf_size=10, n_neighbors=8, p=2, weights=distance; total time=   0.0s\n",
      "[CV] END algorithm=ball_tree, leaf_size=10, n_neighbors=8, p=2, weights=distance; total time=   0.0s\n",
      "[CV] END algorithm=ball_tree, leaf_size=10, n_neighbors=8, p=2, weights=distance; total time=   0.0s\n",
      "[CV] END algorithm=ball_tree, leaf_size=10, n_neighbors=9, p=1, weights=uniform; total time=   0.0s\n",
      "[CV] END algorithm=ball_tree, leaf_size=10, n_neighbors=9, p=1, weights=uniform; total time=   0.0s\n",
      "[CV] END algorithm=ball_tree, leaf_size=10, n_neighbors=9, p=1, weights=uniform; total time=   0.0s\n",
      "[CV] END algorithm=ball_tree, leaf_size=10, n_neighbors=9, p=1, weights=uniform; total time=   0.0s\n",
      "[CV] END algorithm=ball_tree, leaf_size=10, n_neighbors=9, p=1, weights=uniform; total time=   0.0s\n",
      "[CV] END algorithm=ball_tree, leaf_size=10, n_neighbors=9, p=1, weights=distance; total time=   0.0s\n",
      "[CV] END algorithm=ball_tree, leaf_size=10, n_neighbors=9, p=1, weights=distance; total time=   0.0s\n",
      "[CV] END algorithm=ball_tree, leaf_size=10, n_neighbors=9, p=1, weights=distance; total time=   0.0s\n",
      "[CV] END algorithm=ball_tree, leaf_size=10, n_neighbors=9, p=1, weights=distance; total time=   0.0s\n",
      "[CV] END algorithm=ball_tree, leaf_size=10, n_neighbors=9, p=1, weights=distance; total time=   0.0s\n",
      "[CV] END algorithm=ball_tree, leaf_size=10, n_neighbors=9, p=2, weights=uniform; total time=   0.0s\n",
      "[CV] END algorithm=ball_tree, leaf_size=10, n_neighbors=9, p=2, weights=uniform; total time=   0.0s\n",
      "[CV] END algorithm=ball_tree, leaf_size=10, n_neighbors=9, p=2, weights=uniform; total time=   0.0s\n",
      "[CV] END algorithm=ball_tree, leaf_size=10, n_neighbors=9, p=2, weights=uniform; total time=   0.0s\n",
      "[CV] END algorithm=ball_tree, leaf_size=10, n_neighbors=9, p=2, weights=uniform; total time=   0.0s\n",
      "[CV] END algorithm=ball_tree, leaf_size=10, n_neighbors=9, p=2, weights=distance; total time=   0.0s\n",
      "[CV] END algorithm=ball_tree, leaf_size=10, n_neighbors=9, p=2, weights=distance; total time=   0.0s\n",
      "[CV] END algorithm=ball_tree, leaf_size=10, n_neighbors=9, p=2, weights=distance; total time=   0.0s\n",
      "[CV] END algorithm=ball_tree, leaf_size=10, n_neighbors=9, p=2, weights=distance; total time=   0.0s\n",
      "[CV] END algorithm=ball_tree, leaf_size=10, n_neighbors=9, p=2, weights=distance; total time=   0.0s\n",
      "[CV] END algorithm=ball_tree, leaf_size=10, n_neighbors=10, p=1, weights=uniform; total time=   0.0s\n",
      "[CV] END algorithm=ball_tree, leaf_size=10, n_neighbors=10, p=1, weights=uniform; total time=   0.0s\n",
      "[CV] END algorithm=ball_tree, leaf_size=10, n_neighbors=10, p=1, weights=uniform; total time=   0.0s\n",
      "[CV] END algorithm=ball_tree, leaf_size=10, n_neighbors=10, p=1, weights=uniform; total time=   0.0s\n",
      "[CV] END algorithm=ball_tree, leaf_size=10, n_neighbors=10, p=1, weights=uniform; total time=   0.0s\n",
      "[CV] END algorithm=ball_tree, leaf_size=10, n_neighbors=10, p=1, weights=distance; total time=   0.0s\n",
      "[CV] END algorithm=ball_tree, leaf_size=10, n_neighbors=10, p=1, weights=distance; total time=   0.0s\n",
      "[CV] END algorithm=ball_tree, leaf_size=10, n_neighbors=10, p=1, weights=distance; total time=   0.0s\n",
      "[CV] END algorithm=ball_tree, leaf_size=10, n_neighbors=10, p=1, weights=distance; total time=   0.0s\n",
      "[CV] END algorithm=ball_tree, leaf_size=10, n_neighbors=10, p=1, weights=distance; total time=   0.0s\n",
      "[CV] END algorithm=ball_tree, leaf_size=10, n_neighbors=10, p=2, weights=uniform; total time=   0.0s\n",
      "[CV] END algorithm=ball_tree, leaf_size=10, n_neighbors=10, p=2, weights=uniform; total time=   0.0s\n",
      "[CV] END algorithm=ball_tree, leaf_size=10, n_neighbors=10, p=2, weights=uniform; total time=   0.0s\n",
      "[CV] END algorithm=ball_tree, leaf_size=10, n_neighbors=10, p=2, weights=uniform; total time=   0.0s\n"
     ]
    },
    {
     "name": "stdout",
     "output_type": "stream",
     "text": [
      "[CV] END algorithm=ball_tree, leaf_size=10, n_neighbors=10, p=2, weights=uniform; total time=   0.0s\n",
      "[CV] END algorithm=ball_tree, leaf_size=10, n_neighbors=10, p=2, weights=distance; total time=   0.0s\n",
      "[CV] END algorithm=ball_tree, leaf_size=10, n_neighbors=10, p=2, weights=distance; total time=   0.0s\n",
      "[CV] END algorithm=ball_tree, leaf_size=10, n_neighbors=10, p=2, weights=distance; total time=   0.0s\n",
      "[CV] END algorithm=ball_tree, leaf_size=10, n_neighbors=10, p=2, weights=distance; total time=   0.0s\n",
      "[CV] END algorithm=ball_tree, leaf_size=10, n_neighbors=10, p=2, weights=distance; total time=   0.0s\n",
      "[CV] END algorithm=ball_tree, leaf_size=15, n_neighbors=6, p=1, weights=uniform; total time=   0.0s\n",
      "[CV] END algorithm=ball_tree, leaf_size=15, n_neighbors=6, p=1, weights=uniform; total time=   0.0s\n",
      "[CV] END algorithm=ball_tree, leaf_size=15, n_neighbors=6, p=1, weights=uniform; total time=   0.0s\n",
      "[CV] END algorithm=ball_tree, leaf_size=15, n_neighbors=6, p=1, weights=uniform; total time=   0.0s\n",
      "[CV] END algorithm=ball_tree, leaf_size=15, n_neighbors=6, p=1, weights=uniform; total time=   0.0s\n",
      "[CV] END algorithm=ball_tree, leaf_size=15, n_neighbors=6, p=1, weights=distance; total time=   0.0s\n",
      "[CV] END algorithm=ball_tree, leaf_size=15, n_neighbors=6, p=1, weights=distance; total time=   0.0s\n",
      "[CV] END algorithm=ball_tree, leaf_size=15, n_neighbors=6, p=1, weights=distance; total time=   0.0s\n",
      "[CV] END algorithm=ball_tree, leaf_size=15, n_neighbors=6, p=1, weights=distance; total time=   0.0s\n",
      "[CV] END algorithm=ball_tree, leaf_size=15, n_neighbors=6, p=1, weights=distance; total time=   0.0s\n",
      "[CV] END algorithm=ball_tree, leaf_size=15, n_neighbors=6, p=2, weights=uniform; total time=   0.0s\n",
      "[CV] END algorithm=ball_tree, leaf_size=15, n_neighbors=6, p=2, weights=uniform; total time=   0.0s\n",
      "[CV] END algorithm=ball_tree, leaf_size=15, n_neighbors=6, p=2, weights=uniform; total time=   0.0s\n",
      "[CV] END algorithm=ball_tree, leaf_size=15, n_neighbors=6, p=2, weights=uniform; total time=   0.0s\n",
      "[CV] END algorithm=ball_tree, leaf_size=15, n_neighbors=6, p=2, weights=uniform; total time=   0.0s\n",
      "[CV] END algorithm=ball_tree, leaf_size=15, n_neighbors=6, p=2, weights=distance; total time=   0.0s\n",
      "[CV] END algorithm=ball_tree, leaf_size=15, n_neighbors=6, p=2, weights=distance; total time=   0.0s\n",
      "[CV] END algorithm=ball_tree, leaf_size=15, n_neighbors=6, p=2, weights=distance; total time=   0.0s\n",
      "[CV] END algorithm=ball_tree, leaf_size=15, n_neighbors=6, p=2, weights=distance; total time=   0.0s\n",
      "[CV] END algorithm=ball_tree, leaf_size=15, n_neighbors=6, p=2, weights=distance; total time=   0.0s\n",
      "[CV] END algorithm=ball_tree, leaf_size=15, n_neighbors=7, p=1, weights=uniform; total time=   0.0s\n",
      "[CV] END algorithm=ball_tree, leaf_size=15, n_neighbors=7, p=1, weights=uniform; total time=   0.0s\n",
      "[CV] END algorithm=ball_tree, leaf_size=15, n_neighbors=7, p=1, weights=uniform; total time=   0.0s\n",
      "[CV] END algorithm=ball_tree, leaf_size=15, n_neighbors=7, p=1, weights=uniform; total time=   0.0s\n",
      "[CV] END algorithm=ball_tree, leaf_size=15, n_neighbors=7, p=1, weights=uniform; total time=   0.0s\n",
      "[CV] END algorithm=ball_tree, leaf_size=15, n_neighbors=7, p=1, weights=distance; total time=   0.0s\n",
      "[CV] END algorithm=ball_tree, leaf_size=15, n_neighbors=7, p=1, weights=distance; total time=   0.0s\n",
      "[CV] END algorithm=ball_tree, leaf_size=15, n_neighbors=7, p=1, weights=distance; total time=   0.0s\n",
      "[CV] END algorithm=ball_tree, leaf_size=15, n_neighbors=7, p=1, weights=distance; total time=   0.0s\n",
      "[CV] END algorithm=ball_tree, leaf_size=15, n_neighbors=7, p=1, weights=distance; total time=   0.0s\n",
      "[CV] END algorithm=ball_tree, leaf_size=15, n_neighbors=7, p=2, weights=uniform; total time=   0.0s\n",
      "[CV] END algorithm=ball_tree, leaf_size=15, n_neighbors=7, p=2, weights=uniform; total time=   0.0s\n",
      "[CV] END algorithm=ball_tree, leaf_size=15, n_neighbors=7, p=2, weights=uniform; total time=   0.0s\n",
      "[CV] END algorithm=ball_tree, leaf_size=15, n_neighbors=7, p=2, weights=uniform; total time=   0.0s\n",
      "[CV] END algorithm=ball_tree, leaf_size=15, n_neighbors=7, p=2, weights=uniform; total time=   0.0s\n",
      "[CV] END algorithm=ball_tree, leaf_size=15, n_neighbors=7, p=2, weights=distance; total time=   0.0s\n",
      "[CV] END algorithm=ball_tree, leaf_size=15, n_neighbors=7, p=2, weights=distance; total time=   0.0s\n",
      "[CV] END algorithm=ball_tree, leaf_size=15, n_neighbors=7, p=2, weights=distance; total time=   0.0s\n",
      "[CV] END algorithm=ball_tree, leaf_size=15, n_neighbors=7, p=2, weights=distance; total time=   0.0s\n",
      "[CV] END algorithm=ball_tree, leaf_size=15, n_neighbors=7, p=2, weights=distance; total time=   0.0s\n",
      "[CV] END algorithm=ball_tree, leaf_size=15, n_neighbors=8, p=1, weights=uniform; total time=   0.0s\n",
      "[CV] END algorithm=ball_tree, leaf_size=15, n_neighbors=8, p=1, weights=uniform; total time=   0.0s\n",
      "[CV] END algorithm=ball_tree, leaf_size=15, n_neighbors=8, p=1, weights=uniform; total time=   0.0s\n",
      "[CV] END algorithm=ball_tree, leaf_size=15, n_neighbors=8, p=1, weights=uniform; total time=   0.0s\n",
      "[CV] END algorithm=ball_tree, leaf_size=15, n_neighbors=8, p=1, weights=uniform; total time=   0.0s\n",
      "[CV] END algorithm=ball_tree, leaf_size=15, n_neighbors=8, p=1, weights=distance; total time=   0.0s\n",
      "[CV] END algorithm=ball_tree, leaf_size=15, n_neighbors=8, p=1, weights=distance; total time=   0.0s\n",
      "[CV] END algorithm=ball_tree, leaf_size=15, n_neighbors=8, p=1, weights=distance; total time=   0.0s\n",
      "[CV] END algorithm=ball_tree, leaf_size=15, n_neighbors=8, p=1, weights=distance; total time=   0.0s\n",
      "[CV] END algorithm=ball_tree, leaf_size=15, n_neighbors=8, p=1, weights=distance; total time=   0.0s\n",
      "[CV] END algorithm=ball_tree, leaf_size=15, n_neighbors=8, p=2, weights=uniform; total time=   0.0s\n",
      "[CV] END algorithm=ball_tree, leaf_size=15, n_neighbors=8, p=2, weights=uniform; total time=   0.0s\n",
      "[CV] END algorithm=ball_tree, leaf_size=15, n_neighbors=8, p=2, weights=uniform; total time=   0.0s\n",
      "[CV] END algorithm=ball_tree, leaf_size=15, n_neighbors=8, p=2, weights=uniform; total time=   0.0s\n",
      "[CV] END algorithm=ball_tree, leaf_size=15, n_neighbors=8, p=2, weights=uniform; total time=   0.0s\n",
      "[CV] END algorithm=ball_tree, leaf_size=15, n_neighbors=8, p=2, weights=distance; total time=   0.0s\n",
      "[CV] END algorithm=ball_tree, leaf_size=15, n_neighbors=8, p=2, weights=distance; total time=   0.0s\n",
      "[CV] END algorithm=ball_tree, leaf_size=15, n_neighbors=8, p=2, weights=distance; total time=   0.0s\n",
      "[CV] END algorithm=ball_tree, leaf_size=15, n_neighbors=8, p=2, weights=distance; total time=   0.0s\n",
      "[CV] END algorithm=ball_tree, leaf_size=15, n_neighbors=8, p=2, weights=distance; total time=   0.0s\n",
      "[CV] END algorithm=ball_tree, leaf_size=15, n_neighbors=9, p=1, weights=uniform; total time=   0.0s\n",
      "[CV] END algorithm=ball_tree, leaf_size=15, n_neighbors=9, p=1, weights=uniform; total time=   0.0s\n",
      "[CV] END algorithm=ball_tree, leaf_size=15, n_neighbors=9, p=1, weights=uniform; total time=   0.0s\n",
      "[CV] END algorithm=ball_tree, leaf_size=15, n_neighbors=9, p=1, weights=uniform; total time=   0.0s\n",
      "[CV] END algorithm=ball_tree, leaf_size=15, n_neighbors=9, p=1, weights=uniform; total time=   0.0s\n",
      "[CV] END algorithm=ball_tree, leaf_size=15, n_neighbors=9, p=1, weights=distance; total time=   0.0s\n",
      "[CV] END algorithm=ball_tree, leaf_size=15, n_neighbors=9, p=1, weights=distance; total time=   0.0s\n",
      "[CV] END algorithm=ball_tree, leaf_size=15, n_neighbors=9, p=1, weights=distance; total time=   0.0s\n",
      "[CV] END algorithm=ball_tree, leaf_size=15, n_neighbors=9, p=1, weights=distance; total time=   0.0s\n",
      "[CV] END algorithm=ball_tree, leaf_size=15, n_neighbors=9, p=1, weights=distance; total time=   0.0s\n",
      "[CV] END algorithm=ball_tree, leaf_size=15, n_neighbors=9, p=2, weights=uniform; total time=   0.0s\n",
      "[CV] END algorithm=ball_tree, leaf_size=15, n_neighbors=9, p=2, weights=uniform; total time=   0.0s\n",
      "[CV] END algorithm=ball_tree, leaf_size=15, n_neighbors=9, p=2, weights=uniform; total time=   0.0s\n",
      "[CV] END algorithm=ball_tree, leaf_size=15, n_neighbors=9, p=2, weights=uniform; total time=   0.0s\n",
      "[CV] END algorithm=ball_tree, leaf_size=15, n_neighbors=9, p=2, weights=uniform; total time=   0.0s\n",
      "[CV] END algorithm=ball_tree, leaf_size=15, n_neighbors=9, p=2, weights=distance; total time=   0.0s\n",
      "[CV] END algorithm=ball_tree, leaf_size=15, n_neighbors=9, p=2, weights=distance; total time=   0.0s\n",
      "[CV] END algorithm=ball_tree, leaf_size=15, n_neighbors=9, p=2, weights=distance; total time=   0.0s\n",
      "[CV] END algorithm=ball_tree, leaf_size=15, n_neighbors=9, p=2, weights=distance; total time=   0.0s\n",
      "[CV] END algorithm=ball_tree, leaf_size=15, n_neighbors=9, p=2, weights=distance; total time=   0.0s\n",
      "[CV] END algorithm=ball_tree, leaf_size=15, n_neighbors=10, p=1, weights=uniform; total time=   0.0s\n",
      "[CV] END algorithm=ball_tree, leaf_size=15, n_neighbors=10, p=1, weights=uniform; total time=   0.0s\n",
      "[CV] END algorithm=ball_tree, leaf_size=15, n_neighbors=10, p=1, weights=uniform; total time=   0.0s\n",
      "[CV] END algorithm=ball_tree, leaf_size=15, n_neighbors=10, p=1, weights=uniform; total time=   0.0s\n",
      "[CV] END algorithm=ball_tree, leaf_size=15, n_neighbors=10, p=1, weights=uniform; total time=   0.0s\n",
      "[CV] END algorithm=ball_tree, leaf_size=15, n_neighbors=10, p=1, weights=distance; total time=   0.0s\n",
      "[CV] END algorithm=ball_tree, leaf_size=15, n_neighbors=10, p=1, weights=distance; total time=   0.0s\n",
      "[CV] END algorithm=ball_tree, leaf_size=15, n_neighbors=10, p=1, weights=distance; total time=   0.0s\n",
      "[CV] END algorithm=ball_tree, leaf_size=15, n_neighbors=10, p=1, weights=distance; total time=   0.0s\n",
      "[CV] END algorithm=ball_tree, leaf_size=15, n_neighbors=10, p=1, weights=distance; total time=   0.0s\n",
      "[CV] END algorithm=ball_tree, leaf_size=15, n_neighbors=10, p=2, weights=uniform; total time=   0.0s\n",
      "[CV] END algorithm=ball_tree, leaf_size=15, n_neighbors=10, p=2, weights=uniform; total time=   0.0s\n",
      "[CV] END algorithm=ball_tree, leaf_size=15, n_neighbors=10, p=2, weights=uniform; total time=   0.0s\n",
      "[CV] END algorithm=ball_tree, leaf_size=15, n_neighbors=10, p=2, weights=uniform; total time=   0.0s\n",
      "[CV] END algorithm=ball_tree, leaf_size=15, n_neighbors=10, p=2, weights=uniform; total time=   0.0s\n",
      "[CV] END algorithm=ball_tree, leaf_size=15, n_neighbors=10, p=2, weights=distance; total time=   0.0s\n",
      "[CV] END algorithm=ball_tree, leaf_size=15, n_neighbors=10, p=2, weights=distance; total time=   0.0s\n",
      "[CV] END algorithm=ball_tree, leaf_size=15, n_neighbors=10, p=2, weights=distance; total time=   0.0s\n",
      "[CV] END algorithm=ball_tree, leaf_size=15, n_neighbors=10, p=2, weights=distance; total time=   0.0s\n",
      "[CV] END algorithm=ball_tree, leaf_size=15, n_neighbors=10, p=2, weights=distance; total time=   0.0s\n",
      "[CV] END algorithm=kd_tree, leaf_size=5, n_neighbors=6, p=1, weights=uniform; total time=   0.0s\n"
     ]
    },
    {
     "name": "stdout",
     "output_type": "stream",
     "text": [
      "[CV] END algorithm=kd_tree, leaf_size=5, n_neighbors=6, p=1, weights=uniform; total time=   0.0s\n",
      "[CV] END algorithm=kd_tree, leaf_size=5, n_neighbors=6, p=1, weights=uniform; total time=   0.0s\n",
      "[CV] END algorithm=kd_tree, leaf_size=5, n_neighbors=6, p=1, weights=uniform; total time=   0.0s\n",
      "[CV] END algorithm=kd_tree, leaf_size=5, n_neighbors=6, p=1, weights=uniform; total time=   0.0s\n",
      "[CV] END algorithm=kd_tree, leaf_size=5, n_neighbors=6, p=1, weights=distance; total time=   0.0s\n",
      "[CV] END algorithm=kd_tree, leaf_size=5, n_neighbors=6, p=1, weights=distance; total time=   0.0s\n",
      "[CV] END algorithm=kd_tree, leaf_size=5, n_neighbors=6, p=1, weights=distance; total time=   0.0s\n",
      "[CV] END algorithm=kd_tree, leaf_size=5, n_neighbors=6, p=1, weights=distance; total time=   0.0s\n",
      "[CV] END algorithm=kd_tree, leaf_size=5, n_neighbors=6, p=1, weights=distance; total time=   0.0s\n",
      "[CV] END algorithm=kd_tree, leaf_size=5, n_neighbors=6, p=2, weights=uniform; total time=   0.0s\n",
      "[CV] END algorithm=kd_tree, leaf_size=5, n_neighbors=6, p=2, weights=uniform; total time=   0.0s\n",
      "[CV] END algorithm=kd_tree, leaf_size=5, n_neighbors=6, p=2, weights=uniform; total time=   0.0s\n",
      "[CV] END algorithm=kd_tree, leaf_size=5, n_neighbors=6, p=2, weights=uniform; total time=   0.0s\n",
      "[CV] END algorithm=kd_tree, leaf_size=5, n_neighbors=6, p=2, weights=uniform; total time=   0.0s\n",
      "[CV] END algorithm=kd_tree, leaf_size=5, n_neighbors=6, p=2, weights=distance; total time=   0.0s\n",
      "[CV] END algorithm=kd_tree, leaf_size=5, n_neighbors=6, p=2, weights=distance; total time=   0.0s\n",
      "[CV] END algorithm=kd_tree, leaf_size=5, n_neighbors=6, p=2, weights=distance; total time=   0.0s\n",
      "[CV] END algorithm=kd_tree, leaf_size=5, n_neighbors=6, p=2, weights=distance; total time=   0.0s\n",
      "[CV] END algorithm=kd_tree, leaf_size=5, n_neighbors=6, p=2, weights=distance; total time=   0.0s\n",
      "[CV] END algorithm=kd_tree, leaf_size=5, n_neighbors=7, p=1, weights=uniform; total time=   0.0s\n",
      "[CV] END algorithm=kd_tree, leaf_size=5, n_neighbors=7, p=1, weights=uniform; total time=   0.0s\n",
      "[CV] END algorithm=kd_tree, leaf_size=5, n_neighbors=7, p=1, weights=uniform; total time=   0.0s\n",
      "[CV] END algorithm=kd_tree, leaf_size=5, n_neighbors=7, p=1, weights=uniform; total time=   0.0s\n",
      "[CV] END algorithm=kd_tree, leaf_size=5, n_neighbors=7, p=1, weights=uniform; total time=   0.0s\n",
      "[CV] END algorithm=kd_tree, leaf_size=5, n_neighbors=7, p=1, weights=distance; total time=   0.0s\n",
      "[CV] END algorithm=kd_tree, leaf_size=5, n_neighbors=7, p=1, weights=distance; total time=   0.0s\n",
      "[CV] END algorithm=kd_tree, leaf_size=5, n_neighbors=7, p=1, weights=distance; total time=   0.0s\n",
      "[CV] END algorithm=kd_tree, leaf_size=5, n_neighbors=7, p=1, weights=distance; total time=   0.0s\n",
      "[CV] END algorithm=kd_tree, leaf_size=5, n_neighbors=7, p=1, weights=distance; total time=   0.0s\n",
      "[CV] END algorithm=kd_tree, leaf_size=5, n_neighbors=7, p=2, weights=uniform; total time=   0.0s\n",
      "[CV] END algorithm=kd_tree, leaf_size=5, n_neighbors=7, p=2, weights=uniform; total time=   0.0s\n",
      "[CV] END algorithm=kd_tree, leaf_size=5, n_neighbors=7, p=2, weights=uniform; total time=   0.0s\n",
      "[CV] END algorithm=kd_tree, leaf_size=5, n_neighbors=7, p=2, weights=uniform; total time=   0.0s\n",
      "[CV] END algorithm=kd_tree, leaf_size=5, n_neighbors=7, p=2, weights=uniform; total time=   0.0s\n",
      "[CV] END algorithm=kd_tree, leaf_size=5, n_neighbors=7, p=2, weights=distance; total time=   0.0s\n",
      "[CV] END algorithm=kd_tree, leaf_size=5, n_neighbors=7, p=2, weights=distance; total time=   0.0s\n",
      "[CV] END algorithm=kd_tree, leaf_size=5, n_neighbors=7, p=2, weights=distance; total time=   0.0s\n",
      "[CV] END algorithm=kd_tree, leaf_size=5, n_neighbors=7, p=2, weights=distance; total time=   0.0s\n",
      "[CV] END algorithm=kd_tree, leaf_size=5, n_neighbors=7, p=2, weights=distance; total time=   0.0s\n",
      "[CV] END algorithm=kd_tree, leaf_size=5, n_neighbors=8, p=1, weights=uniform; total time=   0.0s\n",
      "[CV] END algorithm=kd_tree, leaf_size=5, n_neighbors=8, p=1, weights=uniform; total time=   0.0s\n",
      "[CV] END algorithm=kd_tree, leaf_size=5, n_neighbors=8, p=1, weights=uniform; total time=   0.0s\n",
      "[CV] END algorithm=kd_tree, leaf_size=5, n_neighbors=8, p=1, weights=uniform; total time=   0.0s\n",
      "[CV] END algorithm=kd_tree, leaf_size=5, n_neighbors=8, p=1, weights=uniform; total time=   0.0s\n",
      "[CV] END algorithm=kd_tree, leaf_size=5, n_neighbors=8, p=1, weights=distance; total time=   0.0s\n",
      "[CV] END algorithm=kd_tree, leaf_size=5, n_neighbors=8, p=1, weights=distance; total time=   0.0s\n",
      "[CV] END algorithm=kd_tree, leaf_size=5, n_neighbors=8, p=1, weights=distance; total time=   0.0s\n",
      "[CV] END algorithm=kd_tree, leaf_size=5, n_neighbors=8, p=1, weights=distance; total time=   0.0s\n",
      "[CV] END algorithm=kd_tree, leaf_size=5, n_neighbors=8, p=1, weights=distance; total time=   0.0s\n",
      "[CV] END algorithm=kd_tree, leaf_size=5, n_neighbors=8, p=2, weights=uniform; total time=   0.0s\n",
      "[CV] END algorithm=kd_tree, leaf_size=5, n_neighbors=8, p=2, weights=uniform; total time=   0.0s\n",
      "[CV] END algorithm=kd_tree, leaf_size=5, n_neighbors=8, p=2, weights=uniform; total time=   0.0s\n",
      "[CV] END algorithm=kd_tree, leaf_size=5, n_neighbors=8, p=2, weights=uniform; total time=   0.0s\n",
      "[CV] END algorithm=kd_tree, leaf_size=5, n_neighbors=8, p=2, weights=uniform; total time=   0.0s\n",
      "[CV] END algorithm=kd_tree, leaf_size=5, n_neighbors=8, p=2, weights=distance; total time=   0.0s\n",
      "[CV] END algorithm=kd_tree, leaf_size=5, n_neighbors=8, p=2, weights=distance; total time=   0.0s\n",
      "[CV] END algorithm=kd_tree, leaf_size=5, n_neighbors=8, p=2, weights=distance; total time=   0.0s\n",
      "[CV] END algorithm=kd_tree, leaf_size=5, n_neighbors=8, p=2, weights=distance; total time=   0.0s\n",
      "[CV] END algorithm=kd_tree, leaf_size=5, n_neighbors=8, p=2, weights=distance; total time=   0.0s\n",
      "[CV] END algorithm=kd_tree, leaf_size=5, n_neighbors=9, p=1, weights=uniform; total time=   0.0s\n",
      "[CV] END algorithm=kd_tree, leaf_size=5, n_neighbors=9, p=1, weights=uniform; total time=   0.0s\n",
      "[CV] END algorithm=kd_tree, leaf_size=5, n_neighbors=9, p=1, weights=uniform; total time=   0.0s\n",
      "[CV] END algorithm=kd_tree, leaf_size=5, n_neighbors=9, p=1, weights=uniform; total time=   0.0s\n",
      "[CV] END algorithm=kd_tree, leaf_size=5, n_neighbors=9, p=1, weights=uniform; total time=   0.0s\n",
      "[CV] END algorithm=kd_tree, leaf_size=5, n_neighbors=9, p=1, weights=distance; total time=   0.0s\n",
      "[CV] END algorithm=kd_tree, leaf_size=5, n_neighbors=9, p=1, weights=distance; total time=   0.0s\n",
      "[CV] END algorithm=kd_tree, leaf_size=5, n_neighbors=9, p=1, weights=distance; total time=   0.0s\n",
      "[CV] END algorithm=kd_tree, leaf_size=5, n_neighbors=9, p=1, weights=distance; total time=   0.0s\n",
      "[CV] END algorithm=kd_tree, leaf_size=5, n_neighbors=9, p=1, weights=distance; total time=   0.0s\n",
      "[CV] END algorithm=kd_tree, leaf_size=5, n_neighbors=9, p=2, weights=uniform; total time=   0.0s\n",
      "[CV] END algorithm=kd_tree, leaf_size=5, n_neighbors=9, p=2, weights=uniform; total time=   0.0s\n",
      "[CV] END algorithm=kd_tree, leaf_size=5, n_neighbors=9, p=2, weights=uniform; total time=   0.0s\n",
      "[CV] END algorithm=kd_tree, leaf_size=5, n_neighbors=9, p=2, weights=uniform; total time=   0.0s\n",
      "[CV] END algorithm=kd_tree, leaf_size=5, n_neighbors=9, p=2, weights=uniform; total time=   0.0s\n",
      "[CV] END algorithm=kd_tree, leaf_size=5, n_neighbors=9, p=2, weights=distance; total time=   0.0s\n",
      "[CV] END algorithm=kd_tree, leaf_size=5, n_neighbors=9, p=2, weights=distance; total time=   0.0s\n",
      "[CV] END algorithm=kd_tree, leaf_size=5, n_neighbors=9, p=2, weights=distance; total time=   0.0s\n",
      "[CV] END algorithm=kd_tree, leaf_size=5, n_neighbors=9, p=2, weights=distance; total time=   0.0s\n",
      "[CV] END algorithm=kd_tree, leaf_size=5, n_neighbors=9, p=2, weights=distance; total time=   0.0s\n",
      "[CV] END algorithm=kd_tree, leaf_size=5, n_neighbors=10, p=1, weights=uniform; total time=   0.0s\n",
      "[CV] END algorithm=kd_tree, leaf_size=5, n_neighbors=10, p=1, weights=uniform; total time=   0.0s\n",
      "[CV] END algorithm=kd_tree, leaf_size=5, n_neighbors=10, p=1, weights=uniform; total time=   0.0s\n",
      "[CV] END algorithm=kd_tree, leaf_size=5, n_neighbors=10, p=1, weights=uniform; total time=   0.0s\n",
      "[CV] END algorithm=kd_tree, leaf_size=5, n_neighbors=10, p=1, weights=uniform; total time=   0.0s\n",
      "[CV] END algorithm=kd_tree, leaf_size=5, n_neighbors=10, p=1, weights=distance; total time=   0.0s\n",
      "[CV] END algorithm=kd_tree, leaf_size=5, n_neighbors=10, p=1, weights=distance; total time=   0.0s\n",
      "[CV] END algorithm=kd_tree, leaf_size=5, n_neighbors=10, p=1, weights=distance; total time=   0.0s\n",
      "[CV] END algorithm=kd_tree, leaf_size=5, n_neighbors=10, p=1, weights=distance; total time=   0.0s\n",
      "[CV] END algorithm=kd_tree, leaf_size=5, n_neighbors=10, p=1, weights=distance; total time=   0.0s\n",
      "[CV] END algorithm=kd_tree, leaf_size=5, n_neighbors=10, p=2, weights=uniform; total time=   0.0s\n",
      "[CV] END algorithm=kd_tree, leaf_size=5, n_neighbors=10, p=2, weights=uniform; total time=   0.0s\n",
      "[CV] END algorithm=kd_tree, leaf_size=5, n_neighbors=10, p=2, weights=uniform; total time=   0.0s\n"
     ]
    },
    {
     "name": "stdout",
     "output_type": "stream",
     "text": [
      "[CV] END algorithm=kd_tree, leaf_size=5, n_neighbors=10, p=2, weights=uniform; total time=   0.0s\n",
      "[CV] END algorithm=kd_tree, leaf_size=5, n_neighbors=10, p=2, weights=uniform; total time=   0.0s\n",
      "[CV] END algorithm=kd_tree, leaf_size=5, n_neighbors=10, p=2, weights=distance; total time=   0.0s\n",
      "[CV] END algorithm=kd_tree, leaf_size=5, n_neighbors=10, p=2, weights=distance; total time=   0.0s\n",
      "[CV] END algorithm=kd_tree, leaf_size=5, n_neighbors=10, p=2, weights=distance; total time=   0.0s\n",
      "[CV] END algorithm=kd_tree, leaf_size=5, n_neighbors=10, p=2, weights=distance; total time=   0.0s\n",
      "[CV] END algorithm=kd_tree, leaf_size=5, n_neighbors=10, p=2, weights=distance; total time=   0.0s\n",
      "[CV] END algorithm=kd_tree, leaf_size=10, n_neighbors=6, p=1, weights=uniform; total time=   0.0s\n",
      "[CV] END algorithm=kd_tree, leaf_size=10, n_neighbors=6, p=1, weights=uniform; total time=   0.0s\n",
      "[CV] END algorithm=kd_tree, leaf_size=10, n_neighbors=6, p=1, weights=uniform; total time=   0.0s\n",
      "[CV] END algorithm=kd_tree, leaf_size=10, n_neighbors=6, p=1, weights=uniform; total time=   0.0s\n",
      "[CV] END algorithm=kd_tree, leaf_size=10, n_neighbors=6, p=1, weights=uniform; total time=   0.0s\n",
      "[CV] END algorithm=kd_tree, leaf_size=10, n_neighbors=6, p=1, weights=distance; total time=   0.0s\n",
      "[CV] END algorithm=kd_tree, leaf_size=10, n_neighbors=6, p=1, weights=distance; total time=   0.0s\n",
      "[CV] END algorithm=kd_tree, leaf_size=10, n_neighbors=6, p=1, weights=distance; total time=   0.0s\n",
      "[CV] END algorithm=kd_tree, leaf_size=10, n_neighbors=6, p=1, weights=distance; total time=   0.0s\n",
      "[CV] END algorithm=kd_tree, leaf_size=10, n_neighbors=6, p=1, weights=distance; total time=   0.0s\n",
      "[CV] END algorithm=kd_tree, leaf_size=10, n_neighbors=6, p=2, weights=uniform; total time=   0.0s\n",
      "[CV] END algorithm=kd_tree, leaf_size=10, n_neighbors=6, p=2, weights=uniform; total time=   0.0s\n",
      "[CV] END algorithm=kd_tree, leaf_size=10, n_neighbors=6, p=2, weights=uniform; total time=   0.0s\n",
      "[CV] END algorithm=kd_tree, leaf_size=10, n_neighbors=6, p=2, weights=uniform; total time=   0.0s\n",
      "[CV] END algorithm=kd_tree, leaf_size=10, n_neighbors=6, p=2, weights=uniform; total time=   0.0s\n",
      "[CV] END algorithm=kd_tree, leaf_size=10, n_neighbors=6, p=2, weights=distance; total time=   0.0s\n",
      "[CV] END algorithm=kd_tree, leaf_size=10, n_neighbors=6, p=2, weights=distance; total time=   0.0s\n",
      "[CV] END algorithm=kd_tree, leaf_size=10, n_neighbors=6, p=2, weights=distance; total time=   0.0s\n",
      "[CV] END algorithm=kd_tree, leaf_size=10, n_neighbors=6, p=2, weights=distance; total time=   0.0s\n",
      "[CV] END algorithm=kd_tree, leaf_size=10, n_neighbors=6, p=2, weights=distance; total time=   0.0s\n",
      "[CV] END algorithm=kd_tree, leaf_size=10, n_neighbors=7, p=1, weights=uniform; total time=   0.0s\n",
      "[CV] END algorithm=kd_tree, leaf_size=10, n_neighbors=7, p=1, weights=uniform; total time=   0.0s\n",
      "[CV] END algorithm=kd_tree, leaf_size=10, n_neighbors=7, p=1, weights=uniform; total time=   0.0s\n",
      "[CV] END algorithm=kd_tree, leaf_size=10, n_neighbors=7, p=1, weights=uniform; total time=   0.0s\n",
      "[CV] END algorithm=kd_tree, leaf_size=10, n_neighbors=7, p=1, weights=uniform; total time=   0.0s\n",
      "[CV] END algorithm=kd_tree, leaf_size=10, n_neighbors=7, p=1, weights=distance; total time=   0.0s\n",
      "[CV] END algorithm=kd_tree, leaf_size=10, n_neighbors=7, p=1, weights=distance; total time=   0.0s\n",
      "[CV] END algorithm=kd_tree, leaf_size=10, n_neighbors=7, p=1, weights=distance; total time=   0.0s\n",
      "[CV] END algorithm=kd_tree, leaf_size=10, n_neighbors=7, p=1, weights=distance; total time=   0.0s\n",
      "[CV] END algorithm=kd_tree, leaf_size=10, n_neighbors=7, p=1, weights=distance; total time=   0.0s\n",
      "[CV] END algorithm=kd_tree, leaf_size=10, n_neighbors=7, p=2, weights=uniform; total time=   0.0s\n",
      "[CV] END algorithm=kd_tree, leaf_size=10, n_neighbors=7, p=2, weights=uniform; total time=   0.0s\n",
      "[CV] END algorithm=kd_tree, leaf_size=10, n_neighbors=7, p=2, weights=uniform; total time=   0.0s\n",
      "[CV] END algorithm=kd_tree, leaf_size=10, n_neighbors=7, p=2, weights=uniform; total time=   0.0s\n",
      "[CV] END algorithm=kd_tree, leaf_size=10, n_neighbors=7, p=2, weights=uniform; total time=   0.0s\n",
      "[CV] END algorithm=kd_tree, leaf_size=10, n_neighbors=7, p=2, weights=distance; total time=   0.0s\n",
      "[CV] END algorithm=kd_tree, leaf_size=10, n_neighbors=7, p=2, weights=distance; total time=   0.0s\n",
      "[CV] END algorithm=kd_tree, leaf_size=10, n_neighbors=7, p=2, weights=distance; total time=   0.0s\n",
      "[CV] END algorithm=kd_tree, leaf_size=10, n_neighbors=7, p=2, weights=distance; total time=   0.0s\n",
      "[CV] END algorithm=kd_tree, leaf_size=10, n_neighbors=7, p=2, weights=distance; total time=   0.0s\n",
      "[CV] END algorithm=kd_tree, leaf_size=10, n_neighbors=8, p=1, weights=uniform; total time=   0.0s\n",
      "[CV] END algorithm=kd_tree, leaf_size=10, n_neighbors=8, p=1, weights=uniform; total time=   0.0s\n",
      "[CV] END algorithm=kd_tree, leaf_size=10, n_neighbors=8, p=1, weights=uniform; total time=   0.0s\n",
      "[CV] END algorithm=kd_tree, leaf_size=10, n_neighbors=8, p=1, weights=uniform; total time=   0.0s\n",
      "[CV] END algorithm=kd_tree, leaf_size=10, n_neighbors=8, p=1, weights=uniform; total time=   0.0s\n",
      "[CV] END algorithm=kd_tree, leaf_size=10, n_neighbors=8, p=1, weights=distance; total time=   0.0s\n",
      "[CV] END algorithm=kd_tree, leaf_size=10, n_neighbors=8, p=1, weights=distance; total time=   0.0s\n",
      "[CV] END algorithm=kd_tree, leaf_size=10, n_neighbors=8, p=1, weights=distance; total time=   0.0s\n",
      "[CV] END algorithm=kd_tree, leaf_size=10, n_neighbors=8, p=1, weights=distance; total time=   0.0s\n",
      "[CV] END algorithm=kd_tree, leaf_size=10, n_neighbors=8, p=1, weights=distance; total time=   0.0s\n",
      "[CV] END algorithm=kd_tree, leaf_size=10, n_neighbors=8, p=2, weights=uniform; total time=   0.0s\n",
      "[CV] END algorithm=kd_tree, leaf_size=10, n_neighbors=8, p=2, weights=uniform; total time=   0.0s\n",
      "[CV] END algorithm=kd_tree, leaf_size=10, n_neighbors=8, p=2, weights=uniform; total time=   0.0s\n",
      "[CV] END algorithm=kd_tree, leaf_size=10, n_neighbors=8, p=2, weights=uniform; total time=   0.0s\n",
      "[CV] END algorithm=kd_tree, leaf_size=10, n_neighbors=8, p=2, weights=uniform; total time=   0.0s\n",
      "[CV] END algorithm=kd_tree, leaf_size=10, n_neighbors=8, p=2, weights=distance; total time=   0.0s\n",
      "[CV] END algorithm=kd_tree, leaf_size=10, n_neighbors=8, p=2, weights=distance; total time=   0.0s\n",
      "[CV] END algorithm=kd_tree, leaf_size=10, n_neighbors=8, p=2, weights=distance; total time=   0.0s\n",
      "[CV] END algorithm=kd_tree, leaf_size=10, n_neighbors=8, p=2, weights=distance; total time=   0.0s\n",
      "[CV] END algorithm=kd_tree, leaf_size=10, n_neighbors=8, p=2, weights=distance; total time=   0.0s\n",
      "[CV] END algorithm=kd_tree, leaf_size=10, n_neighbors=9, p=1, weights=uniform; total time=   0.0s\n",
      "[CV] END algorithm=kd_tree, leaf_size=10, n_neighbors=9, p=1, weights=uniform; total time=   0.0s\n",
      "[CV] END algorithm=kd_tree, leaf_size=10, n_neighbors=9, p=1, weights=uniform; total time=   0.0s\n",
      "[CV] END algorithm=kd_tree, leaf_size=10, n_neighbors=9, p=1, weights=uniform; total time=   0.0s\n",
      "[CV] END algorithm=kd_tree, leaf_size=10, n_neighbors=9, p=1, weights=uniform; total time=   0.0s\n",
      "[CV] END algorithm=kd_tree, leaf_size=10, n_neighbors=9, p=1, weights=distance; total time=   0.0s\n",
      "[CV] END algorithm=kd_tree, leaf_size=10, n_neighbors=9, p=1, weights=distance; total time=   0.0s\n",
      "[CV] END algorithm=kd_tree, leaf_size=10, n_neighbors=9, p=1, weights=distance; total time=   0.0s\n",
      "[CV] END algorithm=kd_tree, leaf_size=10, n_neighbors=9, p=1, weights=distance; total time=   0.0s\n",
      "[CV] END algorithm=kd_tree, leaf_size=10, n_neighbors=9, p=1, weights=distance; total time=   0.0s\n",
      "[CV] END algorithm=kd_tree, leaf_size=10, n_neighbors=9, p=2, weights=uniform; total time=   0.0s\n",
      "[CV] END algorithm=kd_tree, leaf_size=10, n_neighbors=9, p=2, weights=uniform; total time=   0.0s\n",
      "[CV] END algorithm=kd_tree, leaf_size=10, n_neighbors=9, p=2, weights=uniform; total time=   0.0s\n",
      "[CV] END algorithm=kd_tree, leaf_size=10, n_neighbors=9, p=2, weights=uniform; total time=   0.0s\n",
      "[CV] END algorithm=kd_tree, leaf_size=10, n_neighbors=9, p=2, weights=uniform; total time=   0.0s\n",
      "[CV] END algorithm=kd_tree, leaf_size=10, n_neighbors=9, p=2, weights=distance; total time=   0.0s\n",
      "[CV] END algorithm=kd_tree, leaf_size=10, n_neighbors=9, p=2, weights=distance; total time=   0.0s\n",
      "[CV] END algorithm=kd_tree, leaf_size=10, n_neighbors=9, p=2, weights=distance; total time=   0.0s\n",
      "[CV] END algorithm=kd_tree, leaf_size=10, n_neighbors=9, p=2, weights=distance; total time=   0.0s\n",
      "[CV] END algorithm=kd_tree, leaf_size=10, n_neighbors=9, p=2, weights=distance; total time=   0.0s\n",
      "[CV] END algorithm=kd_tree, leaf_size=10, n_neighbors=10, p=1, weights=uniform; total time=   0.0s\n",
      "[CV] END algorithm=kd_tree, leaf_size=10, n_neighbors=10, p=1, weights=uniform; total time=   0.0s\n",
      "[CV] END algorithm=kd_tree, leaf_size=10, n_neighbors=10, p=1, weights=uniform; total time=   0.0s\n",
      "[CV] END algorithm=kd_tree, leaf_size=10, n_neighbors=10, p=1, weights=uniform; total time=   0.0s\n",
      "[CV] END algorithm=kd_tree, leaf_size=10, n_neighbors=10, p=1, weights=uniform; total time=   0.0s\n",
      "[CV] END algorithm=kd_tree, leaf_size=10, n_neighbors=10, p=1, weights=distance; total time=   0.0s\n",
      "[CV] END algorithm=kd_tree, leaf_size=10, n_neighbors=10, p=1, weights=distance; total time=   0.0s\n",
      "[CV] END algorithm=kd_tree, leaf_size=10, n_neighbors=10, p=1, weights=distance; total time=   0.0s\n",
      "[CV] END algorithm=kd_tree, leaf_size=10, n_neighbors=10, p=1, weights=distance; total time=   0.0s\n",
      "[CV] END algorithm=kd_tree, leaf_size=10, n_neighbors=10, p=1, weights=distance; total time=   0.0s\n",
      "[CV] END algorithm=kd_tree, leaf_size=10, n_neighbors=10, p=2, weights=uniform; total time=   0.0s\n",
      "[CV] END algorithm=kd_tree, leaf_size=10, n_neighbors=10, p=2, weights=uniform; total time=   0.0s\n",
      "[CV] END algorithm=kd_tree, leaf_size=10, n_neighbors=10, p=2, weights=uniform; total time=   0.0s\n",
      "[CV] END algorithm=kd_tree, leaf_size=10, n_neighbors=10, p=2, weights=uniform; total time=   0.0s\n",
      "[CV] END algorithm=kd_tree, leaf_size=10, n_neighbors=10, p=2, weights=uniform; total time=   0.0s\n"
     ]
    },
    {
     "name": "stdout",
     "output_type": "stream",
     "text": [
      "[CV] END algorithm=kd_tree, leaf_size=10, n_neighbors=10, p=2, weights=distance; total time=   0.0s\n",
      "[CV] END algorithm=kd_tree, leaf_size=10, n_neighbors=10, p=2, weights=distance; total time=   0.0s\n",
      "[CV] END algorithm=kd_tree, leaf_size=10, n_neighbors=10, p=2, weights=distance; total time=   0.0s\n",
      "[CV] END algorithm=kd_tree, leaf_size=10, n_neighbors=10, p=2, weights=distance; total time=   0.0s\n",
      "[CV] END algorithm=kd_tree, leaf_size=10, n_neighbors=10, p=2, weights=distance; total time=   0.0s\n",
      "[CV] END algorithm=kd_tree, leaf_size=15, n_neighbors=6, p=1, weights=uniform; total time=   0.0s\n",
      "[CV] END algorithm=kd_tree, leaf_size=15, n_neighbors=6, p=1, weights=uniform; total time=   0.0s\n",
      "[CV] END algorithm=kd_tree, leaf_size=15, n_neighbors=6, p=1, weights=uniform; total time=   0.0s\n",
      "[CV] END algorithm=kd_tree, leaf_size=15, n_neighbors=6, p=1, weights=uniform; total time=   0.0s\n",
      "[CV] END algorithm=kd_tree, leaf_size=15, n_neighbors=6, p=1, weights=uniform; total time=   0.0s\n",
      "[CV] END algorithm=kd_tree, leaf_size=15, n_neighbors=6, p=1, weights=distance; total time=   0.0s\n",
      "[CV] END algorithm=kd_tree, leaf_size=15, n_neighbors=6, p=1, weights=distance; total time=   0.0s\n",
      "[CV] END algorithm=kd_tree, leaf_size=15, n_neighbors=6, p=1, weights=distance; total time=   0.0s\n",
      "[CV] END algorithm=kd_tree, leaf_size=15, n_neighbors=6, p=1, weights=distance; total time=   0.0s\n",
      "[CV] END algorithm=kd_tree, leaf_size=15, n_neighbors=6, p=1, weights=distance; total time=   0.0s\n",
      "[CV] END algorithm=kd_tree, leaf_size=15, n_neighbors=6, p=2, weights=uniform; total time=   0.0s\n",
      "[CV] END algorithm=kd_tree, leaf_size=15, n_neighbors=6, p=2, weights=uniform; total time=   0.0s\n",
      "[CV] END algorithm=kd_tree, leaf_size=15, n_neighbors=6, p=2, weights=uniform; total time=   0.0s\n",
      "[CV] END algorithm=kd_tree, leaf_size=15, n_neighbors=6, p=2, weights=uniform; total time=   0.0s\n",
      "[CV] END algorithm=kd_tree, leaf_size=15, n_neighbors=6, p=2, weights=uniform; total time=   0.0s\n",
      "[CV] END algorithm=kd_tree, leaf_size=15, n_neighbors=6, p=2, weights=distance; total time=   0.0s\n",
      "[CV] END algorithm=kd_tree, leaf_size=15, n_neighbors=6, p=2, weights=distance; total time=   0.0s\n",
      "[CV] END algorithm=kd_tree, leaf_size=15, n_neighbors=6, p=2, weights=distance; total time=   0.0s\n",
      "[CV] END algorithm=kd_tree, leaf_size=15, n_neighbors=6, p=2, weights=distance; total time=   0.0s\n",
      "[CV] END algorithm=kd_tree, leaf_size=15, n_neighbors=6, p=2, weights=distance; total time=   0.0s\n",
      "[CV] END algorithm=kd_tree, leaf_size=15, n_neighbors=7, p=1, weights=uniform; total time=   0.0s\n",
      "[CV] END algorithm=kd_tree, leaf_size=15, n_neighbors=7, p=1, weights=uniform; total time=   0.0s\n",
      "[CV] END algorithm=kd_tree, leaf_size=15, n_neighbors=7, p=1, weights=uniform; total time=   0.0s\n",
      "[CV] END algorithm=kd_tree, leaf_size=15, n_neighbors=7, p=1, weights=uniform; total time=   0.0s\n",
      "[CV] END algorithm=kd_tree, leaf_size=15, n_neighbors=7, p=1, weights=uniform; total time=   0.0s\n",
      "[CV] END algorithm=kd_tree, leaf_size=15, n_neighbors=7, p=1, weights=distance; total time=   0.0s\n",
      "[CV] END algorithm=kd_tree, leaf_size=15, n_neighbors=7, p=1, weights=distance; total time=   0.0s\n",
      "[CV] END algorithm=kd_tree, leaf_size=15, n_neighbors=7, p=1, weights=distance; total time=   0.0s\n",
      "[CV] END algorithm=kd_tree, leaf_size=15, n_neighbors=7, p=1, weights=distance; total time=   0.0s\n",
      "[CV] END algorithm=kd_tree, leaf_size=15, n_neighbors=7, p=1, weights=distance; total time=   0.0s\n",
      "[CV] END algorithm=kd_tree, leaf_size=15, n_neighbors=7, p=2, weights=uniform; total time=   0.0s\n",
      "[CV] END algorithm=kd_tree, leaf_size=15, n_neighbors=7, p=2, weights=uniform; total time=   0.0s\n",
      "[CV] END algorithm=kd_tree, leaf_size=15, n_neighbors=7, p=2, weights=uniform; total time=   0.0s\n",
      "[CV] END algorithm=kd_tree, leaf_size=15, n_neighbors=7, p=2, weights=uniform; total time=   0.0s\n",
      "[CV] END algorithm=kd_tree, leaf_size=15, n_neighbors=7, p=2, weights=uniform; total time=   0.0s\n",
      "[CV] END algorithm=kd_tree, leaf_size=15, n_neighbors=7, p=2, weights=distance; total time=   0.0s\n",
      "[CV] END algorithm=kd_tree, leaf_size=15, n_neighbors=7, p=2, weights=distance; total time=   0.0s\n",
      "[CV] END algorithm=kd_tree, leaf_size=15, n_neighbors=7, p=2, weights=distance; total time=   0.0s\n",
      "[CV] END algorithm=kd_tree, leaf_size=15, n_neighbors=7, p=2, weights=distance; total time=   0.0s\n",
      "[CV] END algorithm=kd_tree, leaf_size=15, n_neighbors=7, p=2, weights=distance; total time=   0.0s\n",
      "[CV] END algorithm=kd_tree, leaf_size=15, n_neighbors=8, p=1, weights=uniform; total time=   0.0s\n",
      "[CV] END algorithm=kd_tree, leaf_size=15, n_neighbors=8, p=1, weights=uniform; total time=   0.0s\n",
      "[CV] END algorithm=kd_tree, leaf_size=15, n_neighbors=8, p=1, weights=uniform; total time=   0.0s\n",
      "[CV] END algorithm=kd_tree, leaf_size=15, n_neighbors=8, p=1, weights=uniform; total time=   0.0s\n",
      "[CV] END algorithm=kd_tree, leaf_size=15, n_neighbors=8, p=1, weights=uniform; total time=   0.0s\n",
      "[CV] END algorithm=kd_tree, leaf_size=15, n_neighbors=8, p=1, weights=distance; total time=   0.0s\n",
      "[CV] END algorithm=kd_tree, leaf_size=15, n_neighbors=8, p=1, weights=distance; total time=   0.0s\n",
      "[CV] END algorithm=kd_tree, leaf_size=15, n_neighbors=8, p=1, weights=distance; total time=   0.0s\n",
      "[CV] END algorithm=kd_tree, leaf_size=15, n_neighbors=8, p=1, weights=distance; total time=   0.0s\n",
      "[CV] END algorithm=kd_tree, leaf_size=15, n_neighbors=8, p=1, weights=distance; total time=   0.0s\n",
      "[CV] END algorithm=kd_tree, leaf_size=15, n_neighbors=8, p=2, weights=uniform; total time=   0.0s\n",
      "[CV] END algorithm=kd_tree, leaf_size=15, n_neighbors=8, p=2, weights=uniform; total time=   0.0s\n",
      "[CV] END algorithm=kd_tree, leaf_size=15, n_neighbors=8, p=2, weights=uniform; total time=   0.0s\n",
      "[CV] END algorithm=kd_tree, leaf_size=15, n_neighbors=8, p=2, weights=uniform; total time=   0.0s\n",
      "[CV] END algorithm=kd_tree, leaf_size=15, n_neighbors=8, p=2, weights=uniform; total time=   0.0s\n",
      "[CV] END algorithm=kd_tree, leaf_size=15, n_neighbors=8, p=2, weights=distance; total time=   0.0s\n",
      "[CV] END algorithm=kd_tree, leaf_size=15, n_neighbors=8, p=2, weights=distance; total time=   0.0s\n",
      "[CV] END algorithm=kd_tree, leaf_size=15, n_neighbors=8, p=2, weights=distance; total time=   0.0s\n",
      "[CV] END algorithm=kd_tree, leaf_size=15, n_neighbors=8, p=2, weights=distance; total time=   0.0s\n",
      "[CV] END algorithm=kd_tree, leaf_size=15, n_neighbors=8, p=2, weights=distance; total time=   0.0s\n",
      "[CV] END algorithm=kd_tree, leaf_size=15, n_neighbors=9, p=1, weights=uniform; total time=   0.0s\n",
      "[CV] END algorithm=kd_tree, leaf_size=15, n_neighbors=9, p=1, weights=uniform; total time=   0.0s\n",
      "[CV] END algorithm=kd_tree, leaf_size=15, n_neighbors=9, p=1, weights=uniform; total time=   0.0s\n",
      "[CV] END algorithm=kd_tree, leaf_size=15, n_neighbors=9, p=1, weights=uniform; total time=   0.0s\n",
      "[CV] END algorithm=kd_tree, leaf_size=15, n_neighbors=9, p=1, weights=uniform; total time=   0.0s\n",
      "[CV] END algorithm=kd_tree, leaf_size=15, n_neighbors=9, p=1, weights=distance; total time=   0.0s\n",
      "[CV] END algorithm=kd_tree, leaf_size=15, n_neighbors=9, p=1, weights=distance; total time=   0.0s\n",
      "[CV] END algorithm=kd_tree, leaf_size=15, n_neighbors=9, p=1, weights=distance; total time=   0.0s\n",
      "[CV] END algorithm=kd_tree, leaf_size=15, n_neighbors=9, p=1, weights=distance; total time=   0.0s\n",
      "[CV] END algorithm=kd_tree, leaf_size=15, n_neighbors=9, p=1, weights=distance; total time=   0.0s\n",
      "[CV] END algorithm=kd_tree, leaf_size=15, n_neighbors=9, p=2, weights=uniform; total time=   0.0s\n",
      "[CV] END algorithm=kd_tree, leaf_size=15, n_neighbors=9, p=2, weights=uniform; total time=   0.0s\n",
      "[CV] END algorithm=kd_tree, leaf_size=15, n_neighbors=9, p=2, weights=uniform; total time=   0.0s\n",
      "[CV] END algorithm=kd_tree, leaf_size=15, n_neighbors=9, p=2, weights=uniform; total time=   0.0s\n",
      "[CV] END algorithm=kd_tree, leaf_size=15, n_neighbors=9, p=2, weights=uniform; total time=   0.0s\n",
      "[CV] END algorithm=kd_tree, leaf_size=15, n_neighbors=9, p=2, weights=distance; total time=   0.0s\n",
      "[CV] END algorithm=kd_tree, leaf_size=15, n_neighbors=9, p=2, weights=distance; total time=   0.0s\n",
      "[CV] END algorithm=kd_tree, leaf_size=15, n_neighbors=9, p=2, weights=distance; total time=   0.0s\n",
      "[CV] END algorithm=kd_tree, leaf_size=15, n_neighbors=9, p=2, weights=distance; total time=   0.0s\n",
      "[CV] END algorithm=kd_tree, leaf_size=15, n_neighbors=9, p=2, weights=distance; total time=   0.0s\n",
      "[CV] END algorithm=kd_tree, leaf_size=15, n_neighbors=10, p=1, weights=uniform; total time=   0.0s\n",
      "[CV] END algorithm=kd_tree, leaf_size=15, n_neighbors=10, p=1, weights=uniform; total time=   0.0s\n",
      "[CV] END algorithm=kd_tree, leaf_size=15, n_neighbors=10, p=1, weights=uniform; total time=   0.0s\n",
      "[CV] END algorithm=kd_tree, leaf_size=15, n_neighbors=10, p=1, weights=uniform; total time=   0.0s\n",
      "[CV] END algorithm=kd_tree, leaf_size=15, n_neighbors=10, p=1, weights=uniform; total time=   0.0s\n",
      "[CV] END algorithm=kd_tree, leaf_size=15, n_neighbors=10, p=1, weights=distance; total time=   0.0s\n",
      "[CV] END algorithm=kd_tree, leaf_size=15, n_neighbors=10, p=1, weights=distance; total time=   0.0s\n",
      "[CV] END algorithm=kd_tree, leaf_size=15, n_neighbors=10, p=1, weights=distance; total time=   0.0s\n",
      "[CV] END algorithm=kd_tree, leaf_size=15, n_neighbors=10, p=1, weights=distance; total time=   0.0s\n",
      "[CV] END algorithm=kd_tree, leaf_size=15, n_neighbors=10, p=1, weights=distance; total time=   0.0s\n",
      "[CV] END algorithm=kd_tree, leaf_size=15, n_neighbors=10, p=2, weights=uniform; total time=   0.0s\n"
     ]
    },
    {
     "name": "stdout",
     "output_type": "stream",
     "text": [
      "[CV] END algorithm=kd_tree, leaf_size=15, n_neighbors=10, p=2, weights=uniform; total time=   0.0s\n",
      "[CV] END algorithm=kd_tree, leaf_size=15, n_neighbors=10, p=2, weights=uniform; total time=   0.0s\n",
      "[CV] END algorithm=kd_tree, leaf_size=15, n_neighbors=10, p=2, weights=uniform; total time=   0.0s\n",
      "[CV] END algorithm=kd_tree, leaf_size=15, n_neighbors=10, p=2, weights=uniform; total time=   0.0s\n",
      "[CV] END algorithm=kd_tree, leaf_size=15, n_neighbors=10, p=2, weights=distance; total time=   0.0s\n",
      "[CV] END algorithm=kd_tree, leaf_size=15, n_neighbors=10, p=2, weights=distance; total time=   0.0s\n",
      "[CV] END algorithm=kd_tree, leaf_size=15, n_neighbors=10, p=2, weights=distance; total time=   0.0s\n",
      "[CV] END algorithm=kd_tree, leaf_size=15, n_neighbors=10, p=2, weights=distance; total time=   0.0s\n",
      "[CV] END algorithm=kd_tree, leaf_size=15, n_neighbors=10, p=2, weights=distance; total time=   0.0s\n",
      "[CV] END algorithm=brute, leaf_size=5, n_neighbors=6, p=1, weights=uniform; total time=   0.0s\n",
      "[CV] END algorithm=brute, leaf_size=5, n_neighbors=6, p=1, weights=uniform; total time=   0.0s\n",
      "[CV] END algorithm=brute, leaf_size=5, n_neighbors=6, p=1, weights=uniform; total time=   0.0s\n",
      "[CV] END algorithm=brute, leaf_size=5, n_neighbors=6, p=1, weights=uniform; total time=   0.0s\n",
      "[CV] END algorithm=brute, leaf_size=5, n_neighbors=6, p=1, weights=uniform; total time=   0.0s\n",
      "[CV] END algorithm=brute, leaf_size=5, n_neighbors=6, p=1, weights=distance; total time=   0.0s\n",
      "[CV] END algorithm=brute, leaf_size=5, n_neighbors=6, p=1, weights=distance; total time=   0.0s\n",
      "[CV] END algorithm=brute, leaf_size=5, n_neighbors=6, p=1, weights=distance; total time=   0.0s\n",
      "[CV] END algorithm=brute, leaf_size=5, n_neighbors=6, p=1, weights=distance; total time=   0.0s\n",
      "[CV] END algorithm=brute, leaf_size=5, n_neighbors=6, p=1, weights=distance; total time=   0.0s\n",
      "[CV] END algorithm=brute, leaf_size=5, n_neighbors=6, p=2, weights=uniform; total time=   0.0s\n",
      "[CV] END algorithm=brute, leaf_size=5, n_neighbors=6, p=2, weights=uniform; total time=   0.0s\n",
      "[CV] END algorithm=brute, leaf_size=5, n_neighbors=6, p=2, weights=uniform; total time=   0.0s\n",
      "[CV] END algorithm=brute, leaf_size=5, n_neighbors=6, p=2, weights=uniform; total time=   0.0s\n",
      "[CV] END algorithm=brute, leaf_size=5, n_neighbors=6, p=2, weights=uniform; total time=   0.0s\n",
      "[CV] END algorithm=brute, leaf_size=5, n_neighbors=6, p=2, weights=distance; total time=   0.0s\n",
      "[CV] END algorithm=brute, leaf_size=5, n_neighbors=6, p=2, weights=distance; total time=   0.0s\n",
      "[CV] END algorithm=brute, leaf_size=5, n_neighbors=6, p=2, weights=distance; total time=   0.0s\n",
      "[CV] END algorithm=brute, leaf_size=5, n_neighbors=6, p=2, weights=distance; total time=   0.0s\n",
      "[CV] END algorithm=brute, leaf_size=5, n_neighbors=6, p=2, weights=distance; total time=   0.0s\n",
      "[CV] END algorithm=brute, leaf_size=5, n_neighbors=7, p=1, weights=uniform; total time=   0.0s\n",
      "[CV] END algorithm=brute, leaf_size=5, n_neighbors=7, p=1, weights=uniform; total time=   0.0s\n",
      "[CV] END algorithm=brute, leaf_size=5, n_neighbors=7, p=1, weights=uniform; total time=   0.0s\n",
      "[CV] END algorithm=brute, leaf_size=5, n_neighbors=7, p=1, weights=uniform; total time=   0.0s\n",
      "[CV] END algorithm=brute, leaf_size=5, n_neighbors=7, p=1, weights=uniform; total time=   0.0s\n",
      "[CV] END algorithm=brute, leaf_size=5, n_neighbors=7, p=1, weights=distance; total time=   0.0s\n",
      "[CV] END algorithm=brute, leaf_size=5, n_neighbors=7, p=1, weights=distance; total time=   0.0s\n",
      "[CV] END algorithm=brute, leaf_size=5, n_neighbors=7, p=1, weights=distance; total time=   0.0s\n",
      "[CV] END algorithm=brute, leaf_size=5, n_neighbors=7, p=1, weights=distance; total time=   0.0s\n",
      "[CV] END algorithm=brute, leaf_size=5, n_neighbors=7, p=1, weights=distance; total time=   0.0s\n",
      "[CV] END algorithm=brute, leaf_size=5, n_neighbors=7, p=2, weights=uniform; total time=   0.0s\n",
      "[CV] END algorithm=brute, leaf_size=5, n_neighbors=7, p=2, weights=uniform; total time=   0.0s\n",
      "[CV] END algorithm=brute, leaf_size=5, n_neighbors=7, p=2, weights=uniform; total time=   0.0s\n",
      "[CV] END algorithm=brute, leaf_size=5, n_neighbors=7, p=2, weights=uniform; total time=   0.0s\n",
      "[CV] END algorithm=brute, leaf_size=5, n_neighbors=7, p=2, weights=uniform; total time=   0.0s\n",
      "[CV] END algorithm=brute, leaf_size=5, n_neighbors=7, p=2, weights=distance; total time=   0.0s\n",
      "[CV] END algorithm=brute, leaf_size=5, n_neighbors=7, p=2, weights=distance; total time=   0.0s\n",
      "[CV] END algorithm=brute, leaf_size=5, n_neighbors=7, p=2, weights=distance; total time=   0.0s\n",
      "[CV] END algorithm=brute, leaf_size=5, n_neighbors=7, p=2, weights=distance; total time=   0.0s\n",
      "[CV] END algorithm=brute, leaf_size=5, n_neighbors=7, p=2, weights=distance; total time=   0.0s\n",
      "[CV] END algorithm=brute, leaf_size=5, n_neighbors=8, p=1, weights=uniform; total time=   0.0s\n",
      "[CV] END algorithm=brute, leaf_size=5, n_neighbors=8, p=1, weights=uniform; total time=   0.0s\n",
      "[CV] END algorithm=brute, leaf_size=5, n_neighbors=8, p=1, weights=uniform; total time=   0.0s\n",
      "[CV] END algorithm=brute, leaf_size=5, n_neighbors=8, p=1, weights=uniform; total time=   0.0s\n",
      "[CV] END algorithm=brute, leaf_size=5, n_neighbors=8, p=1, weights=uniform; total time=   0.0s\n",
      "[CV] END algorithm=brute, leaf_size=5, n_neighbors=8, p=1, weights=distance; total time=   0.0s\n",
      "[CV] END algorithm=brute, leaf_size=5, n_neighbors=8, p=1, weights=distance; total time=   0.0s\n",
      "[CV] END algorithm=brute, leaf_size=5, n_neighbors=8, p=1, weights=distance; total time=   0.0s\n",
      "[CV] END algorithm=brute, leaf_size=5, n_neighbors=8, p=1, weights=distance; total time=   0.0s\n",
      "[CV] END algorithm=brute, leaf_size=5, n_neighbors=8, p=1, weights=distance; total time=   0.0s\n",
      "[CV] END algorithm=brute, leaf_size=5, n_neighbors=8, p=2, weights=uniform; total time=   0.0s\n",
      "[CV] END algorithm=brute, leaf_size=5, n_neighbors=8, p=2, weights=uniform; total time=   0.0s\n",
      "[CV] END algorithm=brute, leaf_size=5, n_neighbors=8, p=2, weights=uniform; total time=   0.0s\n",
      "[CV] END algorithm=brute, leaf_size=5, n_neighbors=8, p=2, weights=uniform; total time=   0.0s\n",
      "[CV] END algorithm=brute, leaf_size=5, n_neighbors=8, p=2, weights=uniform; total time=   0.0s\n",
      "[CV] END algorithm=brute, leaf_size=5, n_neighbors=8, p=2, weights=distance; total time=   0.0s\n",
      "[CV] END algorithm=brute, leaf_size=5, n_neighbors=8, p=2, weights=distance; total time=   0.0s\n",
      "[CV] END algorithm=brute, leaf_size=5, n_neighbors=8, p=2, weights=distance; total time=   0.0s\n",
      "[CV] END algorithm=brute, leaf_size=5, n_neighbors=8, p=2, weights=distance; total time=   0.0s\n",
      "[CV] END algorithm=brute, leaf_size=5, n_neighbors=8, p=2, weights=distance; total time=   0.0s\n",
      "[CV] END algorithm=brute, leaf_size=5, n_neighbors=9, p=1, weights=uniform; total time=   0.0s\n",
      "[CV] END algorithm=brute, leaf_size=5, n_neighbors=9, p=1, weights=uniform; total time=   0.0s\n",
      "[CV] END algorithm=brute, leaf_size=5, n_neighbors=9, p=1, weights=uniform; total time=   0.0s\n",
      "[CV] END algorithm=brute, leaf_size=5, n_neighbors=9, p=1, weights=uniform; total time=   0.0s\n",
      "[CV] END algorithm=brute, leaf_size=5, n_neighbors=9, p=1, weights=uniform; total time=   0.0s\n",
      "[CV] END algorithm=brute, leaf_size=5, n_neighbors=9, p=1, weights=distance; total time=   0.0s\n",
      "[CV] END algorithm=brute, leaf_size=5, n_neighbors=9, p=1, weights=distance; total time=   0.0s\n",
      "[CV] END algorithm=brute, leaf_size=5, n_neighbors=9, p=1, weights=distance; total time=   0.0s\n",
      "[CV] END algorithm=brute, leaf_size=5, n_neighbors=9, p=1, weights=distance; total time=   0.0s\n",
      "[CV] END algorithm=brute, leaf_size=5, n_neighbors=9, p=1, weights=distance; total time=   0.0s\n",
      "[CV] END algorithm=brute, leaf_size=5, n_neighbors=9, p=2, weights=uniform; total time=   0.0s\n",
      "[CV] END algorithm=brute, leaf_size=5, n_neighbors=9, p=2, weights=uniform; total time=   0.0s\n",
      "[CV] END algorithm=brute, leaf_size=5, n_neighbors=9, p=2, weights=uniform; total time=   0.0s\n",
      "[CV] END algorithm=brute, leaf_size=5, n_neighbors=9, p=2, weights=uniform; total time=   0.0s\n",
      "[CV] END algorithm=brute, leaf_size=5, n_neighbors=9, p=2, weights=uniform; total time=   0.0s\n",
      "[CV] END algorithm=brute, leaf_size=5, n_neighbors=9, p=2, weights=distance; total time=   0.0s\n",
      "[CV] END algorithm=brute, leaf_size=5, n_neighbors=9, p=2, weights=distance; total time=   0.0s\n",
      "[CV] END algorithm=brute, leaf_size=5, n_neighbors=9, p=2, weights=distance; total time=   0.0s\n",
      "[CV] END algorithm=brute, leaf_size=5, n_neighbors=9, p=2, weights=distance; total time=   0.0s\n",
      "[CV] END algorithm=brute, leaf_size=5, n_neighbors=9, p=2, weights=distance; total time=   0.0s\n",
      "[CV] END algorithm=brute, leaf_size=5, n_neighbors=10, p=1, weights=uniform; total time=   0.0s\n",
      "[CV] END algorithm=brute, leaf_size=5, n_neighbors=10, p=1, weights=uniform; total time=   0.0s\n",
      "[CV] END algorithm=brute, leaf_size=5, n_neighbors=10, p=1, weights=uniform; total time=   0.0s\n",
      "[CV] END algorithm=brute, leaf_size=5, n_neighbors=10, p=1, weights=uniform; total time=   0.0s\n"
     ]
    },
    {
     "name": "stdout",
     "output_type": "stream",
     "text": [
      "[CV] END algorithm=brute, leaf_size=5, n_neighbors=10, p=1, weights=uniform; total time=   0.0s\n",
      "[CV] END algorithm=brute, leaf_size=5, n_neighbors=10, p=1, weights=distance; total time=   0.0s\n",
      "[CV] END algorithm=brute, leaf_size=5, n_neighbors=10, p=1, weights=distance; total time=   0.0s\n",
      "[CV] END algorithm=brute, leaf_size=5, n_neighbors=10, p=1, weights=distance; total time=   0.0s\n",
      "[CV] END algorithm=brute, leaf_size=5, n_neighbors=10, p=1, weights=distance; total time=   0.0s\n",
      "[CV] END algorithm=brute, leaf_size=5, n_neighbors=10, p=1, weights=distance; total time=   0.0s\n",
      "[CV] END algorithm=brute, leaf_size=5, n_neighbors=10, p=2, weights=uniform; total time=   0.0s\n",
      "[CV] END algorithm=brute, leaf_size=5, n_neighbors=10, p=2, weights=uniform; total time=   0.0s\n",
      "[CV] END algorithm=brute, leaf_size=5, n_neighbors=10, p=2, weights=uniform; total time=   0.0s\n",
      "[CV] END algorithm=brute, leaf_size=5, n_neighbors=10, p=2, weights=uniform; total time=   0.0s\n",
      "[CV] END algorithm=brute, leaf_size=5, n_neighbors=10, p=2, weights=uniform; total time=   0.0s\n",
      "[CV] END algorithm=brute, leaf_size=5, n_neighbors=10, p=2, weights=distance; total time=   0.0s\n",
      "[CV] END algorithm=brute, leaf_size=5, n_neighbors=10, p=2, weights=distance; total time=   0.0s\n",
      "[CV] END algorithm=brute, leaf_size=5, n_neighbors=10, p=2, weights=distance; total time=   0.0s\n",
      "[CV] END algorithm=brute, leaf_size=5, n_neighbors=10, p=2, weights=distance; total time=   0.0s\n",
      "[CV] END algorithm=brute, leaf_size=5, n_neighbors=10, p=2, weights=distance; total time=   0.0s\n",
      "[CV] END algorithm=brute, leaf_size=10, n_neighbors=6, p=1, weights=uniform; total time=   0.0s\n",
      "[CV] END algorithm=brute, leaf_size=10, n_neighbors=6, p=1, weights=uniform; total time=   0.0s\n",
      "[CV] END algorithm=brute, leaf_size=10, n_neighbors=6, p=1, weights=uniform; total time=   0.0s\n",
      "[CV] END algorithm=brute, leaf_size=10, n_neighbors=6, p=1, weights=uniform; total time=   0.0s\n",
      "[CV] END algorithm=brute, leaf_size=10, n_neighbors=6, p=1, weights=uniform; total time=   0.0s\n",
      "[CV] END algorithm=brute, leaf_size=10, n_neighbors=6, p=1, weights=distance; total time=   0.0s\n",
      "[CV] END algorithm=brute, leaf_size=10, n_neighbors=6, p=1, weights=distance; total time=   0.0s\n",
      "[CV] END algorithm=brute, leaf_size=10, n_neighbors=6, p=1, weights=distance; total time=   0.0s\n",
      "[CV] END algorithm=brute, leaf_size=10, n_neighbors=6, p=1, weights=distance; total time=   0.0s\n",
      "[CV] END algorithm=brute, leaf_size=10, n_neighbors=6, p=1, weights=distance; total time=   0.0s\n",
      "[CV] END algorithm=brute, leaf_size=10, n_neighbors=6, p=2, weights=uniform; total time=   0.0s\n",
      "[CV] END algorithm=brute, leaf_size=10, n_neighbors=6, p=2, weights=uniform; total time=   0.0s\n",
      "[CV] END algorithm=brute, leaf_size=10, n_neighbors=6, p=2, weights=uniform; total time=   0.0s\n",
      "[CV] END algorithm=brute, leaf_size=10, n_neighbors=6, p=2, weights=uniform; total time=   0.0s\n",
      "[CV] END algorithm=brute, leaf_size=10, n_neighbors=6, p=2, weights=uniform; total time=   0.0s\n",
      "[CV] END algorithm=brute, leaf_size=10, n_neighbors=6, p=2, weights=distance; total time=   0.0s\n",
      "[CV] END algorithm=brute, leaf_size=10, n_neighbors=6, p=2, weights=distance; total time=   0.0s\n",
      "[CV] END algorithm=brute, leaf_size=10, n_neighbors=6, p=2, weights=distance; total time=   0.0s\n",
      "[CV] END algorithm=brute, leaf_size=10, n_neighbors=6, p=2, weights=distance; total time=   0.0s\n",
      "[CV] END algorithm=brute, leaf_size=10, n_neighbors=6, p=2, weights=distance; total time=   0.0s\n",
      "[CV] END algorithm=brute, leaf_size=10, n_neighbors=7, p=1, weights=uniform; total time=   0.0s\n",
      "[CV] END algorithm=brute, leaf_size=10, n_neighbors=7, p=1, weights=uniform; total time=   0.0s\n",
      "[CV] END algorithm=brute, leaf_size=10, n_neighbors=7, p=1, weights=uniform; total time=   0.0s\n",
      "[CV] END algorithm=brute, leaf_size=10, n_neighbors=7, p=1, weights=uniform; total time=   0.0s\n",
      "[CV] END algorithm=brute, leaf_size=10, n_neighbors=7, p=1, weights=uniform; total time=   0.0s\n",
      "[CV] END algorithm=brute, leaf_size=10, n_neighbors=7, p=1, weights=distance; total time=   0.0s\n",
      "[CV] END algorithm=brute, leaf_size=10, n_neighbors=7, p=1, weights=distance; total time=   0.0s\n",
      "[CV] END algorithm=brute, leaf_size=10, n_neighbors=7, p=1, weights=distance; total time=   0.0s\n",
      "[CV] END algorithm=brute, leaf_size=10, n_neighbors=7, p=1, weights=distance; total time=   0.0s\n",
      "[CV] END algorithm=brute, leaf_size=10, n_neighbors=7, p=1, weights=distance; total time=   0.0s\n",
      "[CV] END algorithm=brute, leaf_size=10, n_neighbors=7, p=2, weights=uniform; total time=   0.0s\n",
      "[CV] END algorithm=brute, leaf_size=10, n_neighbors=7, p=2, weights=uniform; total time=   0.0s\n",
      "[CV] END algorithm=brute, leaf_size=10, n_neighbors=7, p=2, weights=uniform; total time=   0.0s\n",
      "[CV] END algorithm=brute, leaf_size=10, n_neighbors=7, p=2, weights=uniform; total time=   0.0s\n",
      "[CV] END algorithm=brute, leaf_size=10, n_neighbors=7, p=2, weights=uniform; total time=   0.0s\n",
      "[CV] END algorithm=brute, leaf_size=10, n_neighbors=7, p=2, weights=distance; total time=   0.0s\n",
      "[CV] END algorithm=brute, leaf_size=10, n_neighbors=7, p=2, weights=distance; total time=   0.0s\n",
      "[CV] END algorithm=brute, leaf_size=10, n_neighbors=7, p=2, weights=distance; total time=   0.0s\n",
      "[CV] END algorithm=brute, leaf_size=10, n_neighbors=7, p=2, weights=distance; total time=   0.0s\n",
      "[CV] END algorithm=brute, leaf_size=10, n_neighbors=7, p=2, weights=distance; total time=   0.0s\n",
      "[CV] END algorithm=brute, leaf_size=10, n_neighbors=8, p=1, weights=uniform; total time=   0.0s\n",
      "[CV] END algorithm=brute, leaf_size=10, n_neighbors=8, p=1, weights=uniform; total time=   0.0s\n",
      "[CV] END algorithm=brute, leaf_size=10, n_neighbors=8, p=1, weights=uniform; total time=   0.0s\n",
      "[CV] END algorithm=brute, leaf_size=10, n_neighbors=8, p=1, weights=uniform; total time=   0.0s\n",
      "[CV] END algorithm=brute, leaf_size=10, n_neighbors=8, p=1, weights=uniform; total time=   0.0s\n",
      "[CV] END algorithm=brute, leaf_size=10, n_neighbors=8, p=1, weights=distance; total time=   0.0s\n",
      "[CV] END algorithm=brute, leaf_size=10, n_neighbors=8, p=1, weights=distance; total time=   0.0s\n",
      "[CV] END algorithm=brute, leaf_size=10, n_neighbors=8, p=1, weights=distance; total time=   0.0s\n",
      "[CV] END algorithm=brute, leaf_size=10, n_neighbors=8, p=1, weights=distance; total time=   0.0s\n",
      "[CV] END algorithm=brute, leaf_size=10, n_neighbors=8, p=1, weights=distance; total time=   0.0s\n",
      "[CV] END algorithm=brute, leaf_size=10, n_neighbors=8, p=2, weights=uniform; total time=   0.0s\n",
      "[CV] END algorithm=brute, leaf_size=10, n_neighbors=8, p=2, weights=uniform; total time=   0.0s\n",
      "[CV] END algorithm=brute, leaf_size=10, n_neighbors=8, p=2, weights=uniform; total time=   0.0s\n",
      "[CV] END algorithm=brute, leaf_size=10, n_neighbors=8, p=2, weights=uniform; total time=   0.0s\n",
      "[CV] END algorithm=brute, leaf_size=10, n_neighbors=8, p=2, weights=uniform; total time=   0.0s\n",
      "[CV] END algorithm=brute, leaf_size=10, n_neighbors=8, p=2, weights=distance; total time=   0.0s\n",
      "[CV] END algorithm=brute, leaf_size=10, n_neighbors=8, p=2, weights=distance; total time=   0.0s\n",
      "[CV] END algorithm=brute, leaf_size=10, n_neighbors=8, p=2, weights=distance; total time=   0.0s\n",
      "[CV] END algorithm=brute, leaf_size=10, n_neighbors=8, p=2, weights=distance; total time=   0.0s\n",
      "[CV] END algorithm=brute, leaf_size=10, n_neighbors=8, p=2, weights=distance; total time=   0.0s\n",
      "[CV] END algorithm=brute, leaf_size=10, n_neighbors=9, p=1, weights=uniform; total time=   0.0s\n",
      "[CV] END algorithm=brute, leaf_size=10, n_neighbors=9, p=1, weights=uniform; total time=   0.0s\n",
      "[CV] END algorithm=brute, leaf_size=10, n_neighbors=9, p=1, weights=uniform; total time=   0.0s\n",
      "[CV] END algorithm=brute, leaf_size=10, n_neighbors=9, p=1, weights=uniform; total time=   0.0s\n",
      "[CV] END algorithm=brute, leaf_size=10, n_neighbors=9, p=1, weights=uniform; total time=   0.0s\n",
      "[CV] END algorithm=brute, leaf_size=10, n_neighbors=9, p=1, weights=distance; total time=   0.0s\n",
      "[CV] END algorithm=brute, leaf_size=10, n_neighbors=9, p=1, weights=distance; total time=   0.0s\n",
      "[CV] END algorithm=brute, leaf_size=10, n_neighbors=9, p=1, weights=distance; total time=   0.0s\n",
      "[CV] END algorithm=brute, leaf_size=10, n_neighbors=9, p=1, weights=distance; total time=   0.0s\n",
      "[CV] END algorithm=brute, leaf_size=10, n_neighbors=9, p=1, weights=distance; total time=   0.0s\n",
      "[CV] END algorithm=brute, leaf_size=10, n_neighbors=9, p=2, weights=uniform; total time=   0.0s\n",
      "[CV] END algorithm=brute, leaf_size=10, n_neighbors=9, p=2, weights=uniform; total time=   0.0s\n",
      "[CV] END algorithm=brute, leaf_size=10, n_neighbors=9, p=2, weights=uniform; total time=   0.0s\n",
      "[CV] END algorithm=brute, leaf_size=10, n_neighbors=9, p=2, weights=uniform; total time=   0.0s\n",
      "[CV] END algorithm=brute, leaf_size=10, n_neighbors=9, p=2, weights=uniform; total time=   0.0s\n",
      "[CV] END algorithm=brute, leaf_size=10, n_neighbors=9, p=2, weights=distance; total time=   0.0s\n",
      "[CV] END algorithm=brute, leaf_size=10, n_neighbors=9, p=2, weights=distance; total time=   0.0s\n",
      "[CV] END algorithm=brute, leaf_size=10, n_neighbors=9, p=2, weights=distance; total time=   0.0s\n",
      "[CV] END algorithm=brute, leaf_size=10, n_neighbors=9, p=2, weights=distance; total time=   0.0s\n",
      "[CV] END algorithm=brute, leaf_size=10, n_neighbors=9, p=2, weights=distance; total time=   0.0s\n",
      "[CV] END algorithm=brute, leaf_size=10, n_neighbors=10, p=1, weights=uniform; total time=   0.0s\n",
      "[CV] END algorithm=brute, leaf_size=10, n_neighbors=10, p=1, weights=uniform; total time=   0.0s\n"
     ]
    },
    {
     "name": "stdout",
     "output_type": "stream",
     "text": [
      "[CV] END algorithm=brute, leaf_size=10, n_neighbors=10, p=1, weights=uniform; total time=   0.0s\n",
      "[CV] END algorithm=brute, leaf_size=10, n_neighbors=10, p=1, weights=uniform; total time=   0.0s\n",
      "[CV] END algorithm=brute, leaf_size=10, n_neighbors=10, p=1, weights=uniform; total time=   0.0s\n",
      "[CV] END algorithm=brute, leaf_size=10, n_neighbors=10, p=1, weights=distance; total time=   0.0s\n",
      "[CV] END algorithm=brute, leaf_size=10, n_neighbors=10, p=1, weights=distance; total time=   0.0s\n",
      "[CV] END algorithm=brute, leaf_size=10, n_neighbors=10, p=1, weights=distance; total time=   0.0s\n",
      "[CV] END algorithm=brute, leaf_size=10, n_neighbors=10, p=1, weights=distance; total time=   0.0s\n",
      "[CV] END algorithm=brute, leaf_size=10, n_neighbors=10, p=1, weights=distance; total time=   0.0s\n",
      "[CV] END algorithm=brute, leaf_size=10, n_neighbors=10, p=2, weights=uniform; total time=   0.0s\n",
      "[CV] END algorithm=brute, leaf_size=10, n_neighbors=10, p=2, weights=uniform; total time=   0.0s\n",
      "[CV] END algorithm=brute, leaf_size=10, n_neighbors=10, p=2, weights=uniform; total time=   0.0s\n",
      "[CV] END algorithm=brute, leaf_size=10, n_neighbors=10, p=2, weights=uniform; total time=   0.0s\n",
      "[CV] END algorithm=brute, leaf_size=10, n_neighbors=10, p=2, weights=uniform; total time=   0.0s\n",
      "[CV] END algorithm=brute, leaf_size=10, n_neighbors=10, p=2, weights=distance; total time=   0.0s\n",
      "[CV] END algorithm=brute, leaf_size=10, n_neighbors=10, p=2, weights=distance; total time=   0.0s\n",
      "[CV] END algorithm=brute, leaf_size=10, n_neighbors=10, p=2, weights=distance; total time=   0.0s\n",
      "[CV] END algorithm=brute, leaf_size=10, n_neighbors=10, p=2, weights=distance; total time=   0.0s\n",
      "[CV] END algorithm=brute, leaf_size=10, n_neighbors=10, p=2, weights=distance; total time=   0.0s\n",
      "[CV] END algorithm=brute, leaf_size=15, n_neighbors=6, p=1, weights=uniform; total time=   0.0s\n",
      "[CV] END algorithm=brute, leaf_size=15, n_neighbors=6, p=1, weights=uniform; total time=   0.0s\n",
      "[CV] END algorithm=brute, leaf_size=15, n_neighbors=6, p=1, weights=uniform; total time=   0.0s\n",
      "[CV] END algorithm=brute, leaf_size=15, n_neighbors=6, p=1, weights=uniform; total time=   0.0s\n",
      "[CV] END algorithm=brute, leaf_size=15, n_neighbors=6, p=1, weights=uniform; total time=   0.0s\n",
      "[CV] END algorithm=brute, leaf_size=15, n_neighbors=6, p=1, weights=distance; total time=   0.0s\n",
      "[CV] END algorithm=brute, leaf_size=15, n_neighbors=6, p=1, weights=distance; total time=   0.0s\n",
      "[CV] END algorithm=brute, leaf_size=15, n_neighbors=6, p=1, weights=distance; total time=   0.0s\n",
      "[CV] END algorithm=brute, leaf_size=15, n_neighbors=6, p=1, weights=distance; total time=   0.0s\n",
      "[CV] END algorithm=brute, leaf_size=15, n_neighbors=6, p=1, weights=distance; total time=   0.0s\n",
      "[CV] END algorithm=brute, leaf_size=15, n_neighbors=6, p=2, weights=uniform; total time=   0.0s\n",
      "[CV] END algorithm=brute, leaf_size=15, n_neighbors=6, p=2, weights=uniform; total time=   0.0s\n",
      "[CV] END algorithm=brute, leaf_size=15, n_neighbors=6, p=2, weights=uniform; total time=   0.0s\n",
      "[CV] END algorithm=brute, leaf_size=15, n_neighbors=6, p=2, weights=uniform; total time=   0.0s\n",
      "[CV] END algorithm=brute, leaf_size=15, n_neighbors=6, p=2, weights=uniform; total time=   0.0s\n",
      "[CV] END algorithm=brute, leaf_size=15, n_neighbors=6, p=2, weights=distance; total time=   0.0s\n",
      "[CV] END algorithm=brute, leaf_size=15, n_neighbors=6, p=2, weights=distance; total time=   0.0s\n",
      "[CV] END algorithm=brute, leaf_size=15, n_neighbors=6, p=2, weights=distance; total time=   0.0s\n",
      "[CV] END algorithm=brute, leaf_size=15, n_neighbors=6, p=2, weights=distance; total time=   0.0s\n",
      "[CV] END algorithm=brute, leaf_size=15, n_neighbors=6, p=2, weights=distance; total time=   0.0s\n",
      "[CV] END algorithm=brute, leaf_size=15, n_neighbors=7, p=1, weights=uniform; total time=   0.0s\n",
      "[CV] END algorithm=brute, leaf_size=15, n_neighbors=7, p=1, weights=uniform; total time=   0.0s\n",
      "[CV] END algorithm=brute, leaf_size=15, n_neighbors=7, p=1, weights=uniform; total time=   0.0s\n",
      "[CV] END algorithm=brute, leaf_size=15, n_neighbors=7, p=1, weights=uniform; total time=   0.0s\n",
      "[CV] END algorithm=brute, leaf_size=15, n_neighbors=7, p=1, weights=uniform; total time=   0.0s\n",
      "[CV] END algorithm=brute, leaf_size=15, n_neighbors=7, p=1, weights=distance; total time=   0.0s\n",
      "[CV] END algorithm=brute, leaf_size=15, n_neighbors=7, p=1, weights=distance; total time=   0.0s\n",
      "[CV] END algorithm=brute, leaf_size=15, n_neighbors=7, p=1, weights=distance; total time=   0.0s\n",
      "[CV] END algorithm=brute, leaf_size=15, n_neighbors=7, p=1, weights=distance; total time=   0.0s\n",
      "[CV] END algorithm=brute, leaf_size=15, n_neighbors=7, p=1, weights=distance; total time=   0.0s\n",
      "[CV] END algorithm=brute, leaf_size=15, n_neighbors=7, p=2, weights=uniform; total time=   0.0s\n",
      "[CV] END algorithm=brute, leaf_size=15, n_neighbors=7, p=2, weights=uniform; total time=   0.0s\n",
      "[CV] END algorithm=brute, leaf_size=15, n_neighbors=7, p=2, weights=uniform; total time=   0.0s\n",
      "[CV] END algorithm=brute, leaf_size=15, n_neighbors=7, p=2, weights=uniform; total time=   0.0s\n",
      "[CV] END algorithm=brute, leaf_size=15, n_neighbors=7, p=2, weights=uniform; total time=   0.0s\n",
      "[CV] END algorithm=brute, leaf_size=15, n_neighbors=7, p=2, weights=distance; total time=   0.0s\n",
      "[CV] END algorithm=brute, leaf_size=15, n_neighbors=7, p=2, weights=distance; total time=   0.0s\n",
      "[CV] END algorithm=brute, leaf_size=15, n_neighbors=7, p=2, weights=distance; total time=   0.0s\n",
      "[CV] END algorithm=brute, leaf_size=15, n_neighbors=7, p=2, weights=distance; total time=   0.0s\n",
      "[CV] END algorithm=brute, leaf_size=15, n_neighbors=7, p=2, weights=distance; total time=   0.0s\n",
      "[CV] END algorithm=brute, leaf_size=15, n_neighbors=8, p=1, weights=uniform; total time=   0.0s\n",
      "[CV] END algorithm=brute, leaf_size=15, n_neighbors=8, p=1, weights=uniform; total time=   0.0s\n",
      "[CV] END algorithm=brute, leaf_size=15, n_neighbors=8, p=1, weights=uniform; total time=   0.0s\n",
      "[CV] END algorithm=brute, leaf_size=15, n_neighbors=8, p=1, weights=uniform; total time=   0.0s\n",
      "[CV] END algorithm=brute, leaf_size=15, n_neighbors=8, p=1, weights=uniform; total time=   0.0s\n",
      "[CV] END algorithm=brute, leaf_size=15, n_neighbors=8, p=1, weights=distance; total time=   0.0s\n",
      "[CV] END algorithm=brute, leaf_size=15, n_neighbors=8, p=1, weights=distance; total time=   0.0s\n",
      "[CV] END algorithm=brute, leaf_size=15, n_neighbors=8, p=1, weights=distance; total time=   0.0s\n",
      "[CV] END algorithm=brute, leaf_size=15, n_neighbors=8, p=1, weights=distance; total time=   0.0s\n",
      "[CV] END algorithm=brute, leaf_size=15, n_neighbors=8, p=1, weights=distance; total time=   0.0s\n",
      "[CV] END algorithm=brute, leaf_size=15, n_neighbors=8, p=2, weights=uniform; total time=   0.0s\n",
      "[CV] END algorithm=brute, leaf_size=15, n_neighbors=8, p=2, weights=uniform; total time=   0.0s\n",
      "[CV] END algorithm=brute, leaf_size=15, n_neighbors=8, p=2, weights=uniform; total time=   0.0s\n",
      "[CV] END algorithm=brute, leaf_size=15, n_neighbors=8, p=2, weights=uniform; total time=   0.0s\n",
      "[CV] END algorithm=brute, leaf_size=15, n_neighbors=8, p=2, weights=uniform; total time=   0.0s\n",
      "[CV] END algorithm=brute, leaf_size=15, n_neighbors=8, p=2, weights=distance; total time=   0.0s\n",
      "[CV] END algorithm=brute, leaf_size=15, n_neighbors=8, p=2, weights=distance; total time=   0.0s\n",
      "[CV] END algorithm=brute, leaf_size=15, n_neighbors=8, p=2, weights=distance; total time=   0.0s\n",
      "[CV] END algorithm=brute, leaf_size=15, n_neighbors=8, p=2, weights=distance; total time=   0.0s\n",
      "[CV] END algorithm=brute, leaf_size=15, n_neighbors=8, p=2, weights=distance; total time=   0.0s\n",
      "[CV] END algorithm=brute, leaf_size=15, n_neighbors=9, p=1, weights=uniform; total time=   0.0s\n",
      "[CV] END algorithm=brute, leaf_size=15, n_neighbors=9, p=1, weights=uniform; total time=   0.0s\n",
      "[CV] END algorithm=brute, leaf_size=15, n_neighbors=9, p=1, weights=uniform; total time=   0.0s\n",
      "[CV] END algorithm=brute, leaf_size=15, n_neighbors=9, p=1, weights=uniform; total time=   0.0s\n",
      "[CV] END algorithm=brute, leaf_size=15, n_neighbors=9, p=1, weights=uniform; total time=   0.0s\n",
      "[CV] END algorithm=brute, leaf_size=15, n_neighbors=9, p=1, weights=distance; total time=   0.0s\n",
      "[CV] END algorithm=brute, leaf_size=15, n_neighbors=9, p=1, weights=distance; total time=   0.0s\n",
      "[CV] END algorithm=brute, leaf_size=15, n_neighbors=9, p=1, weights=distance; total time=   0.0s\n",
      "[CV] END algorithm=brute, leaf_size=15, n_neighbors=9, p=1, weights=distance; total time=   0.0s\n",
      "[CV] END algorithm=brute, leaf_size=15, n_neighbors=9, p=1, weights=distance; total time=   0.0s\n",
      "[CV] END algorithm=brute, leaf_size=15, n_neighbors=9, p=2, weights=uniform; total time=   0.0s\n",
      "[CV] END algorithm=brute, leaf_size=15, n_neighbors=9, p=2, weights=uniform; total time=   0.0s\n"
     ]
    },
    {
     "name": "stdout",
     "output_type": "stream",
     "text": [
      "[CV] END algorithm=brute, leaf_size=15, n_neighbors=9, p=2, weights=uniform; total time=   0.0s\n",
      "[CV] END algorithm=brute, leaf_size=15, n_neighbors=9, p=2, weights=uniform; total time=   0.0s\n",
      "[CV] END algorithm=brute, leaf_size=15, n_neighbors=9, p=2, weights=uniform; total time=   0.0s\n",
      "[CV] END algorithm=brute, leaf_size=15, n_neighbors=9, p=2, weights=distance; total time=   0.0s\n",
      "[CV] END algorithm=brute, leaf_size=15, n_neighbors=9, p=2, weights=distance; total time=   0.0s\n",
      "[CV] END algorithm=brute, leaf_size=15, n_neighbors=9, p=2, weights=distance; total time=   0.0s\n",
      "[CV] END algorithm=brute, leaf_size=15, n_neighbors=9, p=2, weights=distance; total time=   0.0s\n",
      "[CV] END algorithm=brute, leaf_size=15, n_neighbors=9, p=2, weights=distance; total time=   0.0s\n",
      "[CV] END algorithm=brute, leaf_size=15, n_neighbors=10, p=1, weights=uniform; total time=   0.0s\n",
      "[CV] END algorithm=brute, leaf_size=15, n_neighbors=10, p=1, weights=uniform; total time=   0.0s\n",
      "[CV] END algorithm=brute, leaf_size=15, n_neighbors=10, p=1, weights=uniform; total time=   0.0s\n",
      "[CV] END algorithm=brute, leaf_size=15, n_neighbors=10, p=1, weights=uniform; total time=   0.0s\n",
      "[CV] END algorithm=brute, leaf_size=15, n_neighbors=10, p=1, weights=uniform; total time=   0.0s\n",
      "[CV] END algorithm=brute, leaf_size=15, n_neighbors=10, p=1, weights=distance; total time=   0.0s\n",
      "[CV] END algorithm=brute, leaf_size=15, n_neighbors=10, p=1, weights=distance; total time=   0.0s\n",
      "[CV] END algorithm=brute, leaf_size=15, n_neighbors=10, p=1, weights=distance; total time=   0.0s\n",
      "[CV] END algorithm=brute, leaf_size=15, n_neighbors=10, p=1, weights=distance; total time=   0.0s\n",
      "[CV] END algorithm=brute, leaf_size=15, n_neighbors=10, p=1, weights=distance; total time=   0.0s\n",
      "[CV] END algorithm=brute, leaf_size=15, n_neighbors=10, p=2, weights=uniform; total time=   0.0s\n",
      "[CV] END algorithm=brute, leaf_size=15, n_neighbors=10, p=2, weights=uniform; total time=   0.0s\n",
      "[CV] END algorithm=brute, leaf_size=15, n_neighbors=10, p=2, weights=uniform; total time=   0.0s\n",
      "[CV] END algorithm=brute, leaf_size=15, n_neighbors=10, p=2, weights=uniform; total time=   0.0s\n",
      "[CV] END algorithm=brute, leaf_size=15, n_neighbors=10, p=2, weights=uniform; total time=   0.0s\n",
      "[CV] END algorithm=brute, leaf_size=15, n_neighbors=10, p=2, weights=distance; total time=   0.0s\n",
      "[CV] END algorithm=brute, leaf_size=15, n_neighbors=10, p=2, weights=distance; total time=   0.0s\n",
      "[CV] END algorithm=brute, leaf_size=15, n_neighbors=10, p=2, weights=distance; total time=   0.0s\n",
      "[CV] END algorithm=brute, leaf_size=15, n_neighbors=10, p=2, weights=distance; total time=   0.0s\n",
      "[CV] END algorithm=brute, leaf_size=15, n_neighbors=10, p=2, weights=distance; total time=   0.0s\n"
     ]
    },
    {
     "data": {
      "text/plain": [
       "GridSearchCV(estimator=KNeighborsClassifier(),\n",
       "             param_grid={'algorithm': ['auto', 'ball_tree', 'kd_tree', 'brute'],\n",
       "                         'leaf_size': [5, 10, 15],\n",
       "                         'n_neighbors': [6, 7, 8, 9, 10], 'p': [1, 2],\n",
       "                         'weights': ['uniform', 'distance']},\n",
       "             verbose=2)"
      ]
     },
     "execution_count": 39,
     "metadata": {},
     "output_type": "execute_result"
    }
   ],
   "source": [
    "knn_grid.fit(X_test,y_test)"
   ]
  },
  {
   "cell_type": "code",
   "execution_count": 40,
   "id": "145b488c",
   "metadata": {},
   "outputs": [
    {
     "data": {
      "text/plain": [
       "{'algorithm': 'auto',\n",
       " 'leaf_size': 5,\n",
       " 'n_neighbors': 8,\n",
       " 'p': 1,\n",
       " 'weights': 'uniform'}"
      ]
     },
     "execution_count": 40,
     "metadata": {},
     "output_type": "execute_result"
    }
   ],
   "source": [
    "knn_grid.best_params_"
   ]
  },
  {
   "cell_type": "code",
   "execution_count": 41,
   "id": "bd59d0ff",
   "metadata": {},
   "outputs": [],
   "source": [
    "y_pred=knn_grid.predict(X_test)"
   ]
  },
  {
   "cell_type": "code",
   "execution_count": 42,
   "id": "b6b43222",
   "metadata": {},
   "outputs": [
    {
     "name": "stderr",
     "output_type": "stream",
     "text": [
      "C:\\Users\\sande\\anaconda3\\lib\\site-packages\\sklearn\\utils\\deprecation.py:87: FutureWarning: Function plot_confusion_matrix is deprecated; Function `plot_confusion_matrix` is deprecated in 1.0 and will be removed in 1.2. Use one of the class methods: ConfusionMatrixDisplay.from_predictions or ConfusionMatrixDisplay.from_estimator.\n",
      "  warnings.warn(msg, category=FutureWarning)\n"
     ]
    },
    {
     "data": {
      "text/plain": [
       "<sklearn.metrics._plot.confusion_matrix.ConfusionMatrixDisplay at 0x176a2e58a90>"
      ]
     },
     "execution_count": 42,
     "metadata": {},
     "output_type": "execute_result"
    },
    {
     "data": {
      "image/png": "[encoded data removed]",
      "text/plain": [
       "<Figure size 432x288 with 2 Axes>"
      ]
     },
     "metadata": {
      "needs_background": "light"
     },
     "output_type": "display_data"
    }
   ],
   "source": [
    "plot_confusion_matrix(knnmodel,X_test,y_test)"
   ]
  },
  {
   "cell_type": "code",
   "execution_count": 43,
   "id": "a8c1d8b7",
   "metadata": {},
   "outputs": [
    {
     "name": "stdout",
     "output_type": "stream",
     "text": [
      "              precision    recall  f1-score   support\n",
      "\n",
      "           0       0.92      0.96      0.94       394\n",
      "           1       0.75      0.60      0.67        80\n",
      "\n",
      "    accuracy                           0.90       474\n",
      "   macro avg       0.84      0.78      0.80       474\n",
      "weighted avg       0.89      0.90      0.89       474\n",
      "\n"
     ]
    }
   ],
   "source": [
    "print(classification_report(y_test,y_pred))"
   ]
  },
  {
   "cell_type": "code",
   "execution_count": null,
   "id": "2e859297",
   "metadata": {},
   "outputs": [],
   "source": []
  },
  {
   "cell_type": "markdown",
   "id": "7cd4423f",
   "metadata": {},
   "source": [
    "# Model 3 Decisiontree"
   ]
  },
  {
   "cell_type": "code",
   "execution_count": 44,
   "id": "34856247",
   "metadata": {},
   "outputs": [],
   "source": [
    "from sklearn.tree import DecisionTreeClassifier"
   ]
  },
  {
   "cell_type": "code",
   "execution_count": 45,
   "id": "54d4de21",
   "metadata": {},
   "outputs": [],
   "source": [
    "dtmodel=DecisionTreeClassifier()"
   ]
  },
  {
   "cell_type": "code",
   "execution_count": 46,
   "id": "3a398716",
   "metadata": {},
   "outputs": [
    {
     "data": {
      "text/plain": [
       "DecisionTreeClassifier()"
      ]
     },
     "execution_count": 46,
     "metadata": {},
     "output_type": "execute_result"
    }
   ],
   "source": [
    "dtmodel.fit(X_test,y_test)"
   ]
  },
  {
   "cell_type": "code",
   "execution_count": null,
   "id": "a9eff23c",
   "metadata": {},
   "outputs": [],
   "source": []
  },
  {
   "cell_type": "code",
   "execution_count": 47,
   "id": "78532c0b",
   "metadata": {},
   "outputs": [],
   "source": [
    "y_pred=dtmodel.predict(X_test)"
   ]
  },
  {
   "cell_type": "code",
   "execution_count": 48,
   "id": "06e23672",
   "metadata": {},
   "outputs": [
    {
     "name": "stderr",
     "output_type": "stream",
     "text": [
      "C:\\Users\\sande\\anaconda3\\lib\\site-packages\\sklearn\\utils\\deprecation.py:87: FutureWarning: Function plot_confusion_matrix is deprecated; Function `plot_confusion_matrix` is deprecated in 1.0 and will be removed in 1.2. Use one of the class methods: ConfusionMatrixDisplay.from_predictions or ConfusionMatrixDisplay.from_estimator.\n",
      "  warnings.warn(msg, category=FutureWarning)\n"
     ]
    },
    {
     "data": {
      "text/plain": [
       "<sklearn.metrics._plot.confusion_matrix.ConfusionMatrixDisplay at 0x176a2e49880>"
      ]
     },
     "execution_count": 48,
     "metadata": {},
     "output_type": "execute_result"
    },
    {
     "data": {
      "image/png": "[encoded data removed]",
      "text/plain": [
       "<Figure size 432x288 with 2 Axes>"
      ]
     },
     "metadata": {
      "needs_background": "light"
     },
     "output_type": "display_data"
    }
   ],
   "source": [
    "plot_confusion_matrix(dtmodel,X_test,y_test)"
   ]
  },
  {
   "cell_type": "code",
   "execution_count": 49,
   "id": "a8b20a18",
   "metadata": {},
   "outputs": [
    {
     "name": "stdout",
     "output_type": "stream",
     "text": [
      "              precision    recall  f1-score   support\n",
      "\n",
      "           0       1.00      1.00      1.00       394\n",
      "           1       1.00      1.00      1.00        80\n",
      "\n",
      "    accuracy                           1.00       474\n",
      "   macro avg       1.00      1.00      1.00       474\n",
      "weighted avg       1.00      1.00      1.00       474\n",
      "\n"
     ]
    }
   ],
   "source": [
    "print(classification_report(y_test,y_pred))"
   ]
  },
  {
   "cell_type": "code",
   "execution_count": null,
   "id": "624e601b",
   "metadata": {},
   "outputs": [],
   "source": []
  },
  {
   "cell_type": "markdown",
   "id": "5b9d1556",
   "metadata": {},
   "source": [
    "# Model4 RandomForest"
   ]
  },
  {
   "cell_type": "code",
   "execution_count": 50,
   "id": "673cfaa7",
   "metadata": {},
   "outputs": [],
   "source": [
    "from sklearn.ensemble import RandomForestClassifier"
   ]
  },
  {
   "cell_type": "code",
   "execution_count": 51,
   "id": "515e9e2c",
   "metadata": {},
   "outputs": [],
   "source": [
    "rfmodel=RandomForestClassifier()"
   ]
  },
  {
   "cell_type": "code",
   "execution_count": 52,
   "id": "3ddc1d99",
   "metadata": {},
   "outputs": [
    {
     "data": {
      "text/plain": [
       "RandomForestClassifier()"
      ]
     },
     "execution_count": 52,
     "metadata": {},
     "output_type": "execute_result"
    }
   ],
   "source": [
    "rfmodel.fit(X_test,y_test)"
   ]
  },
  {
   "cell_type": "code",
   "execution_count": 53,
   "id": "d29cd856",
   "metadata": {},
   "outputs": [],
   "source": [
    "y_pred=rfmodel.predict(X_test)"
   ]
  },
  {
   "cell_type": "code",
   "execution_count": 54,
   "id": "753c68c0",
   "metadata": {},
   "outputs": [
    {
     "name": "stderr",
     "output_type": "stream",
     "text": [
      "C:\\Users\\sande\\anaconda3\\lib\\site-packages\\sklearn\\utils\\deprecation.py:87: FutureWarning: Function plot_confusion_matrix is deprecated; Function `plot_confusion_matrix` is deprecated in 1.0 and will be removed in 1.2. Use one of the class methods: ConfusionMatrixDisplay.from_predictions or ConfusionMatrixDisplay.from_estimator.\n",
      "  warnings.warn(msg, category=FutureWarning)\n"
     ]
    },
    {
     "data": {
      "text/plain": [
       "<sklearn.metrics._plot.confusion_matrix.ConfusionMatrixDisplay at 0x176a32a8430>"
      ]
     },
     "execution_count": 54,
     "metadata": {},
     "output_type": "execute_result"
    },
    {
     "data": {
      "image/png": "[encoded data removed]",
      "text/plain": [
       "<Figure size 432x288 with 2 Axes>"
      ]
     },
     "metadata": {
      "needs_background": "light"
     },
     "output_type": "display_data"
    }
   ],
   "source": [
    "plot_confusion_matrix(rfmodel,X_test,y_test)"
   ]
  },
  {
   "cell_type": "code",
   "execution_count": 55,
   "id": "554525f9",
   "metadata": {},
   "outputs": [
    {
     "name": "stdout",
     "output_type": "stream",
     "text": [
      "              precision    recall  f1-score   support\n",
      "\n",
      "           0       1.00      1.00      1.00       394\n",
      "           1       0.99      1.00      0.99        80\n",
      "\n",
      "    accuracy                           1.00       474\n",
      "   macro avg       0.99      1.00      1.00       474\n",
      "weighted avg       1.00      1.00      1.00       474\n",
      "\n"
     ]
    }
   ],
   "source": [
    "print(classification_report(y_test,y_pred))"
   ]
  },
  {
   "cell_type": "code",
   "execution_count": null,
   "id": "72c275f0",
   "metadata": {},
   "outputs": [],
   "source": []
  }
 ],
 "metadata": {
  "kernelspec": {
   "display_name": "Python 3 (ipykernel)",
   "language": "python",
   "name": "python3"
  },
  "language_info": {
   "codemirror_mode": {
    "name": "ipython",
    "version": 3
   },
   "file_extension": ".py",
   "mimetype": "text/x-python",
   "name": "python",
   "nbconvert_exporter": "python",
   "pygments_lexer": "ipython3",
   "version": "3.9.12"
  }
 },
 "nbformat": 4,
 "nbformat_minor": 5
}
